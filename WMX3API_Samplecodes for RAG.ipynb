{
 "cells": [
  {
   "cell_type": "code",
   "execution_count": null,
   "metadata": {},
   "outputs": [],
   "source": []
  },
  {
   "cell_type": "markdown",
   "metadata": {},
   "source": [
    "# MCCoder API Sample Codes for RAG\n",
    "\n"
   ]
  },
  {
   "cell_type": "markdown",
   "metadata": {},
   "source": [
    "## \n",
    "1. Read the file 'docs/WMX3API_MCEval_Dataset.xlsx' line by line.\n",
    "2. For each line, retrieve the 'TaskId' from the 'TaskId' column. Then, read the file 'MCEval_Files/{TaskId}_MCEval.py'.\n",
    "\"\"\"   /n\n",
    "from WMX3ApiPython import *\n",
    "from time import *\n",
    "INFINITE = int(0xFFFFFFFF)\n",
    "\n",
    "    Wmx3Lib = WMX3Api()\n",
    "    CmStatus = CoreMotionStatus()\n",
    "    Wmx3Lib_cm = CoreMotion(Wmx3Lib)\n",
    "    /n\n",
    "    \"\"\". This is A.\n",
    "Extract all lines between \"#~\" and \"#.\" (inclusive). Then Replace \"#~\" to \"#~ A python code for \". This is B.\n",
    "3. Write A and B to the file 'docs/WMX3API_MCEval_Samplecodes.txt'."
   ]
  },
  {
   "cell_type": "code",
   "execution_count": 10,
   "metadata": {},
   "outputs": [
    {
     "name": "stdout",
     "output_type": "stream",
     "text": [
      "Processing completed.\n"
     ]
    }
   ],
   "source": [
    "import pandas as pd\n",
    "\n",
    "# Read the Excel file\n",
    "df = pd.read_excel('docs/WMX3API_MCEval_Dataset.xlsx')\n",
    "\n",
    "# Open the output file\n",
    "with open('docs/WMX3API_MCEval_Samplecodes.txt', 'w') as output_file:\n",
    "    # Loop through each row in the dataframe\n",
    "    for index, row in df.iterrows():\n",
    "        task_id = row['TaskId']\n",
    "        python_file_path = f'MCEval_Files/{task_id}_MCEval.py'\n",
    "        \n",
    "        try:\n",
    "            with open(python_file_path, 'r') as py_file:\n",
    "                lines = py_file.readlines()\n",
    "            \n",
    "            # Extract sec1\n",
    "            sec1 = []\n",
    "            for line in lines:\n",
    "                if 'INFINITE = int(0xFFFFFFFF)' in line:\n",
    "                    sec1.append(line)\n",
    "                    break\n",
    "                sec1.append(line)\n",
    "            \n",
    "            # Extract sec2\n",
    "            sec2 = []\n",
    "            sec2_started = False\n",
    "            for line in lines:\n",
    "                if '#~' in line:\n",
    "                    sec2_started = True\n",
    "                    line = line.replace('#~', '#~ A python code for ')\n",
    "                if sec2_started:\n",
    "                    sec2.append(line)\n",
    "                if '#.' in line:\n",
    "                    break\n",
    "            \n",
    "            # Write to the output file\n",
    "            output_file.writelines(sec1)\n",
    "            output_file.write('\\n')  # Add a newline between sections\n",
    "            output_file.writelines(sec2)\n",
    "            output_file.write('\\n\\n')  # Add a newline between different TaskId sections\n",
    "            \n",
    "        except FileNotFoundError:\n",
    "            print(f\"File {python_file_path} not found.\")\n",
    "        except Exception as e:\n",
    "            print(f\"An error occurred while processing {python_file_path}: {e}\")\n",
    "\n",
    "print(\"Processing completed.\")\n"
   ]
  },
  {
   "cell_type": "code",
   "execution_count": 27,
   "metadata": {},
   "outputs": [],
   "source": [
    "import pandas as pd\n",
    "import os\n",
    "\n",
    "# Read the Excel file\n",
    "df = pd.read_excel('docs/WMX3API_MCEval_Dataset.xlsx')\n",
    "\n",
    "# Prepare the output file\n",
    "output_file = 'docs/WMX3API_MCEval_Samplecodes.txt'\n",
    "\n",
    "with open(output_file, 'w') as outfile:\n",
    "    for index, row in df.iterrows():\n",
    "        task_id = row['TaskId']\n",
    "        input_file = f'MCEval_Files/{task_id}_MCEval.py'\n",
    "\n",
    "        if os.path.exists(input_file):\n",
    "            with open(input_file, 'r') as infile:\n",
    "                lines = infile.readlines()\n",
    "                \n",
    "                extract_lines = []\n",
    "                capture = False\n",
    "\n",
    "                for line in lines:\n",
    "                    if \"#~\" in line:\n",
    "                        line = line.replace(\"#~\", f\"#~ Python code {task_id}\")\n",
    "                        capture = True\n",
    "                    \n",
    "                    if capture:\n",
    "                        extract_lines.append(line)\n",
    "                        \n",
    "                    if capture and \"#.\" in line:\n",
    "                        break\n",
    "\n",
    "                # Insert the additional lines after the first occurrence of \"#\" after \"#~\"\n",
    "                for i, line in enumerate(extract_lines):\n",
    "                    if \"#~ Python code\" in line:\n",
    "                        for j in range(i+1, len(extract_lines)):\n",
    "                            if \"#\" in extract_lines[j]:\n",
    "                                insert_index = j + 1\n",
    "                                break\n",
    "                        break\n",
    "\n",
    "                if insert_index:\n",
    "                    insert_lines = \"\"\"\n",
    "    Wmx3Lib = WMX3Api()\n",
    "    CmStatus = CoreMotionStatus()\n",
    "    Wmx3Lib_cm = CoreMotion(Wmx3Lib)\n",
    "\n",
    "\"\"\"\n",
    "                    extract_lines.insert(insert_index, insert_lines)\n",
    "\n",
    "                # Write the extracted and modified lines to the output file\n",
    "                outfile.writelines(extract_lines)\n",
    "                outfile.write('\\n\\n')  # Add a new line between each task block\n"
   ]
  }
 ],
 "metadata": {
  "kernelspec": {
   "display_name": "rag-demo-IMu3vKF7-py3.10",
   "language": "python",
   "name": "python3"
  },
  "language_info": {
   "codemirror_mode": {
    "name": "ipython",
    "version": 3
   },
   "file_extension": ".py",
   "mimetype": "text/x-python",
   "name": "python",
   "nbconvert_exporter": "python",
   "pygments_lexer": "ipython3",
   "version": "3.11.7"
  }
 },
 "nbformat": 4,
 "nbformat_minor": 2
}
