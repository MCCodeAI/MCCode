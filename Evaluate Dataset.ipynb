{
 "cells": [
  {
   "cell_type": "markdown",
   "metadata": {},
   "source": [
    "# Evaluate Dataset"
   ]
  },
  {
   "cell_type": "markdown",
   "metadata": {},
   "source": [
    "## Generate code with various llms and send to WMX3 running for log and plot."
   ]
  },
  {
   "cell_type": "code",
   "execution_count": 3,
   "metadata": {},
   "outputs": [
    {
     "name": "stdout",
     "output_type": "stream",
     "text": [
      "load from disk: Vectorstore/chromadb-MCCoder\n"
     ]
    },
    {
     "name": "stderr",
     "output_type": "stream",
     "text": [
      "Processing tasks:   0%|          | 0/105 [00:00<?, ?it/s]"
     ]
    },
    {
     "name": "stdout",
     "output_type": "stream",
     "text": [
      "Task ID: 1 🔽\n",
      "codedata:\n",
      "Program begin.\n",
      "Program End.\n",
      "Elapsed_time: 3.663\n",
      "----------------------\n",
      "\n"
     ]
    },
    {
     "name": "stderr",
     "output_type": "stream",
     "text": [
      "Processing tasks:   1%|          | 1/105 [00:14<25:31, 14.72s/it]"
     ]
    },
    {
     "name": "stdout",
     "output_type": "stream",
     "text": [
      "# -------------------------------------------------------------------------\n",
      "\n",
      "Task ID: 2 🔽\n",
      "codedata:\n",
      "Program begin.\n",
      "Program End.\n",
      "Elapsed_time: 4.791\n",
      "----------------------\n",
      "\n"
     ]
    },
    {
     "name": "stderr",
     "output_type": "stream",
     "text": [
      "Processing tasks:   2%|▏         | 2/105 [00:26<21:54, 12.76s/it]"
     ]
    },
    {
     "name": "stdout",
     "output_type": "stream",
     "text": [
      "# -------------------------------------------------------------------------\n",
      "\n",
      "Task ID: 3 🔽\n",
      "codedata:\n",
      "Program begin.\n",
      "Program End.\n",
      "Elapsed_time: 3.078\n",
      "----------------------\n",
      "\n"
     ]
    },
    {
     "name": "stderr",
     "output_type": "stream",
     "text": [
      "Processing tasks:   3%|▎         | 3/105 [00:36<19:47, 11.64s/it]"
     ]
    },
    {
     "name": "stdout",
     "output_type": "stream",
     "text": [
      "# -------------------------------------------------------------------------\n",
      "\n",
      "Task ID: 4 🔽\n",
      "codeerr:\n",
      "Traceback (most recent call last):\n",
      "  File \"\\\\mac\\Home\\Downloads\\codedemo\\sample.py\", line 263, in <module>\n",
      "    main()\n",
      "  File \"\\\\mac\\Home\\Downloads\\codedemo\\sample.py\", line 209, in main\n",
      "    posCommand.target = 88 if var1 == 0 else 90\n",
      "                              ^^^^\n",
      "NameError: name 'var1' is not defined. Did you mean: 'vars'?\n",
      "!!!\n",
      "----------------------\n",
      "\n",
      "error string:----------------------\n",
      "NameError: name 'var1' is not defined. Did you mean: 'vars'?\n",
      "[Document(metadata={'source': './docs/WMX3API_FunctionPython.json', 'start_index': 849607}, page_content='{\\n        \"No\": 784,\\n        \"FunctionPython\": \"def GetIMDllVersion()\\\\u00a0\",\\n        \"FunctionC++\": \"static WMX3APIFUNC GetIMDllVersion(int *pVersion, int *pRevision)\",\\n        \"Parameters\": \"[out] pVersion The version number. \\\\n[out] pRevision The revision number. \\\\n\",\\n        \"Remarks\": \"This function is static, and may be called without declaring an instance of this class or creating a device. \\\\n\",\\n        \"ReturnType\": \"tuple\\\\u00a0\",\\n        \"ReturnValue\": \"0 : int - error code\",\\n        \"Class\": \"WMX3Api Class\",\\n        \"Instruction\": \"Get the version of the IMDll. \"\\n    },'), Document(metadata={'source': './docs/WMX3API_FunctionPython.json', 'start_index': 423939}, page_content='{\\n        \"No\": 401,\\n        \"FunctionPython\": \"def GetVersion()\\\\u00a0\",\\n        \"FunctionC++\": \"WMX3APIFUNC GetVersion(int *pMajorVersion, int *pMinorVersion, int *pRevisionVersion, int *pFixVersion)\",\\n        \"Parameters\": \"[out] pMajorVersion The major version number. \\\\n[out] pMinorVersion The minor version number. \\\\n[out] pRevisionVersion The revision version number. \\\\n[out] pFixVersion The fix version number.  \\\\n\",\\n        \"Remarks\": NaN,\\n        \"ReturnType\": \"tuple\\\\u00a0\",\\n        \"ReturnValue\": \"0 : int - error code\",\\n        \"Class\": \"AdvancedMotion Class\\\\u00a0\",\\n        \"Instruction\": \"Get the version of the module rtdll.\"\\n    },'), Document(metadata={'source': './docs/WMX3API_FunctionPython.json', 'start_index': 694955}, page_content='{\\n        \"No\": 612,\\n        \"FunctionPython\": \"def GetVersion()\\\\u00a0\",\\n        \"FunctionC++\": \"WMX3APIFUNC GetVersion(int *pMajorVersion, int *pMinorVersion, int *pRevisionVersion, int *pFixVersion)\",\\n        \"Parameters\": \"[out] pMajorVersion The major version number. \\\\n[out] pMinorVersion The minor version number. \\\\n[out] pRevisionVersion The revision version number. \\\\n[out] pFixVersion The fix version number.  \\\\n  \",\\n        \"Remarks\": NaN,\\n        \"ReturnType\": \"tuple\\\\u00a0\",\\n        \"ReturnValue\": \"0 : int - error code\",\\n        \"Class\": \"Io Class\\\\u00a0\",\\n        \"Instruction\": \"Get the version of the module rtdll.\"\\n    },')]\n",
      "codedata:\n",
      "Program begin.\n",
      "Program End.\n",
      "Elapsed_time: 2.649\n",
      "----------------------\n",
      "\n",
      "Self-corrected.\n",
      "\n",
      "\n"
     ]
    },
    {
     "name": "stderr",
     "output_type": "stream",
     "text": [
      "Processing tasks:   4%|▍         | 4/105 [00:54<23:41, 14.08s/it]"
     ]
    },
    {
     "name": "stdout",
     "output_type": "stream",
     "text": [
      "# -------------------------------------------------------------------------\n",
      "\n",
      "Task ID: 5 🔽\n",
      "codedata:\n",
      "Program begin.\n",
      "Program End.\n",
      "Elapsed_time: 4.589\n",
      "----------------------\n",
      "\n"
     ]
    },
    {
     "name": "stderr",
     "output_type": "stream",
     "text": [
      "Processing tasks:   5%|▍         | 5/105 [01:07<22:47, 13.68s/it]"
     ]
    },
    {
     "name": "stdout",
     "output_type": "stream",
     "text": [
      "# -------------------------------------------------------------------------\n",
      "\n",
      "Task ID: 6 🔽\n",
      "codedata:\n",
      "Program begin.\n",
      "Program End.\n",
      "Elapsed_time: 3.225\n",
      "----------------------\n",
      "\n"
     ]
    },
    {
     "name": "stderr",
     "output_type": "stream",
     "text": [
      "Processing tasks:   6%|▌         | 6/105 [01:17<20:32, 12.45s/it]"
     ]
    },
    {
     "name": "stdout",
     "output_type": "stream",
     "text": [
      "# -------------------------------------------------------------------------\n",
      "\n",
      "Task ID: 7 🔽\n",
      "codedata:\n",
      "Program begin.\n",
      "Program End.\n",
      "Elapsed_time: 3.463\n",
      "----------------------\n",
      "\n"
     ]
    },
    {
     "name": "stderr",
     "output_type": "stream",
     "text": [
      "Processing tasks:   7%|▋         | 7/105 [01:26<18:41, 11.44s/it]"
     ]
    },
    {
     "name": "stdout",
     "output_type": "stream",
     "text": [
      "# -------------------------------------------------------------------------\n",
      "\n",
      "Task ID: 8 🔽\n",
      "codedata:\n",
      "Program begin.\n",
      "Program End.\n",
      "Elapsed_time: 4.138\n",
      "----------------------\n",
      "\n"
     ]
    },
    {
     "name": "stderr",
     "output_type": "stream",
     "text": [
      "Processing tasks:   8%|▊         | 8/105 [01:40<19:58, 12.35s/it]"
     ]
    },
    {
     "name": "stdout",
     "output_type": "stream",
     "text": [
      "# -------------------------------------------------------------------------\n",
      "\n",
      "Task ID: 9 🔽\n",
      "codeerr:\n",
      "Traceback (most recent call last):\n",
      "  File \"\\\\mac\\Home\\Downloads\\codedemo\\sample.py\", line 283, in <module>\n",
      "    main()\n",
      "  File \"\\\\mac\\Home\\Downloads\\codedemo\\sample.py\", line 206, in main\n",
      "    if var2 == False:\n",
      "       ^^^^\n",
      "NameError: name 'var2' is not defined. Did you mean: 'vars'?\n",
      "!!!\n",
      "----------------------\n",
      "\n",
      "error string:----------------------\n",
      "NameError: name 'var2' is not defined. Did you mean: 'vars'?\n",
      "[Document(metadata={'source': './docs/WMX3API_FunctionPython.json', 'start_index': 893158}, page_content='{\\n        \"No\": 824,\\n        \"FunctionPython\": NaN,\\n        \"FunctionC++\": \"WMX3APIFUNC GetDeviceName(wchar_t *nameBuf, unsigned int bufSize)\",\\n        \"Parameters\": NaN,\\n        \"Remarks\": NaN,\\n        \"ReturnType\": NaN,\\n        \"ReturnValue\": NaN,\\n        \"Class\": \"WMX3Api Class\",\\n        \"Instruction\": \"Get the name of this device.\"\\n    },\\n    {\\n        \"No\": 825,\\n        \"FunctionPython\": \"def SetDeviceWaitEvent(errCode)\",\\n        \"FunctionC++\": \"WMX3APIFUNC SetDeviceWaitEvent(int errCode)\",\\n        \"Parameters\": NaN,\\n        \"Remarks\": NaN,\\n        \"ReturnType\": \"int\\\\u00a0\",\\n        \"ReturnValue\": \"error code\\\\u00a0\",\\n        \"Class\": \"WMX3Api Class\",\\n        \"Instruction\": \"Reserved.\"\\n    },'), Document(metadata={'source': './docs/WMX3API_FunctionPython.json', 'start_index': 648403}, page_content='{\\n        \"No\": 560,\\n        \"FunctionPython\": NaN,\\n        \"FunctionC++\": \"WMX3APIFUNC SetCustomEventOutput(int id, int moduleId, void *pOutputData, int outputDataSize)\",\\n        \"Parameters\": NaN,\\n        \"Remarks\": NaN,\\n        \"ReturnType\": NaN,\\n        \"ReturnValue\": NaN,\\n        \"Class\": \"EventControl Class\\\\u00a0\",\\n        \"Instruction\": NaN\\n    },\\n    {\\n        \"No\": 561,\\n        \"FunctionPython\": NaN,\\n        \"FunctionC++\": \"WMX3APIFUNC GetCustomEventInput(int id, void *pInputDataBuff, int inputDataBuffSize, int *pInputDataSize, int *pModuleId)\",\\n        \"Parameters\": NaN,\\n        \"Remarks\": NaN,\\n        \"ReturnType\": NaN,\\n        \"ReturnValue\": NaN,\\n        \"Class\": \"EventControl Class\\\\u00a0\",\\n        \"Instruction\": NaN\\n    },'), Document(metadata={'source': './docs/WMX3API_FunctionPython.json', 'start_index': 687614}, page_content='{\\n        \"No\": 602,\\n        \"FunctionPython\": \"def SetOutputData(moduleId, data, dataSize)\\\\u00a0\",\\n        \"FunctionC++\": \"WMX3APIFUNC SetOutputData(int moduleId, unsigned char *data, int dataSize)\",\\n        \"Parameters\": \"[in] moduleId The ID of the module that defines the binary representation of the member variables. \\\\n[in] data A pointer to a buffer that contains the binary representation of the member variables. \\\\n[in] dataSize The size of the buffer in bytes.  \\\\n\",\\n        \"Remarks\": NaN,\\n        \"ReturnType\": \"int\\\\u00a0\",\\n        \"ReturnValue\": \"error code\\\\u00a0\",\\n        \"Class\": \"Io Class\\\\u00a0\",\\n        \"Instruction\": NaN\\n    },\\n    {\\n        \"No\": 603,\\n        \"FunctionPython\": \"def GetModuleId()\\\\u00a0\",\\n        \"FunctionC++\": \"int GetModuleId()\",\\n        \"Parameters\": NaN,\\n        \"Remarks\": NaN,\\n        \"ReturnType\": \"unsigned int\\\\u00a0\",\\n        \"ReturnValue\": \"ID of the module\\\\u00a0\",\\n        \"Class\": \"Io Class\\\\u00a0\",\\n        \"Instruction\": NaN\\n    },')]\n",
      "codedata:\n",
      "Program begin.\n",
      "Program End.\n",
      "Elapsed_time: 2.411\n",
      "----------------------\n",
      "\n",
      "Self-corrected.\n",
      "\n",
      "\n"
     ]
    },
    {
     "name": "stderr",
     "output_type": "stream",
     "text": [
      "Processing tasks:   9%|▊         | 9/105 [02:00<23:32, 14.71s/it]"
     ]
    },
    {
     "name": "stdout",
     "output_type": "stream",
     "text": [
      "# -------------------------------------------------------------------------\n",
      "\n",
      "Task ID: 10 🔽\n",
      "codedata:\n",
      "Program begin.\n",
      "Program End.\n",
      "Elapsed_time: 3.248\n",
      "----------------------\n",
      "\n"
     ]
    },
    {
     "name": "stderr",
     "output_type": "stream",
     "text": [
      "Processing tasks:  10%|▉         | 10/105 [02:11<21:21, 13.49s/it]"
     ]
    },
    {
     "name": "stdout",
     "output_type": "stream",
     "text": [
      "# -------------------------------------------------------------------------\n",
      "\n",
      "Task ID: 11 🔽\n",
      "codedata:\n",
      "Program begin.\n",
      "Program End.\n",
      "Elapsed_time: 3.980\n",
      "----------------------\n",
      "\n"
     ]
    },
    {
     "name": "stderr",
     "output_type": "stream",
     "text": [
      "Processing tasks:  10%|█         | 11/105 [02:22<19:45, 12.61s/it]"
     ]
    },
    {
     "name": "stdout",
     "output_type": "stream",
     "text": [
      "# -------------------------------------------------------------------------\n",
      "\n",
      "Task ID: 12 🔽\n",
      "codedata:\n",
      "Program begin.\n",
      "Program End.\n",
      "Elapsed_time: 3.806\n",
      "----------------------\n",
      "\n"
     ]
    },
    {
     "name": "stderr",
     "output_type": "stream",
     "text": [
      "Processing tasks:  11%|█▏        | 12/105 [02:31<17:59, 11.61s/it]"
     ]
    },
    {
     "name": "stdout",
     "output_type": "stream",
     "text": [
      "# -------------------------------------------------------------------------\n",
      "\n",
      "Task ID: 13 🔽\n",
      "codedata:\n",
      "Program begin.\n",
      "Program End.\n",
      "Elapsed_time: 3.809\n",
      "----------------------\n",
      "\n"
     ]
    },
    {
     "name": "stderr",
     "output_type": "stream",
     "text": [
      "Processing tasks:  12%|█▏        | 13/105 [02:35<14:25,  9.41s/it]"
     ]
    },
    {
     "name": "stdout",
     "output_type": "stream",
     "text": [
      "# -------------------------------------------------------------------------\n",
      "\n",
      "Task ID: 14 🔽\n",
      "codedata:\n",
      "Program begin.\n",
      "StartHelicalIntplPos error code is 65556: [0x00010014] : CoreMotionApi Error: One or more axes are not in servo on state.\n",
      "Elapsed_time: 2.515\n",
      "----------------------\n",
      "\n",
      "error string:----------------------\n",
      "StartHelicalIntplPos error code is 65556: [0x00010014] : CoreMotionApi Error: One or more axes are not in servo on state.\n",
      "[Document(metadata={'source': './docs/WMX3API_FunctionPython.json', 'start_index': 375428}, page_content='{\\n        \"No\": 338,\\n        \"FunctionPython\": \"def SetAbsoluteEncoderHomeOffset(axis, offset)\\\\u00a0\",\\n        \"FunctionC++\": \"WMX3APIFUNC SetAbsoluteEncoderHomeOffset(int axis, double offset)\",\\n        \"Parameters\": \"[in] axis The axis to set the absolute encoder home offset. \\\\n[in] offset The specified absolute encoder home offset. \\\\n\",\\n        \"Remarks\": NaN,\\n        \"ReturnType\": \"int\\\\u00a0\",\\n        \"ReturnValue\": \"error code\\\\u00a0\",\\n        \"Class\": \"CoreMotion Class\",\\n        \"Instruction\": \"Set the absolute encoder home offset for an axis.\"\\n    },'), Document(metadata={'source': './docs/WMX3API_FunctionPython.json', 'start_index': 380361}, page_content='{\\n        \"No\": 346,\\n        \"FunctionPython\": \"def GetAbsoluteEncoderHomeOffset(axis)\\\\u00a0\",\\n        \"FunctionC++\": \"WMX3APIFUNC GetAbsoluteEncoderHomeOffset(int axis, double *pOffset)\",\\n        \"Parameters\": \"[in] axis The axis to get the absolute encoder home offset. \\\\n[out] pOffset A pointer to a double variable that will contain the absolute encoder home offset. \\\\n\",\\n        \"Remarks\": NaN,\\n        \"ReturnType\": \"tuple\\\\u00a0\",\\n        \"ReturnValue\": \"0 : int - error code\",\\n        \"Class\": \"CoreMotion Class\",\\n        \"Instruction\": \"Get the absolute encoder home offset of an axis.\"\\n    },'), Document(metadata={'source': './docs/WMX3API_FunctionPython.json', 'start_index': 267776}, page_content='{\\n        \"No\": 239,\\n        \"FunctionPython\": \"def SetHomeDone(axis, value)\\\\u00a0\",\\n        \"FunctionC++\": \"WMX3APIFUNC SetHomeDone(int axis, unsigned char value)\",\\n        \"Parameters\": \"[in] axis The axis to set the \\\\\"home done\\\\\" state. \\\\n[in] value Specify 0 to set the \\\\\"home done\\\\\" state to FALSE or 1 to set the \\\\\"home done\\\\\" state to TRUE. \\\\n\",\\n        \"Remarks\": \"This function sets the Home Done state of each axis. This state can be obtained by reading the Home Done member of the CoreMotionAxisStatus structure returned by the GetStatus API function.\\\\n\\\\nThe Home Done state of the axis is automatically set to TRUE after a successful homing operation. Depending on the Clear Home Done On Servo Off and Clear Home Done On Comm Stop parameters, the Home Done state may be set to FALSE when communication is stopped or the axis servo is turned off.\\\\n\\\\nThis function can be used to manually override the Home Done state that is normally set or reset as described above. This may be useful if the user implements a custom homing routine.\\\\n\\\\nThe Home Done state affects several operations. The software limit (set with Soft Limit Type parameter) only triggers while the Home Done state is TRUE. \\\\n\",\\n        \"ReturnType\": \"int\\\\u00a0\",\\n        \"ReturnValue\": \"error code\\\\u00a0\",\\n        \"Class\": \"CoreMotion Class\",\\n        \"Instruction\": \"Set the \\\\\"home done\\\\\" state. \"\\n    },\\n    ')]\n"
     ]
    },
    {
     "name": "stderr",
     "output_type": "stream",
     "text": [
      "Processing tasks:  13%|█▎        | 14/105 [02:56<19:19, 12.75s/it]"
     ]
    },
    {
     "name": "stdout",
     "output_type": "stream",
     "text": [
      "codedata:\n",
      "Program begin.\n",
      "StartHelicalIntplPos error code is 65556: [0x00010014] : CoreMotionApi Error: One or more axes are not in servo on state.\n",
      "Elapsed_time: 2.103\n",
      "----------------------\n",
      "\n",
      "Self-correction but still got an error.\n",
      "\n",
      "\n",
      "Task ID: 15 🔽\n",
      "codedata:\n",
      "Program begin.\n",
      "Program End.\n",
      "Elapsed_time: 5.537\n",
      "----------------------\n",
      "\n"
     ]
    },
    {
     "name": "stderr",
     "output_type": "stream",
     "text": [
      "Processing tasks:  14%|█▍        | 15/105 [03:20<24:20, 16.23s/it]"
     ]
    },
    {
     "name": "stdout",
     "output_type": "stream",
     "text": [
      "# -------------------------------------------------------------------------\n",
      "\n",
      "Task ID: 16 🔽\n",
      "codedata:\n",
      "Program begin.\n",
      "Program End.\n",
      "Elapsed_time: 4.055\n",
      "----------------------\n",
      "\n"
     ]
    },
    {
     "name": "stderr",
     "output_type": "stream",
     "text": [
      "Processing tasks:  15%|█▌        | 16/105 [03:34<22:49, 15.39s/it]"
     ]
    },
    {
     "name": "stdout",
     "output_type": "stream",
     "text": [
      "# -------------------------------------------------------------------------\n",
      "\n",
      "Task ID: 17 🔽\n",
      "codedata:\n",
      "Program begin.\n",
      "Program End.\n",
      "Elapsed_time: 4.027\n",
      "----------------------\n",
      "\n"
     ]
    },
    {
     "name": "stderr",
     "output_type": "stream",
     "text": [
      "Processing tasks:  16%|█▌        | 17/105 [03:44<20:23, 13.91s/it]"
     ]
    },
    {
     "name": "stdout",
     "output_type": "stream",
     "text": [
      "# -------------------------------------------------------------------------\n",
      "\n",
      "Task ID: 18 🔽\n",
      "codedata:\n",
      "Program begin.\n",
      "Program End.\n",
      "Elapsed_time: 2.390\n",
      "----------------------\n",
      "\n"
     ]
    },
    {
     "name": "stderr",
     "output_type": "stream",
     "text": [
      "Processing tasks:  17%|█▋        | 18/105 [03:53<17:56, 12.38s/it]"
     ]
    },
    {
     "name": "stdout",
     "output_type": "stream",
     "text": [
      "# -------------------------------------------------------------------------\n",
      "\n",
      "Task ID: 19 🔽\n",
      "codedata:\n",
      "Program begin.\n",
      "Program End.\n",
      "Elapsed_time: 3.317\n",
      "----------------------\n",
      "\n"
     ]
    },
    {
     "name": "stderr",
     "output_type": "stream",
     "text": [
      "Processing tasks:  18%|█▊        | 19/105 [04:02<16:33, 11.55s/it]"
     ]
    },
    {
     "name": "stdout",
     "output_type": "stream",
     "text": [
      "# -------------------------------------------------------------------------\n",
      "\n",
      "Task ID: 20 🔽\n",
      "codedata:\n",
      "Program begin.\n",
      "Program End.\n",
      "Elapsed_time: 2.260\n",
      "----------------------\n",
      "\n"
     ]
    },
    {
     "name": "stderr",
     "output_type": "stream",
     "text": [
      "Processing tasks:  19%|█▉        | 20/105 [04:10<14:48, 10.46s/it]"
     ]
    },
    {
     "name": "stdout",
     "output_type": "stream",
     "text": [
      "# -------------------------------------------------------------------------\n",
      "\n",
      "Task ID: 21 🔽\n",
      "codedata:\n",
      "Program begin.\n",
      "Program End.\n",
      "Elapsed_time: 3.740\n",
      "----------------------\n",
      "\n"
     ]
    },
    {
     "name": "stderr",
     "output_type": "stream",
     "text": [
      "Processing tasks:  20%|██        | 21/105 [04:21<14:44, 10.53s/it]"
     ]
    },
    {
     "name": "stdout",
     "output_type": "stream",
     "text": [
      "# -------------------------------------------------------------------------\n",
      "\n",
      "Task ID: 22 🔽\n",
      "codedata:\n",
      "Program begin.\n",
      "StartLinearIntplPos error code is 65584: [0x00010030] : CoreMotionApi Error: One or more acceleration jerk arguments out of range.\n",
      "Elapsed_time: 3.002\n",
      "----------------------\n",
      "\n",
      "error string:----------------------\n",
      "StartLinearIntplPos error code is 65584: [0x00010030] : CoreMotionApi Error: One or more acceleration jerk arguments out of range.\n",
      "[Document(metadata={'source': './docs/WMX3API_FunctionPython.json', 'start_index': 92010}, page_content='{\\n        \"No\": 93,\\n        \"FunctionPython\": \"def StartLinearIntplPos(pLinearIntplCommand)\\\\u00a0\",\\n        \"FunctionC++\": \"WMX3APIFUNC StartLinearIntplPos(LinearIntplCommand *pLinearIntplCommand)\",\\n        \"Parameters\": \"[in] pLinearIntplCommand A pointer to an object of the LinearIntplCommand class that contains the interpolation parameters. \",\\n        \"Remarks\": \"This function moves any number of axes to the specified absolute target positions. The motion is interpolated so that the axes move together in a straight line.\",\\n        \"ReturnType\": \"int\\\\u00a0\",\\n        \"ReturnValue\": \"error code\\\\u00a0\",\\n        \"Class\": \"CoreMotion Class\",\\n        \"Instruction\": \"Start an absolute position linear interpolation motion command.\"\\n    },'), Document(metadata={'source': './docs/WMX3API_FunctionPython.json', 'start_index': 92757}, page_content='{\\n        \"No\": 94,\\n        \"FunctionPython\": \"def StartLinearIntplMov(pLinearIntplCommand)\\\\u00a0\",\\n        \"FunctionC++\": \"WMX3APIFUNC StartLinearIntplMov(LinearIntplCommand *pLinearIntplCommand)\",\\n        \"Parameters\": \"[in] pLinearIntplCommand A pointer to an object of the LinearIntplCommand class that contains the interpolation parameters. \",\\n        \"Remarks\": \"This function moves any number of axes to the specified relative target positions (relative to the command positions of the axes at the time that this function is executed). The motion is interpolated so that the axes move together in a straight line.\",\\n        \"ReturnType\": \"int\\\\u00a0\",\\n        \"ReturnValue\": \"error code\\\\u00a0\",\\n        \"Class\": \"CoreMotion Class\",\\n        \"Instruction\": \"Start a relative position linear interpolation motion command. \"\\n    },'), Document(metadata={'source': './docs/WMX3API_FunctionPython.json', 'start_index': 103361}, page_content='{\\n        \"No\": 105,\\n        \"FunctionPython\": \"def StartCircularIntplPos_LengthAndEnd(pCircularIntplCommand)\\\\u00a0\",\\n        \"FunctionC++\": \"WMX3APIFUNC StartCircularIntplPos(LengthAndEndCircularIntplCommand *pCircularIntplCommand)\",\\n        \"Parameters\": \"[in] pCircularIntplCommand A pointer to an object of the LengthAndEndCircularIntplCommand class that contains the interpolation parameters. \",\\n        \"Remarks\": \"This function moves two axes in a circular arc. The absolute end position of the arc and the arc length are specified.\",\\n        \"ReturnType\": \"int\\\\u00a0\",\\n        \"ReturnValue\": \"error code\\\\u00a0\",\\n        \"Class\": \"CoreMotion Class\",\\n        \"Instruction\": \"Start a circular interpolation motion command. The arc is specified by the arc length and the absolute end position of the arc.\"\\n    },')]\n"
     ]
    },
    {
     "name": "stderr",
     "output_type": "stream",
     "text": [
      "Processing tasks:  21%|██        | 22/105 [04:39<17:43, 12.81s/it]"
     ]
    },
    {
     "name": "stdout",
     "output_type": "stream",
     "text": [
      "codedata:\n",
      "Program begin.\n",
      "StartLinearIntplPos error code is 65584: [0x00010030] : CoreMotionApi Error: One or more acceleration jerk arguments out of range.\n",
      "Elapsed_time: 2.212\n",
      "----------------------\n",
      "\n",
      "Self-correction but still got an error.\n",
      "\n",
      "\n",
      "Task ID: 23 🔽\n",
      "codedata:\n",
      "Program begin.\n",
      "Program End.\n",
      "Elapsed_time: 3.303\n",
      "----------------------\n",
      "\n"
     ]
    },
    {
     "name": "stderr",
     "output_type": "stream",
     "text": [
      "Processing tasks:  22%|██▏       | 23/105 [04:50<16:52, 12.35s/it]"
     ]
    },
    {
     "name": "stdout",
     "output_type": "stream",
     "text": [
      "# -------------------------------------------------------------------------\n",
      "\n",
      "Task ID: 24 🔽\n",
      "codedata:\n",
      "Program begin.\n",
      "Program End.\n",
      "Elapsed_time: 4.347\n",
      "----------------------\n",
      "\n"
     ]
    },
    {
     "name": "stderr",
     "output_type": "stream",
     "text": [
      "Processing tasks:  23%|██▎       | 24/105 [05:04<17:15, 12.78s/it]"
     ]
    },
    {
     "name": "stdout",
     "output_type": "stream",
     "text": [
      "# -------------------------------------------------------------------------\n",
      "\n",
      "Task ID: 25 🔽\n",
      "codedata:\n",
      "Program begin.\n",
      "Program End.\n",
      "Elapsed_time: 3.835\n",
      "----------------------\n",
      "\n"
     ]
    },
    {
     "name": "stderr",
     "output_type": "stream",
     "text": [
      "Processing tasks:  24%|██▍       | 25/105 [05:18<17:33, 13.16s/it]"
     ]
    },
    {
     "name": "stdout",
     "output_type": "stream",
     "text": [
      "# -------------------------------------------------------------------------\n",
      "\n",
      "Task ID: 26 🔽\n",
      "codedata:\n",
      "Program begin.\n",
      "Program End.\n",
      "Elapsed_time: 4.049\n",
      "----------------------\n",
      "\n"
     ]
    },
    {
     "name": "stderr",
     "output_type": "stream",
     "text": [
      "Processing tasks:  25%|██▍       | 26/105 [05:33<18:02, 13.71s/it]"
     ]
    },
    {
     "name": "stdout",
     "output_type": "stream",
     "text": [
      "# -------------------------------------------------------------------------\n",
      "\n",
      "Task ID: 27 🔽\n",
      "codedata:\n",
      "Program begin.\n",
      "Program End.\n",
      "Elapsed_time: 3.760\n",
      "----------------------\n",
      "\n"
     ]
    },
    {
     "name": "stderr",
     "output_type": "stream",
     "text": [
      "Processing tasks:  26%|██▌       | 27/105 [05:56<21:17, 16.38s/it]"
     ]
    },
    {
     "name": "stdout",
     "output_type": "stream",
     "text": [
      "# -------------------------------------------------------------------------\n",
      "\n",
      "Task ID: 28 🔽\n",
      "codedata:\n",
      "Program begin.\n",
      "Program End.\n",
      "Elapsed_time: 5.456\n",
      "----------------------\n",
      "\n"
     ]
    },
    {
     "name": "stderr",
     "output_type": "stream",
     "text": [
      "Processing tasks:  27%|██▋       | 28/105 [06:17<22:48, 17.78s/it]"
     ]
    },
    {
     "name": "stdout",
     "output_type": "stream",
     "text": [
      "# -------------------------------------------------------------------------\n",
      "\n",
      "Task ID: 29 🔽\n",
      "codedata:\n",
      "Program begin.\n",
      "Program End.\n",
      "Elapsed_time: 3.527\n",
      "----------------------\n",
      "\n"
     ]
    },
    {
     "name": "stderr",
     "output_type": "stream",
     "text": [
      "Processing tasks:  28%|██▊       | 29/105 [06:32<21:23, 16.89s/it]"
     ]
    },
    {
     "name": "stdout",
     "output_type": "stream",
     "text": [
      "# -------------------------------------------------------------------------\n",
      "\n",
      "Task ID: 30 🔽\n",
      "codedata:\n",
      "Program begin.\n",
      "Program End.\n",
      "Elapsed_time: 3.748\n",
      "----------------------\n",
      "\n"
     ]
    },
    {
     "name": "stderr",
     "output_type": "stream",
     "text": [
      "Processing tasks:  29%|██▊       | 30/105 [06:55<23:20, 18.67s/it]"
     ]
    },
    {
     "name": "stdout",
     "output_type": "stream",
     "text": [
      "# -------------------------------------------------------------------------\n",
      "\n",
      "Task ID: 31 🔽\n",
      "codedata:\n",
      "Program begin.\n",
      "Program End.\n",
      "Elapsed_time: 3.976\n",
      "----------------------\n",
      "\n"
     ]
    },
    {
     "name": "stderr",
     "output_type": "stream",
     "text": [
      "Processing tasks:  30%|██▉       | 31/105 [07:07<20:36, 16.70s/it]"
     ]
    },
    {
     "name": "stdout",
     "output_type": "stream",
     "text": [
      "# -------------------------------------------------------------------------\n",
      "\n",
      "Task ID: 32 🔽\n",
      "codedata:\n",
      "Program begin.\n",
      "Program End.\n",
      "Elapsed_time: 4.695\n",
      "----------------------\n",
      "\n"
     ]
    },
    {
     "name": "stderr",
     "output_type": "stream",
     "text": [
      "Processing tasks:  30%|███       | 32/105 [07:25<20:59, 17.26s/it]"
     ]
    },
    {
     "name": "stdout",
     "output_type": "stream",
     "text": [
      "# -------------------------------------------------------------------------\n",
      "\n",
      "Task ID: 33 🔽\n",
      "codedata:\n",
      "Program begin.\n",
      "Program End.\n",
      "Elapsed_time: 5.171\n",
      "----------------------\n",
      "\n"
     ]
    },
    {
     "name": "stderr",
     "output_type": "stream",
     "text": [
      "Processing tasks:  31%|███▏      | 33/105 [07:39<19:28, 16.23s/it]"
     ]
    },
    {
     "name": "stdout",
     "output_type": "stream",
     "text": [
      "# -------------------------------------------------------------------------\n",
      "\n",
      "Task ID: 34 🔽\n",
      "codedata:\n",
      "Program begin.\n",
      "Wait_AxisSel error code is 1549: [0x0000060d] : WMX3Api Error: Same axis specified more than once.\n",
      "Elapsed_time: 3.294\n",
      "----------------------\n",
      "\n",
      "error string:----------------------\n",
      "Wait_AxisSel error code is 1549: [0x0000060d] : WMX3Api Error: Same axis specified more than once.\n",
      "[Document(metadata={'source': './docs/WMX3API_FunctionPython.json', 'start_index': 187161}, page_content='{\\n        \"No\": 179,\\n        \"FunctionPython\": \"def Wait_AxisSel(pAxisSelection)\\\\u00a0\",\\n        \"FunctionC++\": \"WMX3APIFUNC Wait(AxisSelection *pAxisSelection)\",\\n        \"Parameters\": \"[in] pAxisSelection A pointer to a AxisSelection class object that specifies the axes to wait for. \",\\n        \"Remarks\": \"This function will block execution and will return execution to the calling thread only when the specified axes enter the Idle operation state.\\\\n\\\\nAll specified axes must be Idle at the same time for this function to return execution to the calling thread. If one of the specified axes becomes Idle, but then receives a new position command before every other axis becomes Idle, this function will not return execution until the new position command is finished.\\\\n\\\\nIf any specified axis goes offline, generates an amp alarm, triggers a limit switch, or changes to servo off state, this function will stop blocking and return the ServoOffline, AxisAmpAlarm, AxisSoftLimit, AxisNearLimit, AxisExternalLimit, AxisHardLimit, or ServoOff error code.\\\\n\\\\nEach Device can only process one Wait function at one time. If multiple threads call the Wait function, the timings at which execution is returned to the calling threads is undefined. As explained in CreateDevice, each thread should create its own device. \\\\n\",\\n        \"ReturnType\": \"int\\\\u00a0\",\\n        \"ReturnValue\": \"error code\\\\u00a0\",\\n        \"Class\": \"CoreMotion Class\",\\n        \"Instruction\": \"Add a wait command to an API buffer.\"\\n    },\\n    '), Document(metadata={'source': './docs/WMX3API_FunctionPython.json', 'start_index': 191228}, page_content='{\\n        \"No\": 182,\\n        \"FunctionPython\": \"def Wait_AxisSel_TimeMilli(pAxisSelection, waitTimeMilliseconds)\\\\u00a0\",\\n        \"FunctionC++\": \"WMX3APIFUNC Wait(AxisSelection *pAxisSelection, unsigned int waitTimeMilliseconds)\",\\n        \"Parameters\": \"[in] pAxisSelection A pointer to a AxisSelection class object that specifies the axes to wait for. \\\\n[in] waitTimeMilliseconds The maximum amount of time to wait before returning. If the waitTimeMilliseconds elapses before the axes become Idle, a WaitTimeout error will be returned. To specify no maximum wait time and wait indefinitely until the axes become idle, set this value to the constant INFINITE (0xFFFFFFFF). \\\\n\",\\n        \"Remarks\": \"This function is similar to Wait, except it returns execution to the calling thread if the specified wait time elapses before the specified axis becomes Idle. If any of the specified axes is not Idle when this function returns, it will return the WaitTimeout \",\\n        \"ReturnType\": \"int\\\\u00a0\",\\n        \"ReturnValue\": \"error code\\\\u00a0\",\\n        \"Class\": \"CoreMotion Class\",\\n        \"Instruction\": \"Start a blocking wait command, returning only when the axes become idle.\"\\n    },\\n    '), Document(metadata={'source': './docs/WMX3API_FunctionPython.json', 'start_index': 24560}, page_content='{\\n        \"No\": 25,\\n        \"FunctionPython\": \"def Wait_AxisSel(pAxisSelection)\\\\u00a0\",\\n        \"FunctionC++\": \"WMX3APIFUNC Wait(AxisSelection *pAxisSelection)\",\\n        \"Parameters\": \"[in] pAxisSelection A set of axes to wait for. \",\\n        \"Remarks\": \"This API may be added to an API buffer that is recording. This API will not have any effect when called while the device is not recording to an API buffer channel.\\\\n\\\\nWhen this function is executed from inside an API buffer, the execution of APIs will stop until all the axes in the specified set of axes are in the Idle operation state.\\\\n\\\\nThis function can delay the execution of the next API in the API buffer until the motion commands of multiple axes complete.\\\\n\\\\nThis function has the same effect as when the Wait(ApiBufferCondition* condition) function is called with the AxisIdle condition with the specified set of axes.\\\\n\\\\nIf any specified axis goes offline, generates an amp alarm, triggers a limit switch, or changes to servo off state, an ServoOffline, AxisAmpAlarm, AxisSoftLimit, AxisNearLimit, AxisExternalLimit, AxisHardLimit, or ServoOff error code will be generated and logged in the ApiBufferStatus. If the stopOnError option was set to 1 when calling the Execute function, the API buffer execution will stop when this occurs. \",\\n        \"ReturnType\": \"int\\\\u00a0\",\\n        \"ReturnValue\": \"error code\\\\u00a0\",\\n        \"Class\": \"ApiBuffer Class\\\\u00a0\",\\n        \"Instruction\": \"Add a wait command to an API buffer.\"\\n    },\\n    ')]\n"
     ]
    },
    {
     "name": "stderr",
     "output_type": "stream",
     "text": [
      "Processing tasks:  32%|███▏      | 34/105 [08:04<22:14, 18.79s/it]"
     ]
    },
    {
     "name": "stdout",
     "output_type": "stream",
     "text": [
      "codedata:\n",
      "Program begin.\n",
      "Wait_AxisSel error code is 1549: [0x0000060d] : WMX3Api Error: Same axis specified more than once.\n",
      "Elapsed_time: 2.544\n",
      "----------------------\n",
      "\n",
      "Self-correction but still got an error.\n",
      "\n",
      "\n",
      "Task ID: 35 🔽\n",
      "codedata:\n",
      "Program begin.\n",
      "Program End.\n",
      "Elapsed_time: 3.922\n",
      "----------------------\n",
      "\n"
     ]
    },
    {
     "name": "stderr",
     "output_type": "stream",
     "text": [
      "Processing tasks:  33%|███▎      | 35/105 [08:18<20:20, 17.43s/it]"
     ]
    },
    {
     "name": "stdout",
     "output_type": "stream",
     "text": [
      "# -------------------------------------------------------------------------\n",
      "\n",
      "Task ID: 36 🔽\n",
      "codedata:\n",
      "Program begin.\n",
      "Program End.\n",
      "Elapsed_time: 4.281\n",
      "----------------------\n",
      "\n"
     ]
    },
    {
     "name": "stderr",
     "output_type": "stream",
     "text": [
      "Processing tasks:  34%|███▍      | 36/105 [08:31<18:26, 16.04s/it]"
     ]
    },
    {
     "name": "stdout",
     "output_type": "stream",
     "text": [
      "# -------------------------------------------------------------------------\n",
      "\n",
      "Task ID: 37 🔽\n",
      "codedata:\n",
      "Program begin.\n",
      "Program End.\n",
      "Elapsed_time: 2.936\n",
      "----------------------\n",
      "\n"
     ]
    },
    {
     "name": "stderr",
     "output_type": "stream",
     "text": [
      "Processing tasks:  35%|███▌      | 37/105 [08:41<16:16, 14.36s/it]"
     ]
    },
    {
     "name": "stdout",
     "output_type": "stream",
     "text": [
      "# -------------------------------------------------------------------------\n",
      "\n",
      "Task ID: 38 🔽\n",
      "codedata:\n",
      "Program begin.\n",
      "Program End.\n",
      "Elapsed_time: 3.176\n",
      "----------------------\n",
      "\n"
     ]
    },
    {
     "name": "stderr",
     "output_type": "stream",
     "text": [
      "Processing tasks:  36%|███▌      | 38/105 [08:53<15:03, 13.48s/it]"
     ]
    },
    {
     "name": "stdout",
     "output_type": "stream",
     "text": [
      "# -------------------------------------------------------------------------\n",
      "\n",
      "Task ID: 39 🔽\n",
      "codeerr:\n",
      "Traceback (most recent call last):\n",
      "  File \"\\\\mac\\Home\\Downloads\\codedemo\\sample.py\", line 277, in <module>\n",
      "    main()\n",
      "  File \"\\\\mac\\Home\\Downloads\\codedemo\\sample.py\", line 213, in main\n",
      "    eventIN_IO.type = IoEventInputType.EqualIOBit\n",
      "                      ^^^^^^^^^^^^^^^^^^^^^^^^^^^\n",
      "AttributeError: type object 'IoEventInputType' has no attribute 'EqualIOBit'. Did you mean: 'EqualIOBytes'?\n",
      "!!!\n",
      "----------------------\n",
      "\n",
      "error string:----------------------\n",
      "AttributeError: type object 'IoEventInputType' has no attribute 'EqualIOBit'. Did you mean: 'EqualIOBytes'?\n",
      "[Document(metadata={'source': './docs/WMX3API_FunctionPython.json', 'start_index': 640046}, page_content='{\\n        \"No\": 550,\\n        \"FunctionPython\": \"def GetEventInput(id)\\\\u00a0\",\\n        \"FunctionC++\": \"WMX3APIFUNC GetEventInput(int id, EventInput *pEventInput)\",\\n        \"Parameters\": \"[in] id The event identification number of the event. \\\\n[out] pEventInput A pointer to an EventInput class object that will contain the event input function. \\\\n\",\\n        \"Remarks\": \"This function gets the input function of an event. The event must be first defined with the SetEvent function. \",\\n        \"ReturnType\": \"tuple\\\\u00a0\",\\n        \"ReturnValue\": \"0 : int - error code\",\\n        \"Class\": \"EventControl Class\\\\u00a0\",\\n        \"Instruction\": \"This function gets the input function of an event. \"\\n    },'), Document(metadata={'source': './docs/WMX3API_FunctionPython.json', 'start_index': 684874}, page_content='{\\n        \"No\": 598,\\n        \"FunctionPython\": \"def GetInputData(buff, buffSize, dataSize, initialState)\\\\u00a0\",\\n        \"FunctionC++\": \"WMX3APIFUNC GetInputData(unsigned char *buff, int buffSize, int *dataSize, char *initialState)\",\\n        \"Parameters\": \"[out] buff A pointer to a buffer that will contain the binary representation of the member variables. \\\\n[in] buffSize The size of the buffer in bytes. \\\\n[out] dataSize A pointer to an int that will contain the size of the binary representation of the member variables, in bytes. This size of the buffer will be occupied. \\\\n[out] initialState A pointer to a char that will contain the initialState (triggered or untriggered) of the input function. This determines whether the event can trigger when the event is enabled.  \\\\n\\\\nImplements EventInput.\\\\n\",\\n        \"Remarks\": NaN,\\n        \"ReturnType\": \"int\\\\u00a0\",\\n        \"ReturnValue\": \"error code\\\\u00a0\",\\n        \"Class\": \"Io Class\\\\u00a0\",\\n        \"Instruction\": NaN\\n    },'), Document(metadata={'source': './docs/WMX3API_FunctionPython.json', 'start_index': 638636}, page_content='{\\n        \"No\": 548,\\n        \"FunctionPython\": \"def SetEventInput(id, pEventInput)\\\\u00a0\",\\n        \"FunctionC++\": \"WMX3APIFUNC SetEventInput(int id, EventInput *pEventInput)\",\\n        \"Parameters\": \"[in] id The event identification number of the event. \\\\n[in] pEventInput A pointer to an EventInput class object that defines the event input function. \\\\n\",\\n        \"Remarks\": \"This function sets the input function of an event. The event must be first defined with the SetEvent function. \",\\n        \"ReturnType\": \"int\\\\u00a0\",\\n        \"ReturnValue\": \"error code\\\\u00a0\",\\n        \"Class\": \"EventControl Class\\\\u00a0\",\\n        \"Instruction\": \"This function sets the input function of an event.\"\\n    },')]\n"
     ]
    },
    {
     "name": "stderr",
     "output_type": "stream",
     "text": [
      "Processing tasks:  37%|███▋      | 39/105 [09:13<17:01, 15.47s/it]"
     ]
    },
    {
     "name": "stdout",
     "output_type": "stream",
     "text": [
      "codeerr:\n",
      "Traceback (most recent call last):\n",
      "  File \"\\\\mac\\Home\\Downloads\\codedemo\\sample.py\", line 283, in <module>\n",
      "    main()\n",
      "  File \"\\\\mac\\Home\\Downloads\\codedemo\\sample.py\", line 222, in main\n",
      "    eventOut_Motion.type = CoreMotionEventOutputType.StartPos\n",
      "                           ^^^^^^^^^^^^^^^^^^^^^^^^^^^^^^^^^^\n",
      "AttributeError: type object 'CoreMotionEventOutputType' has no attribute 'StartPos'\n",
      "!!!\n",
      "----------------------\n",
      "\n",
      "Self-correction but still got an error.\n",
      "\n",
      "\n",
      "Task ID: 40 🔽\n",
      "codedata:\n",
      "Program begin.\n",
      "Program End.\n",
      "Elapsed_time: 3.248\n",
      "----------------------\n",
      "\n"
     ]
    },
    {
     "name": "stderr",
     "output_type": "stream",
     "text": [
      "Processing tasks:  38%|███▊      | 40/105 [09:25<15:38, 14.44s/it]"
     ]
    },
    {
     "name": "stdout",
     "output_type": "stream",
     "text": [
      "# -------------------------------------------------------------------------\n",
      "\n",
      "Task ID: 41 🔽\n",
      "codedata:\n",
      "Program begin.\n",
      "Program End.\n",
      "Elapsed_time: 3.375\n",
      "----------------------\n",
      "\n"
     ]
    },
    {
     "name": "stderr",
     "output_type": "stream",
     "text": [
      "Processing tasks:  39%|███▉      | 41/105 [09:36<14:18, 13.41s/it]"
     ]
    },
    {
     "name": "stdout",
     "output_type": "stream",
     "text": [
      "# -------------------------------------------------------------------------\n",
      "\n",
      "Task ID: 42 🔽\n",
      "codedata:\n",
      "Program begin.\n",
      "Program End.\n",
      "Elapsed_time: 3.927\n",
      "----------------------\n",
      "\n"
     ]
    },
    {
     "name": "stderr",
     "output_type": "stream",
     "text": [
      "Processing tasks:  40%|████      | 42/105 [09:50<14:17, 13.61s/it]"
     ]
    },
    {
     "name": "stdout",
     "output_type": "stream",
     "text": [
      "# -------------------------------------------------------------------------\n",
      "\n",
      "Task ID: 43 🔽\n",
      "codedata:\n",
      "Program begin.\n",
      "Program End.\n",
      "Elapsed_time: 4.464\n",
      "----------------------\n",
      "\n"
     ]
    },
    {
     "name": "stderr",
     "output_type": "stream",
     "text": [
      "Processing tasks:  41%|████      | 43/105 [10:04<14:02, 13.59s/it]"
     ]
    },
    {
     "name": "stdout",
     "output_type": "stream",
     "text": [
      "# -------------------------------------------------------------------------\n",
      "\n",
      "Task ID: 44 🔽\n",
      "codedata:\n",
      "Program begin.\n",
      "Program End.\n",
      "Elapsed_time: 4.599\n",
      "----------------------\n",
      "\n"
     ]
    },
    {
     "name": "stderr",
     "output_type": "stream",
     "text": [
      "Processing tasks:  42%|████▏     | 44/105 [10:19<14:15, 14.02s/it]"
     ]
    },
    {
     "name": "stdout",
     "output_type": "stream",
     "text": [
      "# -------------------------------------------------------------------------\n",
      "\n",
      "Task ID: 45 🔽\n",
      "codedata:\n",
      "Program begin.\n",
      "Program End.\n",
      "Elapsed_time: 3.869\n",
      "----------------------\n",
      "\n"
     ]
    },
    {
     "name": "stderr",
     "output_type": "stream",
     "text": [
      "Processing tasks:  43%|████▎     | 45/105 [10:31<13:34, 13.57s/it]"
     ]
    },
    {
     "name": "stdout",
     "output_type": "stream",
     "text": [
      "# -------------------------------------------------------------------------\n",
      "\n",
      "Task ID: 46 🔽\n",
      "codedata:\n",
      "Program begin.\n",
      "Program End.\n",
      "Elapsed_time: 4.240\n",
      "----------------------\n",
      "\n"
     ]
    },
    {
     "name": "stderr",
     "output_type": "stream",
     "text": [
      "Processing tasks:  44%|████▍     | 46/105 [10:43<12:48, 13.03s/it]"
     ]
    },
    {
     "name": "stdout",
     "output_type": "stream",
     "text": [
      "# -------------------------------------------------------------------------\n",
      "\n",
      "Task ID: 47 🔽\n",
      "codedata:\n",
      "Program begin.\n",
      "Program End.\n",
      "Elapsed_time: 2.931\n",
      "----------------------\n",
      "\n"
     ]
    },
    {
     "name": "stderr",
     "output_type": "stream",
     "text": [
      "Processing tasks:  45%|████▍     | 47/105 [10:53<11:40, 12.07s/it]"
     ]
    },
    {
     "name": "stdout",
     "output_type": "stream",
     "text": [
      "# -------------------------------------------------------------------------\n",
      "\n",
      "Task ID: 48 🔽\n",
      "codedata:\n",
      "Program begin.\n",
      "Wait_WaitCondition error code is 1548: [0x0000060c] : WMX3Api Error: Axis count is out of range.\n",
      "Elapsed_time: 2.486\n",
      "----------------------\n",
      "\n",
      "error string:----------------------\n",
      "Wait_WaitCondition error code is 1548: [0x0000060c] : WMX3Api Error: Axis count is out of range.\n",
      "[Document(metadata={'source': './docs/WMX3API_FunctionPython.json', 'start_index': 188667}, page_content='{\\n        \"No\": 180,\\n        \"FunctionPython\": \"def Wait_WaitCondition(pWaitCondition)\\\\u00a0\",\\n        \"FunctionC++\": \"WMX3APIFUNC Wait(WaitCondition *pWaitCondition)\",\\n        \"Parameters\": \"[in] pWaitCondition A pointer to a WaitCondition that describes the wait condition. \",\\n        \"Remarks\": \"This function will block execution and will return execution to the calling thread only when the specified wait condition becomes true. See WaitCondition for information regarding the available wait conditions.\\\\n\\\\nIf the specified WaitConditionType is AxisIdle, MotionStarted, or MotionStartedOverrideReady, this function will monitor the specified axes for errors. If any specified axis goes offline, generates an amp alarm, triggers a limit switch, or changes to servo off state, this function will stop blocking and return the ServoOffline, AxisAmpAlarm, AxisSoftLimit, AxisNearLimit, AxisExternalLimit, AxisHardLimit, or ServoOff error code.\\\\n\\\\nEach Device can only process one Wait function at one time. If multiple threads call the Wait function, the timings at which execution is returned to the calling threads is undefined. As explained in CreateDevice, each thread should create its own device. \\\\n\",\\n        \"ReturnType\": \"int\\\\u00a0\",\\n        \"ReturnValue\": \"error code\\\\u00a0\",\\n        \"Class\": \"CoreMotion Class\",\\n        \"Instruction\": \"Start a blocking wait command, returning only when the specified wait condition becomes true. \"\\n    },\\n    '), Document(metadata={'source': './docs/WMX3API_FunctionPython.json', 'start_index': 192411}, page_content='{\\n        \"No\": 183,\\n        \"FunctionPython\": \"def Wait_WaitCondition_TimeMilli(pWaitCondition, waitTimeMilliseconds)\\\\u00a0\",\\n        \"FunctionC++\": \"WMX3APIFUNC Wait(WaitCondition *pWaitCondition, unsigned int waitTimeMilliseconds)\",\\n        \"Parameters\": \"[in] pWaitCondition A pointer to a WaitCondition that describes the wait condition. \\\\n[in] waitTimeMilliseconds The maximum amount of time to wait before returning. If the waitTimeMilliseconds elapses before the axes become Idle, a WaitTimeout error will be returned. To specify no maximum wait time and wait indefinitely until the axes become idle, set this value to the constant INFINITE (0xFFFFFFFF). \\\\n\",\\n        \"Remarks\": \"This function is similar to Wait, except it returns execution to the calling thread if the specified wait time elapses before the specified wait condition becomes true. If the specified wait condition is not true when this function returns, it will return the WaitTimeout error. \",\\n        \"ReturnType\": \"int\\\\u00a0\",\\n        \"ReturnValue\": \"error code\\\\u00a0\",\\n        \"Class\": \"CoreMotion Class\",\\n        \"Instruction\": \"Start a blocking wait command, returning only when the specified wait condition becomes true. \"\\n    },\\n    '), Document(metadata={'source': './docs/WMX3API_FunctionPython.json', 'start_index': 186078}, page_content='{\\n        \"No\": 178,\\n        \"FunctionPython\": \"def Wait(axis)\\\\u00a0\",\\n        \"FunctionC++\": \"WMX3APIFUNC Wait(int axis)\",\\n        \"Parameters\": \"[in] axis The axis to wait for. \",\\n        \"Remarks\": \"This function will block execution and will return execution to the calling thread only when the specified axis enters the Idle operation state.\\\\n\\\\nIf the specified axis goes offline, generates an amp alarm, triggers a limit switch, or changes to servo off state, this function will stop blocking and return the ServoOffline, AxisAmpAlarm, AxisSoftLimit, AxisNearLimit, AxisExternalLimit, AxisHardLimit, or ServoOff error code.\\\\n\\\\nEach Device can only process one Wait function at one time. If multiple threads call the Wait function, the timings at which execution is returned to the calling threads is undefined. As explained in CreateDevice, each thread should create its own device. \\\\n\",\\n        \"ReturnType\": \"int\\\\u00a0\",\\n        \"ReturnValue\": \"error code\\\\u00a0\",\\n        \"Class\": \"CoreMotion Class\",\\n        \"Instruction\": \"Add a wait command to an API buffer. \"\\n    },\\n    ')]\n"
     ]
    },
    {
     "name": "stderr",
     "output_type": "stream",
     "text": [
      "Processing tasks:  46%|████▌     | 48/105 [11:18<15:13, 16.03s/it]"
     ]
    },
    {
     "name": "stdout",
     "output_type": "stream",
     "text": [
      "codedata:\n",
      "Program begin.\n",
      "Wait_WaitCondition error code is 1548: [0x0000060c] : WMX3Api Error: Axis count is out of range.\n",
      "Elapsed_time: 2.114\n",
      "----------------------\n",
      "\n",
      "Self-correction but still got an error.\n",
      "\n",
      "\n",
      "Task ID: 49 🔽\n",
      "codedata:\n",
      "Program begin.\n",
      "Wait_WaitCondition error code is 1567: [0x0000061f] : WMX3Api Error: The servos of one or more commanded axes are off.\n",
      "Elapsed_time: 2.524\n",
      "----------------------\n",
      "\n",
      "error string:----------------------\n",
      "Wait_WaitCondition error code is 1567: [0x0000061f] : WMX3Api Error: The servos of one or more commanded axes are off.\n",
      "[Document(metadata={'source': './docs/WMX3API_FunctionPython.json', 'start_index': 188667}, page_content='{\\n        \"No\": 180,\\n        \"FunctionPython\": \"def Wait_WaitCondition(pWaitCondition)\\\\u00a0\",\\n        \"FunctionC++\": \"WMX3APIFUNC Wait(WaitCondition *pWaitCondition)\",\\n        \"Parameters\": \"[in] pWaitCondition A pointer to a WaitCondition that describes the wait condition. \",\\n        \"Remarks\": \"This function will block execution and will return execution to the calling thread only when the specified wait condition becomes true. See WaitCondition for information regarding the available wait conditions.\\\\n\\\\nIf the specified WaitConditionType is AxisIdle, MotionStarted, or MotionStartedOverrideReady, this function will monitor the specified axes for errors. If any specified axis goes offline, generates an amp alarm, triggers a limit switch, or changes to servo off state, this function will stop blocking and return the ServoOffline, AxisAmpAlarm, AxisSoftLimit, AxisNearLimit, AxisExternalLimit, AxisHardLimit, or ServoOff error code.\\\\n\\\\nEach Device can only process one Wait function at one time. If multiple threads call the Wait function, the timings at which execution is returned to the calling threads is undefined. As explained in CreateDevice, each thread should create its own device. \\\\n\",\\n        \"ReturnType\": \"int\\\\u00a0\",\\n        \"ReturnValue\": \"error code\\\\u00a0\",\\n        \"Class\": \"CoreMotion Class\",\\n        \"Instruction\": \"Start a blocking wait command, returning only when the specified wait condition becomes true. \"\\n    },\\n    '), Document(metadata={'source': './docs/WMX3API_FunctionPython.json', 'start_index': 186078}, page_content='{\\n        \"No\": 178,\\n        \"FunctionPython\": \"def Wait(axis)\\\\u00a0\",\\n        \"FunctionC++\": \"WMX3APIFUNC Wait(int axis)\",\\n        \"Parameters\": \"[in] axis The axis to wait for. \",\\n        \"Remarks\": \"This function will block execution and will return execution to the calling thread only when the specified axis enters the Idle operation state.\\\\n\\\\nIf the specified axis goes offline, generates an amp alarm, triggers a limit switch, or changes to servo off state, this function will stop blocking and return the ServoOffline, AxisAmpAlarm, AxisSoftLimit, AxisNearLimit, AxisExternalLimit, AxisHardLimit, or ServoOff error code.\\\\n\\\\nEach Device can only process one Wait function at one time. If multiple threads call the Wait function, the timings at which execution is returned to the calling threads is undefined. As explained in CreateDevice, each thread should create its own device. \\\\n\",\\n        \"ReturnType\": \"int\\\\u00a0\",\\n        \"ReturnValue\": \"error code\\\\u00a0\",\\n        \"Class\": \"CoreMotion Class\",\\n        \"Instruction\": \"Add a wait command to an API buffer. \"\\n    },\\n    '), Document(metadata={'source': './docs/WMX3API_FunctionPython.json', 'start_index': 187161}, page_content='{\\n        \"No\": 179,\\n        \"FunctionPython\": \"def Wait_AxisSel(pAxisSelection)\\\\u00a0\",\\n        \"FunctionC++\": \"WMX3APIFUNC Wait(AxisSelection *pAxisSelection)\",\\n        \"Parameters\": \"[in] pAxisSelection A pointer to a AxisSelection class object that specifies the axes to wait for. \",\\n        \"Remarks\": \"This function will block execution and will return execution to the calling thread only when the specified axes enter the Idle operation state.\\\\n\\\\nAll specified axes must be Idle at the same time for this function to return execution to the calling thread. If one of the specified axes becomes Idle, but then receives a new position command before every other axis becomes Idle, this function will not return execution until the new position command is finished.\\\\n\\\\nIf any specified axis goes offline, generates an amp alarm, triggers a limit switch, or changes to servo off state, this function will stop blocking and return the ServoOffline, AxisAmpAlarm, AxisSoftLimit, AxisNearLimit, AxisExternalLimit, AxisHardLimit, or ServoOff error code.\\\\n\\\\nEach Device can only process one Wait function at one time. If multiple threads call the Wait function, the timings at which execution is returned to the calling threads is undefined. As explained in CreateDevice, each thread should create its own device. \\\\n\",\\n        \"ReturnType\": \"int\\\\u00a0\",\\n        \"ReturnValue\": \"error code\\\\u00a0\",\\n        \"Class\": \"CoreMotion Class\",\\n        \"Instruction\": \"Add a wait command to an API buffer.\"\\n    },\\n    ')]\n"
     ]
    },
    {
     "name": "stderr",
     "output_type": "stream",
     "text": [
      "Processing tasks:  47%|████▋     | 49/105 [11:46<18:14, 19.54s/it]"
     ]
    },
    {
     "name": "stdout",
     "output_type": "stream",
     "text": [
      "codedata:\n",
      "Program begin.\n",
      "StartPos error code is 65581: [0x0001002d] : CoreMotionApi Error: One or more velocity arguments out of range.\n",
      "Elapsed_time: 2.113\n",
      "----------------------\n",
      "\n",
      "Self-correction but still got an error.\n",
      "\n",
      "\n",
      "Task ID: 50 🔽\n",
      "codedata:\n",
      "Program begin.\n",
      "StartLinearIntplPos_Trigger error code is 1563: [0x0000061b] : WMX3Api Error: The axis is still starting the previous command. Wait until the next communication cycle.\n",
      "Elapsed_time: 3.037\n",
      "----------------------\n",
      "\n",
      "error string:----------------------\n",
      "StartLinearIntplPos_Trigger error code is 1563: [0x0000061b] : WMX3Api Error: The axis is still starting the previous command. Wait until the next communication cycle.\n",
      "[Document(metadata={'source': './docs/WMX3API_FunctionPython.json', 'start_index': 94567}, page_content='{\\n        \"No\": 96,\\n        \"FunctionPython\": \"def StartLinearIntplMov_Trigger(pLinearIntplCommand, pTrigger)\\\\u00a0\",\\n        \"FunctionC++\": \"WMX3APIFUNC StartLinearIntplMov(LinearIntplCommand *pLinearIntplCommand, Trigger *pTrigger)\",\\n        \"Parameters\": \"[in] pLinearIntplCommand A pointer to an object of the LinearIntplCommand class that contains the interpolation parameters. \\\\n[in] pTrigger A pointer to an object of the Trigger class that specifies the trigger condition. \\\\n\",\\n        \"Remarks\": \"This function moves any number of axes to the specified relative target positions (relative to the command positions of the axes at the time that this function is executed). The motion will only begin when the specified trigger condition is satisfied. The motion is interpolated so that the axes move together in a straight line.\",\\n        \"ReturnType\": \"int\\\\u00a0\",\\n        \"ReturnValue\": \"error code\\\\u00a0\",\\n        \"Class\": \"CoreMotion Class\",\\n        \"Instruction\": \"Start a relative position triggered linear interpolation motion command.\"\\n    },\\n    '), Document(metadata={'source': './docs/WMX3API_FunctionPython.json', 'start_index': 93595}, page_content='{\\n        \"No\": 95,\\n        \"FunctionPython\": \"def StartLinearIntplPos_Trigger(pLinearIntplCommand, pTrigger)\\\\u00a0\",\\n        \"FunctionC++\": \"WMX3APIFUNC StartLinearIntplPos(LinearIntplCommand *pLinearIntplCommand, Trigger *pTrigger)\",\\n        \"Parameters\": \"[in] pLinearIntplCommand A pointer to an object of the LinearIntplCommand class that contains the interpolation parameters. \\\\n[in] pTrigger A pointer to an object of the Trigger class that specifies the trigger condition. \\\\n\",\\n        \"Remarks\": \"This function moves any number of axes to the specified absolute target positions. The motion will only begin when the specified trigger condition is satisfied. The motion is interpolated so that the axes move together in a straight line.\",\\n        \"ReturnType\": \"int\\\\u00a0\",\\n        \"ReturnValue\": \"error code\\\\u00a0\",\\n        \"Class\": \"CoreMotion Class\",\\n        \"Instruction\": \"Start an absolute position triggered linear interpolation motion command.\"\\n    },'), Document(metadata={'source': './docs/WMX3API_FunctionPython.json', 'start_index': 95629}, page_content='{\\n        \"No\": 97,\\n        \"FunctionPython\": \"def StartLinearIntplPos_TriggerEvents(pLinearIntplCommand, pTriggerEvents)\\\\u00a0\",\\n        \"FunctionC++\": \"WMX3APIFUNC StartLinearIntplPos(LinearIntplCommand *pLinearIntplCommand, TriggerEvents *pTriggerEvents)\",\\n        \"Parameters\": \"[in] pLinearIntplCommand A pointer to an object of the LinearIntplCommand class that contains the interpolation parameters. \\\\n[in] pTriggerEvents A pointer to an object of the TriggerEvents class that contains the trigger events. \\\\n\",\\n        \"Remarks\": \"This function moves any number of axes to the specified absolute target positions. The motion will only begin when the specified multi-event trigger condition is satisfied. The motion is interpolated so that the axes move together in a straight line.\",\\n        \"ReturnType\": \"int\\\\u00a0\",\\n        \"ReturnValue\": \"error code\\\\u00a0\",\\n        \"Class\": \"CoreMotion Class\",\\n        \"Instruction\": \"Start an absolute position triggered linear interpolation motion command with multiple trigger events.\"\\n    },\\n    ')]\n"
     ]
    },
    {
     "name": "stderr",
     "output_type": "stream",
     "text": [
      "Processing tasks:  48%|████▊     | 50/105 [12:11<19:35, 21.37s/it]"
     ]
    },
    {
     "name": "stdout",
     "output_type": "stream",
     "text": [
      "codedata:\n",
      "Program begin.\n",
      "StartLinearIntplPos_Trigger error code is 1563: [0x0000061b] : WMX3Api Error: The axis is still starting the previous command. Wait until the next communication cycle.\n",
      "Elapsed_time: 2.213\n",
      "----------------------\n",
      "\n",
      "Self-correction but still got an error.\n",
      "\n",
      "\n",
      "Task ID: 51 🔽\n",
      "codedata:\n",
      "Program begin.\n",
      "Program End.\n",
      "Elapsed_time: 3.651\n",
      "----------------------\n",
      "\n"
     ]
    },
    {
     "name": "stderr",
     "output_type": "stream",
     "text": [
      "Processing tasks:  49%|████▊     | 51/105 [12:23<16:37, 18.48s/it]"
     ]
    },
    {
     "name": "stdout",
     "output_type": "stream",
     "text": [
      "# -------------------------------------------------------------------------\n",
      "\n",
      "Task ID: 52 🔽\n",
      "codeerr:\n",
      "Traceback (most recent call last):\n",
      "  File \"\\\\mac\\Home\\Downloads\\codedemo\\sample.py\", line 266, in <module>\n",
      "    main()\n",
      "  File \"\\\\mac\\Home\\Downloads\\codedemo\\sample.py\", line 210, in main\n",
      "    pvt.points[i].pos = -2 * i\n",
      "    ~~~~~~~~~~^^^\n",
      "TypeError: 'Motion_PVTPoint' object is not subscriptable\n",
      "!!!\n",
      "----------------------\n",
      "\n",
      "error string:----------------------\n",
      "TypeError: 'Motion_PVTPoint' object is not subscriptable\n",
      "[Document(metadata={'source': './docs/WMX3API_FunctionPython.json', 'start_index': 236402}, page_content='{\\n        \"No\": 219,\\n        \"FunctionPython\": \"def GetPVTBytesPerPoint(pBytes)\\\\u00a0\",\\n        \"FunctionC++\": \"WMX3APIFUNC GetPVTBytesPerPoint(unsigned int *pBytes)\",\\n        \"Parameters\": \"[out] pBytes A pointer to an unsigned int that will contain the number of bytes of memory required per point data. \\\\n\",\\n        \"Remarks\": \"This function obtains the number of bytes of memory required to store one point data in the PVT buffer memory. This can be used to calculate the number of bytes of buffer memory required to store a particular number of points. For example, if this function returns 48, the number of bytes required to store 100000 points is 48*100000 = 4800000, or approximately 4.8MB.\",\\n        \"ReturnType\": \"int\\\\u00a0\",\\n        \"ReturnValue\": \"error code\\\\u00a0\",\\n        \"Class\": \"CoreMotion Class\",\\n        \"Instruction\": \"Get the number of bytes required per point data in the PVT buffer memory.\"\\n    },'), Document(metadata={'source': './docs/WMX3API_FunctionPython.json', 'start_index': 235430}, page_content='{\\n        \"No\": 218,\\n        \"FunctionPython\": \"def GetPVTBufferPoints(axis, pPoints)\\\\u00a0\",\\n        \"FunctionC++\": \"WMX3APIFUNC GetPVTBufferPoints(int axis, unsigned int *pPoints)\",\\n        \"Parameters\": \"[in] axis The axis to read the buffer memory size. \\\\n[out] pPoints A pointer to an unsigned int that will contain the number of points that can be stored in the buffer memory. \\\\n\",\\n        \"Remarks\": \"This function obtains the amount of PVT buffer memory currently allocated to an axis, in units of points.\\\\n\\\\nTo convert the buffer memory size from the number of points to bytes, use the GetPVTBytesPerPoint function.\\\\n\\\\nIf no buffer memory has been allocated to the specified channel yet, this function will return 0 in the pPoints parameter.\",\\n        \"ReturnType\": \"int\\\\u00a0\",\\n        \"ReturnValue\": \"error code\\\\u00a0\",\\n        \"Class\": \"CoreMotion Class\",\\n        \"Instruction\": \"Get the amount of PVT buffer memory currently allocated to an axis.\"\\n    },'), Document(metadata={'source': './docs/WMX3API_FunctionPython.json', 'start_index': 231853}, page_content='{\\n        \"No\": 216,\\n        \"FunctionPython\": \"def CreatePVTBuffer(axis, points)\\\\u00a0\",\\n        \"FunctionC++\": \"WMX3APIFUNC CreatePVTBuffer(int axis, unsigned int points)\",\\n        \"Parameters\": \"[in] axis The axis to allocate the buffer memory. \\\\n[in] points The number of points to allocate memory for. Each PVT, PT, VT, or AT point occupies one point in the memory. \\\\n\",\\n        \"Remarks\": \"When the WMX3 engine is started, no memory is allocated for the execution of PVT motion commands. This function allocates memory to execute the following PVT motion commands:\\\\n\\\\u2022StartPVT\\\\n\\\\u2022StartPVT (Interpolation)\\\\n\\\\u2022StartPT\\\\n\\\\u2022StartVT\\\\n\\\\u2022StartAT\\\\n\\\\nIf any of the above commands are called before this function, a default buffer memory for maxPvtAppendPoints will be allocated. If the memory allocation fails, or if more than maxPvtAppendPoints points are specified, the PVT motion command will return an error. To execute a PVT motion command with more than maxPvtAppendPoints points, this function must be called beforehand, specifying the required number of points.\\\\n\\\\nFor StartPVT (Interpolation), buffer memory must be separately allocated for all interpolating axes.\\\\n\\\\nAllocating buffer memory space is an operation that can fail due to lack of memory space or fragmentation of memory. For deterministic operation, this function should be called during initialization to allocate memory for all axes that will potentially execute a PVT motion command.\\\\n\\\\nThe maximum size of the PVT buffer memory space of each axis is 2GB-1Byte (2147483647 bytes). Specifying a larger size will cause this function to return the RequestedBufferTooLarge error.\\\\n\\\\nIt is not necessary to call this function again after buffer memory has been allocated once. (When the WMX3 engine is restarted, this function must be called again to allocate buffer memory.)\\\\n\\\\nBuffer memory that has been allocated can be freed using the FreePVTBuffer function. After freeing the PVT buffer memory of an axis, this function can be called again to reallocate a different amount of buffer memory.\\\\n\\\\nIt is not necessary to free allocated memory using FreePVTBuffer before exiting the program. Any allocated memory is automatically freed when the WMX3 engine is closed.\\\\n\\\\nThe GetPVTBufferPoints function can be used to find the amount of PVT buffer memory currently allocated to an axis.\\\\n\\\\nThe GetPVTBytesPerPoint function can be used to convert the buffer memory size from points to bytes.\\\\n\",\\n        \"ReturnType\": \"int\\\\u00a0\",\\n        \"ReturnValue\": \"error code\\\\u00a0\",\\n        \"Class\": \"CoreMotion Class\",\\n        \"Instruction\": \"Allocate buffer memory to an axis for the execution of PVT motion commands. \"\\n    },\\n    ')]\n"
     ]
    },
    {
     "name": "stderr",
     "output_type": "stream",
     "text": [
      "Processing tasks:  50%|████▉     | 52/105 [12:39<15:42, 17.77s/it]"
     ]
    },
    {
     "name": "stdout",
     "output_type": "stream",
     "text": [
      "codeerr:\n",
      "Traceback (most recent call last):\n",
      "  File \"\\\\mac\\Home\\Downloads\\codedemo\\sample.py\", line 271, in <module>\n",
      "    main()\n",
      "  File \"\\\\mac\\Home\\Downloads\\codedemo\\sample.py\", line 211, in main\n",
      "    pvt.points = [Motion_PVTPoint() for _ in range(pvt.pointCount)]\n",
      "    ^^^^^^^^^^\n",
      "  File \"\\\\mac\\Home\\Downloads\\codedemo\\WMX3ApiPython.py\", line 8130, in <lambda>\n",
      "    __setattr__ = lambda self, name, value: _swig_setattr(self, Motion_PVTCommand, name, value)\n",
      "                                            ^^^^^^^^^^^^^^^^^^^^^^^^^^^^^^^^^^^^^^^^^^^^^^^^^^^\n",
      "  File \"\\\\mac\\Home\\Downloads\\codedemo\\WMX3ApiPython.py\", line 71, in _swig_setattr\n",
      "    return _swig_setattr_nondynamic(self, class_type, name, value, 0)\n",
      "           ^^^^^^^^^^^^^^^^^^^^^^^^^^^^^^^^^^^^^^^^^^^^^^^^^^^^^^^^^^\n",
      "  File \"\\\\mac\\Home\\Downloads\\codedemo\\WMX3ApiPython.py\", line 60, in _swig_setattr_nondynamic\n",
      "    return method(self, value)\n",
      "           ^^^^^^^^^^^^^^^^^^^\n",
      "TypeError: in method 'Motion_PVTCommand_points_set', argument 2 of type 'wmx3Api\n",
      "Self-correction but still got an error.\n",
      "\n",
      "\n",
      "Task ID: 53 🔽\n",
      "codedata:\n",
      "Program begin.\n",
      "Program End.\n",
      "Elapsed_time: 3.940\n",
      "----------------------\n",
      "\n"
     ]
    },
    {
     "name": "stderr",
     "output_type": "stream",
     "text": [
      "Processing tasks:  50%|█████     | 53/105 [13:08<18:16, 21.08s/it]"
     ]
    },
    {
     "name": "stdout",
     "output_type": "stream",
     "text": [
      "# -------------------------------------------------------------------------\n",
      "\n",
      "Task ID: 54 🔽\n",
      "codeerr:\n",
      "Traceback (most recent call last):\n",
      "  File \"\\\\mac\\Home\\Downloads\\codedemo\\sample.py\", line 286, in <module>\n",
      "    main()\n",
      "  File \"\\\\mac\\Home\\Downloads\\codedemo\\sample.py\", line 219, in main\n",
      "    position0 = -50 + 50 * cos(angle)  # X coordinate\n",
      "                           ^^^\n",
      "NameError: name 'cos' is not defined\n",
      "!!!\n",
      "----------------------\n",
      "\n",
      "error string:----------------------\n",
      "NameError: name 'cos' is not defined\n",
      "[Document(metadata={'source': './docs/WMX3API_FunctionPython.json', 'start_index': 411245}, page_content='{\\n        \"No\": 386,\\n        \"FunctionPython\": NaN,\\n        \"FunctionC++\": \"WMX3APIFUNC Import(wchar_t *pPath, SystemParam *pParam, int axis, AxisSelection *copyParamToAxes=NULL)\",\\n        \"Parameters\": NaN,\\n        \"Remarks\": NaN,\\n        \"ReturnType\": NaN,\\n        \"ReturnValue\": NaN,\\n        \"Class\": \"CoreMotion Class\",\\n        \"Instruction\": \"Import system parameters of one axis from an xml file.\"\\n    },'), Document(metadata={'source': './docs/WMX3API_FunctionPython.json', 'start_index': 413231}, page_content='{\\n        \"No\": 388,\\n        \"FunctionPython\": NaN,\\n        \"FunctionC++\": \"WMX3APIFUNC Import(wchar_t *pPath, AxisParam *pAxisParam, int axis, AxisSelection *copyParamToAxes=NULL)\",\\n        \"Parameters\": NaN,\\n        \"Remarks\": NaN,\\n        \"ReturnType\": NaN,\\n        \"ReturnValue\": NaN,\\n        \"Class\": \"CoreMotion Class\",\\n        \"Instruction\": \"Import axis parameters of one axis from an xml file.\"\\n    },'), Document(metadata={'source': './docs/WMX3API_FunctionPython.json', 'start_index': 407728}, page_content='{\\n        \"No\": 382,\\n        \"FunctionPython\": NaN,\\n        \"FunctionC++\": \"WMX3APIFUNC Import(wchar_t *pPath, AxisParam *pAxisParam)\",\\n        \"Parameters\": NaN,\\n        \"Remarks\": NaN,\\n        \"ReturnType\": NaN,\\n        \"ReturnValue\": NaN,\\n        \"Class\": \"CoreMotion Class\",\\n        \"Instruction\": \"Import axis parameters from an xml file. \"\\n    },')]\n",
      "codedata:\n",
      "Program begin.\n",
      "Program End.\n",
      "Elapsed_time: 5.470\n",
      "----------------------\n",
      "\n",
      "Self-corrected.\n",
      "\n",
      "\n"
     ]
    },
    {
     "name": "stderr",
     "output_type": "stream",
     "text": [
      "Processing tasks:  51%|█████▏    | 54/105 [13:33<18:50, 22.17s/it]"
     ]
    },
    {
     "name": "stdout",
     "output_type": "stream",
     "text": [
      "# -------------------------------------------------------------------------\n",
      "\n",
      "Task ID: 55 🔽\n",
      "codedata:\n",
      "Program begin.\n",
      "Program End.\n",
      "Elapsed_time: 3.464\n",
      "----------------------\n",
      "\n"
     ]
    },
    {
     "name": "stderr",
     "output_type": "stream",
     "text": [
      "Processing tasks:  52%|█████▏    | 55/105 [13:44<15:47, 18.95s/it]"
     ]
    },
    {
     "name": "stdout",
     "output_type": "stream",
     "text": [
      "# -------------------------------------------------------------------------\n",
      "\n",
      "Task ID: 56 🔽\n",
      "codedata:\n",
      "Program begin.\n",
      "Program End.\n",
      "Elapsed_time: 3.501\n",
      "----------------------\n",
      "\n"
     ]
    },
    {
     "name": "stderr",
     "output_type": "stream",
     "text": [
      "Processing tasks:  53%|█████▎    | 56/105 [13:55<13:28, 16.50s/it]"
     ]
    },
    {
     "name": "stdout",
     "output_type": "stream",
     "text": [
      "# -------------------------------------------------------------------------\n",
      "\n",
      "Task ID: 57 🔽\n",
      "codedata:\n",
      "Program begin.\n",
      "Program End.\n",
      "Elapsed_time: 3.426\n",
      "----------------------\n",
      "\n"
     ]
    },
    {
     "name": "stderr",
     "output_type": "stream",
     "text": [
      "Processing tasks:  54%|█████▍    | 57/105 [14:05<11:46, 14.72s/it]"
     ]
    },
    {
     "name": "stdout",
     "output_type": "stream",
     "text": [
      "# -------------------------------------------------------------------------\n",
      "\n",
      "Task ID: 58 🔽\n",
      "codedata:\n",
      "Program begin.\n",
      "Program End.\n",
      "Elapsed_time: 4.601\n",
      "----------------------\n",
      "\n"
     ]
    },
    {
     "name": "stderr",
     "output_type": "stream",
     "text": [
      "Processing tasks:  55%|█████▌    | 58/105 [14:24<12:25, 15.86s/it]"
     ]
    },
    {
     "name": "stdout",
     "output_type": "stream",
     "text": [
      "# -------------------------------------------------------------------------\n",
      "\n",
      "Task ID: 59 🔽\n",
      "codedata:\n",
      "Program begin.\n",
      "Program End.\n",
      "Elapsed_time: 3.754\n",
      "----------------------\n",
      "\n"
     ]
    },
    {
     "name": "stderr",
     "output_type": "stream",
     "text": [
      "Processing tasks:  56%|█████▌    | 59/105 [14:40<12:13, 15.94s/it]"
     ]
    },
    {
     "name": "stdout",
     "output_type": "stream",
     "text": [
      "# -------------------------------------------------------------------------\n",
      "\n",
      "Task ID: 60 🔽\n",
      "codedata:\n",
      "Program begin.\n",
      "Program End.\n",
      "Elapsed_time: 4.452\n",
      "----------------------\n",
      "\n"
     ]
    },
    {
     "name": "stderr",
     "output_type": "stream",
     "text": [
      "Processing tasks:  57%|█████▋    | 60/105 [14:55<11:47, 15.72s/it]"
     ]
    },
    {
     "name": "stdout",
     "output_type": "stream",
     "text": [
      "# -------------------------------------------------------------------------\n",
      "\n",
      "Task ID: 61 🔽\n",
      "codedata:\n",
      "Program begin.\n",
      "Program End.\n",
      "Elapsed_time: 4.964\n",
      "----------------------\n",
      "\n"
     ]
    },
    {
     "name": "stderr",
     "output_type": "stream",
     "text": [
      "Processing tasks:  58%|█████▊    | 61/105 [15:13<11:58, 16.32s/it]"
     ]
    },
    {
     "name": "stdout",
     "output_type": "stream",
     "text": [
      "# -------------------------------------------------------------------------\n",
      "\n",
      "Task ID: 62 🔽\n",
      "codedata:\n",
      "Program begin.\n",
      "Program End.\n",
      "Elapsed_time: 4.067\n",
      "----------------------\n",
      "\n"
     ]
    },
    {
     "name": "stderr",
     "output_type": "stream",
     "text": [
      "Processing tasks:  59%|█████▉    | 62/105 [15:34<12:44, 17.77s/it]"
     ]
    },
    {
     "name": "stdout",
     "output_type": "stream",
     "text": [
      "# -------------------------------------------------------------------------\n",
      "\n",
      "Task ID: 63 🔽\n",
      "codedata:\n",
      "Program begin.\n",
      "Program End.\n",
      "Elapsed_time: 3.982\n",
      "----------------------\n",
      "\n"
     ]
    },
    {
     "name": "stderr",
     "output_type": "stream",
     "text": [
      "Processing tasks:  60%|██████    | 63/105 [15:50<12:05, 17.28s/it]"
     ]
    },
    {
     "name": "stdout",
     "output_type": "stream",
     "text": [
      "# -------------------------------------------------------------------------\n",
      "\n",
      "Task ID: 64 🔽\n",
      "codedata:\n",
      "Program begin.\n",
      "StartPathIntpl3DPos error code is 65582: [0x0001002e] : CoreMotionApi Error: One or more acceleration arguments out of range.\n",
      "Elapsed_time: 3.506\n",
      "----------------------\n",
      "\n",
      "error string:----------------------\n",
      "StartPathIntpl3DPos error code is 65582: [0x0001002e] : CoreMotionApi Error: One or more acceleration arguments out of range.\n",
      "[Document(metadata={'source': './docs/WMX3API_FunctionPython.json', 'start_index': 387691}, page_content='{\\n        \"No\": 355,\\n        \"FunctionPython\": NaN,\\n        \"FunctionC++\": \"WMX3APIFUNC SetFlightRecorderPath(wchar_t *pPath)\",\\n        \"Parameters\": NaN,\\n        \"Remarks\": NaN,\\n        \"ReturnType\": NaN,\\n        \"ReturnValue\": NaN,\\n        \"Class\": \"CoreMotion Class\",\\n        \"Instruction\": \"Set the file path to save the flight recorder data to. \"\\n    },'), Document(metadata={'source': './docs/WMX3API_FunctionPython.json', 'start_index': 99572}, page_content='{\\n        \"No\": 101,\\n        \"FunctionPython\": \"def StartCircularIntplPos_CenterAndEnd(pCircularIntplCommand)\\\\u00a0\",\\n        \"FunctionC++\": \"WMX3APIFUNC StartCircularIntplPos(CenterAndEndCircularIntplCommand *pCircularIntplCommand)\",\\n        \"Parameters\": \"[in] pCircularIntplCommand A pointer to an object of the CenterAndEndCircularIntplCommand class that contains the interpolation parameters. \",\\n        \"Remarks\": \"This function moves two axes in a circular arc. The absolute center position of the arc and the absolute end position of the arc are specified.\",\\n        \"ReturnType\": \"int\\\\u00a0\",\\n        \"ReturnValue\": \"error code\\\\u00a0\",\\n        \"Class\": \"CoreMotion Class\",\\n        \"Instruction\": \"Start a circular interpolation motion command. The arc is specified by the absolute center and end positions of the arc. \"\\n    },'), Document(metadata={'source': './docs/WMX3API_FunctionPython.json', 'start_index': 105094}, page_content='{\\n        \"No\": 107,\\n        \"FunctionPython\": \"def StartCircularIntplPos_RadiusAndEnd(pCircularIntplCommand)\\\\u00a0\",\\n        \"FunctionC++\": \"WMX3APIFUNC StartCircularIntplPos(RadiusAndEndCircularIntplCommand *pCircularIntplCommand)\",\\n        \"Parameters\": \"[in] pCircularIntplCommand A pointer to an object of the RadiusAndEndCircularIntplCommand class that contains the interpolation parameters. \",\\n        \"Remarks\": \"This function moves two axes in a circular arc. The absolute end position of the arc and the arc radius are specified.\",\\n        \"ReturnType\": \"int\\\\u00a0\",\\n        \"ReturnValue\": \"error code\\\\u00a0\",\\n        \"Class\": \"CoreMotion Class\",\\n        \"Instruction\": \"Start a circular interpolation motion command. The arc is specified by the arc radius and the absolute end position of the arc. \"\\n    },')]\n",
      "codedata:\n",
      "Program begin.\n",
      "Program End.\n",
      "Elapsed_time: 8.706\n",
      "----------------------\n",
      "\n",
      "Self-corrected.\n",
      "\n",
      "\n"
     ]
    },
    {
     "name": "stderr",
     "output_type": "stream",
     "text": [
      "Processing tasks:  61%|██████    | 64/105 [16:52<20:48, 30.45s/it]"
     ]
    },
    {
     "name": "stdout",
     "output_type": "stream",
     "text": [
      "# -------------------------------------------------------------------------\n",
      "\n",
      "Task ID: 65 🔽\n",
      "codedata:\n",
      "Program begin.\n",
      "Program End.\n",
      "Elapsed_time: 10.576\n",
      "----------------------\n",
      "\n"
     ]
    },
    {
     "name": "stderr",
     "output_type": "stream",
     "text": [
      "Processing tasks:  62%|██████▏   | 65/105 [17:24<20:40, 31.02s/it]"
     ]
    },
    {
     "name": "stdout",
     "output_type": "stream",
     "text": [
      "# -------------------------------------------------------------------------\n",
      "\n",
      "Task ID: 66 🔽\n",
      "codedata:\n",
      "Program begin.\n",
      "Program End.\n",
      "Elapsed_time: 9.285\n",
      "----------------------\n",
      "\n"
     ]
    },
    {
     "name": "stderr",
     "output_type": "stream",
     "text": [
      "Processing tasks:  63%|██████▎   | 66/105 [17:52<19:41, 30.29s/it]"
     ]
    },
    {
     "name": "stdout",
     "output_type": "stream",
     "text": [
      "# -------------------------------------------------------------------------\n",
      "\n",
      "Task ID: 67 🔽\n",
      "codedata:\n",
      "Program begin.\n",
      "Program End.\n",
      "Elapsed_time: 10.543\n",
      "----------------------\n",
      "\n"
     ]
    },
    {
     "name": "stderr",
     "output_type": "stream",
     "text": [
      "Processing tasks:  64%|██████▍   | 67/105 [18:34<21:19, 33.67s/it]"
     ]
    },
    {
     "name": "stdout",
     "output_type": "stream",
     "text": [
      "# -------------------------------------------------------------------------\n",
      "\n",
      "Task ID: 68 🔽\n",
      "codedata:\n",
      "Program begin.\n",
      "StartPathIntplWithRotation error code is 65556: [0x00010014] : CoreMotionApi Error: One or more axes are not in servo on state.\n",
      "Elapsed_time: 4.051\n",
      "----------------------\n",
      "\n",
      "error string:----------------------\n",
      "StartPathIntplWithRotation error code is 65556: [0x00010014] : CoreMotionApi Error: One or more axes are not in servo on state.\n",
      "[Document(metadata={'source': './docs/WMX3API_FunctionPython.json', 'start_index': 532037}, page_content='{\\n        \"No\": 458,\\n        \"FunctionPython\": \"def StartPathIntplWithRotation(channel)\\\\u00a0\",\\n        \"FunctionC++\": \"WMX3APIFUNC StartPathIntplWithRotation(int channel)\",\\n        \"Parameters\": \"[in] channel The channel of the path interpolation with rotation. The maximum number of available channels is maxPathIntplWithRotationChannel. \",\\n        \"Remarks\": \"This function moves the axes of a path interpolation with rotation channel to the end of the path, using the configuration parameters set for the path interpolation with rotation channel.\\\\n\\\\nIt is possible to execute the path interpolation with rotation only partway along the path using the StartPathIntplWithRotation(int channel, double pos) or StartPathIntplWithRotation(int channel, unsigned int point) functions or by stopping execution with the Stop function. If this function is called afterthe path has been executed partway, the execution will continue from the current position.\\\\n\\\\nIf a path interpolation with rotation is executed partway, and then a commanded axis is moved using a different function, this function will return an error. If the path interpolation with rotation is stopped with another function such as ExecQuickStop, this function will return an error. In this case, the path must be reset by calling ClearPathIntplWithRotation and then the path must be defined again.\\\\n\\\\nPoint segment commands must be added to the path interpolation with rotation channel using the AddPathIntplWithRotationCommand function before this function is called. This function can be executed as long as the path contains at least one point segment.\\\\n\",\\n        \"ReturnType\": \"int\\\\u00a0\",\\n        \"ReturnValue\": \"error code\\\\u00a0\",\\n        \"Class\": \"AdvancedMotion Class\\\\u00a0\",\\n        \"Instruction\": \"Execute motion for a path interpolation with rotation channel.\"\\n    },\\n    '), Document(metadata={'source': './docs/WMX3API_FunctionPython.json', 'start_index': 535877}, page_content='{\\n        \"No\": 461,\\n        \"FunctionPython\": \"def StartPathIntplWithRotation_Pos(channel, double pos)\\\\u00a0\",\\n        \"FunctionC++\": \"WMX3APIFUNC StartPathIntplWithRotation(int channel, double pos)\",\\n        \"Parameters\": \"[in] channel The channel of the path interpolation with rotation. The maximum number of available channels is maxPathIntplWithRotationChannel. \\\\n[in] pos The target position along the path to move to. \\\\n\",\\n        \"Remarks\": \"This function moves the axes of a path interpolation with rotation channel along the path to the specified position, using the configuration parameters set for the path interpolation with rotation channel. The position is specified as the distance along the path starting from the beginning of the path. If the specified position is greater than the length of the path, the path interpolation will be executed to the end of the path.\\\\n\\\\nIf the path interpolation with rotation has been executed partway along the path using this function, the StartPathIntplWithRotation(int channel, unsigned int point) function, or by stopping execution with the Stop function, this function can be used to backtrack along the path by specifying a smaller position than the current position. If the specified position is less than zero, the path interpolation will backtrack to the beginning of the path. The motion of the rotational axis during backtracking will be identical as during the forward motion.\\\\n\\\\nThis function is able to move the axes to any position along the path, even positions that are partway along segments.\\\\n\\\\nIt is not trivial to convert a specific X and Y position along the path to a distance that can be passed to this function. This function should mostly be used to move relative distances from the current position along the path (this position can be obtained from the PathIntplWithRotationStatus.pos status). To move to a specific point, use the StartPathIntplWithRotation(int channel, unsigned int point) function instead.\\\\n\",\\n        \"ReturnType\": \"int\\\\u00a0\",\\n        \"ReturnValue\": \"error code\\\\u00a0\",\\n        \"Class\": \"AdvancedMotion Class\\\\u00a0\",\\n        \"Instruction\": \"Execute motion to the specified position for a path interpolation with rotation channel.\"\\n    },\\n    '), Document(metadata={'source': './docs/WMX3API_FunctionPython.json', 'start_index': 407728}, page_content='{\\n        \"No\": 382,\\n        \"FunctionPython\": NaN,\\n        \"FunctionC++\": \"WMX3APIFUNC Import(wchar_t *pPath, AxisParam *pAxisParam)\",\\n        \"Parameters\": NaN,\\n        \"Remarks\": NaN,\\n        \"ReturnType\": NaN,\\n        \"ReturnValue\": NaN,\\n        \"Class\": \"CoreMotion Class\",\\n        \"Instruction\": \"Import axis parameters from an xml file. \"\\n    },')]\n"
     ]
    },
    {
     "name": "stderr",
     "output_type": "stream",
     "text": [
      "Processing tasks:  65%|██████▍   | 68/105 [19:17<22:31, 36.51s/it]"
     ]
    },
    {
     "name": "stdout",
     "output_type": "stream",
     "text": [
      "codeerr:\n",
      "Traceback (most recent call last):\n",
      "  File \"\\\\mac\\Home\\Downloads\\codedemo\\sample.py\", line 379, in <module>\n",
      "    main()\n",
      "  File \"\\\\mac\\Home\\Downloads\\codedemo\\sample.py\", line 217, in main\n",
      "    if not Wmx3Lib_adv.CheckAxesServoOn([8, 9, 0, 1]):\n",
      "           ^^^^^^^^^^^^^^^^^^^^^^^^^^^^\n",
      "  File \"\\\\mac\\Home\\Downloads\\codedemo\\WMX3ApiPython.py\", line 25230, in <lambda>\n",
      "    __getattr__ = lambda self, name: _swig_getattr(self, AdvancedMotion, name)\n",
      "                                     ^^^^^^^^^^^^^^^^^^^^^^^^^^^^^^^^^^^^^^^^^\n",
      "  File \"\\\\mac\\Home\\Downloads\\codedemo\\WMX3ApiPython.py\", line 80, in _swig_getattr\n",
      "    raise AttributeError(\"'%s' object has no attribute '%s'\" % (class_type.__name__, name))\n",
      "AttributeError: 'AdvancedMotion' object has no attribute 'CheckAxesServoOn'\n",
      "!!!\n",
      "----------------------\n",
      "\n",
      "Self-correction but still got an error.\n",
      "\n",
      "\n",
      "Task ID: 69 🔽\n",
      "codedata:\n",
      "Program begin.\n",
      "Program End.\n",
      "Elapsed_time: 8.066\n",
      "----------------------\n",
      "\n"
     ]
    },
    {
     "name": "stderr",
     "output_type": "stream",
     "text": [
      "Processing tasks:  66%|██████▌   | 69/105 [19:41<19:41, 32.82s/it]"
     ]
    },
    {
     "name": "stdout",
     "output_type": "stream",
     "text": [
      "# -------------------------------------------------------------------------\n",
      "\n",
      "Task ID: 70 🔽\n",
      "codedata:\n",
      "Program begin.\n",
      "Program End.\n",
      "Elapsed_time: 5.022\n",
      "----------------------\n",
      "\n"
     ]
    },
    {
     "name": "stderr",
     "output_type": "stream",
     "text": [
      "Processing tasks:  67%|██████▋   | 70/105 [20:05<17:32, 30.08s/it]"
     ]
    },
    {
     "name": "stdout",
     "output_type": "stream",
     "text": [
      "# -------------------------------------------------------------------------\n",
      "\n",
      "Task ID: 71 🔽\n",
      "codedata:\n",
      "Program begin.\n",
      "Program End.\n",
      "Elapsed_time: 8.950\n",
      "----------------------\n",
      "\n"
     ]
    },
    {
     "name": "stderr",
     "output_type": "stream",
     "text": [
      "Processing tasks:  68%|██████▊   | 71/105 [20:29<15:56, 28.15s/it]"
     ]
    },
    {
     "name": "stdout",
     "output_type": "stream",
     "text": [
      "# -------------------------------------------------------------------------\n",
      "\n",
      "Task ID: 72 🔽\n",
      "codedata:\n",
      "Program begin.\n",
      "AddPathIntplLookaheadCommand error code is 65631: [0x0001005f] : CoreMotionApi Error: One or more circular interpolations contains invalid arguments.\n",
      "Elapsed_time: 2.963\n",
      "----------------------\n",
      "\n",
      "error string:----------------------\n",
      "AddPathIntplLookaheadCommand error code is 65631: [0x0001005f] : CoreMotionApi Error: One or more circular interpolations contains invalid arguments.\n",
      "[Document(metadata={'source': './docs/WMX3API_FunctionPython.json', 'start_index': 103361}, page_content='{\\n        \"No\": 105,\\n        \"FunctionPython\": \"def StartCircularIntplPos_LengthAndEnd(pCircularIntplCommand)\\\\u00a0\",\\n        \"FunctionC++\": \"WMX3APIFUNC StartCircularIntplPos(LengthAndEndCircularIntplCommand *pCircularIntplCommand)\",\\n        \"Parameters\": \"[in] pCircularIntplCommand A pointer to an object of the LengthAndEndCircularIntplCommand class that contains the interpolation parameters. \",\\n        \"Remarks\": \"This function moves two axes in a circular arc. The absolute end position of the arc and the arc length are specified.\",\\n        \"ReturnType\": \"int\\\\u00a0\",\\n        \"ReturnValue\": \"error code\\\\u00a0\",\\n        \"Class\": \"CoreMotion Class\",\\n        \"Instruction\": \"Start a circular interpolation motion command. The arc is specified by the arc length and the absolute end position of the arc.\"\\n    },'), Document(metadata={'source': './docs/WMX3API_FunctionPython.json', 'start_index': 107848}, page_content='{\\n        \"No\": 110,\\n        \"FunctionPython\": \"def StartCircularIntplMov_ThroughAndEnd3D(pCircularIntplCommand)\\\\u00a0\",\\n        \"FunctionC++\": \"WMX3APIFUNC StartCircularIntplMov(ThroughAndEnd3DCircularIntplCommand *pCircularIntplCommand)\",\\n        \"Parameters\": \"[in] pCircularIntplCommand A pointer to an object of the ThroughAndEnd3DCircularIntplCommand class that contains the interpolation parameters. \",\\n        \"Remarks\": \"This function moves three axes in a circular arc in three dimensional space. A relative through position (a position on the arc that the axes pass through) and the relative end position of the arc are specified.\",\\n        \"ReturnType\": \"int\\\\u00a0\",\\n        \"ReturnValue\": \"error code\\\\u00a0\",\\n        \"Class\": \"CoreMotion Class\",\\n        \"Instruction\": \"Start a three-dimensional circular interpolation motion command. The arc is specified by a relative through point on the arc that the axes pass through during the interpolation, and the relative end position of the arc. \"\\n    },\\n    '), Document(metadata={'source': './docs/WMX3API_FunctionPython.json', 'start_index': 105094}, page_content='{\\n        \"No\": 107,\\n        \"FunctionPython\": \"def StartCircularIntplPos_RadiusAndEnd(pCircularIntplCommand)\\\\u00a0\",\\n        \"FunctionC++\": \"WMX3APIFUNC StartCircularIntplPos(RadiusAndEndCircularIntplCommand *pCircularIntplCommand)\",\\n        \"Parameters\": \"[in] pCircularIntplCommand A pointer to an object of the RadiusAndEndCircularIntplCommand class that contains the interpolation parameters. \",\\n        \"Remarks\": \"This function moves two axes in a circular arc. The absolute end position of the arc and the arc radius are specified.\",\\n        \"ReturnType\": \"int\\\\u00a0\",\\n        \"ReturnValue\": \"error code\\\\u00a0\",\\n        \"Class\": \"CoreMotion Class\",\\n        \"Instruction\": \"Start a circular interpolation motion command. The arc is specified by the arc radius and the absolute end position of the arc. \"\\n    },')]\n"
     ]
    },
    {
     "name": "stderr",
     "output_type": "stream",
     "text": [
      "Processing tasks:  69%|██████▊   | 72/105 [21:10<17:41, 32.16s/it]"
     ]
    },
    {
     "name": "stdout",
     "output_type": "stream",
     "text": [
      "codedata:\n",
      "Program begin.\n",
      "AddPathIntplLookaheadCommand error code is 65631: [0x0001005f] : CoreMotionApi Error: One or more circular interpolations contains invalid arguments.\n",
      "Elapsed_time: 2.193\n",
      "----------------------\n",
      "\n",
      "Self-correction but still got an error.\n",
      "\n",
      "\n",
      "Task ID: 73 🔽\n",
      "codedata:\n",
      "Program begin.\n",
      "Program End.\n",
      "Elapsed_time: 4.406\n",
      "----------------------\n",
      "\n"
     ]
    },
    {
     "name": "stderr",
     "output_type": "stream",
     "text": [
      "Processing tasks:  70%|██████▉   | 73/105 [21:30<15:12, 28.51s/it]"
     ]
    },
    {
     "name": "stdout",
     "output_type": "stream",
     "text": [
      "# -------------------------------------------------------------------------\n",
      "\n",
      "Task ID: 74 🔽\n",
      "codedata:\n",
      "Program begin.\n",
      "Program End.\n",
      "Elapsed_time: 5.644\n",
      "----------------------\n",
      "\n"
     ]
    },
    {
     "name": "stderr",
     "output_type": "stream",
     "text": [
      "Processing tasks:  70%|███████   | 74/105 [21:56<14:21, 27.78s/it]"
     ]
    },
    {
     "name": "stdout",
     "output_type": "stream",
     "text": [
      "# -------------------------------------------------------------------------\n",
      "\n",
      "Task ID: 75 🔽\n",
      "codedata:\n",
      "Program begin.\n",
      "Program End.\n",
      "Elapsed_time: 4.378\n",
      "----------------------\n",
      "\n"
     ]
    },
    {
     "name": "stderr",
     "output_type": "stream",
     "text": [
      "Processing tasks:  71%|███████▏  | 75/105 [22:14<12:22, 24.76s/it]"
     ]
    },
    {
     "name": "stdout",
     "output_type": "stream",
     "text": [
      "# -------------------------------------------------------------------------\n",
      "\n",
      "Task ID: 76 🔽\n",
      "codedata:\n",
      "Program begin.\n",
      "Program End.\n",
      "Elapsed_time: 5.165\n",
      "----------------------\n",
      "\n"
     ]
    },
    {
     "name": "stderr",
     "output_type": "stream",
     "text": [
      "Processing tasks:  72%|███████▏  | 76/105 [22:33<11:04, 22.93s/it]"
     ]
    },
    {
     "name": "stdout",
     "output_type": "stream",
     "text": [
      "# -------------------------------------------------------------------------\n",
      "\n",
      "Task ID: 77 🔽\n",
      "codedata:\n",
      "Program begin.\n",
      "Program End.\n",
      "Elapsed_time: 4.066\n",
      "----------------------\n",
      "\n"
     ]
    },
    {
     "name": "stderr",
     "output_type": "stream",
     "text": [
      "Processing tasks:  73%|███████▎  | 77/105 [22:51<10:00, 21.44s/it]"
     ]
    },
    {
     "name": "stdout",
     "output_type": "stream",
     "text": [
      "# -------------------------------------------------------------------------\n",
      "\n",
      "Task ID: 78 🔽\n",
      "codedata:\n",
      "Program begin.\n",
      "Program End.\n",
      "Elapsed_time: 6.137\n",
      "----------------------\n",
      "\n"
     ]
    },
    {
     "name": "stderr",
     "output_type": "stream",
     "text": [
      "Processing tasks:  74%|███████▍  | 78/105 [23:10<09:25, 20.96s/it]"
     ]
    },
    {
     "name": "stdout",
     "output_type": "stream",
     "text": [
      "# -------------------------------------------------------------------------\n",
      "\n",
      "Task ID: 79 🔽\n",
      "codedata:\n",
      "Program begin.\n",
      "Program End.\n",
      "Elapsed_time: 5.842\n",
      "----------------------\n",
      "\n"
     ]
    },
    {
     "name": "stderr",
     "output_type": "stream",
     "text": [
      "Processing tasks:  75%|███████▌  | 79/105 [23:30<08:56, 20.62s/it]"
     ]
    },
    {
     "name": "stdout",
     "output_type": "stream",
     "text": [
      "# -------------------------------------------------------------------------\n",
      "\n",
      "Task ID: 80 🔽\n",
      "codedata:\n",
      "Program begin.\n",
      "Program End.\n",
      "Elapsed_time: 3.870\n",
      "----------------------\n",
      "\n"
     ]
    },
    {
     "name": "stderr",
     "output_type": "stream",
     "text": [
      "Processing tasks:  76%|███████▌  | 80/105 [23:45<07:50, 18.82s/it]"
     ]
    },
    {
     "name": "stdout",
     "output_type": "stream",
     "text": [
      "# -------------------------------------------------------------------------\n",
      "\n",
      "Task ID: 81 🔽\n",
      "codedata:\n",
      "Program begin.\n",
      "Program End.\n",
      "Elapsed_time: 3.632\n",
      "----------------------\n",
      "\n"
     ]
    },
    {
     "name": "stderr",
     "output_type": "stream",
     "text": [
      "Processing tasks:  77%|███████▋  | 81/105 [23:56<06:39, 16.63s/it]"
     ]
    },
    {
     "name": "stdout",
     "output_type": "stream",
     "text": [
      "# -------------------------------------------------------------------------\n",
      "\n",
      "Task ID: 82 🔽\n",
      "codedata:\n",
      "Program begin.\n",
      "Program End.\n",
      "Elapsed_time: 3.417\n",
      "----------------------\n",
      "\n"
     ]
    },
    {
     "name": "stderr",
     "output_type": "stream",
     "text": [
      "Processing tasks:  78%|███████▊  | 82/105 [24:08<05:47, 15.10s/it]"
     ]
    },
    {
     "name": "stdout",
     "output_type": "stream",
     "text": [
      "# -------------------------------------------------------------------------\n",
      "\n",
      "Task ID: 83 🔽\n",
      "codedata:\n",
      "Program begin.\n",
      "Program End.\n",
      "Elapsed_time: 3.050\n",
      "----------------------\n",
      "\n"
     ]
    },
    {
     "name": "stderr",
     "output_type": "stream",
     "text": [
      "Processing tasks:  79%|███████▉  | 83/105 [24:23<05:30, 15.01s/it]"
     ]
    },
    {
     "name": "stdout",
     "output_type": "stream",
     "text": [
      "# -------------------------------------------------------------------------\n",
      "\n",
      "Task ID: 84 🔽\n",
      "codedata:\n",
      "Program begin.\n",
      "Program End.\n",
      "Elapsed_time: 2.830\n",
      "----------------------\n",
      "\n"
     ]
    },
    {
     "name": "stderr",
     "output_type": "stream",
     "text": [
      "Processing tasks:  80%|████████  | 84/105 [24:35<04:57, 14.16s/it]"
     ]
    },
    {
     "name": "stdout",
     "output_type": "stream",
     "text": [
      "# -------------------------------------------------------------------------\n",
      "\n",
      "Task ID: 85 🔽\n",
      "codedata:\n",
      "Program begin.\n",
      "Program End.\n",
      "Elapsed_time: 4.225\n",
      "----------------------\n",
      "\n"
     ]
    },
    {
     "name": "stderr",
     "output_type": "stream",
     "text": [
      "Processing tasks:  81%|████████  | 85/105 [24:51<04:57, 14.87s/it]"
     ]
    },
    {
     "name": "stdout",
     "output_type": "stream",
     "text": [
      "# -------------------------------------------------------------------------\n",
      "\n",
      "Task ID: 86 🔽\n",
      "codedata:\n",
      "Program begin.\n",
      "Program End.\n",
      "Elapsed_time: 3.428\n",
      "----------------------\n",
      "\n"
     ]
    },
    {
     "name": "stderr",
     "output_type": "stream",
     "text": [
      "Processing tasks:  82%|████████▏ | 86/105 [25:02<04:20, 13.71s/it]"
     ]
    },
    {
     "name": "stdout",
     "output_type": "stream",
     "text": [
      "# -------------------------------------------------------------------------\n",
      "\n",
      "Task ID: 87 🔽\n",
      "codedata:\n",
      "Program begin.\n",
      "Program End.\n",
      "Elapsed_time: 3.132\n",
      "----------------------\n",
      "\n"
     ]
    },
    {
     "name": "stderr",
     "output_type": "stream",
     "text": [
      "Processing tasks:  83%|████████▎ | 87/105 [25:15<03:58, 13.26s/it]"
     ]
    },
    {
     "name": "stdout",
     "output_type": "stream",
     "text": [
      "# -------------------------------------------------------------------------\n",
      "\n",
      "Task ID: 88 🔽\n",
      "codedata:\n",
      "Program begin.\n",
      "SetBacklashCompensation error code is 86019: [0x00015003] : CompensationApi Error: Backlash compensation is enabled.\n",
      "Elapsed_time: 2.472\n",
      "----------------------\n",
      "\n",
      "error string:----------------------\n",
      "SetBacklashCompensation error code is 86019: [0x00015003] : CompensationApi Error: Backlash compensation is enabled.\n",
      "[Document(metadata={'source': './docs/WMX3API_FunctionPython.json', 'start_index': 61908}, page_content='{\\n        \"No\": 55,\\n        \"FunctionPython\": \"def SetBacklashCompensation(axis, pBacklashCompData)\\\\u00a0\",\\n        \"FunctionC++\": \"WMX3APIFUNC SetBacklashCompensation(int axis, BacklashCompensationData *pBacklashCompData)\",\\n        \"Parameters\": \"[in] axis The axis to set the backlash compensation parameters. \\\\n[in] pBacklashCompData A pointer to a BacklashCompensationData object that contains the backlash compensation parameters. \\\\n\",\\n        \"Remarks\": \"Backlash compensation will apply an offset based on the direction of motion. Parameters determine whether this offset is applied immediately upon changing direction, or if it is applied more gradually over a short distance after changing direction.\\\\n\\\\nIf backlash compensation is currently enabled, it must be disabled with the DisableBacklashCompensation function before the backlash compensation parameters can be changed with this function.\\\\n\\\\nThe current backlash compensation parameters and whether backlash compensation is enabled for an axis can be obtained using the GetBacklashCompensation function. The current offset applied by backlash compenation is stored in compensation in the CoreMotionStatus structure obtained by the GetStatus function.\\\\n\",\\n        \"ReturnType\": \"int\\\\u00a0\",\\n        \"ReturnValue\": \"error code\\\\u00a0\",\\n        \"Class\": \"Compensation Class\\\\u00a0\",\\n        \"Instruction\": \"Set backlash compensation parameters. \"\\n    },\\n    '), Document(metadata={'source': './docs/WMX3API_FunctionPython.json', 'start_index': 64104}, page_content='{\\n        \"No\": 57,\\n        \"FunctionPython\": \"def EnableBacklashCompensation(axis)\\\\u00a0\",\\n        \"FunctionC++\": \"WMX3APIFUNC EnableBacklashCompensation(int axis)\",\\n        \"Parameters\": \"[in] axis The axis to enable backlash compensation. \",\\n        \"Remarks\": \"This function enables backlash compensation for an axis. Backlash compensation parameters must be set beforehand using the SetBacklashCompensation function. \",\\n        \"ReturnType\": \"int\\\\u00a0\",\\n        \"ReturnValue\": \"error code\\\\u00a0\",\\n        \"Class\": \"Compensation Class\\\\u00a0\",\\n        \"Instruction\": \"Enable backlash compensation.\"\\n    },'), Document(metadata={'source': './docs/WMX3API_FunctionPython.json', 'start_index': 63327}, page_content='{\\n        \"No\": 56,\\n        \"FunctionPython\": \"def GetBacklashCompensation(axis)\\\\u00a0\",\\n        \"FunctionC++\": \"WMX3APIFUNC GetBacklashCompensation(int axis, BacklashCompensationData *pBacklashCompData)\",\\n        \"Parameters\": \"[in] axis The axis to get the backlash compensation parameters. \\\\n[out] pBacklashCompData A pointer to a BacklashCompensationData object that will contain the backlash compensation parameters. \\\\n\",\\n        \"Remarks\": \"This function obtains the backlash compensation parameters and whether or not backlash compensation is enabled for an axis. \",\\n        \"ReturnType\": \"tuple\\\\u00a0\",\\n        \"ReturnValue\": \"0 : int - error code\",\\n        \"Class\": \"Compensation Class\\\\u00a0\",\\n        \"Instruction\": \"Get backlash compensation parameters.\"\\n    },')]\n"
     ]
    },
    {
     "name": "stderr",
     "output_type": "stream",
     "text": [
      "Processing tasks:  84%|████████▍ | 88/105 [25:36<04:24, 15.57s/it]"
     ]
    },
    {
     "name": "stdout",
     "output_type": "stream",
     "text": [
      "codeerr:\n",
      "Traceback (most recent call last):\n",
      "  File \"\\\\mac\\Home\\Downloads\\codedemo\\sample.py\", line 299, in <module>\n",
      "    main()\n",
      "  File \"\\\\mac\\Home\\Downloads\\codedemo\\sample.py\", line 220, in main\n",
      "    ret = Wmx3Lib_comp.GetBacklashCompensation(8, backlashcomp)\n",
      "          ^^^^^^^^^^^^^^^^^^^^^^^^^^^^^^^^^^^^^^^^^^^^^^^^^^^^^\n",
      "TypeError: Compensation.GetBacklashCompensation() takes 2 positional arguments but 3 were given\n",
      "!!!\n",
      "----------------------\n",
      "\n",
      "Self-correction but still got an error.\n",
      "\n",
      "\n",
      "Task ID: 89 🔽\n",
      "codedata:\n",
      "Program begin.\n",
      "Program End.\n",
      "Elapsed_time: 3.013\n",
      "----------------------\n",
      "\n"
     ]
    },
    {
     "name": "stderr",
     "output_type": "stream",
     "text": [
      "Processing tasks:  85%|████████▍ | 89/105 [25:49<04:00, 15.03s/it]"
     ]
    },
    {
     "name": "stdout",
     "output_type": "stream",
     "text": [
      "# -------------------------------------------------------------------------\n",
      "\n",
      "Task ID: 90 🔽\n",
      "codedata:\n",
      "Program begin.\n",
      "Program End.\n",
      "Elapsed_time: 3.005\n",
      "----------------------\n",
      "\n"
     ]
    },
    {
     "name": "stderr",
     "output_type": "stream",
     "text": [
      "Processing tasks:  86%|████████▌ | 90/105 [26:09<04:05, 16.34s/it]"
     ]
    },
    {
     "name": "stdout",
     "output_type": "stream",
     "text": [
      "# -------------------------------------------------------------------------\n",
      "\n",
      "Task ID: 91 🔽\n",
      "codedata:\n",
      "Program begin.\n",
      "Program End.\n",
      "Elapsed_time: 3.060\n",
      "----------------------\n",
      "\n"
     ]
    },
    {
     "name": "stderr",
     "output_type": "stream",
     "text": [
      "Processing tasks:  87%|████████▋ | 91/105 [26:29<04:05, 17.51s/it]"
     ]
    },
    {
     "name": "stdout",
     "output_type": "stream",
     "text": [
      "# -------------------------------------------------------------------------\n",
      "\n",
      "Task ID: 92 🔽\n",
      "codedata:\n",
      "Program begin.\n",
      "Program End.\n",
      "Elapsed_time: 3.350\n",
      "----------------------\n",
      "\n"
     ]
    },
    {
     "name": "stderr",
     "output_type": "stream",
     "text": [
      "Processing tasks:  88%|████████▊ | 92/105 [26:46<03:43, 17.22s/it]"
     ]
    },
    {
     "name": "stdout",
     "output_type": "stream",
     "text": [
      "# -------------------------------------------------------------------------\n",
      "\n",
      "Task ID: 93 🔽\n",
      "codeerr:\n",
      "Traceback (most recent call last):\n",
      "  File \"\\\\mac\\Home\\Downloads\\codedemo\\sample.py\", line 272, in <module>\n",
      "    main()\n",
      "  File \"\\\\mac\\Home\\Downloads\\codedemo\\sample.py\", line 216, in main\n",
      "    ret = Wmx3Lib_cm.motion.StartHome(axis)\n",
      "          ^^^^^^^^^^^^^^^^^^^^^^^^^^^\n",
      "  File \"\\\\mac\\Home\\Downloads\\codedemo\\WMX3ApiPython.py\", line 8625, in <lambda>\n",
      "    __getattr__ = lambda self, name: _swig_getattr(self, Motion, name)\n",
      "                                     ^^^^^^^^^^^^^^^^^^^^^^^^^^^^^^^^^\n",
      "  File \"\\\\mac\\Home\\Downloads\\codedemo\\WMX3ApiPython.py\", line 80, in _swig_getattr\n",
      "    raise AttributeError(\"'%s' object has no attribute '%s'\" % (class_type.__name__, name))\n",
      "AttributeError: 'Motion' object has no attribute 'StartHome'. Did you mean: 'StartJog'?\n",
      "!!!\n",
      "----------------------\n",
      "\n",
      "error string:----------------------\n",
      "AttributeError: 'Motion' object has no attribute 'StartHome'. Did you mean: 'StartJog'?\n",
      "[Document(metadata={'source': './docs/WMX3API_FunctionPython.json', 'start_index': 161967}, page_content='{\\n        \"No\": 157,\\n        \"FunctionPython\": \"def StartJog(pJogCommand)\\\\u00a0\",\\n        \"FunctionC++\": \"WMX3APIFUNC StartJog(JogCommand *pJogCommand)\",\\n        \"Parameters\": \"[in] pJogCommand A pointer to an object of the JogCommand class that contains the jog command parameters. \",\\n        \"Remarks\": \"This function will command the specified axis to accelerate to the specified velocity, and then continue moving at the specified velocity until stopped. The specified velocity may be positive or negative. The axis will move in the reverse direction if the velocity is negative.\\\\n\\\\nPosition commands executed by StartPos (and equivalent events) can be overridden by jog commands. Jog commands can also be overridden by StartPos (and equivalent events). However, an axis that is executing trigger motion cannot be overridden by jog commands until after the trigger condition has been satisfied. Similarly, an axis that is paused with the Pause function cannot be overridden by jog commands until after it is resumed with the Resume function. \\\\n\",\\n        \"ReturnType\": \"int\\\\u00a0\",\\n        \"ReturnValue\": \"error code\\\\u00a0\",\\n        \"Class\": \"CoreMotion Class\",\\n        \"Instruction\": \"Start a jog command.\"\\n    },\\n    '), Document(metadata={'source': './docs/WMX3API_FunctionPython.json', 'start_index': 173785}, page_content='{\\n        \"No\": 167,\\n        \"FunctionPython\": \"def StartMovToJog(pPosToJogCommand)\\\\u00a0\",\\n        \"FunctionC++\": \"WMX3APIFUNC StartMovToJog(PosToJogCommand *pPosToJogCommand)\",\\n        \"Parameters\": \"[in] pPosToJogCommand A pointer to an object of the PosToJogCommand class that contains the parameters of the position and jog commands. \",\\n        \"Remarks\": \"This function is similar to StartPosToJog, except the target position of the position command is specified as a relative position instead of an absolute position.\\\\n\\\\nThis function can be used to move the axis by a particular distance, and then keep the axis moving at a constant velocity after moving that distance. To do so, set the trigger condition to be satisfied when the position command completes (such as TriggerType::RemainingTime with the trigger axis set to the commanded axis and the trigger value set to 0), and set the end velocity of the position command equal to the velocity of the jog command. \\\\n\",\\n        \"ReturnType\": \"int\\\\u00a0\",\\n        \"ReturnValue\": \"error code\\\\u00a0\",\\n        \"Class\": \"CoreMotion Class\",\\n        \"Instruction\": \"Start a relative position command and a triggered jog command simultaneously. The position command will be overridden by the jog command when the trigger condition is satisfied. \"\\n    },\\n    '), Document(metadata={'source': './docs/WMX3API_FunctionPython.json', 'start_index': 175094}, page_content='{\\n        \"No\": 168,\\n        \"FunctionPython\": \"def StartMovToJog(numCommands, pPosToJogCommand)\\\\u00a0\",\\n        \"FunctionC++\": \"WMX3APIFUNC StartMovToJog(unsigned int numCommands, PosToJogCommand *pPosToJogCommand)\",\\n        \"Parameters\": \"[in] numCommands The number of position and jog commands. Each command controls a single axis. \\\\n[in] pPosToJogCommand A pointer to an array of objects of the PosToJogCommand class that contain the parameters of the motion commands. The number of objects in the array must be equal to numCommands. \\\\n\",\\n        \"Remarks\": \"This function executes the StartMovToJog function for multiple axes. \",\\n        \"ReturnType\": \"int\\\\u00a0\",\\n        \"ReturnValue\": \"error code\\\\u00a0\",\\n        \"Class\": \"CoreMotion Class\",\\n        \"Instruction\": \"Start a relative position command and a triggered jog command simultaneously for multiple axes. The position command will be overridden by the jog command when the trigger condition is satisfied.\"\\n    },')]\n"
     ]
    },
    {
     "name": "stderr",
     "output_type": "stream",
     "text": [
      "Processing tasks:  89%|████████▊ | 93/105 [27:11<03:55, 19.60s/it]"
     ]
    },
    {
     "name": "stdout",
     "output_type": "stream",
     "text": [
      "codeerr:\n",
      "Traceback (most recent call last):\n",
      "  File \"\\\\mac\\Home\\Downloads\\codedemo\\sample.py\", line 275, in <module>\n",
      "    main()\n",
      "  File \"\\\\mac\\Home\\Downloads\\codedemo\\sample.py\", line 219, in main\n",
      "    ret = Wmx3Lib_cm.motion.StartJog(axis)  # Assuming StartJog is the intended function\n",
      "          ^^^^^^^^^^^^^^^^^^^^^^^^^^^^^^^^\n",
      "  File \"\\\\mac\\Home\\Downloads\\codedemo\\WMX3ApiPython.py\", line 8827, in StartJog\n",
      "    return _WMX3ApiPython.Motion_StartJog(self, *args)\n",
      "           ^^^^^^^^^^^^^^^^^^^^^^^^^^^^^^^^^^^^^^^^^^^\n",
      "NotImplementedError: Wrong number or type of arguments for overloaded function 'Motion_StartJog'.\n",
      "  Possible C/C++ prototypes are:\n",
      "    wmx3ApiPython::Motion::StartJog(wmx3ApiPython::Motion_JogCommand *)\n",
      "    wmx3ApiPython::Motion::StartJog(unsigned int,PyObject *)\n",
      "\n",
      "!!!\n",
      "----------------------\n",
      "\n",
      "Self-correction but still got an error.\n",
      "\n",
      "\n",
      "Task ID: 94 🔽\n",
      "codedata:\n",
      "Program begin.\n",
      "Program End.\n",
      "Elapsed_time: 3.149\n",
      "----------------------\n",
      "\n"
     ]
    },
    {
     "name": "stderr",
     "output_type": "stream",
     "text": [
      "Processing tasks:  90%|████████▉ | 94/105 [27:29<03:31, 19.27s/it]"
     ]
    },
    {
     "name": "stdout",
     "output_type": "stream",
     "text": [
      "# -------------------------------------------------------------------------\n",
      "\n",
      "Task ID: 95 🔽\n",
      "codedata:\n",
      "Program begin.\n",
      "Program End.\n",
      "Elapsed_time: 3.503\n",
      "----------------------\n",
      "\n"
     ]
    },
    {
     "name": "stderr",
     "output_type": "stream",
     "text": [
      "Processing tasks:  90%|█████████ | 95/105 [27:41<02:50, 17.07s/it]"
     ]
    },
    {
     "name": "stdout",
     "output_type": "stream",
     "text": [
      "# -------------------------------------------------------------------------\n",
      "\n",
      "Task ID: 96 🔽\n",
      "codeerr:\n",
      "Traceback (most recent call last):\n",
      "  File \"\\\\mac\\Home\\Downloads\\codedemo\\sample.py\", line 289, in <module>\n",
      "    main()\n",
      "  File \"\\\\mac\\Home\\Downloads\\codedemo\\sample.py\", line 242, in main\n",
      "    Wmx3Lib_cm.motion.Move(axis, 99)\n",
      "    ^^^^^^^^^^^^^^^^^^^^^^\n",
      "  File \"\\\\mac\\Home\\Downloads\\codedemo\\WMX3ApiPython.py\", line 8625, in <lambda>\n",
      "    __getattr__ = lambda self, name: _swig_getattr(self, Motion, name)\n",
      "                                     ^^^^^^^^^^^^^^^^^^^^^^^^^^^^^^^^^\n",
      "  File \"\\\\mac\\Home\\Downloads\\codedemo\\WMX3ApiPython.py\", line 80, in _swig_getattr\n",
      "    raise AttributeError(\"'%s' object has no attribute '%s'\" % (class_type.__name__, name))\n",
      "AttributeError: 'Motion' object has no attribute 'Move'\n",
      "!!!\n",
      "----------------------\n",
      "\n",
      "error string:----------------------\n",
      "AttributeError: 'Motion' object has no attribute 'Move'\n",
      "[Document(metadata={'source': './docs/WMX3API_FunctionPython.json', 'start_index': 198599}, page_content='{\\n        \"No\": 189,\\n        \"FunctionPython\": \"def OverrideMov(pPosCommand)\\\\u00a0\",\\n        \"FunctionC++\": \"WMX3APIFUNC OverrideMov(PosCommand *pPosCommand)\",\\n        \"Parameters\": \"[in] pPosCommand A pointer to an object of the PosCommand class that contains the override position. Parameters other than axis and target are ignored. \",\\n        \"Remarks\": \"This function overrides the target position of an axis that is executing one of the following position commands:\\\\n\\\\u2022StartPos / StartMov \\\\n\\\\u2022Pause (when pausing a StartPos / StartMov command)\\\\n\\\\nThe new target position is specified as a relative position (relative to the target position of the position command that is overridden).\\\\n\\\\nThe profile of the command will remain unchanged, except the starting velocity of the profile will be ignored and the override will be executed from the current velocity. \\\\n\",\\n        \"ReturnType\": \"int\\\\u00a0\",\\n        \"ReturnValue\": \"error code\\\\u00a0\",\\n        \"Class\": \"CoreMotion Class\",\\n        \"Instruction\": \"Override the target position of an axis currently executing a position command. The target position is specified as a relative position.\"\\n    },\\n    '), Document(metadata={'source': './docs/WMX3API_FunctionPython.json', 'start_index': 207157}, page_content='{\\n        \"No\": 197,\\n        \"FunctionPython\": \"def OverrideMov(numCommands, pPosCommand)\\\\u00a0\",\\n        \"FunctionC++\": \"WMX3APIFUNC OverrideMov(unsigned int numCommands, PosCommand *pPosCommand)\",\\n        \"Parameters\": \"[in] numCommands The number of overrides. Each override commands a single axis. \\\\n[in] pPosCommand A pointer to an array of objects of the PosCommand class that contain the parameters of the override. The number of objects in the array must be equal to numCommands. \\\\n\",\\n        \"Remarks\": \"This command executes the OverrideMov function for multiple axes.\\\\n\\\\nThis function returns an error if any of the commanded axes cannot execute the override. An error is returned if any of the commanded axes are in Idle state. \\\\n\",\\n        \"ReturnType\": \"int\\\\u00a0\",\\n        \"ReturnValue\": \"error code\\\\u00a0\",\\n        \"Class\": \"CoreMotion Class\",\\n        \"Instruction\": \"Override the target positions of multiple axes currently executing position commands. The target positions are specified as relative positions.\"\\n    },\\n    '), Document(metadata={'source': './docs/WMX3API_FunctionPython.json', 'start_index': 81749}, page_content='{\\n        \"No\": 82,\\n        \"FunctionPython\": \"def StartMov(pPosCommand)\\\\u00a0\",\\n        \"FunctionC++\": \"WMX3APIFUNC StartMov(PosCommand *pPosCommand)\",\\n        \"Parameters\": \"[in] pPosCommand A pointer to an object of the PosCommand class that contains the parameters of the motion. \",\\n        \"Remarks\": \"This function moves the specified axis to the specified relative position using a motion profile that is calculated by the specified parameters. The target position is relative to the command position of the axis at the time that this function is executed. If this function overrides another position command, the target position will be relative to the target position of the position command that is overridden.\",\\n        \"ReturnType\": \"int\\\\u00a0\",\\n        \"ReturnValue\": \"error code\\\\u00a0\",\\n        \"Class\": \"CoreMotion Class\",\\n        \"Instruction\": \"Start a relative position command.\"\\n    },')]\n"
     ]
    },
    {
     "name": "stderr",
     "output_type": "stream",
     "text": [
      "Processing tasks:  91%|█████████▏| 96/105 [28:10<03:04, 20.52s/it]"
     ]
    },
    {
     "name": "stdout",
     "output_type": "stream",
     "text": [
      "codeerr:\n",
      "Traceback (most recent call last):\n",
      "  File \"\\\\mac\\Home\\Downloads\\codedemo\\sample.py\", line 301, in <module>\n",
      "    main()\n",
      "  File \"\\\\mac\\Home\\Downloads\\codedemo\\sample.py\", line 244, in main\n",
      "    posCommand = PosCommand()  # Assuming PosCommand is defined elsewhere\n",
      "                 ^^^^^^^^^^\n",
      "NameError: name 'PosCommand' is not defined. Did you mean: 'posCommand'?\n",
      "!!!\n",
      "----------------------\n",
      "\n",
      "Self-correction but still got an error.\n",
      "\n",
      "\n",
      "Task ID: 97 🔽\n",
      "codedata:\n",
      "Program begin.\n",
      "Program End.\n",
      "Elapsed_time: 2.933\n",
      "----------------------\n",
      "\n"
     ]
    },
    {
     "name": "stderr",
     "output_type": "stream",
     "text": [
      "Processing tasks:  92%|█████████▏| 97/105 [28:27<02:35, 19.50s/it]"
     ]
    },
    {
     "name": "stdout",
     "output_type": "stream",
     "text": [
      "# -------------------------------------------------------------------------\n",
      "\n",
      "Task ID: 98 🔽\n",
      "codedata:\n",
      "Program begin.\n",
      "Program End.\n",
      "Elapsed_time: 3.115\n",
      "----------------------\n",
      "\n"
     ]
    },
    {
     "name": "stderr",
     "output_type": "stream",
     "text": [
      "Processing tasks:  93%|█████████▎| 98/105 [28:39<02:00, 17.21s/it]"
     ]
    },
    {
     "name": "stdout",
     "output_type": "stream",
     "text": [
      "# -------------------------------------------------------------------------\n",
      "\n",
      "Task ID: 99 🔽\n",
      "codeerr:\n",
      "  File \"\\\\mac\\Home\\Downloads\\codedemo\\sample.py\", line 226\n",
      "    else:\n",
      "    ^^^^\n",
      "SyntaxError: invalid syntax\n",
      "!!!\n",
      "----------------------\n",
      "\n",
      "error string:----------------------\n",
      "SyntaxError: invalid syntax\n",
      "[Document(metadata={'source': './docs/WMX3API_FunctionPython.json', 'start_index': 908151}, page_content='{\\n        \"No\": 839,\\n        \"FunctionPython\": NaN,\\n        \"FunctionC++\": \"static ECAPIFUNC ErrorToString(int errCode, wchar_t *pString, unsigned int size)\",\\n        \"Parameters\": NaN,\\n        \"Remarks\": NaN,\\n        \"ReturnType\": NaN,\\n        \"ReturnValue\": NaN,\\n        \"Class\": \"Ecat Class\",\\n        \"Instruction\": \"Get a string representation of the specified error code. \"\\n    },\\n    {\\n        \"No\": 840,\\n        \"FunctionPython\": NaN,\\n        \"FunctionC++\": \"static ECAPIFUNC ApiLogToString(unsigned char *pLogData, unsigned int logDataSize, char *pString, unsigned int size)\",\\n        \"Parameters\": NaN,\\n        \"Remarks\": NaN,\\n        \"ReturnType\": NaN,\\n        \"ReturnValue\": NaN,\\n        \"Class\": \"Ecat Class\",\\n        \"Instruction\": \" Get a string representation of the raw data of an API log.  \"\\n    },'), Document(metadata={'source': './docs/WMX3API_FunctionPython.json', 'start_index': 990215}, page_content='{\\n        \"No\": 1011,\\n        \"FunctionPython\": \"def ErrorToString(errCode)\\\\u00a0\",\\n        \"FunctionC++\": \"static CCLINKAPIFUNC ErrorToString(int errCode, char *pString, unsigned int size)\\\\u00a0\",\\n        \"Parameters\": \"[in] errCode The error code to get the string representation of. \\\\n[in] pString A char array that will contain the string representation of the error. \\\\n[in] size The size of the char array in number of characters. \\\\n\",\\n        \"Remarks\": \"This function returns a string representation of the specified error code. The error code must be defined in the ErrorCode enum. All errors returned by functions in class WMX3Api will be defined in this enum. Errors returned by functions in other classes may not be defined in this enum, and when such errors are passed to this function, an ErrorCodeNotDefined error will be returned and pString will contain the string representation of this error.\\\\n\\\\nIf pString is too small to contain the entire string representation of the error code, pString will be set to an empty string. An array size of 256 characters will be enough to hold all string representations.\\\\n\\\\nThis function is static, and may be called without declaring an instance of the WMX3Api class or creating a device.\",\\n        \"ReturnType\": \"string\\\\u00a0\",\\n        \"ReturnValue\": \"error string\\\\u00a0\",\\n        \"Class\": \"CCLink Class\\\\u00a0\",\\n        \"Instruction\": \"Get a string representation of the specified error code.\"\\n    },\\n    '), Document(metadata={'source': './docs/WMX3API_FunctionPython.json', 'start_index': 845478}, page_content='{\\n        \"No\": 779,\\n        \"FunctionPython\": \"def ErrorToString(errCode)\\\\u00a0\",\\n        \"FunctionC++\": \"static WMX3APIFUNC ErrorToString(int errCode, char *pString, unsigned int size)\",\\n        \"Parameters\": \"[in] errCode The error code to get the string representation of. \\\\n[in] pString A char array that will contain the string representation of the error. \\\\n[in] size The size of the char array in number of characters. \\\\n\",\\n        \"Remarks\": \"This function returns a string representation of the specified error code. The error code must be defined in the AdvancedMotionErrorCode enum or the ErrorCode enum in the WMX3Api.h header. All errors returned by functions in class AdvancedMotion will be defined in one of these enums. Errors returned by functions in other classes may not be defined in one of these enums, and when such errors are passed to this function, an ErrorCodeNotDefined error will be returned and pString will contain the string representation of this error.\\\\n\\\\nIf pString is too small to contain the entire string representation of the error code, pString will be set to an empty string. An array size of 256 characters will be enough to hold all string representations.\\\\n\\\\nThis function is static, and may be called without declaring an instance of the AdvancedMotion class or creating a device. \\\\n\",\\n        \"ReturnType\": \"string\\\\u00a0\",\\n        \"ReturnValue\": \"error string\\\\u00a0\",\\n        \"Class\": \"WMX3Api Class\",\\n        \"Instruction\": \"Get a string representation of the specified error code.\"\\n    },\\n    ')]\n"
     ]
    },
    {
     "name": "stderr",
     "output_type": "stream",
     "text": [
      "Processing tasks:  94%|█████████▍| 99/105 [28:59<01:49, 18.22s/it]"
     ]
    },
    {
     "name": "stdout",
     "output_type": "stream",
     "text": [
      "codeerr:\n",
      "  File \"\\\\mac\\Home\\Downloads\\codedemo\\sample.py\", line 234\n",
      "    else:\n",
      "    ^^^^\n",
      "SyntaxError: invalid syntax\n",
      "!!!\n",
      "----------------------\n",
      "\n",
      "Self-correction but still got an error.\n",
      "\n",
      "\n",
      "Task ID: 100 🔽\n",
      "codeerr:\n",
      "Traceback (most recent call last):\n",
      "  File \"\\\\mac\\Home\\Downloads\\codedemo\\sample.py\", line 289, in <module>\n",
      "    main()\n",
      "  File \"\\\\mac\\Home\\Downloads\\codedemo\\sample.py\", line 215, in main\n",
      "    ret, currentPolarity = GetAxisPolatity(axis)\n",
      "                           ^^^^^^^^^^^^^^^\n",
      "NameError: name 'GetAxisPolatity' is not defined\n",
      "!!!\n",
      "----------------------\n",
      "\n",
      "error string:----------------------\n",
      "NameError: name 'GetAxisPolatity' is not defined\n",
      "[Document(metadata={'source': './docs/WMX3API_FunctionPython.json', 'start_index': 379255}, page_content='{\\n        \"No\": 344,\\n        \"FunctionPython\": \"def GetAxisPolatity(axis)\\\\u00a0\",\\n        \"FunctionC++\": \"WMX3APIFUNC GetAxisPolarity(int axis, char *pPolarity)\",\\n        \"Parameters\": \"[in] axis The axis to get the axis polarity. \\\\n[out] pPolarity A pointer to a char variable that will contain the axis polarity.  \\\\n\",\\n        \"Remarks\": NaN,\\n        \"ReturnType\": \"tuple\\\\u00a0\",\\n        \"ReturnValue\": \"0 : int - error code\",\\n        \"Class\": \"CoreMotion Class\",\\n        \"Instruction\": \"Get the axis polarity of an axis.\"\\n    },'), Document(metadata={'source': './docs/WMX3API_FunctionPython.json', 'start_index': 374195}, page_content='{\\n        \"No\": 336,\\n        \"FunctionPython\": \"def SetAxisPolarity(axis, polarity)\\\\u00a0\",\\n        \"FunctionC++\": \"WMX3APIFUNC SetAxisPolarity(int axis, char polarity)\",\\n        \"Parameters\": \"[in] axis The axis to set the axis polarity. \\\\n[in] polarity If set to 1, the polarity is normal; if set to -1, the axis polarity will be reversed (the physical axis will move in the opposite direction).  \\\\n\",\\n        \"Remarks\": NaN,\\n        \"ReturnType\": \"int\\\\u00a0\",\\n        \"ReturnValue\": \"error code\\\\u00a0\",\\n        \"Class\": \"CoreMotion Class\",\\n        \"Instruction\": \"Set the axis polarity for an axis.\"\\n    },'), Document(metadata={'source': './docs/WMX3API_FunctionPython.json', 'start_index': 393970}, page_content='{\\n        \"No\": 366,\\n        \"FunctionPython\": \"def GetDefaultAxisParam()\\\\u00a0\",\\n        \"FunctionC++\": \"WMX3APIFUNC GetDefaultAxisParam(AxisParam *pAxisParam)\",\\n        \"Parameters\": \"[out] pAxisParam A pointer to an object of the AxisParam class that will contain the default parameters.  \",\\n        \"Remarks\": NaN,\\n        \"ReturnType\": \"tuple\\\\u00a0\",\\n        \"ReturnValue\": \"0 : int - error code\",\\n        \"Class\": \"CoreMotion Class\",\\n        \"Instruction\": \"Get the default axis parameters.\"\\n    },')]\n"
     ]
    },
    {
     "name": "stderr",
     "output_type": "stream",
     "text": [
      "Processing tasks:  95%|█████████▌| 100/105 [29:19<01:33, 18.62s/it]"
     ]
    },
    {
     "name": "stdout",
     "output_type": "stream",
     "text": [
      "codeerr:\n",
      "Traceback (most recent call last):\n",
      "  File \"\\\\mac\\Home\\Downloads\\codedemo\\sample.py\", line 291, in <module>\n",
      "    main()\n",
      "  File \"\\\\mac\\Home\\Downloads\\codedemo\\sample.py\", line 217, in main\n",
      "    ret, currentPolarity = GetAxisPolarity(axis)  # Corrected function name\n",
      "                           ^^^^^^^^^^^^^^^\n",
      "NameError: name 'GetAxisPolarity' is not defined\n",
      "!!!\n",
      "----------------------\n",
      "\n",
      "Self-correction but still got an error.\n",
      "\n",
      "\n",
      "Task ID: 101 🔽\n",
      "codedata:\n",
      "Program begin.\n",
      "Program End.\n",
      "Elapsed_time: 2.850\n",
      "----------------------\n",
      "\n"
     ]
    },
    {
     "name": "stderr",
     "output_type": "stream",
     "text": [
      "Processing tasks:  96%|█████████▌| 101/105 [29:29<01:04, 16.11s/it]"
     ]
    },
    {
     "name": "stdout",
     "output_type": "stream",
     "text": [
      "# -------------------------------------------------------------------------\n",
      "\n",
      "Task ID: 102 🔽\n",
      "codeerr:\n",
      "Traceback (most recent call last):\n",
      "  File \"\\\\mac\\Home\\Downloads\\codedemo\\sample.py\", line 312, in <module>\n",
      "    main()\n",
      "  File \"\\\\mac\\Home\\Downloads\\codedemo\\sample.py\", line 233, in main\n",
      "    if (Wmx3Lib_cm.motion.GetAxisStatus(2).positionCommand - Wmx3Lib_cm.motion.GetAxisStatus(4).positionCommand) == 90:\n",
      "        ^^^^^^^^^^^^^^^^^^^^^^^^^^^^^^^\n",
      "  File \"\\\\mac\\Home\\Downloads\\codedemo\\WMX3ApiPython.py\", line 8625, in <lambda>\n",
      "    __getattr__ = lambda self, name: _swig_getattr(self, Motion, name)\n",
      "                                     ^^^^^^^^^^^^^^^^^^^^^^^^^^^^^^^^^\n",
      "  File \"\\\\mac\\Home\\Downloads\\codedemo\\WMX3ApiPython.py\", line 80, in _swig_getattr\n",
      "    raise AttributeError(\"'%s' object has no attribute '%s'\" % (class_type.__name__, name))\n",
      "AttributeError: 'Motion' object has no attribute 'GetAxisStatus'\n",
      "!!!\n",
      "----------------------\n",
      "\n",
      "error string:----------------------\n",
      "AttributeError: 'Motion' object has no attribute 'GetAxisStatus'\n",
      "[Document(metadata={'source': './docs/WMX3API_FunctionPython.json', 'start_index': 76062}, page_content='{\\n        \"No\": 75,\\n        \"FunctionPython\": \"def GetStatus()\\\\u00a0\",\\n        \"FunctionC++\": \"WMX3APIFUNC GetStatus(CoreMotionStatus *status)\",\\n        \"Parameters\": \"[out] status A pointer to an object of the CoreMotionStatus class that will be filled in with the current system status. \",\\n        \"Remarks\": \"This function obtains the main status of the entire system and all axes. This function is typically called at regular intervals using a timer loop in order to monitor the status of the system and update the user interface.\\\\n\\\\nThis function has a comparatively low execution overhead, as the statuses are read directly from memory without communicating with the engine.\\\\n\",\\n        \"ReturnType\": \"tuple\\\\u00a0\",\\n        \"ReturnValue\": \"0 : int - error code\",\\n        \"Class\": \"CoreMotion Class\",\\n        \"Instruction\": \"Read the current system status from the engine.\"\\n    },'), Document(metadata={'source': './docs/WMX3API_FunctionPython.json', 'start_index': 390643}, page_content='{\\n        \"No\": 360,\\n        \"FunctionPython\": \"def GetMotionParam(axis)\\\\u00a0\",\\n        \"FunctionC++\": \"WMX3APIFUNC GetMotionParam(int axis, MotionParam *pParam)\",\\n        \"Parameters\": \"[in] axis The axis to get the motion parameters \\\\n[out] pParam A pointer to an object of the MotionParam class that will contain the current motion parameters of the axis. \\\\n\",\\n        \"Remarks\": NaN,\\n        \"ReturnType\": \"tuple\\\\u00a0\",\\n        \"ReturnValue\": \"0 : int - error code\",\\n        \"Class\": \"CoreMotion Class\",\\n        \"Instruction\": \"Get motion parameter settings for an axis. \"\\n    },'), Document(metadata={'source': './docs/WMX3API_FunctionPython.json', 'start_index': 304372}, page_content='{\\n        \"No\": 268,\\n        \"FunctionPython\": \"def GetAxisCommandMode(axis)\\\\u00a0\",\\n        \"FunctionC++\": \"WMX3APIFUNC GetAxisCommandMode(int axis, AxisCommandMode::T *pMode)\",\\n        \"Parameters\": \"[in] axis The axis to get the command mode. \\\\n[out] pMode A pointer to a AxisCommandMode variable that will contain the command mode of the axis. \\\\n\",\\n        \"Remarks\": \"This function obtains that current AxisCommandMode of an axis. This value is identical to the Axis Command Mode status obtained with the GetStatus function.\",\\n        \"ReturnType\": \"tuple\\\\u00a0\",\\n        \"ReturnValue\": \"0 : int - error code\",\\n        \"Class\": \"CoreMotion Class\",\\n        \"Instruction\": \"Get the command mode of the axis. \"\\n    },')]\n"
     ]
    },
    {
     "name": "stderr",
     "output_type": "stream",
     "text": [
      "Processing tasks:  97%|█████████▋| 102/105 [29:55<00:57, 19.05s/it]"
     ]
    },
    {
     "name": "stdout",
     "output_type": "stream",
     "text": [
      "codeerr:\n",
      "Traceback (most recent call last):\n",
      "  File \"\\\\mac\\Home\\Downloads\\codedemo\\sample.py\", line 305, in <module>\n",
      "    main()\n",
      "  File \"\\\\mac\\Home\\Downloads\\codedemo\\sample.py\", line 233, in main\n",
      "    motionParam2 = MotionParam()\n",
      "                   ^^^^^^^^^^^\n",
      "NameError: name 'MotionParam' is not defined. Did you mean: 'motionParam2'?\n",
      "!!!\n",
      "----------------------\n",
      "\n",
      "Self-correction but still got an error.\n",
      "\n",
      "\n",
      "Task ID: 103 🔽\n",
      "codedata:\n",
      "Program begin.\n",
      "Program End.\n",
      "Elapsed_time: 3.984\n",
      "----------------------\n",
      "\n"
     ]
    },
    {
     "name": "stderr",
     "output_type": "stream",
     "text": [
      "Processing tasks:  98%|█████████▊| 103/105 [30:08<00:34, 17.19s/it]"
     ]
    },
    {
     "name": "stdout",
     "output_type": "stream",
     "text": [
      "# -------------------------------------------------------------------------\n",
      "\n",
      "Task ID: 104 🔽\n",
      "codedata:\n",
      "Program begin.\n",
      "Program End.\n",
      "Elapsed_time: 3.223\n",
      "----------------------\n",
      "\n"
     ]
    },
    {
     "name": "stderr",
     "output_type": "stream",
     "text": [
      "Processing tasks:  99%|█████████▉| 104/105 [30:18<00:15, 15.18s/it]"
     ]
    },
    {
     "name": "stdout",
     "output_type": "stream",
     "text": [
      "# -------------------------------------------------------------------------\n",
      "\n",
      "Task ID: 105 🔽\n",
      "codedata:\n",
      "Program begin.\n",
      "Program End.\n",
      "Elapsed_time: 3.684\n",
      "----------------------\n",
      "\n"
     ]
    },
    {
     "name": "stderr",
     "output_type": "stream",
     "text": [
      "Processing tasks: 100%|██████████| 105/105 [30:29<00:00, 17.42s/it]"
     ]
    },
    {
     "name": "stdout",
     "output_type": "stream",
     "text": [
      "# -------------------------------------------------------------------------\n",
      "\n",
      "Overall Results:\n",
      "  Total Correct: 89 (84.76%)\n",
      "  Total Errors: 16 (15.24%)\n",
      "  Total Syntax Error: 1 (0.95%)\n",
      "  Total API Error: 15 (14.29%)\n",
      "  Total Self-corrected Errors: 16 (15.24%)\n",
      "  Total Self-corrected Correct: 4 (3.81%)\n",
      "\n",
      "Difficulty: 1\n",
      "  Correct: 52 (85.25%)\n",
      "  Errors: 0 (0.00%)\n",
      "  Syntax Error: 0 (0.00%)\n",
      "  API Error: 8 (13.11%)\n",
      "  Self-corrected Errors: 8 (13.11%)\n",
      "  Self-corrected Correct: 1 (1.64%)\n",
      "\n",
      "Difficulty: 2\n",
      "  Correct: 26 (81.25%)\n",
      "  Errors: 0 (0.00%)\n",
      "  Syntax Error: 0 (0.00%)\n",
      "  API Error: 3 (9.38%)\n",
      "  Self-corrected Errors: 3 (9.38%)\n",
      "  Self-corrected Correct: 3 (9.38%)\n",
      "\n",
      "Difficulty: 3\n",
      "  Correct: 7 (58.33%)\n",
      "  Errors: 0 (0.00%)\n",
      "  Syntax Error: 1 (8.33%)\n",
      "  API Error: 4 (33.33%)\n",
      "  Self-corrected Errors: 5 (41.67%)\n",
      "  Self-corrected Correct: 0 (0.00%)\n",
      "\n",
      "Error Log:\n",
      "  TaskId: 14, Error: codedata:\n",
      "Program begin.\n",
      "StartHelicalIntplPos error code is 65556: [0x00010014] : CoreMotionApi Error: One or more axes are not in servo on state.\n",
      "Elapsed_time: 2.103\n",
      "----------------------\n",
      "Self-correction but still got an error.\n",
      "\n",
      "\n",
      "  TaskId: 22, Error: codedata:\n",
      "Program begin.\n",
      "StartLinearIntplPos error code is 65584: [0x00010030] : CoreMotionApi Error: One or more acceleration jerk arguments out of range.\n",
      "Elapsed_time: 2.212\n",
      "----------------------\n",
      "Self-correction but still got an error.\n",
      "\n",
      "\n",
      "  TaskId: 34, Error: codedata:\n",
      "Program begin.\n",
      "Wait_AxisSel error code is 1549: [0x0000060d] : WMX3Api Error: Same axis specified more than once.\n",
      "Elapsed_time: 2.544\n",
      "----------------------\n",
      "Self-correction but still got an error.\n",
      "\n",
      "\n",
      "  TaskId: 39, Error: codeerr:\n",
      "Traceback (most recent call last):\n",
      "  File \"\\\\mac\\Home\\Downloads\\codedemo\\sample.py\", line 283, in <module>\n",
      "    main()\n",
      "  File \"\\\\mac\\Home\\Downloads\\codedemo\\sample.py\", line 222, in main\n",
      "    eventOut_Motion.type = CoreMotionEventOutputType.StartPos\n",
      "                           ^^^^^^^^^^^^^^^^^^^^^^^^^^^^^^^^^^\n",
      "AttributeError: type object 'CoreMotionEventOutputType' has no attribute 'StartPos'\n",
      "!!!\n",
      "----------------------\n",
      "Self-correction but still got an error.\n",
      "\n",
      "\n",
      "  TaskId: 48, Error: codedata:\n",
      "Program begin.\n",
      "Wait_WaitCondition error code is 1548: [0x0000060c] : WMX3Api Error: Axis count is out of range.\n",
      "Elapsed_time: 2.114\n",
      "----------------------\n",
      "Self-correction but still got an error.\n",
      "\n",
      "\n",
      "  TaskId: 49, Error: codedata:\n",
      "Program begin.\n",
      "StartPos error code is 65581: [0x0001002d] : CoreMotionApi Error: One or more velocity arguments out of range.\n",
      "Elapsed_time: 2.113\n",
      "----------------------\n",
      "Self-correction but still got an error.\n",
      "\n",
      "\n",
      "  TaskId: 50, Error: codedata:\n",
      "Program begin.\n",
      "StartLinearIntplPos_Trigger error code is 1563: [0x0000061b] : WMX3Api Error: The axis is still starting the previous command. Wait until the next communication cycle.\n",
      "Elapsed_time: 2.213\n",
      "----------------------\n",
      "Self-correction but still got an error.\n",
      "\n",
      "\n",
      "  TaskId: 52, Error: codeerr:\n",
      "Traceback (most recent call last):\n",
      "  File \"\\\\mac\\Home\\Downloads\\codedemo\\sample.py\", line 271, in <module>\n",
      "    main()\n",
      "  File \"\\\\mac\\Home\\Downloads\\codedemo\\sample.py\", line 211, in main\n",
      "    pvt.points = [Motion_PVTPoint() for _ in range(pvt.pointCount)]\n",
      "    ^^^^^^^^^^\n",
      "  File \"\\\\mac\\Home\\Downloads\\codedemo\\WMX3ApiPython.py\", line 8130, in <lambda>\n",
      "    __setattr__ = lambda self, name, value: _swig_setattr(self, Motion_PVTCommand, name, value)\n",
      "                                            ^^^^^^^^^^^^^^^^^^^^^^^^^^^^^^^^^^^^^^^^^^^^^^^^^^^\n",
      "  File \"\\\\mac\\Home\\Downloads\\codedemo\\WMX3ApiPython.py\", line 71, in _swig_setattr\n",
      "    return _swig_setattr_nondynamic(self, class_type, name, value, 0)\n",
      "           ^^^^^^^^^^^^^^^^^^^^^^^^^^^^^^^^^^^^^^^^^^^^^^^^^^^^^^^^^^\n",
      "  File \"\\\\mac\\Home\\Downloads\\codedemo\\WMX3ApiPython.py\", line 60, in _swig_setattr_nondynamic\n",
      "    return method(self, value)\n",
      "           ^^^^^^^^^^^^^^^^^^^\n",
      "TypeError: in method 'Motion_PVTCommand_points_set', argument 2 of type 'wmx3ApiSelf-correction but still got an error.\n",
      "\n",
      "\n",
      "  TaskId: 68, Error: codeerr:\n",
      "Traceback (most recent call last):\n",
      "  File \"\\\\mac\\Home\\Downloads\\codedemo\\sample.py\", line 379, in <module>\n",
      "    main()\n",
      "  File \"\\\\mac\\Home\\Downloads\\codedemo\\sample.py\", line 217, in main\n",
      "    if not Wmx3Lib_adv.CheckAxesServoOn([8, 9, 0, 1]):\n",
      "           ^^^^^^^^^^^^^^^^^^^^^^^^^^^^\n",
      "  File \"\\\\mac\\Home\\Downloads\\codedemo\\WMX3ApiPython.py\", line 25230, in <lambda>\n",
      "    __getattr__ = lambda self, name: _swig_getattr(self, AdvancedMotion, name)\n",
      "                                     ^^^^^^^^^^^^^^^^^^^^^^^^^^^^^^^^^^^^^^^^^\n",
      "  File \"\\\\mac\\Home\\Downloads\\codedemo\\WMX3ApiPython.py\", line 80, in _swig_getattr\n",
      "    raise AttributeError(\"'%s' object has no attribute '%s'\" % (class_type.__name__, name))\n",
      "AttributeError: 'AdvancedMotion' object has no attribute 'CheckAxesServoOn'\n",
      "!!!\n",
      "----------------------\n",
      "Self-correction but still got an error.\n",
      "\n",
      "\n",
      "  TaskId: 72, Error: codedata:\n",
      "Program begin.\n",
      "AddPathIntplLookaheadCommand error code is 65631: [0x0001005f] : CoreMotionApi Error: One or more circular interpolations contains invalid arguments.\n",
      "Elapsed_time: 2.193\n",
      "----------------------\n",
      "Self-correction but still got an error.\n",
      "\n",
      "\n",
      "  TaskId: 88, Error: codeerr:\n",
      "Traceback (most recent call last):\n",
      "  File \"\\\\mac\\Home\\Downloads\\codedemo\\sample.py\", line 299, in <module>\n",
      "    main()\n",
      "  File \"\\\\mac\\Home\\Downloads\\codedemo\\sample.py\", line 220, in main\n",
      "    ret = Wmx3Lib_comp.GetBacklashCompensation(8, backlashcomp)\n",
      "          ^^^^^^^^^^^^^^^^^^^^^^^^^^^^^^^^^^^^^^^^^^^^^^^^^^^^^\n",
      "TypeError: Compensation.GetBacklashCompensation() takes 2 positional arguments but 3 were given\n",
      "!!!\n",
      "----------------------\n",
      "Self-correction but still got an error.\n",
      "\n",
      "\n",
      "  TaskId: 93, Error: codeerr:\n",
      "Traceback (most recent call last):\n",
      "  File \"\\\\mac\\Home\\Downloads\\codedemo\\sample.py\", line 275, in <module>\n",
      "    main()\n",
      "  File \"\\\\mac\\Home\\Downloads\\codedemo\\sample.py\", line 219, in main\n",
      "    ret = Wmx3Lib_cm.motion.StartJog(axis)  # Assuming StartJog is the intended function\n",
      "          ^^^^^^^^^^^^^^^^^^^^^^^^^^^^^^^^\n",
      "  File \"\\\\mac\\Home\\Downloads\\codedemo\\WMX3ApiPython.py\", line 8827, in StartJog\n",
      "    return _WMX3ApiPython.Motion_StartJog(self, *args)\n",
      "           ^^^^^^^^^^^^^^^^^^^^^^^^^^^^^^^^^^^^^^^^^^^\n",
      "NotImplementedError: Wrong number or type of arguments for overloaded function 'Motion_StartJog'.\n",
      "  Possible C/C++ prototypes are:\n",
      "    wmx3ApiPython::Motion::StartJog(wmx3ApiPython::Motion_JogCommand *)\n",
      "    wmx3ApiPython::Motion::StartJog(unsigned int,PyObject *)\n",
      "\n",
      "!!!\n",
      "----------------------\n",
      "Self-correction but still got an error.\n",
      "\n",
      "\n",
      "  TaskId: 96, Error: codeerr:\n",
      "Traceback (most recent call last):\n",
      "  File \"\\\\mac\\Home\\Downloads\\codedemo\\sample.py\", line 301, in <module>\n",
      "    main()\n",
      "  File \"\\\\mac\\Home\\Downloads\\codedemo\\sample.py\", line 244, in main\n",
      "    posCommand = PosCommand()  # Assuming PosCommand is defined elsewhere\n",
      "                 ^^^^^^^^^^\n",
      "NameError: name 'PosCommand' is not defined. Did you mean: 'posCommand'?\n",
      "!!!\n",
      "----------------------\n",
      "Self-correction but still got an error.\n",
      "\n",
      "\n",
      "  TaskId: 99, Error: codeerr:\n",
      "  File \"\\\\mac\\Home\\Downloads\\codedemo\\sample.py\", line 234\n",
      "    else:\n",
      "    ^^^^\n",
      "SyntaxError: invalid syntax\n",
      "!!!\n",
      "----------------------\n",
      "Self-correction but still got an error.\n",
      "\n",
      "\n",
      "  TaskId: 100, Error: codeerr:\n",
      "Traceback (most recent call last):\n",
      "  File \"\\\\mac\\Home\\Downloads\\codedemo\\sample.py\", line 291, in <module>\n",
      "    main()\n",
      "  File \"\\\\mac\\Home\\Downloads\\codedemo\\sample.py\", line 217, in main\n",
      "    ret, currentPolarity = GetAxisPolarity(axis)  # Corrected function name\n",
      "                           ^^^^^^^^^^^^^^^\n",
      "NameError: name 'GetAxisPolarity' is not defined\n",
      "!!!\n",
      "----------------------\n",
      "Self-correction but still got an error.\n",
      "\n",
      "\n",
      "  TaskId: 102, Error: codeerr:\n",
      "Traceback (most recent call last):\n",
      "  File \"\\\\mac\\Home\\Downloads\\codedemo\\sample.py\", line 305, in <module>\n",
      "    main()\n",
      "  File \"\\\\mac\\Home\\Downloads\\codedemo\\sample.py\", line 233, in main\n",
      "    motionParam2 = MotionParam()\n",
      "                   ^^^^^^^^^^^\n",
      "NameError: name 'MotionParam' is not defined. Did you mean: 'motionParam2'?\n",
      "!!!\n",
      "----------------------\n",
      "Self-correction but still got an error.\n",
      "\n",
      "\n",
      "\n",
      "Self-corrected Log:\n",
      "  TaskId: 4, Result: codedata:\n",
      "Program begin.\n",
      "Program End.\n",
      "Elapsed_time: 2.649\n",
      "----------------------\n",
      "Self-corrected.\n",
      "\n",
      "\n",
      "  TaskId: 9, Result: codedata:\n",
      "Program begin.\n",
      "Program End.\n",
      "Elapsed_time: 2.411\n",
      "----------------------\n",
      "Self-corrected.\n",
      "\n",
      "\n",
      "  TaskId: 14, Result: codedata:\n",
      "Program begin.\n",
      "StartHelicalIntplPos error code is 65556: [0x00010014] : CoreMotionApi Error: One or more axes are not in servo on state.\n",
      "Elapsed_time: 2.103\n",
      "----------------------\n",
      "Self-correction but still got an error.\n",
      "\n",
      "\n",
      "  TaskId: 22, Result: codedata:\n",
      "Program begin.\n",
      "StartLinearIntplPos error code is 65584: [0x00010030] : CoreMotionApi Error: One or more acceleration jerk arguments out of range.\n",
      "Elapsed_time: 2.212\n",
      "----------------------\n",
      "Self-correction but still got an error.\n",
      "\n",
      "\n",
      "  TaskId: 34, Result: codedata:\n",
      "Program begin.\n",
      "Wait_AxisSel error code is 1549: [0x0000060d] : WMX3Api Error: Same axis specified more than once.\n",
      "Elapsed_time: 2.544\n",
      "----------------------\n",
      "Self-correction but still got an error.\n",
      "\n",
      "\n",
      "  TaskId: 39, Result: codeerr:\n",
      "Traceback (most recent call last):\n",
      "  File \"\\\\mac\\Home\\Downloads\\codedemo\\sample.py\", line 283, in <module>\n",
      "    main()\n",
      "  File \"\\\\mac\\Home\\Downloads\\codedemo\\sample.py\", line 222, in main\n",
      "    eventOut_Motion.type = CoreMotionEventOutputType.StartPos\n",
      "                           ^^^^^^^^^^^^^^^^^^^^^^^^^^^^^^^^^^\n",
      "AttributeError: type object 'CoreMotionEventOutputType' has no attribute 'StartPos'\n",
      "!!!\n",
      "----------------------\n",
      "Self-correction but still got an error.\n",
      "\n",
      "\n",
      "  TaskId: 48, Result: codedata:\n",
      "Program begin.\n",
      "Wait_WaitCondition error code is 1548: [0x0000060c] : WMX3Api Error: Axis count is out of range.\n",
      "Elapsed_time: 2.114\n",
      "----------------------\n",
      "Self-correction but still got an error.\n",
      "\n",
      "\n",
      "  TaskId: 49, Result: codedata:\n",
      "Program begin.\n",
      "StartPos error code is 65581: [0x0001002d] : CoreMotionApi Error: One or more velocity arguments out of range.\n",
      "Elapsed_time: 2.113\n",
      "----------------------\n",
      "Self-correction but still got an error.\n",
      "\n",
      "\n",
      "  TaskId: 50, Result: codedata:\n",
      "Program begin.\n",
      "StartLinearIntplPos_Trigger error code is 1563: [0x0000061b] : WMX3Api Error: The axis is still starting the previous command. Wait until the next communication cycle.\n",
      "Elapsed_time: 2.213\n",
      "----------------------\n",
      "Self-correction but still got an error.\n",
      "\n",
      "\n",
      "  TaskId: 52, Result: codeerr:\n",
      "Traceback (most recent call last):\n",
      "  File \"\\\\mac\\Home\\Downloads\\codedemo\\sample.py\", line 271, in <module>\n",
      "    main()\n",
      "  File \"\\\\mac\\Home\\Downloads\\codedemo\\sample.py\", line 211, in main\n",
      "    pvt.points = [Motion_PVTPoint() for _ in range(pvt.pointCount)]\n",
      "    ^^^^^^^^^^\n",
      "  File \"\\\\mac\\Home\\Downloads\\codedemo\\WMX3ApiPython.py\", line 8130, in <lambda>\n",
      "    __setattr__ = lambda self, name, value: _swig_setattr(self, Motion_PVTCommand, name, value)\n",
      "                                            ^^^^^^^^^^^^^^^^^^^^^^^^^^^^^^^^^^^^^^^^^^^^^^^^^^^\n",
      "  File \"\\\\mac\\Home\\Downloads\\codedemo\\WMX3ApiPython.py\", line 71, in _swig_setattr\n",
      "    return _swig_setattr_nondynamic(self, class_type, name, value, 0)\n",
      "           ^^^^^^^^^^^^^^^^^^^^^^^^^^^^^^^^^^^^^^^^^^^^^^^^^^^^^^^^^^\n",
      "  File \"\\\\mac\\Home\\Downloads\\codedemo\\WMX3ApiPython.py\", line 60, in _swig_setattr_nondynamic\n",
      "    return method(self, value)\n",
      "           ^^^^^^^^^^^^^^^^^^^\n",
      "TypeError: in method 'Motion_PVTCommand_points_set', argument 2 of type 'wmx3ApiSelf-correction but still got an error.\n",
      "\n",
      "\n",
      "  TaskId: 54, Result: codedata:\n",
      "Program begin.\n",
      "Program End.\n",
      "Elapsed_time: 5.470\n",
      "----------------------\n",
      "Self-corrected.\n",
      "\n",
      "\n",
      "  TaskId: 64, Result: codedata:\n",
      "Program begin.\n",
      "Program End.\n",
      "Elapsed_time: 8.706\n",
      "----------------------\n",
      "Self-corrected.\n",
      "\n",
      "\n",
      "  TaskId: 68, Result: codeerr:\n",
      "Traceback (most recent call last):\n",
      "  File \"\\\\mac\\Home\\Downloads\\codedemo\\sample.py\", line 379, in <module>\n",
      "    main()\n",
      "  File \"\\\\mac\\Home\\Downloads\\codedemo\\sample.py\", line 217, in main\n",
      "    if not Wmx3Lib_adv.CheckAxesServoOn([8, 9, 0, 1]):\n",
      "           ^^^^^^^^^^^^^^^^^^^^^^^^^^^^\n",
      "  File \"\\\\mac\\Home\\Downloads\\codedemo\\WMX3ApiPython.py\", line 25230, in <lambda>\n",
      "    __getattr__ = lambda self, name: _swig_getattr(self, AdvancedMotion, name)\n",
      "                                     ^^^^^^^^^^^^^^^^^^^^^^^^^^^^^^^^^^^^^^^^^\n",
      "  File \"\\\\mac\\Home\\Downloads\\codedemo\\WMX3ApiPython.py\", line 80, in _swig_getattr\n",
      "    raise AttributeError(\"'%s' object has no attribute '%s'\" % (class_type.__name__, name))\n",
      "AttributeError: 'AdvancedMotion' object has no attribute 'CheckAxesServoOn'\n",
      "!!!\n",
      "----------------------\n",
      "Self-correction but still got an error.\n",
      "\n",
      "\n",
      "  TaskId: 72, Result: codedata:\n",
      "Program begin.\n",
      "AddPathIntplLookaheadCommand error code is 65631: [0x0001005f] : CoreMotionApi Error: One or more circular interpolations contains invalid arguments.\n",
      "Elapsed_time: 2.193\n",
      "----------------------\n",
      "Self-correction but still got an error.\n",
      "\n",
      "\n",
      "  TaskId: 88, Result: codeerr:\n",
      "Traceback (most recent call last):\n",
      "  File \"\\\\mac\\Home\\Downloads\\codedemo\\sample.py\", line 299, in <module>\n",
      "    main()\n",
      "  File \"\\\\mac\\Home\\Downloads\\codedemo\\sample.py\", line 220, in main\n",
      "    ret = Wmx3Lib_comp.GetBacklashCompensation(8, backlashcomp)\n",
      "          ^^^^^^^^^^^^^^^^^^^^^^^^^^^^^^^^^^^^^^^^^^^^^^^^^^^^^\n",
      "TypeError: Compensation.GetBacklashCompensation() takes 2 positional arguments but 3 were given\n",
      "!!!\n",
      "----------------------\n",
      "Self-correction but still got an error.\n",
      "\n",
      "\n",
      "  TaskId: 93, Result: codeerr:\n",
      "Traceback (most recent call last):\n",
      "  File \"\\\\mac\\Home\\Downloads\\codedemo\\sample.py\", line 275, in <module>\n",
      "    main()\n",
      "  File \"\\\\mac\\Home\\Downloads\\codedemo\\sample.py\", line 219, in main\n",
      "    ret = Wmx3Lib_cm.motion.StartJog(axis)  # Assuming StartJog is the intended function\n",
      "          ^^^^^^^^^^^^^^^^^^^^^^^^^^^^^^^^\n",
      "  File \"\\\\mac\\Home\\Downloads\\codedemo\\WMX3ApiPython.py\", line 8827, in StartJog\n",
      "    return _WMX3ApiPython.Motion_StartJog(self, *args)\n",
      "           ^^^^^^^^^^^^^^^^^^^^^^^^^^^^^^^^^^^^^^^^^^^\n",
      "NotImplementedError: Wrong number or type of arguments for overloaded function 'Motion_StartJog'.\n",
      "  Possible C/C++ prototypes are:\n",
      "    wmx3ApiPython::Motion::StartJog(wmx3ApiPython::Motion_JogCommand *)\n",
      "    wmx3ApiPython::Motion::StartJog(unsigned int,PyObject *)\n",
      "\n",
      "!!!\n",
      "----------------------\n",
      "Self-correction but still got an error.\n",
      "\n",
      "\n",
      "  TaskId: 96, Result: codeerr:\n",
      "Traceback (most recent call last):\n",
      "  File \"\\\\mac\\Home\\Downloads\\codedemo\\sample.py\", line 301, in <module>\n",
      "    main()\n",
      "  File \"\\\\mac\\Home\\Downloads\\codedemo\\sample.py\", line 244, in main\n",
      "    posCommand = PosCommand()  # Assuming PosCommand is defined elsewhere\n",
      "                 ^^^^^^^^^^\n",
      "NameError: name 'PosCommand' is not defined. Did you mean: 'posCommand'?\n",
      "!!!\n",
      "----------------------\n",
      "Self-correction but still got an error.\n",
      "\n",
      "\n",
      "  TaskId: 99, Result: codeerr:\n",
      "  File \"\\\\mac\\Home\\Downloads\\codedemo\\sample.py\", line 234\n",
      "    else:\n",
      "    ^^^^\n",
      "SyntaxError: invalid syntax\n",
      "!!!\n",
      "----------------------\n",
      "Self-correction but still got an error.\n",
      "\n",
      "\n",
      "  TaskId: 100, Result: codeerr:\n",
      "Traceback (most recent call last):\n",
      "  File \"\\\\mac\\Home\\Downloads\\codedemo\\sample.py\", line 291, in <module>\n",
      "    main()\n",
      "  File \"\\\\mac\\Home\\Downloads\\codedemo\\sample.py\", line 217, in main\n",
      "    ret, currentPolarity = GetAxisPolarity(axis)  # Corrected function name\n",
      "                           ^^^^^^^^^^^^^^^\n",
      "NameError: name 'GetAxisPolarity' is not defined\n",
      "!!!\n",
      "----------------------\n",
      "Self-correction but still got an error.\n",
      "\n",
      "\n",
      "  TaskId: 102, Result: codeerr:\n",
      "Traceback (most recent call last):\n",
      "  File \"\\\\mac\\Home\\Downloads\\codedemo\\sample.py\", line 305, in <module>\n",
      "    main()\n",
      "  File \"\\\\mac\\Home\\Downloads\\codedemo\\sample.py\", line 233, in main\n",
      "    motionParam2 = MotionParam()\n",
      "                   ^^^^^^^^^^^\n",
      "NameError: name 'MotionParam' is not defined. Did you mean: 'motionParam2'?\n",
      "!!!\n",
      "----------------------\n",
      "Self-correction but still got an error.\n",
      "\n",
      "\n",
      "\n"
     ]
    },
    {
     "name": "stderr",
     "output_type": "stream",
     "text": [
      "\n"
     ]
    }
   ],
   "source": [
    "\n",
    "from langchain_openai import ChatOpenAI\n",
    "from langchain.prompts import ChatPromptTemplate, PromptTemplate\n",
    "from langchain.schema import StrOutputParser\n",
    "from langchain.schema.runnable import Runnable\n",
    "from langchain.schema.runnable.config import RunnableConfig\n",
    "\n",
    "import bs4\n",
    "from langchain import hub\n",
    "from langchain_community.document_loaders import WebBaseLoader, TextLoader, PyPDFLoader\n",
    "from langchain_community.vectorstores import Chroma\n",
    "from langchain_core.output_parsers import StrOutputParser\n",
    "from langchain_core.runnables import RunnablePassthrough\n",
    "from langchain_openai import ChatOpenAI, OpenAIEmbeddings, OpenAI\n",
    "from langchain_text_splitters import RecursiveCharacterTextSplitter\n",
    "from langchain_core.prompts import PromptTemplate\n",
    "from langchain_core.documents import Document\n",
    "from langchain.chains import LLMChain\n",
    "from langchain_core.messages import HumanMessage, SystemMessage\n",
    "from langchain.retrievers import BM25Retriever, EnsembleRetriever\n",
    "\n",
    "from langchain_groq import ChatGroq\n",
    "from langchain_community.chat_models.tongyi import ChatTongyi\n",
    "from langchain_core.messages import HumanMessage\n",
    "from langchain_ollama import ChatOllama\n",
    "\n",
    "from time import *\n",
    "\n",
    "from CodeClient import *\n",
    "from make_code_runnable import *\n",
    "from plot_log import *\n",
    "from tqdm import tqdm\n",
    "import json\n",
    "import os\n",
    "import re\n",
    "from dotenv import load_dotenv,find_dotenv\n",
    "\n",
    "\n",
    "# Global variable to store the name of the LLM\n",
    "llm_name = \"gpt-4o\"\n",
    "llm = ChatOpenAI(name=\"MCCoder and QA\", model_name=llm_name, temperature=0.2, streaming=True)\n",
    "\n",
    "# # Groq\n",
    "# llm_name = \"llama-3.1-8b-instant\"\n",
    "# llm = ChatGroq(\n",
    "#     temperature=0.2,\n",
    "#     model=llm_name)   # llama-3.1-8b-instant,  llama3-70b-8192,  llama-3.1-70b-versatile, llama-3.1-405b-reasoning, mixtral-8x7b-32768\n",
    "\n",
    "# Tongyi Qwen\n",
    "# llm_name = \"qwen-plus\"\n",
    "# llm = ChatTongyi(\n",
    "#     temperature=0.2,\n",
    "#     model=llm_name)   # qwen-turbo(8k), qwen-plus  (32k), qwen-max  (6k),  qwen-max-longcontext (28k)\n",
    "\n",
    "# Ollama\n",
    "# chatllm = ChatOllama(\n",
    "# llm=\"deepseek-coder-v2\",            # codellama:7b , codellama:34b, tinyllama, codegeex4, deepseek-coder-v2\n",
    "# temperature=0.2\n",
    "# # other params...\n",
    "# )\n",
    "\n",
    "\n",
    "# Prepare docs for RAG\n",
    "\n",
    "load_dotenv(find_dotenv()) \n",
    "\n",
    "# Preparation of documents for RAG-------------------------\n",
    "# Vectorstore, for retrieval\n",
    "embedding_model=OpenAIEmbeddings(model=\"text-embedding-3-large\")   #text-embedding-3-large   #text-embedding-ada-002    #text-embedding-3-small\n",
    "\n",
    "# If pdf vectorstore exists\n",
    "vectorstore_path = \"Vectorstore/chromadb-MCCoder\"\n",
    "if os.path.exists(vectorstore_path):\n",
    "    vectorstore = Chroma(\n",
    "                    embedding_function=embedding_model,\n",
    "                    persist_directory=vectorstore_path,\n",
    "                    ) \n",
    "    print(\"load from disk: \" + vectorstore_path)\n",
    "else:\n",
    "        # Load from chunks and save to disk\n",
    "    # vectorstore = Chroma.from_documents(documents=splits, embedding=embedding_model, persist_directory=vectorstore_path) \n",
    "    print(\"load from chunks\")\n",
    "\n",
    "\n",
    "\n",
    "# Txt loader of sample codes, for BM25 search\n",
    "loader = TextLoader(\"./docs/WMX3API_MCEval_Samplecodes.txt\")\n",
    "docs = loader.load()\n",
    "\n",
    "#Sample code chunk with dedicated separators\n",
    "separators = ['``']  # Adjust based on actual document structure, `` is the end of each code snippet.\n",
    "text_splitter = RecursiveCharacterTextSplitter(separators=separators, keep_separator=True, chunk_size=1000, chunk_overlap=200, add_start_index=True)\n",
    "splits = text_splitter.split_documents(docs)\n",
    "\n",
    "# Define a global variable user_question_global\n",
    "user_question_global = ''\n",
    "\n",
    "# Extracts and formats code instructions from a user question based on specific starting phrases.\n",
    "def coder_router(user_question):\n",
    "    \"\"\"\n",
    "    Extracts numbered sections of a user question based on specific starting phrases.\n",
    "    \n",
    "    If the question starts with 'Write a python code', 'Python code', or 'write python' (case insensitive),\n",
    "    it splits the question into paragraphs that start with numbers (e.g., 1., 2., 3.) and adds \n",
    "    'Write python code to ' after the numbers. If the question does not start \n",
    "    with the specified phrases or does not contain numbered lists, the entire question is saved into a single \n",
    "    element array. If the question does not start with the specified phrases, NoCoder is set to 1.\n",
    "    \n",
    "    Args:\n",
    "        user_question (str): The user's question.\n",
    "    \n",
    "    Returns:\n",
    "        tuple: NoCoder (int), an array of strings with each element containing a code instruction or the entire question.\n",
    "    \"\"\"\n",
    "    result = []\n",
    "    NoCoder = 0\n",
    "    # Check if the input starts with the specified prefixes\n",
    "    if re.match(r'(?i)^(Write a python code|Python code|write python)', user_question):\n",
    "        result.append(user_question)\n",
    "    else:\n",
    "        # Save the entire question to the array and set NoCoder to 1\n",
    "        result.append(user_question)\n",
    "        NoCoder = 1\n",
    "    \n",
    "    return NoCoder, result\n",
    "\n",
    "\n",
    "\n",
    "# This function retrieves and concatenates documents for each element in the input string array.\n",
    "def coder_retrieval(coder_router_result):\n",
    "    \"\"\"\n",
    "    This function takes an array of strings as input. For each element in the array,\n",
    "    it performs a retrieval using format_docs(retriever.invoke(element))\n",
    "    and concatenates the element with the retrieval result into one long string, \n",
    "    with a newline character between them. Each concatenated result is separated by a specified separator.\n",
    "    \n",
    "    Args:\n",
    "        coder_router_result (list): An array of strings.\n",
    "\n",
    "    Returns:\n",
    "        str: A single long string formed by concatenating each element with its retrieval result,\n",
    "             separated by a newline character, and each concatenated result separated by a specified separator.\n",
    "    \"\"\"\n",
    "    separator = \"\\n----------\\n\"\n",
    "    long_string = \"\"\n",
    "    using_basic_rag = False\n",
    "    retriever = vectorstore.as_retriever(search_type=\"similarity\", search_kwargs={\"k\": 5})\n",
    "    for element in coder_router_result:\n",
    "        if using_basic_rag == True:\n",
    "            # -------------------------------------------\n",
    "            # Basic retrieval\n",
    "            retrieval_result = format_docs(retriever.invoke(element))\n",
    "        else:\n",
    "            # -------------------------------------------\n",
    "            # Fusion retrieval or hybrid search\n",
    "\n",
    "\n",
    "            # initialize the bm25 retriever  \n",
    "            bm25_retriever = BM25Retriever.from_documents(splits)\n",
    "            bm25_retriever.k = 5\n",
    "\n",
    "            # initialize the ensemble retriever\n",
    "            ensemble_retriever = EnsembleRetriever(retrievers=[bm25_retriever, retriever], weights=[0.5, 0.5])\n",
    "\n",
    "            ensemble_docs = ensemble_retriever.invoke(element)\n",
    "\n",
    "            retrieval_result = format_docs(ensemble_docs)\n",
    "\n",
    "\n",
    "        long_string += element + \"\\n\" + retrieval_result + separator\n",
    "    \n",
    "    return long_string\n",
    "\n",
    "\n",
    "# Joins the page content of each document with double newline\n",
    "def format_docs(docs):\n",
    "   return \"\\n\\n\".join(doc.page_content for doc in docs)\n",
    "\n",
    "\n",
    "# Extracts code snippets written in Python from the given text\n",
    "def extract_code(text):\n",
    "    # Define the regular expression pattern to find text between ```python and ```\n",
    "    pattern = r\"```python(.*?)```\"\n",
    "\n",
    "    # Use re.findall to find all occurrences\n",
    "    matches = re.findall(pattern, text, re.DOTALL)\n",
    "\n",
    "    # Return the matches, join them if there are multiple matches\n",
    "    return \"\\n\\n---\\n\\n\".join(matches)\n",
    "\n",
    "\n",
    "# Call LLM to generate code\n",
    "def CoderLLM(user_question, code_context):\n",
    "\n",
    "    # Prompt for code generation\n",
    "    prompt_template = \"\"\"Write a python code based on the following Question and Context. You need to choose the correct sample codes from the Context to answer the Question.\n",
    "    1. Review the Question carefully and find all the 'Axis number', 'IO Input' and 'IO Output', case insensitive, and add them to the first lines of the generated code in the following format: \n",
    "    # Axes = [Axis number 1, Axis number 2, ...]\n",
    "    # Inputs = [byte.bit 1, byte.bit 2, ...]\n",
    "    # Outputs = [byte.bit 1, byte.bit 2, ...]\n",
    "    For instance, if the question is '...Axis 9..., ...Axis 12..., ...Axis 2..., IO Input 0.3 and 1.2, ...IO Output 3.4 and 6.1', then exact the information after matching the keywords: \"Axis\", \"Input\", \"Output\":\n",
    "    # Axes = [9, 12, 2]\n",
    "    # Inputs = [0.3, 1.2, ...]\n",
    "    # Outputs = [3.4, 6.1, ...]\n",
    "    2. Include all the generated codes within one paragraph between ```python and ``` tags. \n",
    "    3. Don't import any library.\n",
    "    4. Don't create any functions or example usage or unit test.\n",
    "    5. You need to wait until the Axes reaches the target position and stops, after the motion API, unless otherwise specified. For instance, Wmx3Lib_cm.motion.Wait(4), while 4 is the Axis specified in Axes.\n",
    "    6. Use StartPos for absolute positioning, as in 'Move Axis 4 to 200', and StartMov for relative positioning, as in 'Move Axis 4 by a distance of 200'.\n",
    "    7. Strictly follow the instruction for the specified profile type.\n",
    "    8. If acceleration/acc, deceleration/dec, and velocity/speed are not specified in the user query, use the default values provided in the context's sample codes.\n",
    "    ----------------------------------------------\n",
    "\n",
    "    Question: \n",
    "    {question}\n",
    "\n",
    "    Context: \n",
    "    {context}\n",
    "\n",
    "        \"\"\"\n",
    "\n",
    "    prompt_code = ChatPromptTemplate.from_template(prompt_template)\n",
    "\n",
    "    rag_chain = (\n",
    "        #{\"context\": context_msg, \"question\": RunnablePassthrough()}\n",
    "        prompt_code\n",
    "        | llm\n",
    "        | StrOutputParser()\n",
    "    )\n",
    "\n",
    "\n",
    "    codes = rag_chain.invoke({\"context\": code_context, \"question\": user_question})\n",
    "    \n",
    "    # Get python code from the output of LLM\n",
    "    codes = extract_code(codes)\n",
    "\n",
    "    return codes\n",
    "\n",
    "# Corrects the provided error codes based on specified error information calling LLM\n",
    "def self_correct(err_codes):\n",
    "   # Search to get the python function as a context for self correction.\n",
    "    python_function_retriever = vectorstore.as_retriever(search_type=\"similarity\", search_kwargs={\"k\": 3, \"filter\":{\"source\":\"./docs/WMX3API_FunctionPython.json\"}}) \n",
    "\n",
    "    # Split the string into lines\n",
    "    lines = err_codes.split('\\n')\n",
    "    error_str = ''\n",
    "    # Iterate through each line to find 'Error:'\n",
    "    for line in lines:\n",
    "        if 'Error:' in line:\n",
    "            # Assign the line containing 'Error:' to error_str\n",
    "            error_str = line\n",
    "    # error_str = 'GetInBit'\n",
    "    print('error string:----------------------\\n' + error_str )\n",
    "    python_function_result = python_function_retriever.invoke(error_str)\n",
    "    print(python_function_result)\n",
    "\n",
    "    err_codes = err_codes + \"\\n # Python function reference: ---------------- \\n \" + format_docs(python_function_result)\n",
    "    \n",
    "   # Remember to write \"python\" code in the prompt later\n",
    "    template = \"\"\"Correct the following codes based on the error infomation and FunctionPython and Parameters reference. \n",
    "    1. If the error is 'variable_name is not defined', and only if the variable_name is in the user question , try assigning it a value of None firstly.\n",
    "    2. If an error message indicates that acc, dec, velocity, or other arguments are out of range, assign them the default values presented in the preceding code samples. For instance, xxx.profile.acc = 10000, xxx.profile.dec = 10000.\n",
    "\n",
    "        User question:\n",
    "        {user_question}\n",
    "\n",
    "        Error information:\n",
    "        {err_codes}\n",
    "\n",
    "\n",
    "        \"\"\"\n",
    "\n",
    "    custom_rag_prompt = PromptTemplate.from_template(template)\n",
    "    \n",
    "    rag_chain = (\n",
    "            # {\"err_codes\": RunnablePassthrough()}\n",
    "            custom_rag_prompt\n",
    "            | llm\n",
    "            | StrOutputParser()\n",
    "        )\n",
    "\n",
    "    code_corrected=rag_chain.invoke({ \"user_question\": user_question_global, \"err_codes\": err_codes})\n",
    " \n",
    "    return(code_corrected)\n",
    "\n",
    "\n",
    "# Decompose tasks from user questions using a LLM\n",
    "def task_decomposer_llm(user_question):\n",
    "   #  \n",
    "    template = \"\"\"Only if the user question contains a consecutive numbered list as '1.', '2.', '3.', decompose the tasks; otherwise just output the user question. For example, the user question 'Write Python code to execute the following tasks: 1. Move Axis 1 to 200; 2. Move Axis 9 as a distance of 150; 3. Set IO output 4.3 to 1, and sleep for 1.5 seconds.' should be decomposed into three tasks as output adding 'Write python code to ':\n",
    "    1. Write python code to Move Axis 1 to 200;\n",
    "    2. Write python code to Move Axis 9 as a distance of 150;\n",
    "    3. Write python code to Set IO output 4.3 to 1, and sleep for 1.5 seconds.\n",
    "\n",
    "        User question:\n",
    "        {question}\n",
    "\n",
    "        Output:\n",
    "\n",
    "        \"\"\"\n",
    "\n",
    "    custom_rag_prompt = PromptTemplate.from_template(template)\n",
    "    \n",
    "    rag_chain = (\n",
    "            # {\"err_codes\": RunnablePassthrough()}\n",
    "            custom_rag_prompt\n",
    "            | llm\n",
    "            | StrOutputParser()\n",
    "        )\n",
    "\n",
    "    task_str=rag_chain.invoke({\"question\": user_question})\n",
    "    \n",
    "    lines = task_str.splitlines()\n",
    "    tasks = []\n",
    "    \n",
    "    # Check if each line starts with the correct number followed by a period and a space\n",
    "    for i, line in enumerate(lines):\n",
    "        expected_number = f\"{i + 1}.\"\n",
    "        if line.startswith(expected_number):\n",
    "            tasks.append(line.strip())\n",
    "    \n",
    "    # If there are no multiple tasks, just output the original question.\n",
    "    if len(tasks) == 0:\n",
    "        tasks.append(task_str)\n",
    "    \n",
    "    return tasks\n",
    "\n",
    "\n",
    "# Decompose tasks from user questions using a LLM\n",
    "def tasks_composer_llm(user_question, code_from_llm_str):\n",
    "   #  \n",
    "    template = \"\"\"Write a Python code that incorporates the Context_Codes (tasks) to address the following Question:\n",
    "\n",
    "    Question: \n",
    "    {question}\n",
    "\n",
    "    Context_Codes: \n",
    "    {context}\n",
    "\n",
    "        \"\"\"\n",
    "\n",
    "    custom_rag_prompt = PromptTemplate.from_template(template)\n",
    "    \n",
    "    rag_chain = (\n",
    "            # {\"err_codes\": RunnablePassthrough()}\n",
    "            custom_rag_prompt\n",
    "            | llm\n",
    "            | StrOutputParser()\n",
    "        )\n",
    "\n",
    "    code_from_composer_llm=rag_chain.invoke({\"questions\": user_question, \"context\": code_from_llm_str})\n",
    "    # Get python code from the output of LLM\n",
    "    code_from_composer_llm = extract_code(code_from_composer_llm)\n",
    "    \n",
    "    return code_from_composer_llm\n",
    "\n",
    "\n",
    "# Send the code generated by the LLM to WMX3 engine\n",
    "def RunCode(codes_from_llm, task_info):\n",
    "\n",
    "    RunnableCode = make_code_runnable(codes_from_llm, llm_name, task_info)\n",
    "    # print(RunnableCode)\n",
    "\n",
    "    # Run Code in WMX3\n",
    "    codereturn = SendCode(RunnableCode)\n",
    "    # If there is an error, invoke llm to self-correct, and then send to WMX3 again.\n",
    "    if 'error' in codereturn.lower():\n",
    "        err_codes_0 = codereturn + '\\n # ------------------------------- \\n' + codes_from_llm\n",
    "        code_corrected = self_correct(err_codes_0)\n",
    "        msgCode = extract_code(code_corrected)\n",
    "        RunnableCode = make_code_runnable(msgCode, llm_name, task_info)\n",
    "        codereturn = SendCode(RunnableCode)\n",
    "        if 'error' in codereturn.lower():\n",
    "            self_correct_str = \"Self-correction but still got an error.\\n\\n\"\n",
    "        else:\n",
    "            self_correct_str = \"Self-corrected.\\n\\n\"\n",
    "        \n",
    "        codereturn += self_correct_str\n",
    "        print(self_correct_str)\n",
    "\n",
    "    return codereturn\n",
    "    \n",
    "\n",
    "# Evaluate dataset\n",
    "def EvalDataset():\n",
    "    # Declare the use of the global variable to store user question\n",
    "    global user_question_global\n",
    "\n",
    "    # Define task range\n",
    "    task_infos = range(1, 2)\n",
    "\n",
    "    # Read JSON file\n",
    "    with open(\"./docs/WMX3API_MCEval_Evaluation_Dataset.json\", \"r\") as f:\n",
    "        dataset = json.load(f)\n",
    "\n",
    "    # Initialize statistics dictionary\n",
    "    statistics = {\n",
    "        1: {'correct': 0, 'syntax_error': 0, 'api_error': 0, 'self_corrected_error': 0, 'self_corrected_correct': 0, 'total_errors': 0, 'total': 0},\n",
    "        2: {'correct': 0, 'syntax_error': 0, 'api_error': 0, 'self_corrected_error': 0, 'self_corrected_correct': 0, 'total_errors': 0, 'total': 0},\n",
    "        3: {'correct': 0, 'syntax_error': 0, 'api_error': 0, 'self_corrected_error': 0, 'self_corrected_correct': 0, 'total_errors': 0, 'total': 0}\n",
    "    }\n",
    "\n",
    "    total_correct = 0\n",
    "    total_syntax_error = 0\n",
    "    total_api_error = 0\n",
    "    total_self_corrected_error = 0\n",
    "    total_self_corrected_correct = 0\n",
    "    total_errors = 0\n",
    "\n",
    "    # Initialize error log list\n",
    "    error_log = []\n",
    "    self_corrected_log = []\n",
    "\n",
    "    # Iterate through task range\n",
    "    for task_info in tqdm(task_infos, desc=\"Processing tasks\"):\n",
    "        # Get task information\n",
    "        task_entry = next(item for item in dataset if item[\"TaskId\"] == task_info)\n",
    "        user_question = task_entry[\"Instruction\"]\n",
    "        difficulty = task_entry[\"Difficulty\"]\n",
    "        task_id = task_entry[\"TaskId\"]\n",
    "\n",
    "        print(f\"Task ID: {task_id} 🔽\")\n",
    "\n",
    "        user_question_global = user_question\n",
    "        # Call coder_router function\n",
    "        NoCoder, coder_router_result = coder_router(user_question)\n",
    "\n",
    "        # Route the result based on NoCoder value\n",
    "        if NoCoder == 0: # Coding task\n",
    "            tasks = task_decomposer_llm(user_question)\n",
    "            # Initialize a code string from LLM\n",
    "            code_from_llm_str = ''\n",
    "            for i in range(len(tasks)):\n",
    "                coder_return = coder_retrieval(coder_router_result)  # Code context\n",
    "                # Call CoderLLM function\n",
    "                code_from_llm = CoderLLM(user_question, coder_return)\n",
    "                code_from_llm_str += f'\\n#---------task{i}:---------\\n' + tasks[i] + f'\\n#---------code{i}:---------\\n' + code_from_llm \n",
    "\n",
    "        \n",
    "        # Single task\n",
    "        if len(tasks) == 1:\n",
    "            # Run code\n",
    "            CoderResult = RunCode(code_from_llm, task_info)\n",
    "        else:  # Multi tasks\n",
    "            code_from_composer_llm = tasks_composer_llm(user_question, code_from_llm_str)\n",
    "            CoderResult = RunCode(code_from_composer_llm, task_info)\n",
    "\n",
    "        # Init Correctness, if equals 1, then plot.\n",
    "        Correctness = 0\n",
    "        statistics[difficulty]['total'] += 1\n",
    "        # Check for \"Self-correct\" in the result\n",
    "        if 'self-correct' in CoderResult.lower():\n",
    "            self_corrected_log.append({'TaskId': task_info, 'Result': CoderResult})\n",
    "            if 'self-correction but still got an error' in CoderResult.lower():\n",
    "                error_info = {\n",
    "                    'TaskId': task_info,\n",
    "                    'Error': CoderResult\n",
    "                }\n",
    "                error_log.append(error_info)\n",
    "                statistics[difficulty]['self_corrected_error'] += 1\n",
    "                total_self_corrected_error += 1\n",
    "                total_errors += 1\n",
    "\n",
    "                if 'syntaxerror' in CoderResult.lower():\n",
    "                    statistics[difficulty]['syntax_error'] += 1\n",
    "                    total_syntax_error += 1\n",
    "                else:\n",
    "                    statistics[difficulty]['api_error'] += 1\n",
    "                    total_api_error += 1\n",
    "            elif 'self-corrected' in CoderResult.lower():\n",
    "                statistics[difficulty]['self_corrected_correct'] += 1\n",
    "                total_self_corrected_correct += 1\n",
    "                total_correct += 1\n",
    "                Correctness = 1\n",
    "        else:\n",
    "\n",
    "            statistics[difficulty]['correct'] += 1\n",
    "            total_correct += 1\n",
    "            Correctness = 1\n",
    "\n",
    "        if Correctness == 1:\n",
    "            folder_path = f'/Users/yin/Documents/GitHub/MCCodeLog/{llm_name}'\n",
    "            os.makedirs(folder_path, exist_ok=True)\n",
    "            # Plot with the log file\n",
    "            log_file_path = os.path.join(folder_path, f\"{task_info}_{llm_name}_log.txt\")\n",
    "            plot_log(log_file_path)\n",
    "            print('# -------------------------------------------------------------------------\\n')\n",
    "\n",
    "    # Print overall statistics\n",
    "    total_tasks = sum([statistics[d]['total'] for d in statistics])\n",
    "    print(\"Overall Results:\")\n",
    "    print(f\"  Total Correct: {total_correct} ({total_correct / total_tasks:.2%})\")\n",
    "    print(f\"  Total Errors: {total_errors} ({total_errors / total_tasks:.2%})\")\n",
    "    print(f\"  Total Syntax Error: {total_syntax_error} ({total_syntax_error / total_tasks:.2%})\")\n",
    "    print(f\"  Total API Error: {total_api_error} ({total_api_error / total_tasks:.2%})\")\n",
    "    print(f\"  Total Self-corrected Errors: {total_self_corrected_error} ({total_self_corrected_error / total_tasks:.2%})\")\n",
    "    print(f\"  Total Self-corrected Correct: {total_self_corrected_correct} ({total_self_corrected_correct / total_tasks:.2%})\")\n",
    "    print(\"\")\n",
    "\n",
    "    # Print statistics by difficulty\n",
    "    for difficulty, counts in statistics.items():\n",
    "        total_difficulty = counts['total']\n",
    "        if total_difficulty != 0:\n",
    "            print(f\"Difficulty: {difficulty}\")\n",
    "            print(f\"  Correct: {counts['correct']} ({counts['correct'] / total_difficulty:.2%})\")\n",
    "            print(f\"  Errors: {counts['total_errors']} ({counts['total_errors'] / total_difficulty:.2%})\")\n",
    "            print(f\"  Syntax Error: {counts['syntax_error']} ({counts['syntax_error'] / total_difficulty:.2%})\")\n",
    "            print(f\"  API Error: {counts['api_error']} ({counts['api_error'] / total_difficulty:.2%})\")\n",
    "            print(f\"  Self-corrected Errors: {counts['self_corrected_error']} ({counts['self_corrected_error'] / total_difficulty:.2%})\")\n",
    "            print(f\"  Self-corrected Correct: {counts['self_corrected_correct']} ({counts['self_corrected_correct'] / total_difficulty:.2%})\")\n",
    "            print(\"\")\n",
    "\n",
    "    # Print error log\n",
    "    if error_log:\n",
    "        print(\"Error Log:\")\n",
    "        for error in error_log:\n",
    "            print(f\"  TaskId: {error['TaskId']}, Error: {error['Error']}\")\n",
    "        print(\"\")\n",
    "\n",
    "    # Print self-corrected log\n",
    "    if self_corrected_log:\n",
    "        print(\"Self-corrected Log:\")\n",
    "        for log in self_corrected_log:\n",
    "            print(f\"  TaskId: {log['TaskId']}, Result: {log['Result']}\")\n",
    "        print(\"\")\n",
    "\n",
    "\n",
    "\n",
    "EvalDataset()\n",
    "    \n"
   ]
  },
  {
   "cell_type": "code",
   "execution_count": null,
   "metadata": {},
   "outputs": [],
   "source": []
  }
 ],
 "metadata": {
  "kernelspec": {
   "display_name": "rag-demo-IMu3vKF7-py3.10",
   "language": "python",
   "name": "python3"
  },
  "language_info": {
   "codemirror_mode": {
    "name": "ipython",
    "version": 3
   },
   "file_extension": ".py",
   "mimetype": "text/x-python",
   "name": "python",
   "nbconvert_exporter": "python",
   "pygments_lexer": "ipython3",
   "version": "3.11.7"
  }
 },
 "nbformat": 4,
 "nbformat_minor": 2
}
