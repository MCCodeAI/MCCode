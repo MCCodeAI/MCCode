{
 "cells": [
  {
   "cell_type": "markdown",
   "metadata": {},
   "source": [
    "# MCCoder MCEval Dataset for evaluation\n"
   ]
  },
  {
   "cell_type": "markdown",
   "metadata": {},
   "source": [
    "## Preparation\n"
   ]
  },
  {
   "cell_type": "markdown",
   "metadata": {},
   "source": [
    "### Generate JSON dataset file from excel, python source code and log file.\n"
   ]
  },
  {
   "cell_type": "markdown",
   "metadata": {},
   "source": [
    "#### Generate Json file from python source file\n"
   ]
  },
  {
   "cell_type": "code",
   "execution_count": 7,
   "metadata": {},
   "outputs": [
    {
     "name": "stdout",
     "output_type": "stream",
     "text": [
      "JSON file has been generated at docs/WMX3API_MCEval_Dataset.json\n"
     ]
    }
   ],
   "source": [
    "import pandas as pd\n",
    "import os\n",
    "import json\n",
    "\n",
    "# Load the Excel file\n",
    "excel_file_path = 'docs/WMX3API_MCEval_Dataset.xlsx'\n",
    "df = pd.read_excel(excel_file_path)\n",
    "\n",
    "# Initialize an empty list to store the data for JSON\n",
    "data_list = []\n",
    "\n",
    "# Iterate through each row in the dataframe\n",
    "for index, row in df.iterrows():\n",
    "    task_id = row['TaskId']\n",
    "    # Construct the path to the Python file\n",
    "    py_file_path = f'MCEval_Files/{task_id}_MCEval.py'\n",
    "    \n",
    "    # Read the Python file to get the CanonicalCode\n",
    "    if os.path.exists(py_file_path):\n",
    "        with open(py_file_path, 'r') as file:\n",
    "            canonical_code = file.read()\n",
    "    else:\n",
    "        canonical_code = ''\n",
    "    \n",
    "    # Create a dictionary for the current row\n",
    "    row_data = row.to_dict()\n",
    "    row_data['CanonicalCode'] = canonical_code\n",
    "    \n",
    "    # Append the dictionary to the list\n",
    "    data_list.append(row_data)\n",
    "\n",
    "# Construct the output JSON file path\n",
    "json_file_path = excel_file_path.replace('.xlsx', '.json')\n",
    "\n",
    "# Write the data to a JSON file\n",
    "with open(json_file_path, 'w') as json_file:\n",
    "    json.dump(data_list, json_file, indent=4)\n",
    "\n",
    "print(f\"JSON file has been generated at {json_file_path}\")\n"
   ]
  },
  {
   "cell_type": "markdown",
   "metadata": {},
   "source": [
    "#### Generate Json file from python source file with motion log\n"
   ]
  },
  {
   "cell_type": "code",
   "execution_count": null,
   "metadata": {},
   "outputs": [],
   "source": [
    "import pandas as pd\n",
    "import os\n",
    "import json\n",
    "import socket\n",
    "from time import *\n",
    "from tqdm import tqdm\n",
    "\n",
    "# Load the Excel file\n",
    "excel_file_path = 'docs/WMX3API_MCEval_Dataset.xlsx'\n",
    "df = pd.read_excel(excel_file_path)\n",
    "\n",
    "# Initialize an empty list to store the data for JSON\n",
    "data_list = []\n",
    "\n",
    "# Function to modify the Python code with logging\n",
    "def add_log_code(py_code, task_id, axis):\n",
    "    lines = py_code.split('\\n')\n",
    "    modified_code = []\n",
    "    i = 0\n",
    "    # Add logging start code\n",
    "    while i < len(lines):\n",
    "        modified_code.append(lines[i])\n",
    "        if '.StartHome' in lines[i]:\n",
    "            i += 1\n",
    "            while i < len(lines) and lines[i].strip() != '':\n",
    "                modified_code.append(lines[i])\n",
    "                i += 1\n",
    "            if i < len(lines):\n",
    "                modified_code.append(f'''\n",
    "                                     \n",
    "    # <log ---------------------------------------------------------------------------                                                                 \n",
    "    WMX3Log = Log(Wmx3Lib)\n",
    "\n",
    "    axislist = {axis}                           \n",
    "    num = len(axislist)\n",
    "\n",
    "    # Set Axis numbers and control variables of log\n",
    "    cmLogIn_0 = CoreMotionLogInput()\n",
    "    cmLogIn_0.axisSelection.axisCount = num\n",
    "    for i in range(0, num):\n",
    "        cmLogIn_0.axisSelection.SetAxis(i, axislist[i])\n",
    "\n",
    "    # Control variables to log\n",
    "    cmLogIn_0.axisOptions.commandPos = 1\n",
    "    cmLogIn_0.axisOptions.feedbackPos = 0\n",
    "    cmLogIn_0.axisOptions.commandVelocity = 0\n",
    "    cmLogIn_0.axisOptions.feedbackVelocity = 0\n",
    "\n",
    "    # Set up log time\n",
    "    option = LogChannelOptions()\n",
    "    option.samplingPeriodInCycles = 1\n",
    "    option.samplingTimeMilliseconds = 1000000  \n",
    "\n",
    "    ret=WMX3Log.SetLogOption(0, option)\n",
    "    if ret!=0:\n",
    "        print('SetLogOption error code is ' + str(ret) + ': ' + WMX3Log.ErrorToString(ret))\n",
    "        return\n",
    "    sleep(0.1)\n",
    "    ret = WMX3Log.SetCustomLog(0,cmLogIn_0)\n",
    "    if ret!=0:\n",
    "        print('SetCustomLog error code is ' + str(ret) + ': ' + WMX3Log.ErrorToString(ret))\n",
    "        return\n",
    "    sleep(0.1)\n",
    "\n",
    "    # Set log file address\n",
    "    path_0 = LogFilePath()\n",
    "    WMX3Log.GetLogFilePath(0)\n",
    "    path_0.dirPath = \"C:\\\\\\\\\"\n",
    "    path_0.fileName = f\"{task_id}_MCEval_Log.txt\"\n",
    "    ret = WMX3Log.SetLogFilePath(0, path_0)\n",
    "    if ret!=0:\n",
    "        print('SetLogFilePath error code is ' + str(ret) + ': ' + WMX3Log.ErrorToString(ret))\n",
    "        return\n",
    "\n",
    "    # Stop log just in case logging is on.\n",
    "    ret = WMX3Log.StopLog(0)\n",
    "    sleep(0.01)\n",
    "\n",
    "    # Start log\n",
    "    ret = WMX3Log.StartLog(0)\n",
    "    if ret!=0:\n",
    "        print('StartLog error code is ' + str(ret) + ': ' + WMX3Log.ErrorToString(ret))\n",
    "        return\n",
    "    sleep(0.01)\n",
    "    # log> ---------------------------------------------------------------------------   \n",
    "    \n",
    "                ''')\n",
    "        i += 1\n",
    "\n",
    "    # Add logging stop code\n",
    "    i = len(lines) - 1\n",
    "    while i >= 0:\n",
    "        if '.SetServoOn' in lines[i]:\n",
    "            while i >= 0 and lines[i].strip() != '':\n",
    "                i -= 1\n",
    "            if i >= 0:\n",
    "                modified_code.insert(i + 1, '''\n",
    "                                     \n",
    "    # <log --------------------------------------------------------------------------- \n",
    "    sleep(0.1)                                                                    \n",
    "    # Stop log\n",
    "    ret = WMX3Log.StopLog(0)\n",
    "    if ret!=0:\n",
    "        print('StopLog error code is ' + str(ret) + ': ' + WMX3Log.ErrorToString(ret))\n",
    "        return\n",
    "\n",
    "    for axisNo in axislist:                                \n",
    "        ret = Wmx3Lib_cm.home.StartHome(axisNo)\n",
    "        if ret!=0:\n",
    "            print('StartHome error code is ' + str(ret) + ': ' + Wmx3Lib_cm.ErrorToString(ret))\n",
    "            return\n",
    "        Wmx3Lib_cm.motion.Wait(axisNo)                                                                  \n",
    "    # log> ---------------------------------------------------------------------------     \n",
    "                                     \n",
    "                ''')\n",
    "            break\n",
    "        i -= 1\n",
    "\n",
    "    return '\\n'.join(modified_code)\n",
    "\n",
    "# Function to send code and log data to socket server\n",
    "def SendCodeLog(code_data_log):\n",
    "    # 1. Create socket\n",
    "    tcp_socket = socket.socket(socket.AF_INET, socket.SOCK_STREAM)\n",
    "\n",
    "    # 2. Connect server\n",
    "    server_addr = (\"10.211.55.5\", 8888)\n",
    "    tcp_socket.connect(server_addr)\n",
    "    print(\"Socket connected\")\n",
    "\n",
    "    import time\n",
    "\n",
    "    # 3. Send data\n",
    "    tcp_socket.send(code_data_log.encode(\"utf-8\"))\n",
    "\n",
    "    time.sleep(0.1)\n",
    "\n",
    "    send_data = 'exit'\n",
    "    tcp_socket.send(send_data.encode(\"utf-8\"))\n",
    "\n",
    "    # 4. Receive data from server\n",
    "    tcp_remsg = tcp_socket.recv(1024)\n",
    "    print(tcp_remsg.decode(\"utf-8\"))\n",
    "\n",
    "    # 5. Close socket\n",
    "    tcp_socket.close()\n",
    "    print(\"Socket end\")\n",
    "\n",
    "# Iterate through each row in the dataframe with a progress bar\n",
    "for index, row in tqdm(df.iterrows(), total=len(df), desc=\"Processing rows\"):\n",
    "    task_id = row['TaskId']\n",
    "    # Construct the path to the Python file\n",
    "    py_file_path = f'MCEval_Files/{task_id}_MCEval.py'\n",
    "    \n",
    "    # Read the Python file to get the CanonicalCode\n",
    "    if os.path.exists(py_file_path):\n",
    "        with open(py_file_path, 'r') as file:\n",
    "            py_code = file.read()\n",
    "    else:\n",
    "        py_code = ''\n",
    "    \n",
    "    #If it is about motion log\n",
    "    print('endp: ' + str(row['EndPoint']))\n",
    "    if (str(row['EndPoint']) != 'nan'):\n",
    "        # Extract axis from the first row of 'EndPoint'\n",
    "        try:\n",
    "            axis = list(range(len(eval(row['EndPoint'])[0])))\n",
    "            axis = eval(row['EndPoint'])[0]\n",
    "            print(\"axisl: \" + str(axis))\n",
    "            if not axis:\n",
    "                continue\n",
    "        except Exception as e:\n",
    "            print(f\"Error processing axis for task {task_id}: {e}\")\n",
    "            continue\n",
    "\n",
    "        # Add log code to the Python file content\n",
    "        modified_code = add_log_code(py_code, task_id, axis)\n",
    "    else:\n",
    "        modified_code = py_code\n",
    "    \n",
    "    # Save the modified code to a new file\n",
    "    modified_file_path = f'MCEval_Files/{task_id}_MCEval_WithLog.py'\n",
    "    with open(modified_file_path, 'w') as file:\n",
    "        file.write(modified_code)\n",
    "    \n",
    "    # Send the modified code to the socket server for each task\n",
    "    SendCodeLog(modified_code)\n",
    "    sleep(0.3)\n",
    "\n",
    "    # Create a dictionary for the current row\n",
    "    row_data = row.to_dict()\n",
    "    row_data['CanonicalCode'] = py_code\n",
    "    \n",
    "    # Append the dictionary to the list\n",
    "    data_list.append(row_data)\n",
    "\n",
    "    sleep(0.2)\n",
    "\n",
    "# Construct the output JSON file path\n",
    "json_file_path = excel_file_path.replace('.xlsx', '.json')\n",
    "\n",
    "# Write the data to a JSON file\n",
    "with open(json_file_path, 'w') as json_file:\n",
    "    json.dump(data_list, json_file, indent=4)\n",
    "\n",
    "print(f\"JSON file has been generated at {json_file_path}\")\n"
   ]
  },
  {
   "cell_type": "markdown",
   "metadata": {},
   "source": [
    "#### Generate Json file from python source file with motion log, adding error stastics\n"
   ]
  },
  {
   "cell_type": "code",
   "execution_count": 1,
   "metadata": {},
   "outputs": [
    {
     "name": "stderr",
     "output_type": "stream",
     "text": [
      "/opt/anaconda3/lib/python3.11/site-packages/openpyxl/worksheet/_read_only.py:79: UserWarning: Sparkline Group extension is not supported and will be removed\n",
      "  for idx, row in parser.parse():\n",
      "Processing rows:   0%|          | 0/69 [00:00<?, ?it/s]"
     ]
    },
    {
     "name": "stdout",
     "output_type": "stream",
     "text": [
      "endp: [[0],\n",
      "[180]]\n",
      "axisl: [0]\n",
      "Socket connected\n",
      "149\n",
      "codedeta:Program begin.\n",
      "Program End.\n",
      ", Elapsed_time: 4.464\n",
      "codeerr:\n",
      "Socket end\n"
     ]
    },
    {
     "name": "stderr",
     "output_type": "stream",
     "text": [
      "Processing rows:   1%|▏         | 1/69 [00:05<05:45,  5.08s/it]"
     ]
    },
    {
     "name": "stdout",
     "output_type": "stream",
     "text": [
      "endp: [[1],\n",
      "[200]]\n",
      "axisl: [1]\n",
      "Socket connected\n",
      "150\n",
      "codedeta:Program begin.\n",
      "Program End.\n",
      ", Elapsed_time: 3.523\n",
      "codeerr:\n",
      "Socket end\n"
     ]
    },
    {
     "name": "stderr",
     "output_type": "stream",
     "text": [
      "Processing rows:   3%|▎         | 2/69 [00:09<05:03,  4.52s/it]"
     ]
    },
    {
     "name": "stdout",
     "output_type": "stream",
     "text": [
      "endp: [[2],\n",
      "[10]]\n",
      "axisl: [2]\n",
      "Socket connected\n",
      "151\n",
      "codedeta:Program begin.\n",
      "Program End.\n",
      ", Elapsed_time: 5.352\n",
      "codeerr:\n",
      "Socket end\n"
     ]
    },
    {
     "name": "stderr",
     "output_type": "stream",
     "text": [
      "Processing rows:   4%|▍         | 3/69 [00:15<05:42,  5.18s/it]"
     ]
    },
    {
     "name": "stdout",
     "output_type": "stream",
     "text": [
      "endp: [[0],\n",
      "[380]]\n",
      "axisl: [0]\n",
      "Socket connected\n",
      "152\n",
      "codedeta:Program begin.\n",
      "Program End.\n",
      ", Elapsed_time: 3.806\n",
      "codeerr:\n",
      "Socket end\n"
     ]
    },
    {
     "name": "stderr",
     "output_type": "stream",
     "text": [
      "Processing rows:   6%|▌         | 4/69 [00:19<05:17,  4.88s/it]"
     ]
    },
    {
     "name": "stdout",
     "output_type": "stream",
     "text": [
      "endp: [[0,1],\n",
      "[-10,-150]]\n",
      "axisl: [0, 1]\n",
      "Socket connected\n",
      "153\n",
      "codedeta:Program begin.\n",
      "Program End.\n",
      ", Elapsed_time: 4.638\n",
      "codeerr:\n",
      "Socket end\n"
     ]
    },
    {
     "name": "stderr",
     "output_type": "stream",
     "text": [
      "Processing rows:   7%|▋         | 5/69 [00:24<05:21,  5.02s/it]"
     ]
    },
    {
     "name": "stdout",
     "output_type": "stream",
     "text": [
      "endp: nan\n",
      "Socket connected\n",
      "154\n",
      "codedeta:Program begin.\n",
      "Program End.\n",
      ", Elapsed_time: 2.299\n",
      "codeerr:\n",
      "Socket end\n"
     ]
    },
    {
     "name": "stderr",
     "output_type": "stream",
     "text": [
      "Processing rows:   9%|▊         | 6/69 [00:27<04:30,  4.30s/it]"
     ]
    },
    {
     "name": "stdout",
     "output_type": "stream",
     "text": [
      "endp: [[0,1],\n",
      "[300,100]]\n",
      "axisl: [0, 1]\n",
      "Socket connected\n",
      "155\n",
      "codedeta:Program begin.\n",
      "Program End.\n",
      ", Elapsed_time: 3.970\n",
      "codeerr:\n",
      "Socket end\n"
     ]
    },
    {
     "name": "stderr",
     "output_type": "stream",
     "text": [
      "Processing rows:  10%|█         | 7/69 [00:32<04:32,  4.39s/it]"
     ]
    },
    {
     "name": "stdout",
     "output_type": "stream",
     "text": [
      "endp: [[0,1],\n",
      "[200,150]]\n",
      "axisl: [0, 1]\n",
      "Socket connected\n",
      "156\n",
      "codedeta:Program begin.\n",
      "Program End.\n",
      ", Elapsed_time: 3.978\n",
      "codeerr:\n",
      "Socket end\n"
     ]
    },
    {
     "name": "stderr",
     "output_type": "stream",
     "text": [
      "Processing rows:  12%|█▏        | 8/69 [00:36<04:32,  4.46s/it]"
     ]
    },
    {
     "name": "stdout",
     "output_type": "stream",
     "text": [
      "endp: [[0,1],\n",
      "[500,-50]]\n",
      "axisl: [0, 1]\n",
      "Socket connected\n",
      "157\n",
      "codedeta:Program begin.\n",
      "Program End.\n",
      ", Elapsed_time: 4.517\n",
      "codeerr:\n",
      "Socket end\n"
     ]
    },
    {
     "name": "stderr",
     "output_type": "stream",
     "text": [
      "Processing rows:  13%|█▎        | 9/69 [00:42<04:40,  4.67s/it]"
     ]
    },
    {
     "name": "stdout",
     "output_type": "stream",
     "text": [
      "endp: [[0,1],\n",
      "[188,188]]\n",
      "axisl: [0, 1]\n",
      "Socket connected\n",
      "158\n",
      "codedeta:Program begin.\n",
      "Program End.\n",
      ", Elapsed_time: 3.753\n",
      "codeerr:\n",
      "Socket end\n"
     ]
    },
    {
     "name": "stderr",
     "output_type": "stream",
     "text": [
      "Processing rows:  14%|█▍        | 10/69 [00:46<04:30,  4.58s/it]"
     ]
    },
    {
     "name": "stdout",
     "output_type": "stream",
     "text": [
      "endp: [[2,3],\n",
      "[7,8]]\n",
      "axisl: [2, 3]\n",
      "Socket connected\n",
      "159\n",
      "codedeta:Program begin.\n",
      "Program End.\n",
      ", Elapsed_time: 4.862\n",
      "codeerr:\n",
      "Socket end\n"
     ]
    },
    {
     "name": "stderr",
     "output_type": "stream",
     "text": [
      "Processing rows:  16%|█▌        | 11/69 [00:51<04:41,  4.85s/it]"
     ]
    },
    {
     "name": "stdout",
     "output_type": "stream",
     "text": [
      "endp: [[4],\n",
      "[-100]]\n",
      "axisl: [4]\n",
      "Socket connected\n",
      "160\n",
      "codedeta:Program begin.\n",
      "Program End.\n",
      ", Elapsed_time: 4.495\n",
      "codeerr:\n",
      "Socket end\n"
     ]
    },
    {
     "name": "stderr",
     "output_type": "stream",
     "text": [
      "Processing rows:  17%|█▋        | 12/69 [00:57<04:41,  4.93s/it]"
     ]
    },
    {
     "name": "stdout",
     "output_type": "stream",
     "text": [
      "endp: [[0,1],\n",
      "[0,0]]\n",
      "axisl: [0, 1]\n",
      "Socket connected\n",
      "161\n",
      "codedeta:Program begin.\n",
      "Program End.\n",
      ", Elapsed_time: 4.689\n",
      "codeerr:\n",
      "Socket end\n"
     ]
    },
    {
     "name": "stderr",
     "output_type": "stream",
     "text": [
      "Processing rows:  19%|█▉        | 13/69 [01:02<04:42,  5.04s/it]"
     ]
    },
    {
     "name": "stdout",
     "output_type": "stream",
     "text": [
      "endp: [[0,1],\n",
      "[0,0]]\n",
      "axisl: [0, 1]\n",
      "Socket connected\n",
      "162\n",
      "codedeta:Program begin.\n",
      "Program End.\n",
      ", Elapsed_time: 5.581\n",
      "codeerr:\n",
      "Socket end\n"
     ]
    },
    {
     "name": "stderr",
     "output_type": "stream",
     "text": [
      "Processing rows:  20%|██        | 14/69 [01:08<04:56,  5.39s/it]"
     ]
    },
    {
     "name": "stdout",
     "output_type": "stream",
     "text": [
      "endp: [[4,5,8],\n",
      "[0,0,140]]\n",
      "axisl: [4, 5, 8]\n",
      "Socket connected\n",
      "163\n",
      "codedeta:Program begin.\n",
      "Program End.\n",
      ", Elapsed_time: 6.736\n",
      "codeerr:\n",
      "Socket end\n"
     ]
    },
    {
     "name": "stderr",
     "output_type": "stream",
     "text": [
      "Processing rows:  22%|██▏       | 15/69 [01:15<05:23,  5.98s/it]"
     ]
    },
    {
     "name": "stdout",
     "output_type": "stream",
     "text": [
      "endp: [[0,1],\n",
      "[100,180]]\n",
      "axisl: [0, 1]\n",
      "Socket connected\n",
      "164\n",
      "codedeta:Program begin.\n",
      "Program End.\n",
      ", Elapsed_time: 4.070\n",
      "codeerr:\n",
      "Socket end\n"
     ]
    },
    {
     "name": "stderr",
     "output_type": "stream",
     "text": [
      "Processing rows:  23%|██▎       | 16/69 [01:20<04:56,  5.59s/it]"
     ]
    },
    {
     "name": "stdout",
     "output_type": "stream",
     "text": [
      "endp: [[0],\n",
      "[0]]\n",
      "axisl: [0]\n",
      "Socket connected\n",
      "165\n",
      "codedeta:Program begin.\n",
      "Program End.\n",
      ", Elapsed_time: 4.511\n",
      "codeerr:\n",
      "Socket end\n"
     ]
    },
    {
     "name": "stderr",
     "output_type": "stream",
     "text": [
      "Processing rows:  25%|██▍       | 17/69 [01:25<04:43,  5.45s/it]"
     ]
    },
    {
     "name": "stdout",
     "output_type": "stream",
     "text": [
      "endp: [[0,1],\n",
      "[200,100]]\n",
      "axisl: [0, 1]\n",
      "Socket connected\n",
      "166\n",
      "codedeta:Program begin.\n",
      "Program End.\n",
      ", Elapsed_time: 4.323\n",
      "codeerr:\n",
      "Socket end\n"
     ]
    },
    {
     "name": "stderr",
     "output_type": "stream",
     "text": [
      "Processing rows:  26%|██▌       | 18/69 [01:30<04:30,  5.30s/it]"
     ]
    },
    {
     "name": "stdout",
     "output_type": "stream",
     "text": [
      "endp: [[0],\n",
      "[110]]\n",
      "axisl: [0]\n",
      "Socket connected\n",
      "167\n",
      "codedeta:Program begin.\n",
      "Program End.\n",
      ", Elapsed_time: 3.252\n",
      "codeerr:\n",
      "Socket end\n"
     ]
    },
    {
     "name": "stderr",
     "output_type": "stream",
     "text": [
      "Processing rows:  28%|██▊       | 19/69 [01:34<04:03,  4.87s/it]"
     ]
    },
    {
     "name": "stdout",
     "output_type": "stream",
     "text": [
      "endp: [[0],\n",
      "[70]]\n",
      "axisl: [0]\n",
      "Socket connected\n",
      "168\n",
      "codedeta:Program begin.\n",
      "Program End.\n",
      ", Elapsed_time: 3.392\n",
      "codeerr:\n",
      "Socket end\n"
     ]
    },
    {
     "name": "stderr",
     "output_type": "stream",
     "text": [
      "Processing rows:  29%|██▉       | 20/69 [01:38<03:45,  4.61s/it]"
     ]
    },
    {
     "name": "stdout",
     "output_type": "stream",
     "text": [
      "endp: [[0,1],\n",
      "[300,100]]\n",
      "axisl: [0, 1]\n",
      "Socket connected\n",
      "169\n",
      "codedeta:Program begin.\n",
      "Program End.\n",
      ", Elapsed_time: 4.211\n",
      "codeerr:\n",
      "Socket end\n"
     ]
    },
    {
     "name": "stderr",
     "output_type": "stream",
     "text": [
      "Processing rows:  30%|███       | 21/69 [01:43<03:44,  4.67s/it]"
     ]
    },
    {
     "name": "stdout",
     "output_type": "stream",
     "text": [
      "endp: [[0,1],\n",
      "[300,100]]\n",
      "axisl: [0, 1]\n",
      "Socket connected\n",
      "170\n",
      "codedeta:Program begin.\n",
      "Program End.\n",
      ", Elapsed_time: 4.330\n",
      "codeerr:\n",
      "Socket end\n"
     ]
    },
    {
     "name": "stderr",
     "output_type": "stream",
     "text": [
      "Processing rows:  32%|███▏      | 22/69 [01:48<03:43,  4.76s/it]"
     ]
    },
    {
     "name": "stdout",
     "output_type": "stream",
     "text": [
      "endp: [[0,1],\n",
      "[-100,-10]]\n",
      "axisl: [0, 1]\n",
      "Socket connected\n",
      "171\n",
      "codedeta:Program begin.\n",
      "Program End.\n",
      ", Elapsed_time: 4.150\n",
      "codeerr:\n",
      "Socket end\n"
     ]
    },
    {
     "name": "stderr",
     "output_type": "stream",
     "text": [
      "Processing rows:  33%|███▎      | 23/69 [01:53<03:38,  4.76s/it]"
     ]
    },
    {
     "name": "stdout",
     "output_type": "stream",
     "text": [
      "endp: [[0,1],\n",
      "[-70,-40]]\n",
      "axisl: [0, 1]\n",
      "Socket connected\n",
      "172\n",
      "codedeta:Program begin.\n",
      "Program End.\n",
      ", Elapsed_time: 4.060\n",
      "codeerr:\n",
      "Socket end\n"
     ]
    },
    {
     "name": "stderr",
     "output_type": "stream",
     "text": [
      "Processing rows:  35%|███▍      | 24/69 [01:57<03:33,  4.74s/it]"
     ]
    },
    {
     "name": "stdout",
     "output_type": "stream",
     "text": [
      "endp: [[0,1],\n",
      "[200,0]]\n",
      "axisl: [0, 1]\n",
      "Socket connected\n",
      "173\n",
      "codedeta:Program begin.\n",
      "Program End.\n",
      ", Elapsed_time: 4.029\n",
      "codeerr:\n",
      "Socket end\n"
     ]
    },
    {
     "name": "stderr",
     "output_type": "stream",
     "text": [
      "Processing rows:  36%|███▌      | 25/69 [02:02<03:27,  4.71s/it]"
     ]
    },
    {
     "name": "stdout",
     "output_type": "stream",
     "text": [
      "endp: [[0,1],\n",
      "[500,100]]\n",
      "axisl: [0, 1]\n",
      "Socket connected\n",
      "174\n",
      "codedeta:Program begin.\n",
      "Program End.\n",
      ", Elapsed_time: 4.738\n",
      "codeerr:\n",
      "Socket end\n"
     ]
    },
    {
     "name": "stderr",
     "output_type": "stream",
     "text": [
      "Processing rows:  38%|███▊      | 26/69 [02:07<03:30,  4.90s/it]"
     ]
    },
    {
     "name": "stdout",
     "output_type": "stream",
     "text": [
      "endp: [[0],\n",
      "[100]]\n",
      "axisl: [0]\n",
      "Socket connected\n",
      "175\n",
      "codedeta:Program begin.\n",
      "Program End.\n",
      ", Elapsed_time: 3.776\n",
      "codeerr:\n",
      "Socket end\n"
     ]
    },
    {
     "name": "stderr",
     "output_type": "stream",
     "text": [
      "Processing rows:  39%|███▉      | 27/69 [02:12<03:19,  4.75s/it]"
     ]
    },
    {
     "name": "stdout",
     "output_type": "stream",
     "text": [
      "endp: [[0],\n",
      "[0]]\n",
      "axisl: [0]\n",
      "Socket connected\n",
      "176\n",
      "codedeta:Program begin.\n",
      "Program End.\n",
      ", Elapsed_time: 4.310\n",
      "codeerr:\n",
      "Socket end\n"
     ]
    },
    {
     "name": "stderr",
     "output_type": "stream",
     "text": [
      "Processing rows:  41%|████      | 28/69 [02:17<03:16,  4.80s/it]"
     ]
    },
    {
     "name": "stdout",
     "output_type": "stream",
     "text": [
      "endp: [[0],\n",
      "[180]]\n",
      "axisl: [0]\n",
      "Socket connected\n",
      "177\n",
      "codedeta:Program begin.\n",
      "Program End.\n",
      ", Elapsed_time: 9.729\n",
      "codeerr:\n",
      "Socket end\n"
     ]
    },
    {
     "name": "stderr",
     "output_type": "stream",
     "text": [
      "Processing rows:  42%|████▏     | 29/69 [02:27<04:18,  6.47s/it]"
     ]
    },
    {
     "name": "stdout",
     "output_type": "stream",
     "text": [
      "endp: [[0,1],\n",
      "[0,0]]\n",
      "axisl: [0, 1]\n",
      "Socket connected\n",
      "178\n",
      "codedeta:Program begin.\n",
      "Program End.\n",
      ", Elapsed_time: 4.999\n",
      "codeerr:\n",
      "Socket end\n"
     ]
    },
    {
     "name": "stderr",
     "output_type": "stream",
     "text": [
      "Processing rows:  43%|████▎     | 30/69 [02:33<04:02,  6.21s/it]"
     ]
    },
    {
     "name": "stdout",
     "output_type": "stream",
     "text": [
      "endp: [[0],\n",
      "[600]]\n",
      "axisl: [0]\n",
      "Socket connected\n",
      "179\n",
      "codedeta:Program begin.\n",
      "Program End.\n",
      ", Elapsed_time: 3.504\n",
      "codeerr:\n",
      "Socket end\n"
     ]
    },
    {
     "name": "stderr",
     "output_type": "stream",
     "text": [
      "Processing rows:  45%|████▍     | 31/69 [02:37<03:32,  5.58s/it]"
     ]
    },
    {
     "name": "stdout",
     "output_type": "stream",
     "text": [
      "endp: [[0,1],\n",
      "[200,300]]\n",
      "axisl: [0, 1]\n",
      "Socket connected\n",
      "180\n",
      "codedeta:Program begin.\n",
      "Program End.\n",
      ", Elapsed_time: 3.844\n",
      "codeerr:\n",
      "Socket end\n"
     ]
    },
    {
     "name": "stderr",
     "output_type": "stream",
     "text": [
      "Processing rows:  46%|████▋     | 32/69 [02:41<03:14,  5.25s/it]"
     ]
    },
    {
     "name": "stdout",
     "output_type": "stream",
     "text": [
      "endp: [[0],\n",
      "[300]]\n",
      "axisl: [0]\n",
      "Socket connected\n",
      "181\n",
      "codedeta:Program begin.\n",
      "Program End.\n",
      ", Elapsed_time: 6.329\n",
      "codeerr:\n",
      "Socket end\n"
     ]
    },
    {
     "name": "stderr",
     "output_type": "stream",
     "text": [
      "Processing rows:  48%|████▊     | 33/69 [02:48<03:27,  5.76s/it]"
     ]
    },
    {
     "name": "stdout",
     "output_type": "stream",
     "text": [
      "endp: [[0],\n",
      "[750]]\n",
      "axisl: [0]\n",
      "Socket connected\n",
      "182\n",
      "codedeta:Program begin.\n",
      "Program End.\n",
      ", Elapsed_time: 6.204\n",
      "codeerr:\n",
      "Socket end\n"
     ]
    },
    {
     "name": "stderr",
     "output_type": "stream",
     "text": [
      "Processing rows:  49%|████▉     | 34/69 [02:55<03:32,  6.07s/it]"
     ]
    },
    {
     "name": "stdout",
     "output_type": "stream",
     "text": [
      "endp: [[0],\n",
      "[175]]\n",
      "axisl: [0]\n",
      "Socket connected\n",
      "183\n",
      "codedeta:Program begin.\n",
      "Program End.\n",
      ", Elapsed_time: 7.051\n",
      "codeerr:\n",
      "Socket end\n"
     ]
    },
    {
     "name": "stderr",
     "output_type": "stream",
     "text": [
      "Processing rows:  51%|█████     | 35/69 [03:03<03:42,  6.55s/it]"
     ]
    },
    {
     "name": "stdout",
     "output_type": "stream",
     "text": [
      "endp: [[0,1],\n",
      "[0,0]]\n",
      "axisl: [0, 1]\n",
      "Socket connected\n",
      "184\n",
      "codedeta:Program begin.\n",
      "Program End.\n",
      ", Elapsed_time: 5.279\n",
      "codeerr:\n",
      "Socket end\n"
     ]
    },
    {
     "name": "stderr",
     "output_type": "stream",
     "text": [
      "Processing rows:  52%|█████▏    | 36/69 [03:08<03:29,  6.35s/it]"
     ]
    },
    {
     "name": "stdout",
     "output_type": "stream",
     "text": [
      "endp: [[0,1],\n",
      "[0,0]]\n",
      "axisl: [0, 1]\n",
      "Socket connected\n",
      "185\n",
      "codedeta:Program begin.\n",
      "Program End.\n",
      ", Elapsed_time: 4.955\n",
      "codeerr:\n",
      "Socket end\n"
     ]
    },
    {
     "name": "stderr",
     "output_type": "stream",
     "text": [
      "Processing rows:  54%|█████▎    | 37/69 [03:14<03:15,  6.12s/it]"
     ]
    },
    {
     "name": "stdout",
     "output_type": "stream",
     "text": [
      "endp: [[0,1],\n",
      "[0,0]]\n",
      "axisl: [0, 1]\n",
      "Socket connected\n",
      "186\n",
      "codedeta:Program begin.\n",
      "Program End.\n",
      ", Elapsed_time: 6.259\n",
      "codeerr:\n",
      "Socket end\n"
     ]
    },
    {
     "name": "stderr",
     "output_type": "stream",
     "text": [
      "Processing rows:  55%|█████▌    | 38/69 [03:21<03:16,  6.34s/it]"
     ]
    },
    {
     "name": "stdout",
     "output_type": "stream",
     "text": [
      "endp: [[0,1],\n",
      "[0,0]]\n",
      "axisl: [0, 1]\n",
      "Socket connected\n",
      "187\n",
      "codedeta:Program begin.\n",
      "Program End.\n",
      ", Elapsed_time: 4.408\n",
      "codeerr:\n",
      "Socket end\n"
     ]
    },
    {
     "name": "stderr",
     "output_type": "stream",
     "text": [
      "Processing rows:  57%|█████▋    | 39/69 [03:26<02:58,  5.95s/it]"
     ]
    },
    {
     "name": "stdout",
     "output_type": "stream",
     "text": [
      "endp: [[0,1],\n",
      "[0,0]]\n",
      "axisl: [0, 1]\n",
      "Socket connected\n",
      "188\n",
      "codedeta:Program begin.\n",
      "Program End.\n",
      ", Elapsed_time: 5.390\n",
      "codeerr:\n",
      "Socket end\n"
     ]
    },
    {
     "name": "stderr",
     "output_type": "stream",
     "text": [
      "Processing rows:  58%|█████▊    | 40/69 [03:32<02:52,  5.96s/it]"
     ]
    },
    {
     "name": "stdout",
     "output_type": "stream",
     "text": [
      "endp: [[0,1],\n",
      "[0,0]]\n",
      "axisl: [0, 1]\n",
      "Socket connected\n",
      "189\n",
      "codedeta:Program begin.\n",
      "Program End.\n",
      ", Elapsed_time: 4.788\n",
      "codeerr:\n",
      "Socket end\n"
     ]
    },
    {
     "name": "stderr",
     "output_type": "stream",
     "text": [
      "Processing rows:  59%|█████▉    | 41/69 [03:37<02:42,  5.80s/it]"
     ]
    },
    {
     "name": "stdout",
     "output_type": "stream",
     "text": [
      "endp: [[0,1],\n",
      "[240,0]]\n",
      "axisl: [0, 1]\n",
      "Socket connected\n",
      "190\n",
      "codedeta:Program begin.\n",
      "Program End.\n",
      ", Elapsed_time: 4.333\n",
      "codeerr:\n",
      "Socket end\n"
     ]
    },
    {
     "name": "stderr",
     "output_type": "stream",
     "text": [
      "Processing rows:  61%|██████    | 42/69 [03:42<02:29,  5.54s/it]"
     ]
    },
    {
     "name": "stdout",
     "output_type": "stream",
     "text": [
      "endp: [[0,1,2],\n",
      "[0,0,0]]\n",
      "axisl: [0, 1, 2]\n",
      "Socket connected\n",
      "191\n",
      "codedeta:Program begin.\n",
      "Program End.\n",
      ", Elapsed_time: 11.897\n",
      "codeerr:\n",
      "Socket end\n"
     ]
    },
    {
     "name": "stderr",
     "output_type": "stream",
     "text": [
      "Processing rows:  62%|██████▏   | 43/69 [03:55<03:18,  7.63s/it]"
     ]
    },
    {
     "name": "stdout",
     "output_type": "stream",
     "text": [
      "endp: [[0,1,2],\n",
      "[0,0,270]]\n",
      "axisl: [0, 1, 2]\n",
      "Socket connected\n",
      "192\n",
      "codedeta:Program begin.\n",
      "Program End.\n",
      ", Elapsed_time: 7.649\n",
      "codeerr:\n",
      "Socket end\n"
     ]
    },
    {
     "name": "stderr",
     "output_type": "stream",
     "text": [
      "Processing rows:  64%|██████▍   | 44/69 [04:03<03:15,  7.82s/it]"
     ]
    },
    {
     "name": "stdout",
     "output_type": "stream",
     "text": [
      "endp: [[0,1,2],\n",
      "[100,0,270]]\n",
      "axisl: [0, 1, 2]\n",
      "Socket connected\n",
      "193\n",
      "codedeta:Program begin.\n",
      "Program End.\n",
      ", Elapsed_time: 9.970\n",
      "codeerr:\n",
      "Socket end\n"
     ]
    },
    {
     "name": "stderr",
     "output_type": "stream",
     "text": [
      "Processing rows:  65%|██████▌   | 45/69 [04:14<03:27,  8.65s/it]"
     ]
    },
    {
     "name": "stdout",
     "output_type": "stream",
     "text": [
      "endp: [[0,1,2],\n",
      "[100,0,270]]\n",
      "axisl: [0, 1, 2]\n",
      "Socket connected\n",
      "194\n",
      "codedeta:Program begin.\n",
      "Program End.\n",
      ", Elapsed_time: 9.167\n",
      "codeerr:\n",
      "Socket end\n"
     ]
    },
    {
     "name": "stderr",
     "output_type": "stream",
     "text": [
      "Processing rows:  67%|██████▋   | 46/69 [04:23<03:26,  8.99s/it]"
     ]
    },
    {
     "name": "stdout",
     "output_type": "stream",
     "text": [
      "endp: [[0,1,2],\n",
      "[100,0,270]]\n",
      "axisl: [0, 1, 2]\n",
      "Socket connected\n",
      "195\n",
      "codedeta:Program begin.\n",
      "Program End.\n",
      ", Elapsed_time: 9.618\n",
      "codeerr:\n",
      "Socket end\n"
     ]
    },
    {
     "name": "stderr",
     "output_type": "stream",
     "text": [
      "Processing rows:  68%|██████▊   | 47/69 [04:34<03:26,  9.36s/it]"
     ]
    },
    {
     "name": "stdout",
     "output_type": "stream",
     "text": [
      "endp: [[0,1,2],\n",
      "[0,0,0]]\n",
      "axisl: [0, 1, 2]\n",
      "Socket connected\n",
      "196\n",
      "codedeta:Program begin.\n",
      "Program End.\n",
      ", Elapsed_time: 15.906\n",
      "codeerr:\n",
      "Socket end\n"
     ]
    },
    {
     "name": "stderr",
     "output_type": "stream",
     "text": [
      "Processing rows:  70%|██████▉   | 48/69 [04:50<04:01, 11.51s/it]"
     ]
    },
    {
     "name": "stdout",
     "output_type": "stream",
     "text": [
      "endp: [[0,1,2],\n",
      "[-10,12,127]]\n",
      "axisl: [0, 1, 2]\n",
      "Socket connected\n",
      "197\n",
      "codedeta:Program begin.\n",
      "Program End.\n",
      ", Elapsed_time: 9.830\n",
      "codeerr:\n",
      "Socket end\n"
     ]
    },
    {
     "name": "stderr",
     "output_type": "stream",
     "text": [
      "Processing rows:  71%|███████   | 49/69 [05:01<03:43, 11.19s/it]"
     ]
    },
    {
     "name": "stdout",
     "output_type": "stream",
     "text": [
      "endp: [[0,1,2,3],\n",
      "[150,0,2700,175]]\n",
      "axisl: [0, 1, 2, 3]\n",
      "Socket connected\n",
      "198\n",
      "codedeta:Program begin.\n",
      "Program End.\n",
      ", Elapsed_time: 7.887\n",
      "codeerr:\n",
      "Socket end\n"
     ]
    },
    {
     "name": "stderr",
     "output_type": "stream",
     "text": [
      "Processing rows:  72%|███████▏  | 50/69 [05:09<03:17, 10.39s/it]"
     ]
    },
    {
     "name": "stdout",
     "output_type": "stream",
     "text": [
      "endp: [[0,1],\n",
      "[0,0]]\n",
      "axisl: [0, 1]\n",
      "Socket connected\n",
      "199\n",
      "codedeta:Program begin.\n",
      "Program End.\n",
      ", Elapsed_time: 6.430\n",
      "codeerr:\n",
      "Socket end\n"
     ]
    },
    {
     "name": "stderr",
     "output_type": "stream",
     "text": [
      "Processing rows:  74%|███████▍  | 51/69 [05:16<02:48,  9.39s/it]"
     ]
    },
    {
     "name": "stdout",
     "output_type": "stream",
     "text": [
      "endp: [[0,1],\n",
      "[0,0]]\n",
      "axisl: [0, 1]\n",
      "Socket connected\n",
      "200\n",
      "codedeta:Program begin.\n",
      "Program End.\n",
      ", Elapsed_time: 7.170\n",
      "codeerr:\n",
      "Socket end\n"
     ]
    },
    {
     "name": "stderr",
     "output_type": "stream",
     "text": [
      "Processing rows:  75%|███████▌  | 52/69 [05:24<02:31,  8.91s/it]"
     ]
    },
    {
     "name": "stdout",
     "output_type": "stream",
     "text": [
      "endp: [[0,1],\n",
      "[0,0]]\n",
      "axisl: [0, 1]\n",
      "Socket connected\n",
      "201\n",
      "codedeta:Program begin.\n",
      "Program End.\n",
      ", Elapsed_time: 6.458\n",
      "codeerr:\n",
      "Socket end\n"
     ]
    },
    {
     "name": "stderr",
     "output_type": "stream",
     "text": [
      "Processing rows:  77%|███████▋  | 53/69 [05:31<02:13,  8.36s/it]"
     ]
    },
    {
     "name": "stdout",
     "output_type": "stream",
     "text": [
      "endp: [[0,1],\n",
      "[0,0]]\n",
      "axisl: [0, 1]\n",
      "Socket connected\n",
      "202\n",
      "codedeta:Program begin.\n",
      "Program End.\n",
      ", Elapsed_time: 4.808\n",
      "codeerr:\n",
      "Socket end\n"
     ]
    },
    {
     "name": "stderr",
     "output_type": "stream",
     "text": [
      "Processing rows:  78%|███████▊  | 54/69 [05:36<01:52,  7.48s/it]"
     ]
    },
    {
     "name": "stdout",
     "output_type": "stream",
     "text": [
      "endp: [[0,1],\n",
      "[0,0]]\n",
      "axisl: [0, 1]\n",
      "Socket connected\n",
      "203\n",
      "codedeta:Program begin.\n",
      "Program End.\n",
      ", Elapsed_time: 6.189\n",
      "codeerr:\n",
      "Socket end\n"
     ]
    },
    {
     "name": "stderr",
     "output_type": "stream",
     "text": [
      "Processing rows:  80%|███████▉  | 55/69 [05:43<01:41,  7.28s/it]"
     ]
    },
    {
     "name": "stdout",
     "output_type": "stream",
     "text": [
      "endp: [[0,1],\n",
      "[0,0]]\n",
      "axisl: [0, 1]\n",
      "Socket connected\n",
      "204\n",
      "codedeta:Program begin.\n",
      "Program End.\n",
      ", Elapsed_time: 6.085\n",
      "codeerr:\n",
      "Socket end\n"
     ]
    },
    {
     "name": "stderr",
     "output_type": "stream",
     "text": [
      "Processing rows:  81%|████████  | 56/69 [05:50<01:32,  7.11s/it]"
     ]
    },
    {
     "name": "stdout",
     "output_type": "stream",
     "text": [
      "endp: [[0,1],\n",
      "[0,0]]\n",
      "axisl: [0, 1]\n",
      "Socket connected\n",
      "205\n",
      "codedeta:Program begin.\n",
      "Program End.\n",
      ", Elapsed_time: 5.985\n",
      "codeerr:\n",
      "Socket end\n"
     ]
    },
    {
     "name": "stderr",
     "output_type": "stream",
     "text": [
      "Processing rows:  83%|████████▎ | 57/69 [05:57<01:23,  6.96s/it]"
     ]
    },
    {
     "name": "stdout",
     "output_type": "stream",
     "text": [
      "endp: [[0,1],\n",
      "[0,0]]\n",
      "axisl: [0, 1]\n",
      "Socket connected\n",
      "206\n",
      "codedeta:Program begin.\n",
      "Program End.\n",
      ", Elapsed_time: 14.396\n",
      "codeerr:\n",
      "Socket end\n"
     ]
    },
    {
     "name": "stderr",
     "output_type": "stream",
     "text": [
      "Processing rows:  84%|████████▍ | 58/69 [06:12<01:43,  9.37s/it]"
     ]
    },
    {
     "name": "stdout",
     "output_type": "stream",
     "text": [
      "endp: [[0,1],\n",
      "[0,0]]\n",
      "axisl: [0, 1]\n",
      "Socket connected\n",
      "207\n",
      "codedeta:Program begin.\n",
      "Program End.\n",
      ", Elapsed_time: 5.161\n",
      "codeerr:\n",
      "Socket end\n"
     ]
    },
    {
     "name": "stderr",
     "output_type": "stream",
     "text": [
      "Processing rows:  86%|████████▌ | 59/69 [06:17<01:22,  8.30s/it]"
     ]
    },
    {
     "name": "stdout",
     "output_type": "stream",
     "text": [
      "endp: [[0,1],\n",
      "[0,0]]\n",
      "axisl: [0, 1]\n",
      "Socket connected\n",
      "208\n",
      "codedeta:Program begin.\n",
      "Program End.\n",
      ", Elapsed_time: 5.464\n",
      "codeerr:\n",
      "Socket end\n"
     ]
    },
    {
     "name": "stderr",
     "output_type": "stream",
     "text": [
      "Processing rows:  87%|████████▋ | 60/69 [06:23<01:08,  7.63s/it]"
     ]
    },
    {
     "name": "stdout",
     "output_type": "stream",
     "text": [
      "endp: [[0,1],\n",
      "[100,100]]\n",
      "axisl: [0, 1]\n",
      "Socket connected\n",
      "209\n",
      "codedeta:Program begin.\n",
      "Program End.\n",
      ", Elapsed_time: 5.260\n",
      "codeerr:\n",
      "Socket end\n"
     ]
    },
    {
     "name": "stderr",
     "output_type": "stream",
     "text": [
      "Processing rows:  88%|████████▊ | 61/69 [06:29<00:56,  7.11s/it]"
     ]
    },
    {
     "name": "stdout",
     "output_type": "stream",
     "text": [
      "endp: [[0,1],\n",
      "[0,0]]\n",
      "axisl: [0, 1]\n",
      "Socket connected\n",
      "210\n",
      "codedeta:Program begin.\n",
      "Program End.\n",
      ", Elapsed_time: 6.076\n",
      "codeerr:\n",
      "Socket end\n"
     ]
    },
    {
     "name": "stderr",
     "output_type": "stream",
     "text": [
      "Processing rows:  90%|████████▉ | 62/69 [06:36<00:48,  6.99s/it]"
     ]
    },
    {
     "name": "stdout",
     "output_type": "stream",
     "text": [
      "endp: [[0,1],\n",
      "[1,2]]\n",
      "axisl: [0, 1]\n",
      "Socket connected\n",
      "211\n",
      "codedeta:Program begin.\n",
      "Program End.\n",
      ", Elapsed_time: 5.739\n",
      "codeerr:\n",
      "Socket end\n"
     ]
    },
    {
     "name": "stderr",
     "output_type": "stream",
     "text": [
      "Processing rows:  91%|█████████▏| 63/69 [06:42<00:40,  6.80s/it]"
     ]
    },
    {
     "name": "stdout",
     "output_type": "stream",
     "text": [
      "endp: [[0,1],\n",
      "[40,0]]\n",
      "axisl: [0, 1]\n",
      "Socket connected\n",
      "212\n",
      "codedeta:Program begin.\n",
      "Program End.\n",
      ", Elapsed_time: 3.934\n",
      "codeerr:\n",
      "Socket end\n"
     ]
    },
    {
     "name": "stderr",
     "output_type": "stream",
     "text": [
      "Processing rows:  93%|█████████▎| 64/69 [06:47<00:30,  6.13s/it]"
     ]
    },
    {
     "name": "stdout",
     "output_type": "stream",
     "text": [
      "endp: [[0,1],\n",
      "[40,0]]\n",
      "axisl: [0, 1]\n",
      "Socket connected\n",
      "213\n",
      "codedeta:Program begin.\n",
      "Program End.\n",
      ", Elapsed_time: 3.898\n",
      "codeerr:\n",
      "Socket end\n"
     ]
    },
    {
     "name": "stderr",
     "output_type": "stream",
     "text": [
      "Processing rows:  94%|█████████▍| 65/69 [06:51<00:22,  5.65s/it]"
     ]
    },
    {
     "name": "stdout",
     "output_type": "stream",
     "text": [
      "endp: [[0,1],\n",
      "[40,0]]\n",
      "axisl: [0, 1]\n",
      "Socket connected\n",
      "214\n",
      "codedeta:Program begin.\n",
      "Program End.\n",
      ", Elapsed_time: 3.936\n",
      "codeerr:\n",
      "Socket end\n"
     ]
    },
    {
     "name": "stderr",
     "output_type": "stream",
     "text": [
      "Processing rows:  96%|█████████▌| 66/69 [06:56<00:15,  5.32s/it]"
     ]
    },
    {
     "name": "stdout",
     "output_type": "stream",
     "text": [
      "endp: [[0,1],\n",
      "[0,0]]\n",
      "axisl: [0, 1]\n",
      "Socket connected\n",
      "215\n",
      "codedeta:Program begin.\n",
      "Program End.\n",
      ", Elapsed_time: 4.756\n",
      "codeerr:\n",
      "Socket end\n"
     ]
    },
    {
     "name": "stderr",
     "output_type": "stream",
     "text": [
      "Processing rows:  97%|█████████▋| 67/69 [07:01<00:10,  5.34s/it]"
     ]
    },
    {
     "name": "stdout",
     "output_type": "stream",
     "text": [
      "endp: [[0,1,2],\n",
      "[0,0,0]]\n",
      "axisl: [0, 1, 2]\n",
      "Socket connected\n",
      "216\n",
      "codedeta:Program begin.\n",
      "Program End.\n",
      ", Elapsed_time: 9.258\n",
      "codeerr:\n",
      "Socket end\n"
     ]
    },
    {
     "name": "stderr",
     "output_type": "stream",
     "text": [
      "Processing rows:  99%|█████████▊| 68/69 [07:11<00:06,  6.70s/it]"
     ]
    },
    {
     "name": "stdout",
     "output_type": "stream",
     "text": [
      "endp: [[0,1,2,3],\n",
      "[0,0,0,100]]\n",
      "axisl: [0, 1, 2, 3]\n",
      "Socket connected\n",
      "217\n",
      "codedeta:Program begin.\n",
      "Program End.\n",
      ", Elapsed_time: 5.961\n",
      "codeerr:\n",
      "Socket end\n"
     ]
    },
    {
     "name": "stderr",
     "output_type": "stream",
     "text": [
      "Processing rows: 100%|██████████| 69/69 [07:18<00:00,  6.35s/it]"
     ]
    },
    {
     "name": "stdout",
     "output_type": "stream",
     "text": [
      "JSON file has been generated at docs/WMX3API_MCEval_Dataset.json\n",
      "Total tasks: 69\n",
      "Error tasks: 0\n",
      "Syntax error tasks: 0\n",
      "Successful tasks: 69\n",
      "Accuracy: 100.00%\n",
      "Tasks with errors: []\n",
      "Tasks with syntax errors: []\n"
     ]
    },
    {
     "name": "stderr",
     "output_type": "stream",
     "text": [
      "\n"
     ]
    }
   ],
   "source": [
    "import pandas as pd\n",
    "import os\n",
    "import json\n",
    "import socket\n",
    "from time import sleep\n",
    "from tqdm import tqdm\n",
    "\n",
    "# Load the Excel file\n",
    "excel_file_path = 'docs/WMX3API_MCEval_Dataset.xlsx'\n",
    "df = pd.read_excel(excel_file_path)\n",
    "\n",
    "# Initialize an empty list to store the data for JSON\n",
    "data_list = []\n",
    "\n",
    "# Lists to store TaskIds with different errors\n",
    "error_task_ids = []\n",
    "syntax_error_task_ids = []\n",
    "\n",
    "# Function to modify the Python code with logging\n",
    "def add_log_code(py_code, task_id, axis):\n",
    "    lines = py_code.split('\\n')\n",
    "    modified_code = []\n",
    "    i = 0\n",
    "    # Add logging start code\n",
    "    while i < len(lines):\n",
    "        modified_code.append(lines[i])\n",
    "        if '.StartHome' in lines[i]:\n",
    "            i += 1\n",
    "            while i < len(lines) and lines[i].strip() != '':\n",
    "                modified_code.append(lines[i])\n",
    "                i += 1\n",
    "            if i < len(lines):\n",
    "                modified_code.append(f'''\n",
    "    # <log ---------------------------------------------------------------------------                                                                 \n",
    "    WMX3Log = Log(Wmx3Lib)\n",
    "\n",
    "                                     \n",
    "    # Stop log just in case logging is on.\n",
    "    ret = WMX3Log.StopLog(0)\n",
    "    sleep(0.01)\n",
    "                                     \n",
    "    axislist = {axis}                           \n",
    "    num = len(axislist)\n",
    "\n",
    "    # Set Axis numbers and control variables of log\n",
    "    cmLogIn_0 = CoreMotionLogInput()\n",
    "    cmLogIn_0.axisSelection.axisCount = num\n",
    "    for i in range(0, num):\n",
    "        cmLogIn_0.axisSelection.SetAxis(i, axislist[i])\n",
    "\n",
    "    # Control variables to log\n",
    "    cmLogIn_0.axisOptions.commandPos = 1\n",
    "    cmLogIn_0.axisOptions.feedbackPos = 0\n",
    "    cmLogIn_0.axisOptions.commandVelocity = 0\n",
    "    cmLogIn_0.axisOptions.feedbackVelocity = 0\n",
    "\n",
    "    # Set up log time\n",
    "    option = LogChannelOptions()\n",
    "    option.samplingPeriodInCycles = 1\n",
    "    option.samplingTimeMilliseconds = 1000000\n",
    "    option.precision = 3\n",
    "\n",
    "    ret=WMX3Log.SetLogOption(0, option)\n",
    "    if ret!=0:\n",
    "        print('SetLogOption error code is ' + str(ret) + ': ' + WMX3Log.ErrorToString(ret))\n",
    "        return\n",
    "    sleep(0.1)\n",
    "    ret = WMX3Log.SetCustomLog(0,cmLogIn_0)\n",
    "    if ret!=0:\n",
    "        print('SetCustomLog error code is ' + str(ret) + ': ' + WMX3Log.ErrorToString(ret))\n",
    "        return\n",
    "    sleep(0.1)\n",
    "\n",
    "    # Set log file address\n",
    "    path_0 = LogFilePath()\n",
    "    WMX3Log.GetLogFilePath(0)\n",
    "    path_0.dirPath = \"C:\\\\\\\\\"\n",
    "    path_0.fileName = f\"{task_id}_MCEval_Log.txt\"\n",
    "    ret = WMX3Log.SetLogFilePath(0, path_0)\n",
    "    if ret!=0:\n",
    "        print('SetLogFilePath error code is ' + str(ret) + ': ' + WMX3Log.ErrorToString(ret))\n",
    "        return\n",
    "\n",
    "    # Start log\n",
    "    ret = WMX3Log.StartLog(0)\n",
    "    if ret!=0:\n",
    "        print('StartLog error code is ' + str(ret) + ': ' + WMX3Log.ErrorToString(ret))\n",
    "        return\n",
    "    sleep(0.01)\n",
    "    # log> ---------------------------------------------------------------------------   \n",
    "    \n",
    "                ''')\n",
    "        i += 1\n",
    "\n",
    "    # Add logging stop code\n",
    "    i = len(lines) - 1\n",
    "    while i >= 0:\n",
    "        if '.SetServoOn' in lines[i]:\n",
    "            while i >= 0 and lines[i].strip() != '':\n",
    "                i -= 1\n",
    "            if i >= 0:\n",
    "                modified_code.insert(i + 1, '''\n",
    "    # <log --------------------------------------------------------------------------- \n",
    "    sleep(0.1)                                                                    \n",
    "    # Stop log\n",
    "    ret = WMX3Log.StopLog(0)\n",
    "    if ret!=0:\n",
    "        print('StopLog error code is ' + str(ret) + ': ' + WMX3Log.ErrorToString(ret))\n",
    "        return\n",
    "\n",
    "    for axisNo in axislist:                                \n",
    "        ret = Wmx3Lib_cm.home.StartHome(axisNo)\n",
    "        if ret!=0:\n",
    "            print('StartHome error code is ' + str(ret) + ': ' + Wmx3Lib_cm.ErrorToString(ret))\n",
    "            return\n",
    "        Wmx3Lib_cm.motion.Wait(axisNo)                                                                  \n",
    "    # log> ---------------------------------------------------------------------------     \n",
    "                                     \n",
    "                ''')\n",
    "            break\n",
    "        i -= 1\n",
    "\n",
    "    return '\\n'.join(modified_code)\n",
    "\n",
    "# Function to send code and log data to socket server\n",
    "def SendCodeLog(code_data_log, task_id):\n",
    "    # 1. Create socket\n",
    "    tcp_socket = socket.socket(socket.AF_INET, socket.SOCK_STREAM)\n",
    "\n",
    "    # 2. Connect server\n",
    "    server_addr = (\"10.211.55.5\", 8888)\n",
    "    tcp_socket.connect(server_addr)\n",
    "    print(\"Socket connected\")\n",
    "\n",
    "    # 3. Send data\n",
    "    tcp_socket.send(code_data_log.encode(\"utf-8\"))\n",
    "\n",
    "    sleep(0.1)\n",
    "\n",
    "    send_data = 'exit'\n",
    "    tcp_socket.send(send_data.encode(\"utf-8\"))\n",
    "\n",
    "    # 4. Receive data from server\n",
    "    tcp_remsg = tcp_socket.recv(1024).decode(\"utf-8\")\n",
    "    print(tcp_remsg)\n",
    "\n",
    "    # Check for errors in the response\n",
    "    if \"error\" in tcp_remsg:\n",
    "        if \"syntax error\" in tcp_remsg:\n",
    "            syntax_error_task_ids.append(task_id)\n",
    "        else:\n",
    "            error_task_ids.append(task_id)\n",
    "\n",
    "    # 5. Close socket\n",
    "    tcp_socket.close()\n",
    "    print(\"Socket end\")\n",
    "\n",
    "# Iterate through each row in the dataframe with a progress bar\n",
    "for index, row in tqdm(df.iterrows(), total=len(df), desc=\"Processing rows\"):\n",
    "    task_id = row['TaskId']\n",
    "    # if(task_id != 32):\n",
    "    #     continue\n",
    "    \n",
    "    # Construct the path to the Python file\n",
    "    py_file_path = f'MCEval_Files/{task_id}_MCEval.py'\n",
    "    \n",
    "    # Read the Python file to get the CanonicalCode\n",
    "    if os.path.exists(py_file_path):\n",
    "        with open(py_file_path, 'r') as file:\n",
    "            py_code = file.read()\n",
    "    else:\n",
    "        py_code = ''\n",
    "    \n",
    "    # If it is about motion log\n",
    "    print('endp: ' + str(row['EndPoint']))\n",
    "    if str(row['EndPoint']) != 'nan':\n",
    "        # Extract axis from the first row of 'EndPoint'\n",
    "        try:\n",
    "            axis = list(range(len(eval(row['EndPoint'])[0])))\n",
    "            axis = eval(row['EndPoint'])[0]\n",
    "            print(\"axisl: \" + str(axis))\n",
    "            if not axis:\n",
    "                continue\n",
    "        except Exception as e:\n",
    "            print(f\"Error processing axis for task {task_id}: {e}\")\n",
    "            continue\n",
    "\n",
    "        # Add log code to the Python file content\n",
    "        modified_code = add_log_code(py_code, task_id, axis)\n",
    "    else:\n",
    "        modified_code = py_code\n",
    "    \n",
    "    # Save the modified code to a new file\n",
    "    modified_file_path = f'MCEval_Files/{task_id}_MCEval_WithLog.py'\n",
    "    with open(modified_file_path, 'w') as file:\n",
    "        file.write(modified_code)\n",
    "    \n",
    "    # Send the modified code to the socket server for each task\n",
    "    SendCodeLog(modified_code, task_id)\n",
    "    sleep(0.3)\n",
    "\n",
    "    # Create a dictionary for the current row\n",
    "    row_data = row.to_dict()\n",
    "    row_data['CanonicalCode'] = py_code\n",
    "    \n",
    "    # Append the dictionary to the list\n",
    "    data_list.append(row_data)\n",
    "\n",
    "    sleep(0.2)\n",
    "\n",
    "# Construct the output JSON file path\n",
    "json_file_path = excel_file_path.replace('.xlsx', '.json')\n",
    "\n",
    "# Write the data to a JSON file\n",
    "with open(json_file_path, 'w') as json_file:\n",
    "    json.dump(data_list, json_file, indent=4)\n",
    "\n",
    "# Calculate accuracy\n",
    "total_tasks = len(df)\n",
    "error_count = len(error_task_ids)\n",
    "syntax_error_count = len(syntax_error_task_ids)\n",
    "success_count = total_tasks - (error_count + syntax_error_count)\n",
    "accuracy = (success_count / total_tasks) * 100\n",
    "\n",
    "print(f\"JSON file has been generated at {json_file_path}\")\n",
    "print(f\"Total tasks: {total_tasks}\")\n",
    "print(f\"Error tasks: {error_count}\")\n",
    "print(f\"Syntax error tasks: {syntax_error_count}\")\n",
    "print(f\"Successful tasks: {success_count}\")\n",
    "print(f\"Accuracy: {accuracy:.2f}%\")\n",
    "print(f\"Tasks with errors: {error_task_ids}\")\n",
    "print(f\"Tasks with syntax errors: {syntax_error_task_ids}\")\n"
   ]
  }
 ],
 "metadata": {
  "kernelspec": {
   "display_name": "rag-demo-IMu3vKF7-py3.10",
   "language": "python",
   "name": "python3"
  },
  "language_info": {
   "codemirror_mode": {
    "name": "ipython",
    "version": 3
   },
   "file_extension": ".py",
   "mimetype": "text/x-python",
   "name": "python",
   "nbconvert_exporter": "python",
   "pygments_lexer": "ipython3",
   "version": "3.11.7"
  }
 },
 "nbformat": 4,
 "nbformat_minor": 2
}
