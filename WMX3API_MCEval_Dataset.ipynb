{
 "cells": [
  {
   "cell_type": "markdown",
   "metadata": {},
   "source": [
    "# MCCoder MCEval Dataset for evaluation\n"
   ]
  },
  {
   "cell_type": "markdown",
   "metadata": {},
   "source": [
    "## Preparation\n"
   ]
  },
  {
   "cell_type": "markdown",
   "metadata": {},
   "source": [
    "### Generate JSON dataset file from excel, python source code and log file.\n"
   ]
  },
  {
   "cell_type": "markdown",
   "metadata": {},
   "source": [
    "#### Generate Json file from python source file\n"
   ]
  },
  {
   "cell_type": "code",
   "execution_count": 7,
   "metadata": {},
   "outputs": [
    {
     "name": "stdout",
     "output_type": "stream",
     "text": [
      "JSON file has been generated at docs/WMX3API_MCEval_Dataset.json\n"
     ]
    }
   ],
   "source": [
    "import pandas as pd\n",
    "import os\n",
    "import json\n",
    "\n",
    "# Load the Excel file\n",
    "excel_file_path = 'docs/WMX3API_MCEval_Dataset.xlsx'\n",
    "df = pd.read_excel(excel_file_path)\n",
    "\n",
    "# Initialize an empty list to store the data for JSON\n",
    "data_list = []\n",
    "\n",
    "# Iterate through each row in the dataframe\n",
    "for index, row in df.iterrows():\n",
    "    task_id = row['TaskId']\n",
    "    # Construct the path to the Python file\n",
    "    py_file_path = f'MCEval_Files/{task_id}_MCEval.py'\n",
    "    \n",
    "    # Read the Python file to get the CanonicalCode\n",
    "    if os.path.exists(py_file_path):\n",
    "        with open(py_file_path, 'r') as file:\n",
    "            canonical_code = file.read()\n",
    "    else:\n",
    "        canonical_code = ''\n",
    "    \n",
    "    # Create a dictionary for the current row\n",
    "    row_data = row.to_dict()\n",
    "    row_data['CanonicalCode'] = canonical_code\n",
    "    \n",
    "    # Append the dictionary to the list\n",
    "    data_list.append(row_data)\n",
    "\n",
    "# Construct the output JSON file path\n",
    "json_file_path = excel_file_path.replace('.xlsx', '.json')\n",
    "\n",
    "# Write the data to a JSON file\n",
    "with open(json_file_path, 'w') as json_file:\n",
    "    json.dump(data_list, json_file, indent=4)\n",
    "\n",
    "print(f\"JSON file has been generated at {json_file_path}\")\n"
   ]
  },
  {
   "cell_type": "markdown",
   "metadata": {},
   "source": [
    "#### Generate Json file from python source file with motion log\n"
   ]
  },
  {
   "cell_type": "code",
   "execution_count": null,
   "metadata": {},
   "outputs": [],
   "source": [
    "import pandas as pd\n",
    "import os\n",
    "import json\n",
    "import socket\n",
    "from time import *\n",
    "from tqdm import tqdm\n",
    "\n",
    "# Load the Excel file\n",
    "excel_file_path = 'docs/WMX3API_MCEval_Dataset.xlsx'\n",
    "df = pd.read_excel(excel_file_path)\n",
    "\n",
    "# Initialize an empty list to store the data for JSON\n",
    "data_list = []\n",
    "\n",
    "# Function to modify the Python code with logging\n",
    "def add_log_code(py_code, task_id, axis):\n",
    "    lines = py_code.split('\\n')\n",
    "    modified_code = []\n",
    "    i = 0\n",
    "    # Add logging start code\n",
    "    while i < len(lines):\n",
    "        modified_code.append(lines[i])\n",
    "        if '.StartHome' in lines[i]:\n",
    "            i += 1\n",
    "            while i < len(lines) and lines[i].strip() != '':\n",
    "                modified_code.append(lines[i])\n",
    "                i += 1\n",
    "            if i < len(lines):\n",
    "                modified_code.append(f'''\n",
    "                                     \n",
    "    # <log ---------------------------------------------------------------------------                                                                 \n",
    "    WMX3Log = Log(Wmx3Lib)\n",
    "\n",
    "    axislist = {axis}                           \n",
    "    num = len(axislist)\n",
    "\n",
    "    # Set Axis numbers and control variables of log\n",
    "    cmLogIn_0 = CoreMotionLogInput()\n",
    "    cmLogIn_0.axisSelection.axisCount = num\n",
    "    for i in range(0, num):\n",
    "        cmLogIn_0.axisSelection.SetAxis(i, axislist[i])\n",
    "\n",
    "    # Control variables to log\n",
    "    cmLogIn_0.axisOptions.commandPos = 1\n",
    "    cmLogIn_0.axisOptions.feedbackPos = 0\n",
    "    cmLogIn_0.axisOptions.commandVelocity = 0\n",
    "    cmLogIn_0.axisOptions.feedbackVelocity = 0\n",
    "\n",
    "    # Set up log time\n",
    "    option = LogChannelOptions()\n",
    "    option.samplingPeriodInCycles = 1\n",
    "    option.samplingTimeMilliseconds = 1000000  \n",
    "\n",
    "    ret=WMX3Log.SetLogOption(0, option)\n",
    "    if ret!=0:\n",
    "        print('SetLogOption error code is ' + str(ret) + ': ' + WMX3Log.ErrorToString(ret))\n",
    "        return\n",
    "    sleep(0.1)\n",
    "    ret = WMX3Log.SetCustomLog(0,cmLogIn_0)\n",
    "    if ret!=0:\n",
    "        print('SetCustomLog error code is ' + str(ret) + ': ' + WMX3Log.ErrorToString(ret))\n",
    "        return\n",
    "    sleep(0.1)\n",
    "\n",
    "    # Set log file address\n",
    "    path_0 = LogFilePath()\n",
    "    WMX3Log.GetLogFilePath(0)\n",
    "    path_0.dirPath = \"C:\\\\\\\\\"\n",
    "    path_0.fileName = f\"{task_id}_MCEval_Log.txt\"\n",
    "    ret = WMX3Log.SetLogFilePath(0, path_0)\n",
    "    if ret!=0:\n",
    "        print('SetLogFilePath error code is ' + str(ret) + ': ' + WMX3Log.ErrorToString(ret))\n",
    "        return\n",
    "\n",
    "    # Stop log just in case logging is on.\n",
    "    ret = WMX3Log.StopLog(0)\n",
    "    sleep(0.01)\n",
    "\n",
    "    # Start log\n",
    "    ret = WMX3Log.StartLog(0)\n",
    "    if ret!=0:\n",
    "        print('StartLog error code is ' + str(ret) + ': ' + WMX3Log.ErrorToString(ret))\n",
    "        return\n",
    "    sleep(0.01)\n",
    "    # log> ---------------------------------------------------------------------------   \n",
    "    \n",
    "                ''')\n",
    "        i += 1\n",
    "\n",
    "    # Add logging stop code\n",
    "    i = len(lines) - 1\n",
    "    while i >= 0:\n",
    "        if '.SetServoOn' in lines[i]:\n",
    "            while i >= 0 and lines[i].strip() != '':\n",
    "                i -= 1\n",
    "            if i >= 0:\n",
    "                modified_code.insert(i + 1, '''\n",
    "                                     \n",
    "    # <log --------------------------------------------------------------------------- \n",
    "    sleep(0.1)                                                                    \n",
    "    # Stop log\n",
    "    ret = WMX3Log.StopLog(0)\n",
    "    if ret!=0:\n",
    "        print('StopLog error code is ' + str(ret) + ': ' + WMX3Log.ErrorToString(ret))\n",
    "        return\n",
    "\n",
    "    for axisNo in axislist:                                \n",
    "        ret = Wmx3Lib_cm.home.StartHome(axisNo)\n",
    "        if ret!=0:\n",
    "            print('StartHome error code is ' + str(ret) + ': ' + Wmx3Lib_cm.ErrorToString(ret))\n",
    "            return\n",
    "        Wmx3Lib_cm.motion.Wait(axisNo)                                                                  \n",
    "    # log> ---------------------------------------------------------------------------     \n",
    "                                     \n",
    "                ''')\n",
    "            break\n",
    "        i -= 1\n",
    "\n",
    "    return '\\n'.join(modified_code)\n",
    "\n",
    "# Function to send code and log data to socket server\n",
    "def SendCodeLog(code_data_log):\n",
    "    # 1. Create socket\n",
    "    tcp_socket = socket.socket(socket.AF_INET, socket.SOCK_STREAM)\n",
    "\n",
    "    # 2. Connect server\n",
    "    server_addr = (\"10.211.55.5\", 8888)\n",
    "    tcp_socket.connect(server_addr)\n",
    "    print(\"Socket connected\")\n",
    "\n",
    "    import time\n",
    "\n",
    "    # 3. Send data\n",
    "    tcp_socket.send(code_data_log.encode(\"utf-8\"))\n",
    "\n",
    "    time.sleep(0.1)\n",
    "\n",
    "    send_data = 'exit'\n",
    "    tcp_socket.send(send_data.encode(\"utf-8\"))\n",
    "\n",
    "    # 4. Receive data from server\n",
    "    tcp_remsg = tcp_socket.recv(1024)\n",
    "    print(tcp_remsg.decode(\"utf-8\"))\n",
    "\n",
    "    # 5. Close socket\n",
    "    tcp_socket.close()\n",
    "    print(\"Socket end\")\n",
    "\n",
    "# Iterate through each row in the dataframe with a progress bar\n",
    "for index, row in tqdm(df.iterrows(), total=len(df), desc=\"Processing rows\"):\n",
    "    task_id = row['TaskId']\n",
    "    # Construct the path to the Python file\n",
    "    py_file_path = f'MCEval_Files/{task_id}_MCEval.py'\n",
    "    \n",
    "    # Read the Python file to get the CanonicalCode\n",
    "    if os.path.exists(py_file_path):\n",
    "        with open(py_file_path, 'r') as file:\n",
    "            py_code = file.read()\n",
    "    else:\n",
    "        py_code = ''\n",
    "    \n",
    "    #If it is about motion log\n",
    "    print('endp: ' + str(row['EndPoint']))\n",
    "    if (str(row['EndPoint']) != 'nan'):\n",
    "        # Extract axis from the first row of 'EndPoint'\n",
    "        try:\n",
    "            axis = list(range(len(eval(row['EndPoint'])[0])))\n",
    "            axis = eval(row['EndPoint'])[0]\n",
    "            print(\"axisl: \" + str(axis))\n",
    "            if not axis:\n",
    "                continue\n",
    "        except Exception as e:\n",
    "            print(f\"Error processing axis for task {task_id}: {e}\")\n",
    "            continue\n",
    "\n",
    "        # Add log code to the Python file content\n",
    "        modified_code = add_log_code(py_code, task_id, axis)\n",
    "    else:\n",
    "        modified_code = py_code\n",
    "    \n",
    "    # Save the modified code to a new file\n",
    "    modified_file_path = f'MCEval_Files/{task_id}_MCEval_WithLog.py'\n",
    "    with open(modified_file_path, 'w') as file:\n",
    "        file.write(modified_code)\n",
    "    \n",
    "    # Send the modified code to the socket server for each task\n",
    "    SendCodeLog(modified_code)\n",
    "    sleep(0.3)\n",
    "\n",
    "    # Create a dictionary for the current row\n",
    "    row_data = row.to_dict()\n",
    "    row_data['CanonicalCode'] = py_code\n",
    "    \n",
    "    # Append the dictionary to the list\n",
    "    data_list.append(row_data)\n",
    "\n",
    "    sleep(0.2)\n",
    "\n",
    "# Construct the output JSON file path\n",
    "json_file_path = excel_file_path.replace('.xlsx', '.json')\n",
    "\n",
    "# Write the data to a JSON file\n",
    "with open(json_file_path, 'w') as json_file:\n",
    "    json.dump(data_list, json_file, indent=4)\n",
    "\n",
    "print(f\"JSON file has been generated at {json_file_path}\")\n"
   ]
  },
  {
   "cell_type": "markdown",
   "metadata": {},
   "source": [
    "#### Generate Json file from python source file with motion log, adding error stastics\n"
   ]
  },
  {
   "cell_type": "code",
   "execution_count": 2,
   "metadata": {},
   "outputs": [
    {
     "name": "stderr",
     "output_type": "stream",
     "text": [
      "/opt/anaconda3/lib/python3.11/site-packages/openpyxl/worksheet/_read_only.py:79: UserWarning: Sparkline Group extension is not supported and will be removed\n",
      "  for idx, row in parser.parse():\n",
      "Processing rows:   0%|          | 0/69 [00:00<?, ?it/s]"
     ]
    },
    {
     "name": "stdout",
     "output_type": "stream",
     "text": [
      "endp: [[0],\n",
      "[180]]\n",
      "axisl: [0]\n",
      "Socket connected\n",
      "70\n",
      "codedeta:Program begin.\n",
      "Program End.\n",
      ", Elapsed_time: 4.582\n",
      "codeerr:\n",
      "Socket end\n"
     ]
    },
    {
     "name": "stderr",
     "output_type": "stream",
     "text": [
      "Processing rows:   1%|▏         | 1/69 [00:05<05:53,  5.20s/it]"
     ]
    },
    {
     "name": "stdout",
     "output_type": "stream",
     "text": [
      "endp: [[1],\n",
      "[200]]\n",
      "axisl: [1]\n",
      "Socket connected\n",
      "71\n",
      "codedeta:Program begin.\n",
      "Program End.\n",
      ", Elapsed_time: 4.113\n",
      "codeerr:\n",
      "Socket end\n"
     ]
    },
    {
     "name": "stderr",
     "output_type": "stream",
     "text": [
      "Processing rows:   3%|▎         | 2/69 [00:09<05:29,  4.92s/it]"
     ]
    },
    {
     "name": "stdout",
     "output_type": "stream",
     "text": [
      "endp: [[2],\n",
      "[10]]\n",
      "axisl: [2]\n",
      "Socket connected\n",
      "72\n",
      "codedeta:Program begin.\n",
      "Program End.\n",
      ", Elapsed_time: 5.553\n",
      "codeerr:\n",
      "Socket end\n"
     ]
    },
    {
     "name": "stderr",
     "output_type": "stream",
     "text": [
      "Processing rows:   4%|▍         | 3/69 [00:16<06:02,  5.49s/it]"
     ]
    },
    {
     "name": "stdout",
     "output_type": "stream",
     "text": [
      "endp: [[0],\n",
      "[380]]\n",
      "axisl: [0]\n",
      "Socket connected\n",
      "73\n",
      "codedeta:Program begin.\n",
      "Program End.\n",
      ", Elapsed_time: 4.269\n",
      "codeerr:\n",
      "Socket end\n"
     ]
    },
    {
     "name": "stderr",
     "output_type": "stream",
     "text": [
      "Processing rows:   6%|▌         | 4/69 [00:20<05:41,  5.25s/it]"
     ]
    },
    {
     "name": "stdout",
     "output_type": "stream",
     "text": [
      "endp: [[0,1],\n",
      "[-10,-150]]\n",
      "axisl: [0, 1]\n",
      "Socket connected\n",
      "74\n",
      "codedeta:Program begin.\n",
      "Program End.\n",
      ", Elapsed_time: 5.000\n",
      "codeerr:\n",
      "Socket end\n"
     ]
    },
    {
     "name": "stderr",
     "output_type": "stream",
     "text": [
      "Processing rows:   7%|▋         | 5/69 [00:26<05:44,  5.38s/it]"
     ]
    },
    {
     "name": "stdout",
     "output_type": "stream",
     "text": [
      "endp: nan\n",
      "Socket connected\n",
      "75\n",
      "codedeta:Program begin.\n",
      "Program End.\n",
      ", Elapsed_time: 2.961\n",
      "codeerr:\n",
      "Socket end\n"
     ]
    },
    {
     "name": "stderr",
     "output_type": "stream",
     "text": [
      "Processing rows:   9%|▊         | 6/69 [00:30<05:00,  4.77s/it]"
     ]
    },
    {
     "name": "stdout",
     "output_type": "stream",
     "text": [
      "endp: [[0,1],\n",
      "[300,100]]\n",
      "axisl: [0, 1]\n",
      "Socket connected\n",
      "76\n",
      "codedeta:Program begin.\n",
      "Program End.\n",
      ", Elapsed_time: 4.576\n",
      "codeerr:\n",
      "Socket end\n"
     ]
    },
    {
     "name": "stderr",
     "output_type": "stream",
     "text": [
      "Processing rows:  10%|█         | 7/69 [00:35<05:04,  4.91s/it]"
     ]
    },
    {
     "name": "stdout",
     "output_type": "stream",
     "text": [
      "endp: [[0,1],\n",
      "[200,150]]\n",
      "axisl: [0, 1]\n",
      "Socket connected\n",
      "77\n",
      "codedeta:Program begin.\n",
      "Program End.\n",
      ", Elapsed_time: 4.499\n",
      "codeerr:\n",
      "Socket end\n"
     ]
    },
    {
     "name": "stderr",
     "output_type": "stream",
     "text": [
      "Processing rows:  12%|█▏        | 8/69 [00:40<05:03,  4.98s/it]"
     ]
    },
    {
     "name": "stdout",
     "output_type": "stream",
     "text": [
      "endp: [[0,1],\n",
      "[500,-50]]\n",
      "axisl: [0, 1]\n",
      "Socket connected\n",
      "78\n",
      "codedeta:Program begin.\n",
      "Program End.\n",
      ", Elapsed_time: 4.910\n",
      "codeerr:\n",
      "Socket end\n"
     ]
    },
    {
     "name": "stderr",
     "output_type": "stream",
     "text": [
      "Processing rows:  13%|█▎        | 9/69 [00:46<05:08,  5.15s/it]"
     ]
    },
    {
     "name": "stdout",
     "output_type": "stream",
     "text": [
      "endp: [[0,1],\n",
      "[188,188]]\n",
      "axisl: [0, 1]\n",
      "Socket connected\n",
      "79\n",
      "codedeta:Program begin.\n",
      "Program End.\n",
      ", Elapsed_time: 4.392\n",
      "codeerr:\n",
      "Socket end\n"
     ]
    },
    {
     "name": "stderr",
     "output_type": "stream",
     "text": [
      "Processing rows:  14%|█▍        | 10/69 [00:51<05:01,  5.10s/it]"
     ]
    },
    {
     "name": "stdout",
     "output_type": "stream",
     "text": [
      "endp: [[2,3],\n",
      "[7,8]]\n",
      "axisl: [2, 3]\n",
      "Socket connected\n",
      "80\n",
      "codedeta:Program begin.\n",
      "Program End.\n",
      ", Elapsed_time: 5.110\n",
      "codeerr:\n",
      "Socket end\n"
     ]
    },
    {
     "name": "stderr",
     "output_type": "stream",
     "text": [
      "Processing rows:  16%|█▌        | 11/69 [00:56<05:07,  5.29s/it]"
     ]
    },
    {
     "name": "stdout",
     "output_type": "stream",
     "text": [
      "endp: [[4],\n",
      "[-100]]\n",
      "axisl: [4]\n",
      "Socket connected\n",
      "81\n",
      "codedeta:Program begin.\n",
      "Program End.\n",
      ", Elapsed_time: 5.150\n",
      "codeerr:\n",
      "Socket end\n"
     ]
    },
    {
     "name": "stderr",
     "output_type": "stream",
     "text": [
      "Processing rows:  17%|█▋        | 12/69 [01:02<05:10,  5.44s/it]"
     ]
    },
    {
     "name": "stdout",
     "output_type": "stream",
     "text": [
      "endp: [[0,1],\n",
      "[0,0]]\n",
      "axisl: [0, 1]\n",
      "Socket connected\n",
      "82\n",
      "codedeta:Program begin.\n",
      "Program End.\n",
      ", Elapsed_time: 5.119\n",
      "codeerr:\n",
      "Socket end\n"
     ]
    },
    {
     "name": "stderr",
     "output_type": "stream",
     "text": [
      "Processing rows:  19%|█▉        | 13/69 [01:08<05:09,  5.53s/it]"
     ]
    },
    {
     "name": "stdout",
     "output_type": "stream",
     "text": [
      "endp: [[0,1],\n",
      "[0,0]]\n",
      "axisl: [0, 1]\n",
      "Socket connected\n",
      "83\n",
      "codedeta:Program begin.\n",
      "Program End.\n",
      ", Elapsed_time: 5.647\n",
      "codeerr:\n",
      "Socket end\n"
     ]
    },
    {
     "name": "stderr",
     "output_type": "stream",
     "text": [
      "Processing rows:  20%|██        | 14/69 [01:14<05:16,  5.75s/it]"
     ]
    },
    {
     "name": "stdout",
     "output_type": "stream",
     "text": [
      "endp: [[4,5,8],\n",
      "[0,0,140]]\n",
      "axisl: [4, 5, 8]\n",
      "Socket connected\n",
      "84\n",
      "codedeta:Program begin.\n",
      "Program End.\n",
      ", Elapsed_time: 6.579\n",
      "codeerr:\n",
      "Socket end\n"
     ]
    },
    {
     "name": "stderr",
     "output_type": "stream",
     "text": [
      "Processing rows:  22%|██▏       | 15/69 [01:21<05:33,  6.18s/it]"
     ]
    },
    {
     "name": "stdout",
     "output_type": "stream",
     "text": [
      "endp: [[0,1],\n",
      "[100,180]]\n",
      "axisl: [0, 1]\n",
      "Socket connected\n",
      "85\n",
      "codedeta:Program begin.\n",
      "Program End.\n",
      ", Elapsed_time: 4.550\n",
      "codeerr:\n",
      "Socket end\n"
     ]
    },
    {
     "name": "stderr",
     "output_type": "stream",
     "text": [
      "Processing rows:  23%|██▎       | 16/69 [01:26<05:11,  5.88s/it]"
     ]
    },
    {
     "name": "stdout",
     "output_type": "stream",
     "text": [
      "endp: [[0],\n",
      "[0]]\n",
      "axisl: [0]\n",
      "Socket connected\n",
      "86\n",
      "codedeta:Program begin.\n",
      "Program End.\n",
      ", Elapsed_time: 5.299\n",
      "codeerr:\n",
      "Socket end\n"
     ]
    },
    {
     "name": "stderr",
     "output_type": "stream",
     "text": [
      "Processing rows:  25%|██▍       | 17/69 [01:32<05:06,  5.89s/it]"
     ]
    },
    {
     "name": "stdout",
     "output_type": "stream",
     "text": [
      "endp: [[0,1],\n",
      "[200,100]]\n",
      "axisl: [0, 1]\n",
      "Socket connected\n",
      "87\n",
      "codedeta:Program begin.\n",
      "Program End.\n",
      ", Elapsed_time: 4.714\n",
      "codeerr:\n",
      "Socket end\n"
     ]
    },
    {
     "name": "stderr",
     "output_type": "stream",
     "text": [
      "Processing rows:  26%|██▌       | 18/69 [01:38<04:51,  5.72s/it]"
     ]
    },
    {
     "name": "stdout",
     "output_type": "stream",
     "text": [
      "endp: [[0],\n",
      "[110]]\n",
      "axisl: [0]\n",
      "Socket connected\n",
      "88\n",
      "codedeta:Program begin.\n",
      "Program End.\n",
      ", Elapsed_time: 3.822\n",
      "codeerr:\n",
      "Socket end\n"
     ]
    },
    {
     "name": "stderr",
     "output_type": "stream",
     "text": [
      "Processing rows:  28%|██▊       | 19/69 [01:42<04:26,  5.34s/it]"
     ]
    },
    {
     "name": "stdout",
     "output_type": "stream",
     "text": [
      "endp: [[0],\n",
      "[70]]\n",
      "axisl: [0]\n",
      "Socket connected\n",
      "89\n",
      "codedeta:Program begin.\n",
      "Program End.\n",
      ", Elapsed_time: 3.949\n",
      "codeerr:\n",
      "Socket end\n"
     ]
    },
    {
     "name": "stderr",
     "output_type": "stream",
     "text": [
      "Processing rows:  29%|██▉       | 20/69 [01:47<04:10,  5.10s/it]"
     ]
    },
    {
     "name": "stdout",
     "output_type": "stream",
     "text": [
      "endp: [[0,1],\n",
      "[300,100]]\n",
      "axisl: [0, 1]\n",
      "Socket connected\n",
      "90\n",
      "codedeta:Program begin.\n",
      "Program End.\n",
      ", Elapsed_time: 4.785\n",
      "codeerr:\n",
      "Socket end\n"
     ]
    },
    {
     "name": "stderr",
     "output_type": "stream",
     "text": [
      "Processing rows:  30%|███       | 21/69 [01:52<04:09,  5.19s/it]"
     ]
    },
    {
     "name": "stdout",
     "output_type": "stream",
     "text": [
      "endp: [[0,1],\n",
      "[300,100]]\n",
      "axisl: [0, 1]\n",
      "Socket connected\n",
      "91\n",
      "codedeta:Program begin.\n",
      "Program End.\n",
      ", Elapsed_time: 4.813\n",
      "codeerr:\n",
      "Socket end\n"
     ]
    },
    {
     "name": "stderr",
     "output_type": "stream",
     "text": [
      "Processing rows:  32%|███▏      | 22/69 [01:57<04:07,  5.26s/it]"
     ]
    },
    {
     "name": "stdout",
     "output_type": "stream",
     "text": [
      "endp: [[0,1],\n",
      "[-100,-10]]\n",
      "axisl: [0, 1]\n",
      "Socket connected\n",
      "92\n",
      "codedeta:Program begin.\n",
      "Program End.\n",
      ", Elapsed_time: 4.672\n",
      "codeerr:\n",
      "Socket end\n"
     ]
    },
    {
     "name": "stderr",
     "output_type": "stream",
     "text": [
      "Processing rows:  33%|███▎      | 23/69 [02:03<04:02,  5.27s/it]"
     ]
    },
    {
     "name": "stdout",
     "output_type": "stream",
     "text": [
      "endp: [[0,1],\n",
      "[-70,-40]]\n",
      "axisl: [0, 1]\n",
      "Socket connected\n",
      "93\n",
      "codedeta:Program begin.\n",
      "Program End.\n",
      ", Elapsed_time: 4.550\n",
      "codeerr:\n",
      "Socket end\n"
     ]
    },
    {
     "name": "stderr",
     "output_type": "stream",
     "text": [
      "Processing rows:  35%|███▍      | 24/69 [02:08<03:55,  5.24s/it]"
     ]
    },
    {
     "name": "stdout",
     "output_type": "stream",
     "text": [
      "endp: [[0,1],\n",
      "[200,0]]\n",
      "axisl: [0, 1]\n",
      "Socket connected\n",
      "94\n",
      "codedeta:Program begin.\n",
      "Program End.\n",
      ", Elapsed_time: 4.613\n",
      "codeerr:\n",
      "Socket end\n"
     ]
    },
    {
     "name": "stderr",
     "output_type": "stream",
     "text": [
      "Processing rows:  36%|███▌      | 25/69 [02:13<03:50,  5.24s/it]"
     ]
    },
    {
     "name": "stdout",
     "output_type": "stream",
     "text": [
      "endp: [[0,1],\n",
      "[500,100]]\n",
      "axisl: [0, 1]\n",
      "Socket connected\n",
      "95\n",
      "codedeta:Program begin.\n",
      "Program End.\n",
      ", Elapsed_time: 5.065\n",
      "codeerr:\n",
      "Socket end\n"
     ]
    },
    {
     "name": "stderr",
     "output_type": "stream",
     "text": [
      "Processing rows:  38%|███▊      | 26/69 [02:19<03:50,  5.37s/it]"
     ]
    },
    {
     "name": "stdout",
     "output_type": "stream",
     "text": [
      "endp: [[0],\n",
      "[100]]\n",
      "axisl: [0]\n",
      "Socket connected\n",
      "96\n",
      "codedeta:Program begin.\n",
      "Program End.\n",
      ", Elapsed_time: 4.234\n",
      "codeerr:\n",
      "Socket end\n"
     ]
    },
    {
     "name": "stderr",
     "output_type": "stream",
     "text": [
      "Processing rows:  39%|███▉      | 27/69 [02:24<03:38,  5.21s/it]"
     ]
    },
    {
     "name": "stdout",
     "output_type": "stream",
     "text": [
      "endp: [[0],\n",
      "[0]]\n",
      "axisl: [0]\n",
      "Socket connected\n",
      "97\n",
      "codedeta:Program begin.\n",
      "Program End.\n",
      ", Elapsed_time: 4.638\n",
      "codeerr:\n",
      "Socket end\n"
     ]
    },
    {
     "name": "stderr",
     "output_type": "stream",
     "text": [
      "Processing rows:  41%|████      | 28/69 [02:29<03:34,  5.22s/it]"
     ]
    },
    {
     "name": "stdout",
     "output_type": "stream",
     "text": [
      "endp: [[0],\n",
      "[180]]\n",
      "axisl: [0]\n",
      "Socket connected\n",
      "98\n",
      "codedeta:Program begin.\n",
      "Program End.\n",
      ", Elapsed_time: 8.647\n",
      "codeerr:\n",
      "Socket end\n"
     ]
    },
    {
     "name": "stderr",
     "output_type": "stream",
     "text": [
      "Processing rows:  42%|████▏     | 29/69 [02:38<04:17,  6.43s/it]"
     ]
    },
    {
     "name": "stdout",
     "output_type": "stream",
     "text": [
      "endp: [[0,1],\n",
      "[0,0]]\n",
      "axisl: [0, 1]\n",
      "Socket connected\n",
      "99\n",
      "codedeta:Program begin.\n",
      "Program End.\n",
      ", Elapsed_time: 4.938\n",
      "codeerr:\n",
      "Socket end\n"
     ]
    },
    {
     "name": "stderr",
     "output_type": "stream",
     "text": [
      "Processing rows:  43%|████▎     | 30/69 [02:44<04:00,  6.17s/it]"
     ]
    },
    {
     "name": "stdout",
     "output_type": "stream",
     "text": [
      "endp: [[0],\n",
      "[600]]\n",
      "axisl: [0]\n",
      "Socket connected\n",
      "100\n",
      "codedeta:Program begin.\n",
      "Program End.\n",
      ", Elapsed_time: 4.090\n",
      "codeerr:\n",
      "Socket end\n"
     ]
    },
    {
     "name": "stderr",
     "output_type": "stream",
     "text": [
      "Processing rows:  45%|████▍     | 31/69 [02:48<03:37,  5.73s/it]"
     ]
    },
    {
     "name": "stdout",
     "output_type": "stream",
     "text": [
      "endp: [[0,1],\n",
      "[200,300]]\n",
      "axisl: [0, 1]\n",
      "Socket connected\n",
      "101\n",
      "codedeta:Program begin.\n",
      "Program End.\n",
      ", Elapsed_time: 4.409\n",
      "codeerr:\n",
      "Socket end\n"
     ]
    },
    {
     "name": "stderr",
     "output_type": "stream",
     "text": [
      "Processing rows:  46%|████▋     | 32/69 [02:53<03:24,  5.52s/it]"
     ]
    },
    {
     "name": "stdout",
     "output_type": "stream",
     "text": [
      "endp: [[0],\n",
      "[300]]\n",
      "axisl: [0]\n",
      "Socket connected\n",
      "102\n",
      "codedeta:Program begin.\n",
      "Program End.\n",
      ", Elapsed_time: 6.087\n",
      "codeerr:\n",
      "Socket end\n"
     ]
    },
    {
     "name": "stderr",
     "output_type": "stream",
     "text": [
      "Processing rows:  48%|████▊     | 33/69 [03:00<03:31,  5.87s/it]"
     ]
    },
    {
     "name": "stdout",
     "output_type": "stream",
     "text": [
      "endp: [[0],\n",
      "[750]]\n",
      "axisl: [0]\n",
      "Socket connected\n",
      "103\n",
      "codedeta:Program begin.\n",
      "Program End.\n",
      ", Elapsed_time: 6.119\n",
      "codeerr:\n",
      "Socket end\n"
     ]
    },
    {
     "name": "stderr",
     "output_type": "stream",
     "text": [
      "Processing rows:  49%|████▉     | 34/69 [03:07<03:34,  6.13s/it]"
     ]
    },
    {
     "name": "stdout",
     "output_type": "stream",
     "text": [
      "endp: [[0],\n",
      "[175]]\n",
      "axisl: [0]\n",
      "Socket connected\n",
      "104\n",
      "codedeta:Program begin.\n",
      "Program End.\n",
      ", Elapsed_time: 6.598\n",
      "codeerr:\n",
      "Socket end\n"
     ]
    },
    {
     "name": "stderr",
     "output_type": "stream",
     "text": [
      "Processing rows:  51%|█████     | 35/69 [03:14<03:39,  6.46s/it]"
     ]
    },
    {
     "name": "stdout",
     "output_type": "stream",
     "text": [
      "endp: [[0,1],\n",
      "[0,0]]\n",
      "axisl: [0, 1]\n",
      "Socket connected\n",
      "105\n",
      "codedeta:Program begin.\n",
      "Program End.\n",
      ", Elapsed_time: 5.723\n",
      "codeerr:\n",
      "Socket end\n"
     ]
    },
    {
     "name": "stderr",
     "output_type": "stream",
     "text": [
      "Processing rows:  52%|█████▏    | 36/69 [03:20<03:31,  6.42s/it]"
     ]
    },
    {
     "name": "stdout",
     "output_type": "stream",
     "text": [
      "endp: [[0,1],\n",
      "[0,0]]\n",
      "axisl: [0, 1]\n",
      "Socket connected\n",
      "106\n",
      "codedeta:Program begin.\n",
      "Program End.\n",
      ", Elapsed_time: 5.378\n",
      "codeerr:\n",
      "Socket end\n"
     ]
    },
    {
     "name": "stderr",
     "output_type": "stream",
     "text": [
      "Processing rows:  54%|█████▎    | 37/69 [03:26<03:21,  6.29s/it]"
     ]
    },
    {
     "name": "stdout",
     "output_type": "stream",
     "text": [
      "endp: [[0,1],\n",
      "[0,0]]\n",
      "axisl: [0, 1]\n",
      "Socket connected\n",
      "107\n",
      "codedeta:Program begin.\n",
      "Program End.\n",
      ", Elapsed_time: 6.317\n",
      "codeerr:\n",
      "Socket end\n"
     ]
    },
    {
     "name": "stderr",
     "output_type": "stream",
     "text": [
      "Processing rows:  55%|█████▌    | 38/69 [03:33<03:20,  6.48s/it]"
     ]
    },
    {
     "name": "stdout",
     "output_type": "stream",
     "text": [
      "endp: [[0,1],\n",
      "[0,0]]\n",
      "axisl: [0, 1]\n",
      "Socket connected\n",
      "108\n",
      "codedeta:Program begin.\n",
      "Program End.\n",
      ", Elapsed_time: 4.884\n",
      "codeerr:\n",
      "Socket end\n"
     ]
    },
    {
     "name": "stderr",
     "output_type": "stream",
     "text": [
      "Processing rows:  57%|█████▋    | 39/69 [03:39<03:05,  6.19s/it]"
     ]
    },
    {
     "name": "stdout",
     "output_type": "stream",
     "text": [
      "endp: [[0,1],\n",
      "[0,0]]\n",
      "axisl: [0, 1]\n",
      "Socket connected\n",
      "109\n",
      "codedeta:Program begin.\n",
      "Program End.\n",
      ", Elapsed_time: 5.606\n",
      "codeerr:\n",
      "Socket end\n"
     ]
    },
    {
     "name": "stderr",
     "output_type": "stream",
     "text": [
      "Processing rows:  58%|█████▊    | 40/69 [03:45<02:59,  6.20s/it]"
     ]
    },
    {
     "name": "stdout",
     "output_type": "stream",
     "text": [
      "endp: [[0,1],\n",
      "[0,0]]\n",
      "axisl: [0, 1]\n",
      "Socket connected\n",
      "110\n",
      "codedeta:Program begin.\n",
      "Program End.\n",
      ", Elapsed_time: 5.045\n",
      "codeerr:\n",
      "Socket end\n"
     ]
    },
    {
     "name": "stderr",
     "output_type": "stream",
     "text": [
      "Processing rows:  59%|█████▉    | 41/69 [03:51<02:49,  6.04s/it]"
     ]
    },
    {
     "name": "stdout",
     "output_type": "stream",
     "text": [
      "endp: [[0,1],\n",
      "[240,0]]\n",
      "axisl: [0, 1]\n",
      "Socket connected\n",
      "111\n",
      "codedeta:Program begin.\n",
      "Program End.\n",
      ", Elapsed_time: 4.778\n",
      "codeerr:\n",
      "Socket end\n"
     ]
    },
    {
     "name": "stderr",
     "output_type": "stream",
     "text": [
      "Processing rows:  61%|██████    | 42/69 [03:56<02:37,  5.84s/it]"
     ]
    },
    {
     "name": "stdout",
     "output_type": "stream",
     "text": [
      "endp: [[0,1,2],\n",
      "[0,0,0]]\n",
      "axisl: [0, 1, 2]\n",
      "Socket connected\n",
      "112\n",
      "codedeta:Program begin.\n",
      "Program End.\n",
      ", Elapsed_time: 10.496\n",
      "codeerr:\n",
      "Socket end\n"
     ]
    },
    {
     "name": "stderr",
     "output_type": "stream",
     "text": [
      "Processing rows:  62%|██████▏   | 43/69 [04:07<03:12,  7.42s/it]"
     ]
    },
    {
     "name": "stdout",
     "output_type": "stream",
     "text": [
      "endp: [[0,1,2],\n",
      "[0,0,270]]\n",
      "axisl: [0, 1, 2]\n",
      "Socket connected\n",
      "113\n",
      "codedeta:Program begin.\n",
      "Program End.\n",
      ", Elapsed_time: 7.530\n",
      "codeerr:\n",
      "Socket end\n"
     ]
    },
    {
     "name": "stderr",
     "output_type": "stream",
     "text": [
      "Processing rows:  64%|██████▍   | 44/69 [04:15<03:11,  7.64s/it]"
     ]
    },
    {
     "name": "stdout",
     "output_type": "stream",
     "text": [
      "endp: [[0,1,2],\n",
      "[100,0,270]]\n",
      "axisl: [0, 1, 2]\n",
      "Socket connected\n",
      "114\n",
      "codedeta:Program begin.\n",
      "Program End.\n",
      ", Elapsed_time: 9.343\n",
      "codeerr:\n",
      "Socket end\n"
     ]
    },
    {
     "name": "stderr",
     "output_type": "stream",
     "text": [
      "Processing rows:  65%|██████▌   | 45/69 [04:25<03:20,  8.34s/it]"
     ]
    },
    {
     "name": "stdout",
     "output_type": "stream",
     "text": [
      "endp: [[0,1,2],\n",
      "[100,0,270]]\n",
      "axisl: [0, 1, 2]\n",
      "Socket connected\n",
      "115\n",
      "codedeta:Program begin.\n",
      "Program End.\n",
      ", Elapsed_time: 8.464\n",
      "codeerr:\n",
      "Socket end\n"
     ]
    },
    {
     "name": "stderr",
     "output_type": "stream",
     "text": [
      "Processing rows:  67%|██████▋   | 46/69 [04:34<03:16,  8.56s/it]"
     ]
    },
    {
     "name": "stdout",
     "output_type": "stream",
     "text": [
      "endp: [[0,1,2],\n",
      "[100,0,270]]\n",
      "axisl: [0, 1, 2]\n",
      "Socket connected\n",
      "116\n",
      "codedeta:Program begin.\n",
      "Program End.\n",
      ", Elapsed_time: 8.748\n",
      "codeerr:\n",
      "Socket end\n"
     ]
    },
    {
     "name": "stderr",
     "output_type": "stream",
     "text": [
      "Processing rows:  68%|██████▊   | 47/69 [04:44<03:13,  8.80s/it]"
     ]
    },
    {
     "name": "stdout",
     "output_type": "stream",
     "text": [
      "endp: [[0,1,2],\n",
      "[0,0,0]]\n",
      "axisl: [0, 1, 2]\n",
      "Socket connected\n",
      "117\n",
      "codedeta:Program begin.\n",
      "Program End.\n",
      ", Elapsed_time: 13.594\n",
      "codeerr:\n",
      "Socket end\n"
     ]
    },
    {
     "name": "stderr",
     "output_type": "stream",
     "text": [
      "Processing rows:  70%|██████▉   | 48/69 [04:58<03:38, 10.43s/it]"
     ]
    },
    {
     "name": "stdout",
     "output_type": "stream",
     "text": [
      "endp: [[0,1,2],\n",
      "[-10,12,127]]\n",
      "axisl: [0, 1, 2]\n",
      "Socket connected\n",
      "118\n",
      "codedeta:Program begin.\n",
      "Program End.\n",
      ", Elapsed_time: 8.872\n",
      "codeerr:\n",
      "Socket end\n"
     ]
    },
    {
     "name": "stderr",
     "output_type": "stream",
     "text": [
      "Processing rows:  71%|███████   | 49/69 [05:08<03:22, 10.15s/it]"
     ]
    },
    {
     "name": "stdout",
     "output_type": "stream",
     "text": [
      "endp: [[0,1,2,3],\n",
      "[150,0,2700,175]]\n",
      "axisl: [0, 1, 2, 3]\n",
      "Socket connected\n",
      "119\n",
      "codedeta:Program begin.\n",
      "Program End.\n",
      ", Elapsed_time: 7.008\n",
      "codeerr:\n",
      "Socket end\n"
     ]
    },
    {
     "name": "stderr",
     "output_type": "stream",
     "text": [
      "Processing rows:  72%|███████▏  | 50/69 [05:15<02:58,  9.39s/it]"
     ]
    },
    {
     "name": "stdout",
     "output_type": "stream",
     "text": [
      "endp: [[0,1],\n",
      "[0,0]]\n",
      "axisl: [0, 1]\n",
      "Socket connected\n",
      "120\n",
      "codedeta:Program begin.\n",
      "Program End.\n",
      ", Elapsed_time: 5.927\n",
      "codeerr:\n",
      "Socket end\n"
     ]
    },
    {
     "name": "stderr",
     "output_type": "stream",
     "text": [
      "Processing rows:  74%|███████▍  | 51/69 [05:22<02:33,  8.54s/it]"
     ]
    },
    {
     "name": "stdout",
     "output_type": "stream",
     "text": [
      "endp: [[0,1],\n",
      "[0,0]]\n",
      "axisl: [0, 1]\n",
      "Socket connected\n",
      "121\n",
      "codedeta:Program begin.\n",
      "Program End.\n",
      ", Elapsed_time: 6.973\n",
      "codeerr:\n",
      "Socket end\n"
     ]
    },
    {
     "name": "stderr",
     "output_type": "stream",
     "text": [
      "Processing rows:  75%|███████▌  | 52/69 [05:29<02:20,  8.26s/it]"
     ]
    },
    {
     "name": "stdout",
     "output_type": "stream",
     "text": [
      "endp: [[0,1],\n",
      "[0,0]]\n",
      "axisl: [0, 1]\n",
      "Socket connected\n",
      "122\n",
      "codedeta:Program begin.\n",
      "Program End.\n",
      ", Elapsed_time: 6.003\n",
      "codeerr:\n",
      "Socket end\n"
     ]
    },
    {
     "name": "stderr",
     "output_type": "stream",
     "text": [
      "Processing rows:  77%|███████▋  | 53/69 [05:36<02:04,  7.77s/it]"
     ]
    },
    {
     "name": "stdout",
     "output_type": "stream",
     "text": [
      "endp: [[0,1],\n",
      "[0,0]]\n",
      "axisl: [0, 1]\n",
      "Socket connected\n",
      "123\n",
      "codedeta:Program begin.\n",
      "Program End.\n",
      ", Elapsed_time: 4.958\n",
      "codeerr:\n",
      "Socket end\n"
     ]
    },
    {
     "name": "stderr",
     "output_type": "stream",
     "text": [
      "Processing rows:  78%|███████▊  | 54/69 [05:42<01:46,  7.12s/it]"
     ]
    },
    {
     "name": "stdout",
     "output_type": "stream",
     "text": [
      "endp: [[0,1],\n",
      "[0,0]]\n",
      "axisl: [0, 1]\n",
      "Socket connected\n",
      "124\n",
      "codedeta:Program begin.\n",
      "Program End.\n",
      ", Elapsed_time: 5.731\n",
      "codeerr:\n",
      "Socket end\n"
     ]
    },
    {
     "name": "stderr",
     "output_type": "stream",
     "text": [
      "Processing rows:  80%|███████▉  | 55/69 [05:48<01:36,  6.89s/it]"
     ]
    },
    {
     "name": "stdout",
     "output_type": "stream",
     "text": [
      "endp: [[0,1],\n",
      "[0,0]]\n",
      "axisl: [0, 1]\n",
      "Socket connected\n",
      "125\n",
      "codedeta:Program begin.\n",
      "Program End.\n",
      ", Elapsed_time: 5.932\n",
      "codeerr:\n",
      "Socket end\n"
     ]
    },
    {
     "name": "stderr",
     "output_type": "stream",
     "text": [
      "Processing rows:  81%|████████  | 56/69 [05:54<01:28,  6.79s/it]"
     ]
    },
    {
     "name": "stdout",
     "output_type": "stream",
     "text": [
      "endp: [[0,1],\n",
      "[0,0]]\n",
      "axisl: [0, 1]\n",
      "Socket connected\n",
      "126\n",
      "codedeta:Program begin.\n",
      "Program End.\n",
      ", Elapsed_time: 5.622\n",
      "codeerr:\n",
      "Socket end\n"
     ]
    },
    {
     "name": "stderr",
     "output_type": "stream",
     "text": [
      "Processing rows:  83%|████████▎ | 57/69 [06:01<01:19,  6.63s/it]"
     ]
    },
    {
     "name": "stdout",
     "output_type": "stream",
     "text": [
      "endp: [[0,1],\n",
      "[0,0]]\n",
      "axisl: [0, 1]\n",
      "Socket connected\n",
      "127\n",
      "codedeta:Program begin.\n",
      "Program End.\n",
      ", Elapsed_time: 10.932\n",
      "codeerr:\n",
      "Socket end\n"
     ]
    },
    {
     "name": "stderr",
     "output_type": "stream",
     "text": [
      "Processing rows:  84%|████████▍ | 58/69 [06:12<01:29,  8.11s/it]"
     ]
    },
    {
     "name": "stdout",
     "output_type": "stream",
     "text": [
      "endp: [[0,1],\n",
      "[0,0]]\n",
      "axisl: [0, 1]\n",
      "Socket connected\n",
      "128\n",
      "codedeta:Program begin.\n",
      "Program End.\n",
      ", Elapsed_time: 5.191\n",
      "codeerr:\n",
      "Socket end\n"
     ]
    },
    {
     "name": "stderr",
     "output_type": "stream",
     "text": [
      "Processing rows:  86%|████████▌ | 59/69 [06:18<01:14,  7.42s/it]"
     ]
    },
    {
     "name": "stdout",
     "output_type": "stream",
     "text": [
      "endp: [[0,1],\n",
      "[0,0]]\n",
      "axisl: [0, 1]\n",
      "Socket connected\n",
      "129\n",
      "codedeta:Program begin.\n",
      "Program End.\n",
      ", Elapsed_time: 5.379\n",
      "codeerr:\n",
      "Socket end\n"
     ]
    },
    {
     "name": "stderr",
     "output_type": "stream",
     "text": [
      "Processing rows:  87%|████████▋ | 60/69 [06:24<01:02,  7.00s/it]"
     ]
    },
    {
     "name": "stdout",
     "output_type": "stream",
     "text": [
      "endp: [[0,1],\n",
      "[100,100]]\n",
      "axisl: [0, 1]\n",
      "Socket connected\n",
      "130\n",
      "codedeta:Program begin.\n",
      "Program End.\n",
      ", Elapsed_time: 5.230\n",
      "codeerr:\n",
      "Socket end\n"
     ]
    },
    {
     "name": "stderr",
     "output_type": "stream",
     "text": [
      "Processing rows:  88%|████████▊ | 61/69 [06:30<00:53,  6.66s/it]"
     ]
    },
    {
     "name": "stdout",
     "output_type": "stream",
     "text": [
      "endp: [[0,1],\n",
      "[0,0]]\n",
      "axisl: [0, 1]\n",
      "Socket connected\n",
      "131\n",
      "codedeta:Program begin.\n",
      "Program End.\n",
      ", Elapsed_time: 5.991\n",
      "codeerr:\n",
      "Socket end\n"
     ]
    },
    {
     "name": "stderr",
     "output_type": "stream",
     "text": [
      "Processing rows:  90%|████████▉ | 62/69 [06:37<00:46,  6.64s/it]"
     ]
    },
    {
     "name": "stdout",
     "output_type": "stream",
     "text": [
      "endp: [[0,1],\n",
      "[1,2]]\n",
      "axisl: [0, 1]\n",
      "Socket connected\n",
      "132\n",
      "codedeta:Program begin.\n",
      "Program End.\n",
      ", Elapsed_time: 5.438\n",
      "codeerr:\n",
      "Socket end\n"
     ]
    },
    {
     "name": "stderr",
     "output_type": "stream",
     "text": [
      "Processing rows:  91%|█████████▏| 63/69 [06:43<00:38,  6.47s/it]"
     ]
    },
    {
     "name": "stdout",
     "output_type": "stream",
     "text": [
      "endp: [[0,1],\n",
      "[40,0]]\n",
      "axisl: [0, 1]\n",
      "Socket connected\n",
      "133\n",
      "codedeta:Program begin.\n",
      "Program End.\n",
      ", Elapsed_time: 4.359\n",
      "codeerr:\n",
      "Socket end\n"
     ]
    },
    {
     "name": "stderr",
     "output_type": "stream",
     "text": [
      "Processing rows:  93%|█████████▎| 64/69 [06:48<00:30,  6.02s/it]"
     ]
    },
    {
     "name": "stdout",
     "output_type": "stream",
     "text": [
      "endp: [[0,1],\n",
      "[40,0]]\n",
      "axisl: [0, 1]\n",
      "Socket connected\n",
      "134\n",
      "codedeta:Program begin.\n",
      "Program End.\n",
      ", Elapsed_time: 4.401\n",
      "codeerr:\n",
      "Socket end\n"
     ]
    },
    {
     "name": "stderr",
     "output_type": "stream",
     "text": [
      "Processing rows:  94%|█████████▍| 65/69 [06:53<00:22,  5.73s/it]"
     ]
    },
    {
     "name": "stdout",
     "output_type": "stream",
     "text": [
      "endp: [[0,1],\n",
      "[40,0]]\n",
      "axisl: [0, 1]\n",
      "Socket connected\n",
      "135\n",
      "codedeta:Program begin.\n",
      "Program End.\n",
      ", Elapsed_time: 4.381\n",
      "codeerr:\n",
      "Socket end\n"
     ]
    },
    {
     "name": "stderr",
     "output_type": "stream",
     "text": [
      "Processing rows:  96%|█████████▌| 66/69 [06:58<00:16,  5.51s/it]"
     ]
    },
    {
     "name": "stdout",
     "output_type": "stream",
     "text": [
      "endp: [[0,1],\n",
      "[0,0]]\n",
      "axisl: [0, 1]\n",
      "Socket connected\n",
      "136\n",
      "codedeta:Program begin.\n",
      "Program End.\n",
      ", Elapsed_time: 5.000\n",
      "codeerr:\n",
      "Socket end\n"
     ]
    },
    {
     "name": "stderr",
     "output_type": "stream",
     "text": [
      "Processing rows:  97%|█████████▋| 67/69 [07:03<00:11,  5.54s/it]"
     ]
    },
    {
     "name": "stdout",
     "output_type": "stream",
     "text": [
      "endp: [[0,1,2],\n",
      "[0,0,0]]\n",
      "axisl: [0, 1, 2]\n",
      "Socket connected\n",
      "137\n",
      "codedeta:Program begin.\n",
      "Program End.\n",
      ", Elapsed_time: 8.064\n",
      "codeerr:\n",
      "Socket end\n"
     ]
    },
    {
     "name": "stderr",
     "output_type": "stream",
     "text": [
      "Processing rows:  99%|█████████▊| 68/69 [07:12<00:06,  6.49s/it]"
     ]
    },
    {
     "name": "stdout",
     "output_type": "stream",
     "text": [
      "endp: [[0,1,2,3],\n",
      "[0,0,0,100]]\n",
      "axisl: [0, 1, 2, 3]\n",
      "Socket connected\n",
      "138\n",
      "codedeta:Program begin.\n",
      "Program End.\n",
      ", Elapsed_time: 6.237\n",
      "codeerr:\n",
      "Socket end\n"
     ]
    },
    {
     "name": "stderr",
     "output_type": "stream",
     "text": [
      "Processing rows: 100%|██████████| 69/69 [07:19<00:00,  6.37s/it]"
     ]
    },
    {
     "name": "stdout",
     "output_type": "stream",
     "text": [
      "JSON file has been generated at docs/WMX3API_MCEval_Dataset.json\n",
      "Total tasks: 69\n",
      "Error tasks: 0\n",
      "Syntax error tasks: 0\n",
      "Successful tasks: 69\n",
      "Accuracy: 100.00%\n",
      "Tasks with errors: []\n",
      "Tasks with syntax errors: []\n"
     ]
    },
    {
     "name": "stderr",
     "output_type": "stream",
     "text": [
      "\n"
     ]
    }
   ],
   "source": [
    "import pandas as pd\n",
    "import os\n",
    "import json\n",
    "import socket\n",
    "from time import sleep\n",
    "from tqdm import tqdm\n",
    "\n",
    "# Load the Excel file\n",
    "excel_file_path = 'docs/WMX3API_MCEval_Dataset.xlsx'\n",
    "df = pd.read_excel(excel_file_path)\n",
    "\n",
    "# Initialize an empty list to store the data for JSON\n",
    "data_list = []\n",
    "\n",
    "# Lists to store TaskIds with different errors\n",
    "error_task_ids = []\n",
    "syntax_error_task_ids = []\n",
    "\n",
    "# Function to modify the Python code with logging\n",
    "def add_log_code(py_code, task_id, axis):\n",
    "    lines = py_code.split('\\n')\n",
    "    modified_code = []\n",
    "    i = 0\n",
    "    # Add logging start code\n",
    "    while i < len(lines):\n",
    "        modified_code.append(lines[i])\n",
    "        if '.StartHome' in lines[i]:\n",
    "            i += 1\n",
    "            while i < len(lines) and lines[i].strip() != '':\n",
    "                modified_code.append(lines[i])\n",
    "                i += 1\n",
    "            if i < len(lines):\n",
    "                modified_code.append(f'''\n",
    "    # <log ---------------------------------------------------------------------------                                                                 \n",
    "    WMX3Log = Log(Wmx3Lib)\n",
    "\n",
    "                                     \n",
    "    # Stop log just in case logging is on.\n",
    "    ret = WMX3Log.StopLog(0)\n",
    "    sleep(0.01)\n",
    "                                     \n",
    "    axislist = {axis}                           \n",
    "    num = len(axislist)\n",
    "\n",
    "    # Set Axis numbers and control variables of log\n",
    "    cmLogIn_0 = CoreMotionLogInput()\n",
    "    cmLogIn_0.axisSelection.axisCount = num\n",
    "    for i in range(0, num):\n",
    "        cmLogIn_0.axisSelection.SetAxis(i, axislist[i])\n",
    "\n",
    "    # Control variables to log\n",
    "    cmLogIn_0.axisOptions.commandPos = 1\n",
    "    cmLogIn_0.axisOptions.feedbackPos = 0\n",
    "    cmLogIn_0.axisOptions.commandVelocity = 0\n",
    "    cmLogIn_0.axisOptions.feedbackVelocity = 0\n",
    "\n",
    "    # Set up log time\n",
    "    option = LogChannelOptions()\n",
    "    option.samplingPeriodInCycles = 1\n",
    "    option.samplingTimeMilliseconds = 1000000\n",
    "    option.precision = 3\n",
    "\n",
    "    ret=WMX3Log.SetLogOption(0, option)\n",
    "    if ret!=0:\n",
    "        print('SetLogOption error code is ' + str(ret) + ': ' + WMX3Log.ErrorToString(ret))\n",
    "        return\n",
    "    sleep(0.1)\n",
    "    ret = WMX3Log.SetCustomLog(0,cmLogIn_0)\n",
    "    if ret!=0:\n",
    "        print('SetCustomLog error code is ' + str(ret) + ': ' + WMX3Log.ErrorToString(ret))\n",
    "        return\n",
    "    sleep(0.1)\n",
    "\n",
    "    # Set log file address\n",
    "    path_0 = LogFilePath()\n",
    "    WMX3Log.GetLogFilePath(0)\n",
    "    path_0.dirPath = \"C:\\\\\\\\\"\n",
    "    path_0.fileName = f\"{task_id}_MCEval_Log.txt\"\n",
    "    ret = WMX3Log.SetLogFilePath(0, path_0)\n",
    "    if ret!=0:\n",
    "        print('SetLogFilePath error code is ' + str(ret) + ': ' + WMX3Log.ErrorToString(ret))\n",
    "        return\n",
    "\n",
    "    # Start log\n",
    "    ret = WMX3Log.StartLog(0)\n",
    "    if ret!=0:\n",
    "        print('StartLog error code is ' + str(ret) + ': ' + WMX3Log.ErrorToString(ret))\n",
    "        return\n",
    "    sleep(0.01)\n",
    "    # log> ---------------------------------------------------------------------------   \n",
    "    \n",
    "                ''')\n",
    "        i += 1\n",
    "\n",
    "    # Add logging stop code\n",
    "    i = len(lines) - 1\n",
    "    while i >= 0:\n",
    "        if '.SetServoOn' in lines[i]:\n",
    "            while i >= 0 and lines[i].strip() != '':\n",
    "                i -= 1\n",
    "            if i >= 0:\n",
    "                modified_code.insert(i + 1, '''\n",
    "    # <log --------------------------------------------------------------------------- \n",
    "    sleep(0.1)                                                                    \n",
    "    # Stop log\n",
    "    ret = WMX3Log.StopLog(0)\n",
    "    if ret!=0:\n",
    "        print('StopLog error code is ' + str(ret) + ': ' + WMX3Log.ErrorToString(ret))\n",
    "        return\n",
    "\n",
    "    for axisNo in axislist:                                \n",
    "        ret = Wmx3Lib_cm.home.StartHome(axisNo)\n",
    "        if ret!=0:\n",
    "            print('StartHome error code is ' + str(ret) + ': ' + Wmx3Lib_cm.ErrorToString(ret))\n",
    "            return\n",
    "        Wmx3Lib_cm.motion.Wait(axisNo)                                                                  \n",
    "    # log> ---------------------------------------------------------------------------     \n",
    "                                     \n",
    "                ''')\n",
    "            break\n",
    "        i -= 1\n",
    "\n",
    "    return '\\n'.join(modified_code)\n",
    "\n",
    "# Function to send code and log data to socket server\n",
    "def SendCodeLog(code_data_log, task_id):\n",
    "    # 1. Create socket\n",
    "    tcp_socket = socket.socket(socket.AF_INET, socket.SOCK_STREAM)\n",
    "\n",
    "    # 2. Connect server\n",
    "    server_addr = (\"10.211.55.5\", 8888)\n",
    "    tcp_socket.connect(server_addr)\n",
    "    print(\"Socket connected\")\n",
    "\n",
    "    # 3. Send data\n",
    "    tcp_socket.send(code_data_log.encode(\"utf-8\"))\n",
    "\n",
    "    sleep(0.1)\n",
    "\n",
    "    send_data = 'exit'\n",
    "    tcp_socket.send(send_data.encode(\"utf-8\"))\n",
    "\n",
    "    # 4. Receive data from server\n",
    "    tcp_remsg = tcp_socket.recv(1024).decode(\"utf-8\")\n",
    "    print(tcp_remsg)\n",
    "\n",
    "    # Check for errors in the response\n",
    "    if \"error\" in tcp_remsg:\n",
    "        if \"syntax error\" in tcp_remsg:\n",
    "            syntax_error_task_ids.append(task_id)\n",
    "        else:\n",
    "            error_task_ids.append(task_id)\n",
    "\n",
    "    # 5. Close socket\n",
    "    tcp_socket.close()\n",
    "    print(\"Socket end\")\n",
    "\n",
    "# Iterate through each row in the dataframe with a progress bar\n",
    "for index, row in tqdm(df.iterrows(), total=len(df), desc=\"Processing rows\"):\n",
    "    task_id = row['TaskId']\n",
    "    # if(task_id != 32):\n",
    "    #     continue\n",
    "    \n",
    "    # Construct the path to the Python file\n",
    "    py_file_path = f'MCEval_Files/{task_id}_MCEval.py'\n",
    "    \n",
    "    # Read the Python file to get the CanonicalCode\n",
    "    if os.path.exists(py_file_path):\n",
    "        with open(py_file_path, 'r') as file:\n",
    "            py_code = file.read()\n",
    "    else:\n",
    "        py_code = ''\n",
    "    \n",
    "    # If it is about motion log\n",
    "    print('endp: ' + str(row['EndPoint']))\n",
    "    if str(row['EndPoint']) != 'nan':\n",
    "        # Extract axis from the first row of 'EndPoint'\n",
    "        try:\n",
    "            axis = list(range(len(eval(row['EndPoint'])[0])))\n",
    "            axis = eval(row['EndPoint'])[0]\n",
    "            print(\"axisl: \" + str(axis))\n",
    "            if not axis:\n",
    "                continue\n",
    "        except Exception as e:\n",
    "            print(f\"Error processing axis for task {task_id}: {e}\")\n",
    "            continue\n",
    "\n",
    "        # Add log code to the Python file content\n",
    "        modified_code = add_log_code(py_code, task_id, axis)\n",
    "    else:\n",
    "        modified_code = py_code\n",
    "    \n",
    "    # Save the modified code to a new file\n",
    "    modified_file_path = f'MCEval_Files/{task_id}_MCEval_WithLog.py'\n",
    "    with open(modified_file_path, 'w') as file:\n",
    "        file.write(modified_code)\n",
    "    \n",
    "    # Send the modified code to the socket server for each task\n",
    "    SendCodeLog(modified_code, task_id)\n",
    "    sleep(0.3)\n",
    "\n",
    "    # Create a dictionary for the current row\n",
    "    row_data = row.to_dict()\n",
    "    row_data['CanonicalCode'] = py_code\n",
    "    \n",
    "    # Append the dictionary to the list\n",
    "    data_list.append(row_data)\n",
    "\n",
    "    sleep(0.2)\n",
    "\n",
    "# Construct the output JSON file path\n",
    "json_file_path = excel_file_path.replace('.xlsx', '.json')\n",
    "\n",
    "# Write the data to a JSON file\n",
    "with open(json_file_path, 'w') as json_file:\n",
    "    json.dump(data_list, json_file, indent=4)\n",
    "\n",
    "# Calculate accuracy\n",
    "total_tasks = len(df)\n",
    "error_count = len(error_task_ids)\n",
    "syntax_error_count = len(syntax_error_task_ids)\n",
    "success_count = total_tasks - (error_count + syntax_error_count)\n",
    "accuracy = (success_count / total_tasks) * 100\n",
    "\n",
    "print(f\"JSON file has been generated at {json_file_path}\")\n",
    "print(f\"Total tasks: {total_tasks}\")\n",
    "print(f\"Error tasks: {error_count}\")\n",
    "print(f\"Syntax error tasks: {syntax_error_count}\")\n",
    "print(f\"Successful tasks: {success_count}\")\n",
    "print(f\"Accuracy: {accuracy:.2f}%\")\n",
    "print(f\"Tasks with errors: {error_task_ids}\")\n",
    "print(f\"Tasks with syntax errors: {syntax_error_task_ids}\")\n"
   ]
  }
 ],
 "metadata": {
  "kernelspec": {
   "display_name": "rag-demo-IMu3vKF7-py3.10",
   "language": "python",
   "name": "python3"
  },
  "language_info": {
   "codemirror_mode": {
    "name": "ipython",
    "version": 3
   },
   "file_extension": ".py",
   "mimetype": "text/x-python",
   "name": "python",
   "nbconvert_exporter": "python",
   "pygments_lexer": "ipython3",
   "version": "3.11.7"
  }
 },
 "nbformat": 4,
 "nbformat_minor": 2
}
