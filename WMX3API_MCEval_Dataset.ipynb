{
 "cells": [
  {
   "cell_type": "markdown",
   "metadata": {},
   "source": [
    "# MCCoder MCEval Dataset for evaluation\n"
   ]
  },
  {
   "cell_type": "markdown",
   "metadata": {},
   "source": [
    "## Preparation\n"
   ]
  },
  {
   "cell_type": "markdown",
   "metadata": {},
   "source": [
    "### Generate JSON dataset file from excel, python source code and log file.\n"
   ]
  },
  {
   "cell_type": "markdown",
   "metadata": {},
   "source": [
    "#### Generate Json file from python source file\n"
   ]
  },
  {
   "cell_type": "code",
   "execution_count": 7,
   "metadata": {},
   "outputs": [
    {
     "name": "stdout",
     "output_type": "stream",
     "text": [
      "JSON file has been generated at docs/WMX3API_MCEval_Dataset.json\n"
     ]
    }
   ],
   "source": [
    "import pandas as pd\n",
    "import os\n",
    "import json\n",
    "\n",
    "# Load the Excel file\n",
    "excel_file_path = 'docs/WMX3API_MCEval_Dataset.xlsx'\n",
    "df = pd.read_excel(excel_file_path)\n",
    "\n",
    "# Initialize an empty list to store the data for JSON\n",
    "data_list = []\n",
    "\n",
    "# Iterate through each row in the dataframe\n",
    "for index, row in df.iterrows():\n",
    "    task_id = row['TaskId']\n",
    "    # Construct the path to the Python file\n",
    "    py_file_path = f'MCEval_Files/{task_id}_MCEval.py'\n",
    "    \n",
    "    # Read the Python file to get the CanonicalCode\n",
    "    if os.path.exists(py_file_path):\n",
    "        with open(py_file_path, 'r') as file:\n",
    "            canonical_code = file.read()\n",
    "    else:\n",
    "        canonical_code = ''\n",
    "    \n",
    "    # Create a dictionary for the current row\n",
    "    row_data = row.to_dict()\n",
    "    row_data['CanonicalCode'] = canonical_code\n",
    "    \n",
    "    # Append the dictionary to the list\n",
    "    data_list.append(row_data)\n",
    "\n",
    "# Construct the output JSON file path\n",
    "json_file_path = excel_file_path.replace('.xlsx', '.json')\n",
    "\n",
    "# Write the data to a JSON file\n",
    "with open(json_file_path, 'w') as json_file:\n",
    "    json.dump(data_list, json_file, indent=4)\n",
    "\n",
    "print(f\"JSON file has been generated at {json_file_path}\")\n"
   ]
  },
  {
   "cell_type": "markdown",
   "metadata": {},
   "source": [
    "#### Generate Json file from python source file with motion log\n"
   ]
  },
  {
   "cell_type": "code",
   "execution_count": null,
   "metadata": {},
   "outputs": [],
   "source": [
    "import pandas as pd\n",
    "import os\n",
    "import json\n",
    "import socket\n",
    "from time import *\n",
    "from tqdm import tqdm\n",
    "\n",
    "# Load the Excel file\n",
    "excel_file_path = 'docs/WMX3API_MCEval_Dataset.xlsx'\n",
    "df = pd.read_excel(excel_file_path)\n",
    "\n",
    "# Initialize an empty list to store the data for JSON\n",
    "data_list = []\n",
    "\n",
    "# Function to modify the Python code with logging\n",
    "def add_log_code(py_code, task_id, axis):\n",
    "    lines = py_code.split('\\n')\n",
    "    modified_code = []\n",
    "    i = 0\n",
    "    # Add logging start code\n",
    "    while i < len(lines):\n",
    "        modified_code.append(lines[i])\n",
    "        if '.StartHome' in lines[i]:\n",
    "            i += 1\n",
    "            while i < len(lines) and lines[i].strip() != '':\n",
    "                modified_code.append(lines[i])\n",
    "                i += 1\n",
    "            if i < len(lines):\n",
    "                modified_code.append(f'''\n",
    "                                     \n",
    "    # <log ---------------------------------------------------------------------------                                                                 \n",
    "    WMX3Log = Log(Wmx3Lib)\n",
    "\n",
    "    axislist = {axis}                           \n",
    "    num = len(axislist)\n",
    "\n",
    "    # Set Axis numbers and control variables of log\n",
    "    cmLogIn_0 = CoreMotionLogInput()\n",
    "    cmLogIn_0.axisSelection.axisCount = num\n",
    "    for i in range(0, num):\n",
    "        cmLogIn_0.axisSelection.SetAxis(i, axislist[i])\n",
    "\n",
    "    # Control variables to log\n",
    "    cmLogIn_0.axisOptions.commandPos = 1\n",
    "    cmLogIn_0.axisOptions.feedbackPos = 0\n",
    "    cmLogIn_0.axisOptions.commandVelocity = 0\n",
    "    cmLogIn_0.axisOptions.feedbackVelocity = 0\n",
    "\n",
    "    # Set up log time\n",
    "    option = LogChannelOptions()\n",
    "    option.samplingPeriodInCycles = 1\n",
    "    option.samplingTimeMilliseconds = 1000000  \n",
    "\n",
    "    ret=WMX3Log.SetLogOption(0, option)\n",
    "    if ret!=0:\n",
    "        print('SetLogOption error code is ' + str(ret) + ': ' + WMX3Log.ErrorToString(ret))\n",
    "        return\n",
    "    sleep(0.1)\n",
    "    ret = WMX3Log.SetCustomLog(0,cmLogIn_0)\n",
    "    if ret!=0:\n",
    "        print('SetCustomLog error code is ' + str(ret) + ': ' + WMX3Log.ErrorToString(ret))\n",
    "        return\n",
    "    sleep(0.1)\n",
    "\n",
    "    # Set log file address\n",
    "    path_0 = LogFilePath()\n",
    "    WMX3Log.GetLogFilePath(0)\n",
    "    path_0.dirPath = \"C:\\\\\\\\\"\n",
    "    path_0.fileName = f\"{task_id}_MCEval_Log.txt\"\n",
    "    ret = WMX3Log.SetLogFilePath(0, path_0)\n",
    "    if ret!=0:\n",
    "        print('SetLogFilePath error code is ' + str(ret) + ': ' + WMX3Log.ErrorToString(ret))\n",
    "        return\n",
    "\n",
    "    # Stop log just in case logging is on.\n",
    "    ret = WMX3Log.StopLog(0)\n",
    "    sleep(0.01)\n",
    "\n",
    "    # Start log\n",
    "    ret = WMX3Log.StartLog(0)\n",
    "    if ret!=0:\n",
    "        print('StartLog error code is ' + str(ret) + ': ' + WMX3Log.ErrorToString(ret))\n",
    "        return\n",
    "    sleep(0.01)\n",
    "    # log> ---------------------------------------------------------------------------   \n",
    "    \n",
    "                ''')\n",
    "        i += 1\n",
    "\n",
    "    # Add logging stop code\n",
    "    i = len(lines) - 1\n",
    "    while i >= 0:\n",
    "        if '.SetServoOn' in lines[i]:\n",
    "            while i >= 0 and lines[i].strip() != '':\n",
    "                i -= 1\n",
    "            if i >= 0:\n",
    "                modified_code.insert(i + 1, '''\n",
    "                                     \n",
    "    # <log --------------------------------------------------------------------------- \n",
    "    sleep(0.1)                                                                    \n",
    "    # Stop log\n",
    "    ret = WMX3Log.StopLog(0)\n",
    "    if ret!=0:\n",
    "        print('StopLog error code is ' + str(ret) + ': ' + WMX3Log.ErrorToString(ret))\n",
    "        return\n",
    "\n",
    "    for axisNo in axislist:                                \n",
    "        ret = Wmx3Lib_cm.home.StartHome(axisNo)\n",
    "        if ret!=0:\n",
    "            print('StartHome error code is ' + str(ret) + ': ' + Wmx3Lib_cm.ErrorToString(ret))\n",
    "            return\n",
    "        Wmx3Lib_cm.motion.Wait(axisNo)                                                                  \n",
    "    # log> ---------------------------------------------------------------------------     \n",
    "                                     \n",
    "                ''')\n",
    "            break\n",
    "        i -= 1\n",
    "\n",
    "    return '\\n'.join(modified_code)\n",
    "\n",
    "# Function to send code and log data to socket server\n",
    "def SendCodeLog(code_data_log):\n",
    "    # 1. Create socket\n",
    "    tcp_socket = socket.socket(socket.AF_INET, socket.SOCK_STREAM)\n",
    "\n",
    "    # 2. Connect server\n",
    "    server_addr = (\"10.211.55.5\", 8888)\n",
    "    tcp_socket.connect(server_addr)\n",
    "    print(\"Socket connected\")\n",
    "\n",
    "    import time\n",
    "\n",
    "    # 3. Send data\n",
    "    tcp_socket.send(code_data_log.encode(\"utf-8\"))\n",
    "\n",
    "    time.sleep(0.1)\n",
    "\n",
    "    send_data = 'exit'\n",
    "    tcp_socket.send(send_data.encode(\"utf-8\"))\n",
    "\n",
    "    # 4. Receive data from server\n",
    "    tcp_remsg = tcp_socket.recv(1024)\n",
    "    print(tcp_remsg.decode(\"utf-8\"))\n",
    "\n",
    "    # 5. Close socket\n",
    "    tcp_socket.close()\n",
    "    print(\"Socket end\")\n",
    "\n",
    "# Iterate through each row in the dataframe with a progress bar\n",
    "for index, row in tqdm(df.iterrows(), total=len(df), desc=\"Processing rows\"):\n",
    "    task_id = row['TaskId']\n",
    "    # Construct the path to the Python file\n",
    "    py_file_path = f'MCEval_Files/{task_id}_MCEval.py'\n",
    "    \n",
    "    # Read the Python file to get the CanonicalCode\n",
    "    if os.path.exists(py_file_path):\n",
    "        with open(py_file_path, 'r') as file:\n",
    "            py_code = file.read()\n",
    "    else:\n",
    "        py_code = ''\n",
    "    \n",
    "    #If it is about motion log\n",
    "    print('endp: ' + str(row['EndPoint']))\n",
    "    if (str(row['EndPoint']) != 'nan'):\n",
    "        # Extract axis from the first row of 'EndPoint'\n",
    "        try:\n",
    "            axis = list(range(len(eval(row['EndPoint'])[0])))\n",
    "            axis = eval(row['EndPoint'])[0]\n",
    "            print(\"axisl: \" + str(axis))\n",
    "            if not axis:\n",
    "                continue\n",
    "        except Exception as e:\n",
    "            print(f\"Error processing axis for task {task_id}: {e}\")\n",
    "            continue\n",
    "\n",
    "        # Add log code to the Python file content\n",
    "        modified_code = add_log_code(py_code, task_id, axis)\n",
    "    else:\n",
    "        modified_code = py_code\n",
    "    \n",
    "    # Save the modified code to a new file\n",
    "    modified_file_path = f'MCEval_Files/{task_id}_MCEval_WithLog.py'\n",
    "    with open(modified_file_path, 'w') as file:\n",
    "        file.write(modified_code)\n",
    "    \n",
    "    # Send the modified code to the socket server for each task\n",
    "    SendCodeLog(modified_code)\n",
    "    sleep(0.3)\n",
    "\n",
    "    # Create a dictionary for the current row\n",
    "    row_data = row.to_dict()\n",
    "    row_data['CanonicalCode'] = py_code\n",
    "    \n",
    "    # Append the dictionary to the list\n",
    "    data_list.append(row_data)\n",
    "\n",
    "    sleep(0.2)\n",
    "\n",
    "# Construct the output JSON file path\n",
    "json_file_path = excel_file_path.replace('.xlsx', '.json')\n",
    "\n",
    "# Write the data to a JSON file\n",
    "with open(json_file_path, 'w') as json_file:\n",
    "    json.dump(data_list, json_file, indent=4)\n",
    "\n",
    "print(f\"JSON file has been generated at {json_file_path}\")\n"
   ]
  },
  {
   "cell_type": "markdown",
   "metadata": {},
   "source": [
    "#### Generate Json file from python source file with motion log, adding error stastics\n"
   ]
  },
  {
   "cell_type": "code",
   "execution_count": 1,
   "metadata": {},
   "outputs": [
    {
     "name": "stderr",
     "output_type": "stream",
     "text": [
      "/opt/anaconda3/lib/python3.11/site-packages/openpyxl/worksheet/_read_only.py:79: UserWarning: Sparkline Group extension is not supported and will be removed\n",
      "  for idx, row in parser.parse():\n",
      "Processing rows:   0%|          | 0/69 [00:00<?, ?it/s]"
     ]
    },
    {
     "name": "stdout",
     "output_type": "stream",
     "text": [
      "endp: [[0],\n",
      "[180]]\n",
      "axisl: [0]\n",
      "Socket connected\n",
      "2\n",
      "codedeta:Program begin.\n",
      "Program End.\n",
      ", Elapsed_time: 3.665\n",
      "codeerr:\n",
      "Socket end\n"
     ]
    },
    {
     "name": "stderr",
     "output_type": "stream",
     "text": [
      "Processing rows:   1%|▏         | 1/69 [00:04<04:51,  4.28s/it]"
     ]
    },
    {
     "name": "stdout",
     "output_type": "stream",
     "text": [
      "endp: [[1],\n",
      "[200]]\n",
      "axisl: [1]\n",
      "Socket connected\n",
      "3\n",
      "codedeta:Program begin.\n",
      "Program End.\n",
      ", Elapsed_time: 3.690\n",
      "codeerr:\n",
      "Socket end\n"
     ]
    },
    {
     "name": "stderr",
     "output_type": "stream",
     "text": [
      "Processing rows:   3%|▎         | 2/69 [00:08<04:47,  4.30s/it]"
     ]
    },
    {
     "name": "stdout",
     "output_type": "stream",
     "text": [
      "endp: [[2],\n",
      "[10]]\n",
      "axisl: [2]\n",
      "Socket connected\n",
      "4\n",
      "codedeta:Program begin.\n",
      "Program End.\n",
      ", Elapsed_time: 5.019\n",
      "codeerr:\n",
      "Socket end\n"
     ]
    },
    {
     "name": "stderr",
     "output_type": "stream",
     "text": [
      "Processing rows:   4%|▍         | 3/69 [00:14<05:24,  4.91s/it]"
     ]
    },
    {
     "name": "stdout",
     "output_type": "stream",
     "text": [
      "endp: [[0],\n",
      "[380]]\n",
      "axisl: [0]\n",
      "Socket connected\n",
      "5\n",
      "codedeta:Program begin.\n",
      "Program End.\n",
      ", Elapsed_time: 3.932\n",
      "codeerr:\n",
      "Socket end\n"
     ]
    },
    {
     "name": "stderr",
     "output_type": "stream",
     "text": [
      "Processing rows:   6%|▌         | 4/69 [00:18<05:09,  4.77s/it]"
     ]
    },
    {
     "name": "stdout",
     "output_type": "stream",
     "text": [
      "endp: [[0,1],\n",
      "[-10,-150]]\n",
      "axisl: [0, 1]\n",
      "Socket connected\n",
      "6\n",
      "codedeta:Program begin.\n",
      "Program End.\n",
      ", Elapsed_time: 4.863\n",
      "codeerr:\n",
      "Socket end\n"
     ]
    },
    {
     "name": "stderr",
     "output_type": "stream",
     "text": [
      "Processing rows:   7%|▋         | 5/69 [00:24<05:21,  5.02s/it]"
     ]
    },
    {
     "name": "stdout",
     "output_type": "stream",
     "text": [
      "endp: nan\n",
      "Socket connected\n",
      "7\n",
      "codedeta:Program begin.\n",
      "Program End.\n",
      ", Elapsed_time: 2.351\n",
      "codeerr:\n",
      "Socket end\n"
     ]
    },
    {
     "name": "stderr",
     "output_type": "stream",
     "text": [
      "Processing rows:   9%|▊         | 6/69 [00:27<04:32,  4.33s/it]"
     ]
    },
    {
     "name": "stdout",
     "output_type": "stream",
     "text": [
      "endp: [[0,1],\n",
      "[300,100]]\n",
      "axisl: [0, 1]\n",
      "Socket connected\n",
      "8\n",
      "codedeta:Program begin.\n",
      "Program End.\n",
      ", Elapsed_time: 4.324\n",
      "codeerr:\n",
      "Socket end\n"
     ]
    },
    {
     "name": "stderr",
     "output_type": "stream",
     "text": [
      "Processing rows:  10%|█         | 7/69 [00:32<04:40,  4.53s/it]"
     ]
    },
    {
     "name": "stdout",
     "output_type": "stream",
     "text": [
      "endp: [[0,1],\n",
      "[200,150]]\n",
      "axisl: [0, 1]\n",
      "Socket connected\n",
      "9\n",
      "codedeta:Program begin.\n",
      "Program End.\n",
      ", Elapsed_time: 4.282\n",
      "codeerr:\n",
      "Socket end\n"
     ]
    },
    {
     "name": "stderr",
     "output_type": "stream",
     "text": [
      "Processing rows:  12%|█▏        | 8/69 [00:37<04:43,  4.65s/it]"
     ]
    },
    {
     "name": "stdout",
     "output_type": "stream",
     "text": [
      "endp: [[0,1],\n",
      "[500,-50]]\n",
      "axisl: [0, 1]\n",
      "Socket connected\n",
      "10\n",
      "codedeta:Program begin.\n",
      "Program End.\n",
      ", Elapsed_time: 4.860\n",
      "codeerr:\n",
      "Socket end\n"
     ]
    },
    {
     "name": "stderr",
     "output_type": "stream",
     "text": [
      "Processing rows:  13%|█▎        | 9/69 [00:42<04:54,  4.91s/it]"
     ]
    },
    {
     "name": "stdout",
     "output_type": "stream",
     "text": [
      "endp: [[0,1],\n",
      "[188,188]]\n",
      "axisl: [0, 1]\n",
      "Socket connected\n",
      "11\n",
      "codedeta:Program begin.\n",
      "Program End.\n",
      ", Elapsed_time: 4.019\n",
      "codeerr:\n",
      "Socket end\n"
     ]
    },
    {
     "name": "stderr",
     "output_type": "stream",
     "text": [
      "Processing rows:  14%|█▍        | 10/69 [00:47<04:44,  4.82s/it]"
     ]
    },
    {
     "name": "stdout",
     "output_type": "stream",
     "text": [
      "endp: [[2,3],\n",
      "[7,8]]\n",
      "axisl: [2, 3]\n",
      "Socket connected\n",
      "12\n",
      "codedeta:Program begin.\n",
      "Program End.\n",
      ", Elapsed_time: 5.163\n",
      "codeerr:\n",
      "Socket end\n"
     ]
    },
    {
     "name": "stderr",
     "output_type": "stream",
     "text": [
      "Processing rows:  16%|█▌        | 11/69 [00:52<04:56,  5.12s/it]"
     ]
    },
    {
     "name": "stdout",
     "output_type": "stream",
     "text": [
      "endp: [[4],\n",
      "[-100]]\n",
      "axisl: [4]\n",
      "Socket connected\n",
      "13\n",
      "codedeta:Program begin.\n",
      "Program End.\n",
      ", Elapsed_time: 4.728\n",
      "codeerr:\n",
      "Socket end\n"
     ]
    },
    {
     "name": "stderr",
     "output_type": "stream",
     "text": [
      "Processing rows:  17%|█▋        | 12/69 [00:58<04:55,  5.19s/it]"
     ]
    },
    {
     "name": "stdout",
     "output_type": "stream",
     "text": [
      "endp: [[0,1],\n",
      "[0,0]]\n",
      "axisl: [0, 1]\n",
      "Socket connected\n",
      "14\n",
      "codedeta:Program begin.\n",
      "Program End.\n",
      ", Elapsed_time: 4.288\n",
      "codeerr:\n",
      "Socket end\n"
     ]
    },
    {
     "name": "stderr",
     "output_type": "stream",
     "text": [
      "Processing rows:  19%|█▉        | 13/69 [01:03<04:45,  5.10s/it]"
     ]
    },
    {
     "name": "stdout",
     "output_type": "stream",
     "text": [
      "endp: [[0,1],\n",
      "[0,0]]\n",
      "axisl: [0, 1]\n",
      "Socket connected\n",
      "15\n",
      "codedeta:Program begin.\n",
      "Program End.\n",
      ", Elapsed_time: 5.729\n",
      "codeerr:\n",
      "Socket end\n"
     ]
    },
    {
     "name": "stderr",
     "output_type": "stream",
     "text": [
      "Processing rows:  20%|██        | 14/69 [01:09<05:01,  5.48s/it]"
     ]
    },
    {
     "name": "stdout",
     "output_type": "stream",
     "text": [
      "endp: [[4,5,8],\n",
      "[0,0,140]]\n",
      "axisl: [4, 5, 8]\n",
      "Socket connected\n",
      "16\n",
      "codedeta:Program begin.\n",
      "Program End.\n",
      ", Elapsed_time: 6.996\n",
      "codeerr:\n",
      "Socket end\n"
     ]
    },
    {
     "name": "stderr",
     "output_type": "stream",
     "text": [
      "Processing rows:  22%|██▏       | 15/69 [01:17<05:30,  6.12s/it]"
     ]
    },
    {
     "name": "stdout",
     "output_type": "stream",
     "text": [
      "endp: [[0,1],\n",
      "[100,180]]\n",
      "axisl: [0, 1]\n",
      "Socket connected\n",
      "17\n",
      "codedeta:Program begin.\n",
      "Program End.\n",
      ", Elapsed_time: 4.201\n",
      "codeerr:\n",
      "Socket end\n"
     ]
    },
    {
     "name": "stderr",
     "output_type": "stream",
     "text": [
      "Processing rows:  23%|██▎       | 16/69 [01:22<05:03,  5.73s/it]"
     ]
    },
    {
     "name": "stdout",
     "output_type": "stream",
     "text": [
      "endp: [[0],\n",
      "[0]]\n",
      "axisl: [0]\n",
      "Socket connected\n",
      "18\n",
      "codedeta:Program begin.\n",
      "Program End.\n",
      ", Elapsed_time: 4.791\n",
      "codeerr:\n",
      "Socket end\n"
     ]
    },
    {
     "name": "stderr",
     "output_type": "stream",
     "text": [
      "Processing rows:  25%|██▍       | 17/69 [01:27<04:52,  5.63s/it]"
     ]
    },
    {
     "name": "stdout",
     "output_type": "stream",
     "text": [
      "endp: [[0,1],\n",
      "[200,100]]\n",
      "axisl: [0, 1]\n",
      "Socket connected\n",
      "19\n",
      "codedeta:Program begin.\n",
      "Program End.\n",
      ", Elapsed_time: 4.632\n",
      "codeerr:\n",
      "Socket end\n"
     ]
    },
    {
     "name": "stderr",
     "output_type": "stream",
     "text": [
      "Processing rows:  26%|██▌       | 18/69 [01:32<04:41,  5.52s/it]"
     ]
    },
    {
     "name": "stdout",
     "output_type": "stream",
     "text": [
      "endp: [[0],\n",
      "[110]]\n",
      "axisl: [0]\n",
      "Socket connected\n",
      "20\n",
      "codedeta:Program begin.\n",
      "Program End.\n",
      ", Elapsed_time: 3.444\n",
      "codeerr:\n",
      "Socket end\n"
     ]
    },
    {
     "name": "stderr",
     "output_type": "stream",
     "text": [
      "Processing rows:  28%|██▊       | 19/69 [01:36<04:14,  5.08s/it]"
     ]
    },
    {
     "name": "stdout",
     "output_type": "stream",
     "text": [
      "endp: [[0],\n",
      "[70]]\n",
      "axisl: [0]\n",
      "Socket connected\n",
      "21\n",
      "codedeta:Program begin.\n",
      "Program End.\n",
      ", Elapsed_time: 3.568\n",
      "codeerr:\n",
      "Socket end\n"
     ]
    },
    {
     "name": "stderr",
     "output_type": "stream",
     "text": [
      "Processing rows:  29%|██▉       | 20/69 [01:40<03:55,  4.81s/it]"
     ]
    },
    {
     "name": "stdout",
     "output_type": "stream",
     "text": [
      "endp: [[0,1],\n",
      "[300,100]]\n",
      "axisl: [0, 1]\n",
      "Socket connected\n",
      "22\n",
      "codedeta:Program begin.\n",
      "Program End.\n",
      ", Elapsed_time: 4.410\n",
      "codeerr:\n",
      "Socket end\n"
     ]
    },
    {
     "name": "stderr",
     "output_type": "stream",
     "text": [
      "Processing rows:  30%|███       | 21/69 [01:45<03:54,  4.88s/it]"
     ]
    },
    {
     "name": "stdout",
     "output_type": "stream",
     "text": [
      "endp: [[0,1],\n",
      "[300,100]]\n",
      "axisl: [0, 1]\n",
      "Socket connected\n",
      "23\n",
      "codedeta:Program begin.\n",
      "Program End.\n",
      ", Elapsed_time: 4.545\n",
      "codeerr:\n",
      "Socket end\n"
     ]
    },
    {
     "name": "stderr",
     "output_type": "stream",
     "text": [
      "Processing rows:  32%|███▏      | 22/69 [01:51<03:53,  4.96s/it]"
     ]
    },
    {
     "name": "stdout",
     "output_type": "stream",
     "text": [
      "endp: [[0,1],\n",
      "[-100,-10]]\n",
      "axisl: [0, 1]\n",
      "Socket connected\n",
      "24\n",
      "codedeta:Program begin.\n",
      "Program End.\n",
      ", Elapsed_time: 4.270\n",
      "codeerr:\n",
      "Socket end\n"
     ]
    },
    {
     "name": "stderr",
     "output_type": "stream",
     "text": [
      "Processing rows:  33%|███▎      | 23/69 [01:55<03:47,  4.94s/it]"
     ]
    },
    {
     "name": "stdout",
     "output_type": "stream",
     "text": [
      "endp: [[0,1],\n",
      "[-70,-40]]\n",
      "axisl: [0, 1]\n",
      "Socket connected\n",
      "25\n",
      "codedeta:Program begin.\n",
      "Program End.\n",
      ", Elapsed_time: 4.220\n",
      "codeerr:\n",
      "Socket end\n"
     ]
    },
    {
     "name": "stderr",
     "output_type": "stream",
     "text": [
      "Processing rows:  35%|███▍      | 24/69 [02:00<03:40,  4.91s/it]"
     ]
    },
    {
     "name": "stdout",
     "output_type": "stream",
     "text": [
      "endp: [[0,1],\n",
      "[200,0]]\n",
      "axisl: [0, 1]\n",
      "Socket connected\n",
      "26\n",
      "codedeta:Program begin.\n",
      "Program End.\n",
      ", Elapsed_time: 4.145\n",
      "codeerr:\n",
      "Socket end\n"
     ]
    },
    {
     "name": "stderr",
     "output_type": "stream",
     "text": [
      "Processing rows:  36%|███▌      | 25/69 [02:05<03:34,  4.87s/it]"
     ]
    },
    {
     "name": "stdout",
     "output_type": "stream",
     "text": [
      "endp: [[0,1],\n",
      "[500,100]]\n",
      "axisl: [0, 1]\n",
      "Socket connected\n",
      "27\n",
      "codedeta:Program begin.\n",
      "Program End.\n",
      ", Elapsed_time: 4.983\n",
      "codeerr:\n",
      "Socket end\n"
     ]
    },
    {
     "name": "stderr",
     "output_type": "stream",
     "text": [
      "Processing rows:  38%|███▊      | 26/69 [02:11<03:38,  5.09s/it]"
     ]
    },
    {
     "name": "stdout",
     "output_type": "stream",
     "text": [
      "endp: [[0],\n",
      "[100]]\n",
      "axisl: [0]\n",
      "Socket connected\n",
      "28\n",
      "codedeta:Program begin.\n",
      "Program End.\n",
      ", Elapsed_time: 3.913\n",
      "codeerr:\n",
      "Socket end\n"
     ]
    },
    {
     "name": "stderr",
     "output_type": "stream",
     "text": [
      "Processing rows:  39%|███▉      | 27/69 [02:15<03:26,  4.92s/it]"
     ]
    },
    {
     "name": "stdout",
     "output_type": "stream",
     "text": [
      "endp: [[0],\n",
      "[0]]\n",
      "axisl: [0]\n",
      "Socket connected\n",
      "29\n",
      "codedeta:Program begin.\n",
      "Program End.\n",
      ", Elapsed_time: 4.594\n",
      "codeerr:\n",
      "Socket end\n"
     ]
    },
    {
     "name": "stderr",
     "output_type": "stream",
     "text": [
      "Processing rows:  41%|████      | 28/69 [02:20<03:25,  5.01s/it]"
     ]
    },
    {
     "name": "stdout",
     "output_type": "stream",
     "text": [
      "endp: [[0],\n",
      "[180]]\n",
      "axisl: [0]\n",
      "Socket connected\n",
      "30\n",
      "codedeta:Program begin.\n",
      "Program End.\n",
      ", Elapsed_time: 10.347\n",
      "codeerr:\n",
      "Socket end\n"
     ]
    },
    {
     "name": "stderr",
     "output_type": "stream",
     "text": [
      "Processing rows:  42%|████▏     | 29/69 [02:31<04:31,  6.79s/it]"
     ]
    },
    {
     "name": "stdout",
     "output_type": "stream",
     "text": [
      "endp: [[0,1],\n",
      "[0,0]]\n",
      "axisl: [0, 1]\n",
      "Socket connected\n",
      "31\n",
      "codedeta:Program begin.\n",
      "Program End.\n",
      ", Elapsed_time: 4.599\n",
      "codeerr:\n",
      "Socket end\n"
     ]
    },
    {
     "name": "stderr",
     "output_type": "stream",
     "text": [
      "Processing rows:  43%|████▎     | 30/69 [02:37<04:06,  6.32s/it]"
     ]
    },
    {
     "name": "stdout",
     "output_type": "stream",
     "text": [
      "endp: [[0],\n",
      "[600]]\n",
      "axisl: [0]\n",
      "Socket connected\n",
      "32\n",
      "codedeta:Program begin.\n",
      "Program End.\n",
      ", Elapsed_time: 3.638\n",
      "codeerr:\n",
      "Socket end\n"
     ]
    },
    {
     "name": "stderr",
     "output_type": "stream",
     "text": [
      "Processing rows:  45%|████▍     | 31/69 [02:41<03:36,  5.70s/it]"
     ]
    },
    {
     "name": "stdout",
     "output_type": "stream",
     "text": [
      "endp: [[0,1],\n",
      "[200,300]]\n",
      "axisl: [0, 1]\n",
      "Socket connected\n",
      "33\n",
      "codedeta:Program begin.\n",
      "Program End.\n",
      ", Elapsed_time: 3.982\n",
      "codeerr:\n",
      "Socket end\n"
     ]
    },
    {
     "name": "stderr",
     "output_type": "stream",
     "text": [
      "Processing rows:  46%|████▋     | 32/69 [02:45<03:18,  5.37s/it]"
     ]
    },
    {
     "name": "stdout",
     "output_type": "stream",
     "text": [
      "endp: [[0],\n",
      "[300]]\n",
      "axisl: [0]\n",
      "Socket connected\n",
      "34\n",
      "codedeta:Program begin.\n",
      "Program End.\n",
      ", Elapsed_time: 6.962\n",
      "codeerr:\n",
      "Socket end\n"
     ]
    },
    {
     "name": "stderr",
     "output_type": "stream",
     "text": [
      "Processing rows:  48%|████▊     | 33/69 [02:53<03:37,  6.03s/it]"
     ]
    },
    {
     "name": "stdout",
     "output_type": "stream",
     "text": [
      "endp: [[0],\n",
      "[750]]\n",
      "axisl: [0]\n",
      "Socket connected\n",
      "35\n",
      "codedeta:Program begin.\n",
      "Program End.\n",
      ", Elapsed_time: 6.582\n",
      "codeerr:\n",
      "Socket end\n"
     ]
    },
    {
     "name": "stderr",
     "output_type": "stream",
     "text": [
      "Processing rows:  49%|████▉     | 34/69 [03:00<03:43,  6.38s/it]"
     ]
    },
    {
     "name": "stdout",
     "output_type": "stream",
     "text": [
      "endp: [[0],\n",
      "[175]]\n",
      "axisl: [0]\n",
      "Socket connected\n",
      "36\n",
      "codedeta:Program begin.\n",
      "Program End.\n",
      ", Elapsed_time: 7.495\n",
      "codeerr:\n",
      "Socket end\n"
     ]
    },
    {
     "name": "stderr",
     "output_type": "stream",
     "text": [
      "Processing rows:  51%|█████     | 35/69 [03:08<03:54,  6.90s/it]"
     ]
    },
    {
     "name": "stdout",
     "output_type": "stream",
     "text": [
      "endp: [[0,1],\n",
      "[0,0]]\n",
      "axisl: [0, 1]\n",
      "Socket connected\n",
      "37\n",
      "codedeta:Program begin.\n",
      "Program End.\n",
      ", Elapsed_time: 5.493\n",
      "codeerr:\n",
      "Socket end\n"
     ]
    },
    {
     "name": "stderr",
     "output_type": "stream",
     "text": [
      "Processing rows:  52%|█████▏    | 36/69 [03:14<03:39,  6.66s/it]"
     ]
    },
    {
     "name": "stdout",
     "output_type": "stream",
     "text": [
      "endp: [[0,1],\n",
      "[0,0]]\n",
      "axisl: [0, 1]\n",
      "Socket connected\n",
      "38\n",
      "codedeta:Program begin.\n",
      "Program End.\n",
      ", Elapsed_time: 5.130\n",
      "codeerr:\n",
      "Socket end\n"
     ]
    },
    {
     "name": "stderr",
     "output_type": "stream",
     "text": [
      "Processing rows:  54%|█████▎    | 37/69 [03:20<03:24,  6.39s/it]"
     ]
    },
    {
     "name": "stdout",
     "output_type": "stream",
     "text": [
      "endp: [[0,1],\n",
      "[0,0]]\n",
      "axisl: [0, 1]\n",
      "Socket connected\n",
      "39\n",
      "codedeta:Program begin.\n",
      "Program End.\n",
      ", Elapsed_time: 6.395\n",
      "codeerr:\n",
      "Socket end\n"
     ]
    },
    {
     "name": "stderr",
     "output_type": "stream",
     "text": [
      "Processing rows:  55%|█████▌    | 38/69 [03:27<03:23,  6.58s/it]"
     ]
    },
    {
     "name": "stdout",
     "output_type": "stream",
     "text": [
      "endp: [[0,1],\n",
      "[0,0]]\n",
      "axisl: [0, 1]\n",
      "Socket connected\n",
      "40\n",
      "codedeta:Program begin.\n",
      "Program End.\n",
      ", Elapsed_time: 4.860\n",
      "codeerr:\n",
      "Socket end\n"
     ]
    },
    {
     "name": "stderr",
     "output_type": "stream",
     "text": [
      "Processing rows:  57%|█████▋    | 39/69 [03:33<03:07,  6.25s/it]"
     ]
    },
    {
     "name": "stdout",
     "output_type": "stream",
     "text": [
      "endp: [[0,1],\n",
      "[0,0]]\n",
      "axisl: [0, 1]\n",
      "Socket connected\n",
      "41\n",
      "codedeta:Program begin.\n",
      "Program End.\n",
      ", Elapsed_time: 5.693\n",
      "codeerr:\n",
      "Socket end\n"
     ]
    },
    {
     "name": "stderr",
     "output_type": "stream",
     "text": [
      "Processing rows:  58%|█████▊    | 40/69 [03:39<03:01,  6.26s/it]"
     ]
    },
    {
     "name": "stdout",
     "output_type": "stream",
     "text": [
      "endp: [[0,1],\n",
      "[0,0]]\n",
      "axisl: [0, 1]\n",
      "Socket connected\n",
      "42\n",
      "codedeta:Program begin.\n",
      "Program End.\n",
      ", Elapsed_time: 4.860\n",
      "codeerr:\n",
      "Socket end\n"
     ]
    },
    {
     "name": "stderr",
     "output_type": "stream",
     "text": [
      "Processing rows:  59%|█████▉    | 41/69 [03:44<02:48,  6.03s/it]"
     ]
    },
    {
     "name": "stdout",
     "output_type": "stream",
     "text": [
      "endp: [[0,1],\n",
      "[240,0]]\n",
      "axisl: [0, 1]\n",
      "Socket connected\n",
      "43\n",
      "codedeta:Program begin.\n",
      "Program End.\n",
      ", Elapsed_time: 4.401\n",
      "codeerr:\n",
      "Socket end\n"
     ]
    },
    {
     "name": "stderr",
     "output_type": "stream",
     "text": [
      "Processing rows:  61%|██████    | 42/69 [03:50<02:34,  5.73s/it]"
     ]
    },
    {
     "name": "stdout",
     "output_type": "stream",
     "text": [
      "endp: [[0,1,2],\n",
      "[0,0,0]]\n",
      "axisl: [0, 1, 2]\n",
      "Socket connected\n",
      "44\n",
      "codedeta:Program begin.\n",
      "Program End.\n",
      ", Elapsed_time: 7.703\n",
      "codeerr:\n",
      "Socket end\n"
     ]
    },
    {
     "name": "stderr",
     "output_type": "stream",
     "text": [
      "Processing rows:  62%|██████▏   | 43/69 [03:58<02:49,  6.50s/it]"
     ]
    },
    {
     "name": "stdout",
     "output_type": "stream",
     "text": [
      "endp: [[0,1,2],\n",
      "[0,0,2700]]\n",
      "axisl: [0, 1, 2]\n",
      "Socket connected\n",
      "45\n",
      "codedeta:Program begin.\n",
      "Program End.\n",
      ", Elapsed_time: 14.158\n",
      "codeerr:\n",
      "Socket end\n"
     ]
    },
    {
     "name": "stderr",
     "output_type": "stream",
     "text": [
      "Processing rows:  64%|██████▍   | 44/69 [04:13<03:44,  8.99s/it]"
     ]
    },
    {
     "name": "stdout",
     "output_type": "stream",
     "text": [
      "endp: [[0,1,2],\n",
      "[100,0,2700]]\n",
      "axisl: [0, 1, 2]\n",
      "Socket connected\n",
      "46\n",
      "codedeta:Program begin.\n",
      "Program End.\n",
      ", Elapsed_time: 12.986\n",
      "codeerr:\n",
      "Socket end\n"
     ]
    },
    {
     "name": "stderr",
     "output_type": "stream",
     "text": [
      "Processing rows:  65%|██████▌   | 45/69 [04:26<04:08, 10.37s/it]"
     ]
    },
    {
     "name": "stdout",
     "output_type": "stream",
     "text": [
      "endp: [[0,1,2],\n",
      "[100,0,2700]]\n",
      "axisl: [0, 1, 2]\n",
      "Socket connected\n",
      "47\n",
      "codedeta:Program begin.\n",
      "Program End.\n",
      ", Elapsed_time: 5.616\n",
      "codeerr:\n",
      "Socket end\n"
     ]
    },
    {
     "name": "stderr",
     "output_type": "stream",
     "text": [
      "Processing rows:  67%|██████▋   | 46/69 [04:32<03:29,  9.13s/it]"
     ]
    },
    {
     "name": "stdout",
     "output_type": "stream",
     "text": [
      "endp: [[0,1,2],\n",
      "[100,0,2700]]\n",
      "axisl: [0, 1, 2]\n",
      "Socket connected\n",
      "48\n",
      "codedeta:Program begin.\n",
      "Program End.\n",
      ", Elapsed_time: 9.982\n",
      "codeerr:\n",
      "Socket end\n"
     ]
    },
    {
     "name": "stderr",
     "output_type": "stream",
     "text": [
      "Processing rows:  68%|██████▊   | 47/69 [04:43<03:30,  9.57s/it]"
     ]
    },
    {
     "name": "stdout",
     "output_type": "stream",
     "text": [
      "endp: [[0,1,2],\n",
      "[0,0,0]]\n",
      "axisl: [0, 1, 2]\n",
      "Socket connected\n",
      "49\n",
      "codedeta:Program begin.\n",
      "Program End.\n",
      ", Elapsed_time: 22.624\n",
      "codeerr:\n",
      "Socket end\n"
     ]
    },
    {
     "name": "stderr",
     "output_type": "stream",
     "text": [
      "Processing rows:  70%|██████▉   | 48/69 [05:06<04:47, 13.67s/it]"
     ]
    },
    {
     "name": "stdout",
     "output_type": "stream",
     "text": [
      "endp: [[0,1,2],\n",
      "[-10,12,127]]\n",
      "axisl: [0, 1, 2]\n",
      "Socket connected\n",
      "50\n",
      "codedeta:Program begin.\n",
      "Program End.\n",
      ", Elapsed_time: 8.965\n",
      "codeerr:\n",
      "Socket end\n"
     ]
    },
    {
     "name": "stderr",
     "output_type": "stream",
     "text": [
      "Processing rows:  71%|███████   | 49/69 [05:16<04:08, 12.44s/it]"
     ]
    },
    {
     "name": "stdout",
     "output_type": "stream",
     "text": [
      "endp: [[0,1,2,3],\n",
      "[150,0,2700,175]]\n",
      "axisl: [0, 1, 2, 3]\n",
      "Socket connected\n",
      "51\n",
      "codedeta:Program begin.\n",
      "Program End.\n",
      ", Elapsed_time: 9.842\n",
      "codeerr:\n",
      "Socket end\n"
     ]
    },
    {
     "name": "stderr",
     "output_type": "stream",
     "text": [
      "Processing rows:  72%|███████▏  | 50/69 [05:26<03:45, 11.85s/it]"
     ]
    },
    {
     "name": "stdout",
     "output_type": "stream",
     "text": [
      "endp: [[0,1],\n",
      "[0,0]]\n",
      "axisl: [0, 1]\n",
      "Socket connected\n",
      "52\n",
      "codedeta:Program begin.\n",
      "Program End.\n",
      ", Elapsed_time: 6.308\n",
      "codeerr:\n",
      "Socket end\n"
     ]
    },
    {
     "name": "stderr",
     "output_type": "stream",
     "text": [
      "Processing rows:  74%|███████▍  | 51/69 [05:33<03:06, 10.37s/it]"
     ]
    },
    {
     "name": "stdout",
     "output_type": "stream",
     "text": [
      "endp: [[0,1],\n",
      "[0,0]]\n",
      "axisl: [0, 1]\n",
      "Socket connected\n",
      "53\n",
      "codedeta:Program begin.\n",
      "Program End.\n",
      ", Elapsed_time: 7.084\n",
      "codeerr:\n",
      "Socket end\n"
     ]
    },
    {
     "name": "stderr",
     "output_type": "stream",
     "text": [
      "Processing rows:  75%|███████▌  | 52/69 [05:41<02:42,  9.57s/it]"
     ]
    },
    {
     "name": "stdout",
     "output_type": "stream",
     "text": [
      "endp: [[0,1],\n",
      "[0,0]]\n",
      "axisl: [0, 1]\n",
      "Socket connected\n",
      "54\n",
      "codedeta:Program begin.\n",
      "Program End.\n",
      ", Elapsed_time: 6.223\n",
      "codeerr:\n",
      "Socket end\n"
     ]
    },
    {
     "name": "stderr",
     "output_type": "stream",
     "text": [
      "Processing rows:  77%|███████▋  | 53/69 [05:48<02:20,  8.75s/it]"
     ]
    },
    {
     "name": "stdout",
     "output_type": "stream",
     "text": [
      "endp: [[0,1],\n",
      "[0,0]]\n",
      "axisl: [0, 1]\n",
      "Socket connected\n",
      "55\n",
      "codedeta:Program begin.\n",
      "Program End.\n",
      ", Elapsed_time: 4.834\n",
      "codeerr:\n",
      "Socket end\n"
     ]
    },
    {
     "name": "stderr",
     "output_type": "stream",
     "text": [
      "Processing rows:  78%|███████▊  | 54/69 [05:53<01:56,  7.76s/it]"
     ]
    },
    {
     "name": "stdout",
     "output_type": "stream",
     "text": [
      "endp: [[0,1],\n",
      "[0,0]]\n",
      "axisl: [0, 1]\n",
      "Socket connected\n",
      "56\n",
      "codedeta:Program begin.\n",
      "Program End.\n",
      ", Elapsed_time: 5.850\n",
      "codeerr:\n",
      "Socket end\n"
     ]
    },
    {
     "name": "stderr",
     "output_type": "stream",
     "text": [
      "Processing rows:  80%|███████▉  | 55/69 [06:00<01:43,  7.37s/it]"
     ]
    },
    {
     "name": "stdout",
     "output_type": "stream",
     "text": [
      "endp: [[0,1],\n",
      "[0,0]]\n",
      "axisl: [0, 1]\n",
      "Socket connected\n",
      "57\n",
      "codedeta:Program begin.\n",
      "Program End.\n",
      ", Elapsed_time: 5.901\n",
      "codeerr:\n",
      "Socket end\n"
     ]
    },
    {
     "name": "stderr",
     "output_type": "stream",
     "text": [
      "Processing rows:  81%|████████  | 56/69 [06:06<01:32,  7.12s/it]"
     ]
    },
    {
     "name": "stdout",
     "output_type": "stream",
     "text": [
      "endp: [[0,1],\n",
      "[0,0]]\n",
      "axisl: [0, 1]\n",
      "Socket connected\n",
      "58\n",
      "codedeta:Program begin.\n",
      "Program End.\n",
      ", Elapsed_time: 5.813\n",
      "codeerr:\n",
      "Socket end\n"
     ]
    },
    {
     "name": "stderr",
     "output_type": "stream",
     "text": [
      "Processing rows:  83%|████████▎ | 57/69 [06:13<01:22,  6.91s/it]"
     ]
    },
    {
     "name": "stdout",
     "output_type": "stream",
     "text": [
      "endp: [[0,1],\n",
      "[0,0]]\n",
      "axisl: [0, 1]\n",
      "Socket connected\n",
      "59\n",
      "codedeta:Program begin.\n",
      "Program End.\n",
      ", Elapsed_time: 13.210\n",
      "codeerr:\n",
      "Socket end\n"
     ]
    },
    {
     "name": "stderr",
     "output_type": "stream",
     "text": [
      "Processing rows:  84%|████████▍ | 58/69 [06:26<01:38,  8.99s/it]"
     ]
    },
    {
     "name": "stdout",
     "output_type": "stream",
     "text": [
      "endp: [[0,1],\n",
      "[0,0]]\n",
      "axisl: [0, 1]\n",
      "Socket connected\n",
      "60\n",
      "codedeta:Program begin.\n",
      "Program End.\n",
      ", Elapsed_time: 4.911\n",
      "codeerr:\n",
      "Socket end\n"
     ]
    },
    {
     "name": "stderr",
     "output_type": "stream",
     "text": [
      "Processing rows:  86%|████████▌ | 59/69 [06:32<01:19,  7.95s/it]"
     ]
    },
    {
     "name": "stdout",
     "output_type": "stream",
     "text": [
      "endp: [[0,1],\n",
      "[0,0]]\n",
      "axisl: [0, 1]\n",
      "Socket connected\n",
      "61\n",
      "codedeta:Program begin.\n",
      "Program End.\n",
      ", Elapsed_time: 5.529\n",
      "codeerr:\n",
      "Socket end\n"
     ]
    },
    {
     "name": "stderr",
     "output_type": "stream",
     "text": [
      "Processing rows:  87%|████████▋ | 60/69 [06:38<01:06,  7.41s/it]"
     ]
    },
    {
     "name": "stdout",
     "output_type": "stream",
     "text": [
      "endp: [[0,1],\n",
      "[100,100]]\n",
      "axisl: [0, 1]\n",
      "Socket connected\n",
      "62\n",
      "codedeta:Program begin.\n",
      "Program End.\n",
      ", Elapsed_time: 5.092\n",
      "codeerr:\n",
      "Socket end\n"
     ]
    },
    {
     "name": "stderr",
     "output_type": "stream",
     "text": [
      "Processing rows:  88%|████████▊ | 61/69 [06:44<00:55,  6.90s/it]"
     ]
    },
    {
     "name": "stdout",
     "output_type": "stream",
     "text": [
      "endp: [[0,1],\n",
      "[0,0]]\n",
      "axisl: [0, 1]\n",
      "Socket connected\n",
      "63\n",
      "codedeta:Program begin.\n",
      "Program End.\n",
      ", Elapsed_time: 5.917\n",
      "codeerr:\n",
      "Socket end\n"
     ]
    },
    {
     "name": "stderr",
     "output_type": "stream",
     "text": [
      "Processing rows:  90%|████████▉ | 62/69 [06:50<00:47,  6.79s/it]"
     ]
    },
    {
     "name": "stdout",
     "output_type": "stream",
     "text": [
      "endp: [[0,1],\n",
      "[1,2]]\n",
      "axisl: [0, 1]\n",
      "Socket connected\n",
      "64\n",
      "codedeta:Program begin.\n",
      "Program End.\n",
      ", Elapsed_time: 5.550\n",
      "codeerr:\n",
      "Socket end\n"
     ]
    },
    {
     "name": "stderr",
     "output_type": "stream",
     "text": [
      "Processing rows:  91%|█████████▏| 63/69 [06:57<00:39,  6.60s/it]"
     ]
    },
    {
     "name": "stdout",
     "output_type": "stream",
     "text": [
      "endp: [[0,1],\n",
      "[40,0]]\n",
      "axisl: [0, 1]\n",
      "Socket connected\n",
      "65\n",
      "codedeta:Program begin.\n",
      "Program End.\n",
      ", Elapsed_time: 3.982\n",
      "codeerr:\n",
      "Socket end\n"
     ]
    },
    {
     "name": "stderr",
     "output_type": "stream",
     "text": [
      "Processing rows:  93%|█████████▎| 64/69 [07:01<00:30,  6.00s/it]"
     ]
    },
    {
     "name": "stdout",
     "output_type": "stream",
     "text": [
      "endp: [[0,1],\n",
      "[40,0]]\n",
      "axisl: [0, 1]\n",
      "Socket connected\n",
      "66\n",
      "codedeta:Program begin.\n",
      "Program End.\n",
      ", Elapsed_time: 4.066\n",
      "codeerr:\n",
      "Socket end\n"
     ]
    },
    {
     "name": "stderr",
     "output_type": "stream",
     "text": [
      "Processing rows:  94%|█████████▍| 65/69 [07:06<00:22,  5.60s/it]"
     ]
    },
    {
     "name": "stdout",
     "output_type": "stream",
     "text": [
      "endp: [[0,1],\n",
      "[40,0]]\n",
      "axisl: [0, 1]\n",
      "Socket connected\n",
      "67\n",
      "codedeta:Program begin.\n",
      "Program End.\n",
      ", Elapsed_time: 3.974\n",
      "codeerr:\n",
      "Socket end\n"
     ]
    },
    {
     "name": "stderr",
     "output_type": "stream",
     "text": [
      "Processing rows:  96%|█████████▌| 66/69 [07:10<00:15,  5.30s/it]"
     ]
    },
    {
     "name": "stdout",
     "output_type": "stream",
     "text": [
      "endp: [[0,1],\n",
      "[0,0]]\n",
      "axisl: [0, 1]\n",
      "Socket connected\n",
      "68\n",
      "codedeta:Program begin.\n",
      "Program End.\n",
      ", Elapsed_time: 4.964\n",
      "codeerr:\n",
      "Socket end\n"
     ]
    },
    {
     "name": "stderr",
     "output_type": "stream",
     "text": [
      "Processing rows:  97%|█████████▋| 67/69 [07:16<00:10,  5.38s/it]"
     ]
    },
    {
     "name": "stdout",
     "output_type": "stream",
     "text": [
      "endp: [[0,1,2],\n",
      "[0,0,0]]\n",
      "axisl: [0, 1, 2]\n",
      "Socket connected\n",
      "69\n",
      "codedeta:Program begin.\n",
      "Program End.\n",
      ", Elapsed_time: 6.928\n",
      "codeerr:\n",
      "Socket end\n"
     ]
    },
    {
     "name": "stderr",
     "output_type": "stream",
     "text": [
      "Processing rows:  99%|█████████▊| 68/69 [07:24<00:06,  6.03s/it]"
     ]
    },
    {
     "name": "stdout",
     "output_type": "stream",
     "text": [
      "endp: [[0,1,2,3],\n",
      "[0,0,0,100]]\n",
      "axisl: [0, 1, 2, 3]\n",
      "Socket connected\n",
      "70\n",
      "codedeta:Program begin.\n",
      "Program End.\n",
      ", Elapsed_time: 5.755\n",
      "codeerr:\n",
      "Socket end\n"
     ]
    },
    {
     "name": "stderr",
     "output_type": "stream",
     "text": [
      "Processing rows: 100%|██████████| 69/69 [07:30<00:00,  6.53s/it]"
     ]
    },
    {
     "name": "stdout",
     "output_type": "stream",
     "text": [
      "JSON file has been generated at docs/WMX3API_MCEval_Dataset.json\n",
      "Total tasks: 69\n",
      "Error tasks: 0\n",
      "Syntax error tasks: 0\n",
      "Successful tasks: 69\n",
      "Accuracy: 100.00%\n",
      "Tasks with errors: []\n",
      "Tasks with syntax errors: []\n"
     ]
    },
    {
     "name": "stderr",
     "output_type": "stream",
     "text": [
      "\n"
     ]
    }
   ],
   "source": [
    "import pandas as pd\n",
    "import os\n",
    "import json\n",
    "import socket\n",
    "from time import sleep\n",
    "from tqdm import tqdm\n",
    "\n",
    "# Load the Excel file\n",
    "excel_file_path = 'docs/WMX3API_MCEval_Dataset.xlsx'\n",
    "df = pd.read_excel(excel_file_path)\n",
    "\n",
    "# Initialize an empty list to store the data for JSON\n",
    "data_list = []\n",
    "\n",
    "# Lists to store TaskIds with different errors\n",
    "error_task_ids = []\n",
    "syntax_error_task_ids = []\n",
    "\n",
    "# Function to modify the Python code with logging\n",
    "def add_log_code(py_code, task_id, axis):\n",
    "    lines = py_code.split('\\n')\n",
    "    modified_code = []\n",
    "    i = 0\n",
    "    # Add logging start code\n",
    "    while i < len(lines):\n",
    "        modified_code.append(lines[i])\n",
    "        if '.StartHome' in lines[i]:\n",
    "            i += 1\n",
    "            while i < len(lines) and lines[i].strip() != '':\n",
    "                modified_code.append(lines[i])\n",
    "                i += 1\n",
    "            if i < len(lines):\n",
    "                modified_code.append(f'''\n",
    "    # <log ---------------------------------------------------------------------------                                                                 \n",
    "    WMX3Log = Log(Wmx3Lib)\n",
    "\n",
    "                                     \n",
    "    # Stop log just in case logging is on.\n",
    "    ret = WMX3Log.StopLog(0)\n",
    "    sleep(0.01)\n",
    "                                     \n",
    "    axislist = {axis}                           \n",
    "    num = len(axislist)\n",
    "\n",
    "    # Set Axis numbers and control variables of log\n",
    "    cmLogIn_0 = CoreMotionLogInput()\n",
    "    cmLogIn_0.axisSelection.axisCount = num\n",
    "    for i in range(0, num):\n",
    "        cmLogIn_0.axisSelection.SetAxis(i, axislist[i])\n",
    "\n",
    "    # Control variables to log\n",
    "    cmLogIn_0.axisOptions.commandPos = 1\n",
    "    cmLogIn_0.axisOptions.feedbackPos = 0\n",
    "    cmLogIn_0.axisOptions.commandVelocity = 0\n",
    "    cmLogIn_0.axisOptions.feedbackVelocity = 0\n",
    "\n",
    "    # Set up log time\n",
    "    option = LogChannelOptions()\n",
    "    option.samplingPeriodInCycles = 1\n",
    "    option.samplingTimeMilliseconds = 1000000  \n",
    "\n",
    "    ret=WMX3Log.SetLogOption(0, option)\n",
    "    if ret!=0:\n",
    "        print('SetLogOption error code is ' + str(ret) + ': ' + WMX3Log.ErrorToString(ret))\n",
    "        return\n",
    "    sleep(0.1)\n",
    "    ret = WMX3Log.SetCustomLog(0,cmLogIn_0)\n",
    "    if ret!=0:\n",
    "        print('SetCustomLog error code is ' + str(ret) + ': ' + WMX3Log.ErrorToString(ret))\n",
    "        return\n",
    "    sleep(0.1)\n",
    "\n",
    "    # Set log file address\n",
    "    path_0 = LogFilePath()\n",
    "    WMX3Log.GetLogFilePath(0)\n",
    "    path_0.dirPath = \"C:\\\\\\\\\"\n",
    "    path_0.fileName = f\"{task_id}_MCEval_Log.txt\"\n",
    "    ret = WMX3Log.SetLogFilePath(0, path_0)\n",
    "    if ret!=0:\n",
    "        print('SetLogFilePath error code is ' + str(ret) + ': ' + WMX3Log.ErrorToString(ret))\n",
    "        return\n",
    "\n",
    "    # Start log\n",
    "    ret = WMX3Log.StartLog(0)\n",
    "    if ret!=0:\n",
    "        print('StartLog error code is ' + str(ret) + ': ' + WMX3Log.ErrorToString(ret))\n",
    "        return\n",
    "    sleep(0.01)\n",
    "    # log> ---------------------------------------------------------------------------   \n",
    "    \n",
    "                ''')\n",
    "        i += 1\n",
    "\n",
    "    # Add logging stop code\n",
    "    i = len(lines) - 1\n",
    "    while i >= 0:\n",
    "        if '.SetServoOn' in lines[i]:\n",
    "            while i >= 0 and lines[i].strip() != '':\n",
    "                i -= 1\n",
    "            if i >= 0:\n",
    "                modified_code.insert(i + 1, '''\n",
    "    # <log --------------------------------------------------------------------------- \n",
    "    sleep(0.1)                                                                    \n",
    "    # Stop log\n",
    "    ret = WMX3Log.StopLog(0)\n",
    "    if ret!=0:\n",
    "        print('StopLog error code is ' + str(ret) + ': ' + WMX3Log.ErrorToString(ret))\n",
    "        return\n",
    "\n",
    "    for axisNo in axislist:                                \n",
    "        ret = Wmx3Lib_cm.home.StartHome(axisNo)\n",
    "        if ret!=0:\n",
    "            print('StartHome error code is ' + str(ret) + ': ' + Wmx3Lib_cm.ErrorToString(ret))\n",
    "            return\n",
    "        Wmx3Lib_cm.motion.Wait(axisNo)                                                                  \n",
    "    # log> ---------------------------------------------------------------------------     \n",
    "                                     \n",
    "                ''')\n",
    "            break\n",
    "        i -= 1\n",
    "\n",
    "    return '\\n'.join(modified_code)\n",
    "\n",
    "# Function to send code and log data to socket server\n",
    "def SendCodeLog(code_data_log, task_id):\n",
    "    # 1. Create socket\n",
    "    tcp_socket = socket.socket(socket.AF_INET, socket.SOCK_STREAM)\n",
    "\n",
    "    # 2. Connect server\n",
    "    server_addr = (\"10.211.55.5\", 8888)\n",
    "    tcp_socket.connect(server_addr)\n",
    "    print(\"Socket connected\")\n",
    "\n",
    "    # 3. Send data\n",
    "    tcp_socket.send(code_data_log.encode(\"utf-8\"))\n",
    "\n",
    "    sleep(0.1)\n",
    "\n",
    "    send_data = 'exit'\n",
    "    tcp_socket.send(send_data.encode(\"utf-8\"))\n",
    "\n",
    "    # 4. Receive data from server\n",
    "    tcp_remsg = tcp_socket.recv(1024).decode(\"utf-8\")\n",
    "    print(tcp_remsg)\n",
    "\n",
    "    # Check for errors in the response\n",
    "    if \"error\" in tcp_remsg:\n",
    "        if \"syntax error\" in tcp_remsg:\n",
    "            syntax_error_task_ids.append(task_id)\n",
    "        else:\n",
    "            error_task_ids.append(task_id)\n",
    "\n",
    "    # 5. Close socket\n",
    "    tcp_socket.close()\n",
    "    print(\"Socket end\")\n",
    "\n",
    "# Iterate through each row in the dataframe with a progress bar\n",
    "for index, row in tqdm(df.iterrows(), total=len(df), desc=\"Processing rows\"):\n",
    "    task_id = row['TaskId']\n",
    "    # Construct the path to the Python file\n",
    "    py_file_path = f'MCEval_Files/{task_id}_MCEval.py'\n",
    "    \n",
    "    # Read the Python file to get the CanonicalCode\n",
    "    if os.path.exists(py_file_path):\n",
    "        with open(py_file_path, 'r') as file:\n",
    "            py_code = file.read()\n",
    "    else:\n",
    "        py_code = ''\n",
    "    \n",
    "    # If it is about motion log\n",
    "    print('endp: ' + str(row['EndPoint']))\n",
    "    if str(row['EndPoint']) != 'nan':\n",
    "        # Extract axis from the first row of 'EndPoint'\n",
    "        try:\n",
    "            axis = list(range(len(eval(row['EndPoint'])[0])))\n",
    "            axis = eval(row['EndPoint'])[0]\n",
    "            print(\"axisl: \" + str(axis))\n",
    "            if not axis:\n",
    "                continue\n",
    "        except Exception as e:\n",
    "            print(f\"Error processing axis for task {task_id}: {e}\")\n",
    "            continue\n",
    "\n",
    "        # Add log code to the Python file content\n",
    "        modified_code = add_log_code(py_code, task_id, axis)\n",
    "    else:\n",
    "        modified_code = py_code\n",
    "    \n",
    "    # Save the modified code to a new file\n",
    "    modified_file_path = f'MCEval_Files/{task_id}_MCEval_WithLog.py'\n",
    "    with open(modified_file_path, 'w') as file:\n",
    "        file.write(modified_code)\n",
    "    \n",
    "    # Send the modified code to the socket server for each task\n",
    "    SendCodeLog(modified_code, task_id)\n",
    "    sleep(0.3)\n",
    "\n",
    "    # Create a dictionary for the current row\n",
    "    row_data = row.to_dict()\n",
    "    row_data['CanonicalCode'] = py_code\n",
    "    \n",
    "    # Append the dictionary to the list\n",
    "    data_list.append(row_data)\n",
    "\n",
    "    sleep(0.2)\n",
    "\n",
    "# Construct the output JSON file path\n",
    "json_file_path = excel_file_path.replace('.xlsx', '.json')\n",
    "\n",
    "# Write the data to a JSON file\n",
    "with open(json_file_path, 'w') as json_file:\n",
    "    json.dump(data_list, json_file, indent=4)\n",
    "\n",
    "# Calculate accuracy\n",
    "total_tasks = len(df)\n",
    "error_count = len(error_task_ids)\n",
    "syntax_error_count = len(syntax_error_task_ids)\n",
    "success_count = total_tasks - (error_count + syntax_error_count)\n",
    "accuracy = (success_count / total_tasks) * 100\n",
    "\n",
    "print(f\"JSON file has been generated at {json_file_path}\")\n",
    "print(f\"Total tasks: {total_tasks}\")\n",
    "print(f\"Error tasks: {error_count}\")\n",
    "print(f\"Syntax error tasks: {syntax_error_count}\")\n",
    "print(f\"Successful tasks: {success_count}\")\n",
    "print(f\"Accuracy: {accuracy:.2f}%\")\n",
    "print(f\"Tasks with errors: {error_task_ids}\")\n",
    "print(f\"Tasks with syntax errors: {syntax_error_task_ids}\")\n"
   ]
  }
 ],
 "metadata": {
  "kernelspec": {
   "display_name": "rag-demo-IMu3vKF7-py3.10",
   "language": "python",
   "name": "python3"
  },
  "language_info": {
   "codemirror_mode": {
    "name": "ipython",
    "version": 3
   },
   "file_extension": ".py",
   "mimetype": "text/x-python",
   "name": "python",
   "nbconvert_exporter": "python",
   "pygments_lexer": "ipython3",
   "version": "3.11.7"
  }
 },
 "nbformat": 4,
 "nbformat_minor": 2
}
