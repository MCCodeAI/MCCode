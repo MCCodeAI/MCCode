{
 "cells": [
  {
   "cell_type": "markdown",
   "metadata": {},
   "source": [
    "# MCCoder MCEval Dataset for evaluation\n"
   ]
  },
  {
   "cell_type": "markdown",
   "metadata": {},
   "source": [
    "## Preparation\n"
   ]
  },
  {
   "cell_type": "markdown",
   "metadata": {},
   "source": [
    "### Generate JSON dataset file from excel, python source code and log file.\n"
   ]
  },
  {
   "cell_type": "markdown",
   "metadata": {},
   "source": [
    "#### Generate Json file from python source file\n"
   ]
  },
  {
   "cell_type": "code",
   "execution_count": 7,
   "metadata": {},
   "outputs": [
    {
     "name": "stdout",
     "output_type": "stream",
     "text": [
      "JSON file has been generated at docs/WMX3API_MCEval_Dataset.json\n"
     ]
    }
   ],
   "source": [
    "import pandas as pd\n",
    "import os\n",
    "import json\n",
    "\n",
    "# Load the Excel file\n",
    "excel_file_path = 'docs/WMX3API_MCEval_Dataset.xlsx'\n",
    "df = pd.read_excel(excel_file_path)\n",
    "\n",
    "# Initialize an empty list to store the data for JSON\n",
    "data_list = []\n",
    "\n",
    "# Iterate through each row in the dataframe\n",
    "for index, row in df.iterrows():\n",
    "    task_id = row['TaskId']\n",
    "    # Construct the path to the Python file\n",
    "    py_file_path = f'MCEval_Files/{task_id}_MCEval.py'\n",
    "    \n",
    "    # Read the Python file to get the CanonicalCode\n",
    "    if os.path.exists(py_file_path):\n",
    "        with open(py_file_path, 'r') as file:\n",
    "            canonical_code = file.read()\n",
    "    else:\n",
    "        canonical_code = ''\n",
    "    \n",
    "    # Create a dictionary for the current row\n",
    "    row_data = row.to_dict()\n",
    "    row_data['CanonicalCode'] = canonical_code\n",
    "    \n",
    "    # Append the dictionary to the list\n",
    "    data_list.append(row_data)\n",
    "\n",
    "# Construct the output JSON file path\n",
    "json_file_path = excel_file_path.replace('.xlsx', '.json')\n",
    "\n",
    "# Write the data to a JSON file\n",
    "with open(json_file_path, 'w') as json_file:\n",
    "    json.dump(data_list, json_file, indent=4)\n",
    "\n",
    "print(f\"JSON file has been generated at {json_file_path}\")\n"
   ]
  },
  {
   "cell_type": "markdown",
   "metadata": {},
   "source": [
    "#### Generate Json file from python source file with motion log\n"
   ]
  },
  {
   "cell_type": "code",
   "execution_count": 59,
   "metadata": {},
   "outputs": [
    {
     "name": "stderr",
     "output_type": "stream",
     "text": [
      "Processing rows:   0%|          | 0/14 [00:00<?, ?it/s]"
     ]
    },
    {
     "name": "stdout",
     "output_type": "stream",
     "text": [
      "endp: [[0],\n",
      "[180]]\n",
      "axisl: [0]\n",
      "Socket connected\n",
      "208\n",
      "codedeta:Program begin.\n",
      "Program End.\n",
      ", Elapsed_time: 3.968\n",
      "codeerr:\n",
      "Socket end\n"
     ]
    },
    {
     "name": "stderr",
     "output_type": "stream",
     "text": [
      "Processing rows:   7%|▋         | 1/14 [00:04<00:59,  4.58s/it]"
     ]
    },
    {
     "name": "stdout",
     "output_type": "stream",
     "text": [
      "endp: [[1],\n",
      "[200]]\n",
      "axisl: [1]\n",
      "Socket connected\n",
      "209\n",
      "codedeta:Program begin.\n",
      "Program End.\n",
      ", Elapsed_time: 3.491\n",
      "codeerr:\n",
      "Socket end\n"
     ]
    },
    {
     "name": "stderr",
     "output_type": "stream",
     "text": [
      "Processing rows:  14%|█▍        | 2/14 [00:08<00:51,  4.31s/it]"
     ]
    },
    {
     "name": "stdout",
     "output_type": "stream",
     "text": [
      "endp: [[2],\n",
      "[200]]\n",
      "axisl: [2]\n",
      "Socket connected\n",
      "210\n",
      "codedeta:Program begin.\n",
      "Program End.\n",
      ", Elapsed_time: 6.623\n",
      "codeerr:\n",
      "Socket end\n"
     ]
    },
    {
     "name": "stderr",
     "output_type": "stream",
     "text": [
      "Processing rows:  21%|██▏       | 3/14 [00:15<01:02,  5.65s/it]"
     ]
    },
    {
     "name": "stdout",
     "output_type": "stream",
     "text": [
      "endp: [[0],\n",
      "[380]]\n",
      "axisl: [0]\n",
      "Socket connected\n",
      "211\n",
      "codedeta:Program begin.\n",
      "Program End.\n",
      ", Elapsed_time: 3.851\n",
      "codeerr:\n",
      "Socket end\n"
     ]
    },
    {
     "name": "stderr",
     "output_type": "stream",
     "text": [
      "Processing rows:  29%|██▊       | 4/14 [00:20<00:51,  5.18s/it]"
     ]
    },
    {
     "name": "stdout",
     "output_type": "stream",
     "text": [
      "endp: [[0,1],\n",
      "[-10,-150]]\n",
      "axisl: [0, 1]\n",
      "Socket connected\n",
      "212\n",
      "codedeta:Program begin.\n",
      "Program End.\n",
      ", Elapsed_time: 4.810\n",
      "codeerr:\n",
      "Socket end\n"
     ]
    },
    {
     "name": "stderr",
     "output_type": "stream",
     "text": [
      "Processing rows:  36%|███▌      | 5/14 [00:25<00:47,  5.27s/it]"
     ]
    },
    {
     "name": "stdout",
     "output_type": "stream",
     "text": [
      "endp: nan\n",
      "Socket connected\n",
      "213\n",
      "codedeta:Program begin.\n",
      "Program End.\n",
      ", Elapsed_time: 2.379\n",
      "codeerr:\n",
      "Socket end\n"
     ]
    },
    {
     "name": "stderr",
     "output_type": "stream",
     "text": [
      "Processing rows:  43%|████▎     | 6/14 [00:28<00:35,  4.50s/it]"
     ]
    },
    {
     "name": "stdout",
     "output_type": "stream",
     "text": [
      "endp: [[0,1],\n",
      "[300,100]]\n",
      "axisl: [0, 1]\n",
      "Socket connected\n",
      "214\n",
      "codedeta:Program begin.\n",
      "Program End.\n",
      ", Elapsed_time: 4.137\n",
      "codeerr:\n",
      "Socket end\n"
     ]
    },
    {
     "name": "stderr",
     "output_type": "stream",
     "text": [
      "Processing rows:  50%|█████     | 7/14 [00:33<00:32,  4.58s/it]"
     ]
    },
    {
     "name": "stdout",
     "output_type": "stream",
     "text": [
      "endp: [[0,1],\n",
      "[200,150]]\n",
      "axisl: [0, 1]\n",
      "Socket connected\n",
      "215\n",
      "codedeta:Program begin.\n",
      "Program End.\n",
      ", Elapsed_time: 4.043\n",
      "codeerr:\n",
      "Socket end\n"
     ]
    },
    {
     "name": "stderr",
     "output_type": "stream",
     "text": [
      "Processing rows:  57%|█████▋    | 8/14 [00:38<00:27,  4.61s/it]"
     ]
    },
    {
     "name": "stdout",
     "output_type": "stream",
     "text": [
      "endp: [[0,1],\n",
      "[500,-50]]\n",
      "axisl: [0, 1]\n",
      "Socket connected\n",
      "216\n",
      "codedeta:Program begin.\n",
      "Program End.\n",
      ", Elapsed_time: 4.682\n",
      "codeerr:\n",
      "Socket end\n"
     ]
    },
    {
     "name": "stderr",
     "output_type": "stream",
     "text": [
      "Processing rows:  64%|██████▍   | 9/14 [00:43<00:24,  4.82s/it]"
     ]
    },
    {
     "name": "stdout",
     "output_type": "stream",
     "text": [
      "endp: [[0,1],\n",
      "[188,188]]\n",
      "axisl: [0, 1]\n",
      "Socket connected\n",
      "217\n",
      "codedeta:Program begin.\n",
      "Program End.\n",
      ", Elapsed_time: 4.027\n",
      "codeerr:\n",
      "Socket end\n"
     ]
    },
    {
     "name": "stderr",
     "output_type": "stream",
     "text": [
      "Processing rows:  71%|███████▏  | 10/14 [00:48<00:19,  4.77s/it]"
     ]
    },
    {
     "name": "stdout",
     "output_type": "stream",
     "text": [
      "endp: [[2,3],\n",
      "[7,8]]\n",
      "axisl: [2, 3]\n",
      "Socket connected\n",
      "218\n",
      "codedeta:Program begin.\n",
      "Program End.\n",
      ", Elapsed_time: 4.999\n",
      "codeerr:\n",
      "Socket end\n"
     ]
    },
    {
     "name": "stderr",
     "output_type": "stream",
     "text": [
      "Processing rows:  79%|███████▊  | 11/14 [00:53<00:15,  5.03s/it]"
     ]
    },
    {
     "name": "stdout",
     "output_type": "stream",
     "text": [
      "endp: [[4],\n",
      "[-100]]\n",
      "axisl: [4]\n",
      "Socket connected\n",
      "219\n",
      "codedeta:Program begin.\n",
      "Program End.\n",
      ", Elapsed_time: 4.572\n",
      "codeerr:\n",
      "Socket end\n"
     ]
    },
    {
     "name": "stderr",
     "output_type": "stream",
     "text": [
      "Processing rows:  86%|████████▌ | 12/14 [00:58<00:10,  5.08s/it]"
     ]
    },
    {
     "name": "stdout",
     "output_type": "stream",
     "text": [
      "endp: [[0,1],\n",
      "[0,0]]\n",
      "axisl: [0, 1]\n",
      "Socket connected\n",
      "220\n",
      "codedeta:Program begin.\n",
      "Program End.\n",
      ", Elapsed_time: 4.742\n",
      "codeerr:\n",
      "Socket end\n"
     ]
    },
    {
     "name": "stderr",
     "output_type": "stream",
     "text": [
      "Processing rows:  93%|█████████▎| 13/14 [01:04<00:05,  5.16s/it]"
     ]
    },
    {
     "name": "stdout",
     "output_type": "stream",
     "text": [
      "endp: [[0,1],\n",
      "[0,0]]\n",
      "axisl: [0, 1]\n",
      "Socket connected\n",
      "221\n",
      "codedeta:Program begin.\n",
      "Program End.\n",
      ", Elapsed_time: 5.661\n",
      "codeerr:\n",
      "Socket end\n"
     ]
    },
    {
     "name": "stderr",
     "output_type": "stream",
     "text": [
      "Processing rows: 100%|██████████| 14/14 [01:10<00:00,  5.04s/it]"
     ]
    },
    {
     "name": "stdout",
     "output_type": "stream",
     "text": [
      "JSON file has been generated at docs/WMX3API_MCEval_Dataset.json\n"
     ]
    },
    {
     "name": "stderr",
     "output_type": "stream",
     "text": [
      "\n"
     ]
    }
   ],
   "source": [
    "import pandas as pd\n",
    "import os\n",
    "import json\n",
    "import socket\n",
    "from time import *\n",
    "from tqdm import tqdm\n",
    "\n",
    "# Load the Excel file\n",
    "excel_file_path = 'docs/WMX3API_MCEval_Dataset.xlsx'\n",
    "df = pd.read_excel(excel_file_path)\n",
    "\n",
    "# Initialize an empty list to store the data for JSON\n",
    "data_list = []\n",
    "\n",
    "# Function to modify the Python code with logging\n",
    "def add_log_code(py_code, task_id, axis):\n",
    "    lines = py_code.split('\\n')\n",
    "    modified_code = []\n",
    "    i = 0\n",
    "    # Add logging start code\n",
    "    while i < len(lines):\n",
    "        modified_code.append(lines[i])\n",
    "        if '.StartHome' in lines[i]:\n",
    "            i += 1\n",
    "            while i < len(lines) and lines[i].strip() != '':\n",
    "                modified_code.append(lines[i])\n",
    "                i += 1\n",
    "            if i < len(lines):\n",
    "                modified_code.append(f'''\n",
    "                                     \n",
    "    # <log ---------------------------------------------------------------------------                                                                 \n",
    "    WMX3Log = Log(Wmx3Lib)\n",
    "\n",
    "    axislist = {axis}                           \n",
    "    num = len(axislist)\n",
    "\n",
    "    # Set Axis numbers and control variables of log\n",
    "    cmLogIn_0 = CoreMotionLogInput()\n",
    "    cmLogIn_0.axisSelection.axisCount = num\n",
    "    for i in range(0, num):\n",
    "        cmLogIn_0.axisSelection.SetAxis(i, axislist[i])\n",
    "\n",
    "    # Control variables to log\n",
    "    cmLogIn_0.axisOptions.commandPos = 1\n",
    "    cmLogIn_0.axisOptions.feedbackPos = 0\n",
    "    cmLogIn_0.axisOptions.commandVelocity = 0\n",
    "    cmLogIn_0.axisOptions.feedbackVelocity = 0\n",
    "\n",
    "    # Set up log time\n",
    "    option = LogChannelOptions()\n",
    "    option.samplingPeriodInCycles = 1\n",
    "    option.samplingTimeMilliseconds = 1000000  \n",
    "\n",
    "    ret=WMX3Log.SetLogOption(0, option)\n",
    "    if ret!=0:\n",
    "        print('SetLogOption error code is ' + str(ret) + ': ' + WMX3Log.ErrorToString(ret))\n",
    "        return\n",
    "    sleep(0.1)\n",
    "    ret = WMX3Log.SetCustomLog(0,cmLogIn_0)\n",
    "    if ret!=0:\n",
    "        print('SetCustomLog error code is ' + str(ret) + ': ' + WMX3Log.ErrorToString(ret))\n",
    "        return\n",
    "    sleep(0.1)\n",
    "\n",
    "    # Set log file address\n",
    "    path_0 = LogFilePath()\n",
    "    WMX3Log.GetLogFilePath(0)\n",
    "    path_0.dirPath = \"C:\\\\\\\\\"\n",
    "    path_0.fileName = f\"{task_id}_MCEval_Log.txt\"\n",
    "    ret = WMX3Log.SetLogFilePath(0, path_0)\n",
    "    if ret!=0:\n",
    "        print('SetLogFilePath error code is ' + str(ret) + ': ' + WMX3Log.ErrorToString(ret))\n",
    "        return\n",
    "\n",
    "    # Start log\n",
    "    ret = WMX3Log.StartLog(0)\n",
    "    if ret!=0:\n",
    "        print('StartLog error code is ' + str(ret) + ': ' + WMX3Log.ErrorToString(ret))\n",
    "        return\n",
    "    sleep(0.01)\n",
    "    # log> ---------------------------------------------------------------------------   \n",
    "    \n",
    "                ''')\n",
    "        i += 1\n",
    "\n",
    "    # Add logging stop code\n",
    "    i = len(lines) - 1\n",
    "    while i >= 0:\n",
    "        if '.SetServoOn' in lines[i]:\n",
    "            while i >= 0 and lines[i].strip() != '':\n",
    "                i -= 1\n",
    "            if i >= 0:\n",
    "                modified_code.insert(i + 1, '''\n",
    "                                     \n",
    "    # <log --------------------------------------------------------------------------- \n",
    "    sleep(0.1)                                                                    \n",
    "    # Stop log\n",
    "    ret = WMX3Log.StopLog(0)\n",
    "    if ret!=0:\n",
    "        print('StopLog error code is ' + str(ret) + ': ' + WMX3Log.ErrorToString(ret))\n",
    "        return\n",
    "\n",
    "    for axisNo in axislist:                                \n",
    "        ret = Wmx3Lib_cm.home.StartHome(axisNo)\n",
    "        if ret!=0:\n",
    "            print('StartHome error code is ' + str(ret) + ': ' + Wmx3Lib_cm.ErrorToString(ret))\n",
    "            return\n",
    "        Wmx3Lib_cm.motion.Wait(axisNo)                                                                  \n",
    "    # log> ---------------------------------------------------------------------------     \n",
    "                                     \n",
    "                ''')\n",
    "            break\n",
    "        i -= 1\n",
    "\n",
    "    return '\\n'.join(modified_code)\n",
    "\n",
    "# Function to send code and log data to socket server\n",
    "def SendCodeLog(code_data_log):\n",
    "    # 1. Create socket\n",
    "    tcp_socket = socket.socket(socket.AF_INET, socket.SOCK_STREAM)\n",
    "\n",
    "    # 2. Connect server\n",
    "    server_addr = (\"10.211.55.5\", 8888)\n",
    "    tcp_socket.connect(server_addr)\n",
    "    print(\"Socket connected\")\n",
    "\n",
    "    import time\n",
    "\n",
    "    # 3. Send data\n",
    "    tcp_socket.send(code_data_log.encode(\"utf-8\"))\n",
    "\n",
    "    time.sleep(0.1)\n",
    "\n",
    "    send_data = 'exit'\n",
    "    tcp_socket.send(send_data.encode(\"utf-8\"))\n",
    "\n",
    "    # 4. Receive data from server\n",
    "    tcp_remsg = tcp_socket.recv(1024)\n",
    "    print(tcp_remsg.decode(\"utf-8\"))\n",
    "\n",
    "    # 5. Close socket\n",
    "    tcp_socket.close()\n",
    "    print(\"Socket end\")\n",
    "\n",
    "# Iterate through each row in the dataframe with a progress bar\n",
    "for index, row in tqdm(df.iterrows(), total=len(df), desc=\"Processing rows\"):\n",
    "    task_id = row['TaskId']\n",
    "    # Construct the path to the Python file\n",
    "    py_file_path = f'MCEval_Files/{task_id}_MCEval.py'\n",
    "    \n",
    "    # Read the Python file to get the CanonicalCode\n",
    "    if os.path.exists(py_file_path):\n",
    "        with open(py_file_path, 'r') as file:\n",
    "            py_code = file.read()\n",
    "    else:\n",
    "        py_code = ''\n",
    "    \n",
    "    #If it is about motion log\n",
    "    print('endp: ' + str(row['EndPoint']))\n",
    "    if (str(row['EndPoint']) != 'nan'):\n",
    "        # Extract axis from the first row of 'EndPoint'\n",
    "        try:\n",
    "            axis = list(range(len(eval(row['EndPoint'])[0])))\n",
    "            axis = eval(row['EndPoint'])[0]\n",
    "            print(\"axisl: \" + str(axis))\n",
    "            if not axis:\n",
    "                continue\n",
    "        except Exception as e:\n",
    "            print(f\"Error processing axis for task {task_id}: {e}\")\n",
    "            continue\n",
    "\n",
    "        # Add log code to the Python file content\n",
    "        modified_code = add_log_code(py_code, task_id, axis)\n",
    "    else:\n",
    "        modified_code = py_code\n",
    "    \n",
    "    # Save the modified code to a new file\n",
    "    modified_file_path = f'MCEval_Files/{task_id}_MCEval_WithLog.py'\n",
    "    with open(modified_file_path, 'w') as file:\n",
    "        file.write(modified_code)\n",
    "    \n",
    "    # Send the modified code to the socket server for each task\n",
    "    SendCodeLog(modified_code)\n",
    "    sleep(0.3)\n",
    "\n",
    "    # Create a dictionary for the current row\n",
    "    row_data = row.to_dict()\n",
    "    row_data['CanonicalCode'] = py_code\n",
    "    \n",
    "    # Append the dictionary to the list\n",
    "    data_list.append(row_data)\n",
    "\n",
    "    sleep(0.2)\n",
    "\n",
    "# Construct the output JSON file path\n",
    "json_file_path = excel_file_path.replace('.xlsx', '.json')\n",
    "\n",
    "# Write the data to a JSON file\n",
    "with open(json_file_path, 'w') as json_file:\n",
    "    json.dump(data_list, json_file, indent=4)\n",
    "\n",
    "print(f\"JSON file has been generated at {json_file_path}\")\n"
   ]
  },
  {
   "cell_type": "markdown",
   "metadata": {},
   "source": []
  }
 ],
 "metadata": {
  "kernelspec": {
   "display_name": "rag-demo-IMu3vKF7-py3.10",
   "language": "python",
   "name": "python3"
  },
  "language_info": {
   "codemirror_mode": {
    "name": "ipython",
    "version": 3
   },
   "file_extension": ".py",
   "mimetype": "text/x-python",
   "name": "python",
   "nbconvert_exporter": "python",
   "pygments_lexer": "ipython3",
   "version": "3.11.7"
  }
 },
 "nbformat": 4,
 "nbformat_minor": 2
}
