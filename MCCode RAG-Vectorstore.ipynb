{
 "cells": [
  {
   "cell_type": "markdown",
   "metadata": {},
   "source": [
    "# MC Code RAG Workshop\n"
   ]
  },
  {
   "cell_type": "markdown",
   "metadata": {},
   "source": [
    "### Dependencies\n"
   ]
  },
  {
   "cell_type": "code",
   "execution_count": null,
   "metadata": {},
   "outputs": [],
   "source": [
    "# %pip install --upgrade --quiet  langchain langchain-community langchainhub langchain-openai chromadb bs4 python-dotenv"
   ]
  },
  {
   "cell_type": "code",
   "execution_count": 1,
   "metadata": {},
   "outputs": [],
   "source": [
    "import os\n",
    "from dotenv import load_dotenv,find_dotenv\n",
    "\n",
    "# Use this line of code if you have a local .env file\n",
    "load_dotenv(find_dotenv()) \n",
    "\n",
    "# LangSmith\n",
    "import getpass\n",
    "os.environ[\"LANGCHAIN_TRACING_V2\"] = \"true\"\n",
    "os.environ[\"LANGCHAIN_API_KEY\"] = os.environ[\"LANGCHAIN_API_KEY\"] #getpass.getpass()\n",
    " \n",
    "import bs4\n",
    "from langchain import hub\n",
    "from langchain_community.document_loaders import WebBaseLoader, TextLoader, PyPDFLoader, PyPDFium2Loader\n",
    "from langchain_community.vectorstores import Chroma\n",
    "from langchain_core.output_parsers import StrOutputParser\n",
    "from langchain_core.runnables import RunnablePassthrough\n",
    "from langchain_openai import ChatOpenAI, OpenAIEmbeddings\n",
    "from langchain_text_splitters import RecursiveCharacterTextSplitter\n",
    "from langchain_core.prompts import PromptTemplate\n",
    "from langchain_core.documents import Document\n",
    "\n",
    "# Txt loader\n",
    "# loader = TextLoader(\"./docs/WMX3UserManual_a.txt\")\n",
    "loader = TextLoader(\"./docs/WMX3API_MCEval_Samplecodes.txt\")\n",
    "docs = loader.load()\n",
    "# docs[0].page_content[:100000]\n",
    "len(docs)\n",
    "\n",
    "# # Text chunk \n",
    "# text_splitter = RecursiveCharacterTextSplitter(chunk_size=1000, chunk_overlap=200, add_start_index=True)\n",
    "# splits = text_splitter.split_documents(docs)\n",
    "\n",
    "#Sample code chunk with dedicated separators\n",
    "separators = ['``']  # Adjust based on actual document structure, `` is the end of each code snippet.\n",
    "# separators = ['}']  # Adjust based on actual document structure\n",
    "text_splitter = RecursiveCharacterTextSplitter(separators=separators, keep_separator=True, chunk_size=1000, chunk_overlap=200, add_start_index=True)\n",
    "splits = text_splitter.split_documents(docs)\n"
   ]
  },
  {
   "cell_type": "code",
   "execution_count": 4,
   "metadata": {},
   "outputs": [
    {
     "data": {
      "text/plain": [
       "Document(page_content='# Write python code to Initialize WMX3, do {user_logic}, and close WMX3.\\n# This python code is to initialized WMX3(includes CreateDevice, SetDeviceName, StartCommunication, ImportAndSetAll, ClearAmpAlarm, SetServoOn, StartHome), and do {user_logic}, and close WMX3(includes SetServoOn, StopCommunication and CloseDevice). \\n#WMX3 python library\\n# Axes = []\\n\\nfrom WMX3ApiPython import *\\nfrom time import *\\n\\nINFINITE = int(0xFFFFFFFF)\\n\\ndef main():\\n    Wmx3Lib = WMX3Api()\\n    CmStatus = CoreMotionStatus()\\n    Wmx3Lib_cm = CoreMotion(Wmx3Lib)\\n    print(\\'Program begin.\\')\\n    sleep(0.1)\\n\\n    # Create devices. \\n    ret = Wmx3Lib.CreateDevice(\\'C:\\\\\\\\Program Files\\\\\\\\SoftServo\\\\\\\\WMX3\\', DeviceType.DeviceTypeNormal, INFINITE)\\n    if ret!=0:\\n        print(\\'CreateDevice error code is \\' + str(ret) + \\': \\' + Wmx3Lib.ErrorToString(ret))\\n        return\\n    \\n    # Set Device Name.\\n    Wmx3Lib.SetDeviceName(\\'WMX3initTest\\')\\n\\n    # Start Communication.\\n    ret = Wmx3Lib.StartCommunication(INFINITE)\\n    if ret!=0:\\n        print(\\'StartCommunication error code is \\' + str(ret) + \\': \\' + Wmx3Lib.ErrorToString(ret))\\n        return\\n\\n    # Import and set all the preset motion parameters.\\n    ret=Wmx3Lib_cm.config.ImportAndSetAll(\"C:\\\\\\\\Program Files\\\\\\\\SoftServo\\\\\\\\WMX3\\\\\\\\wmx_parameters.xml\")\\n    if ret != 0:\\n        print(\\'ImportAndSetAll Parameters error code is \\' + str(ret) + \\': \\' + Wmx3Lib_cm.ErrorToString(ret))\\n    sleep(0.5)\\n \\n    # Clear alarms, set servos on, and perform homing for Axes\\n    for axis in []:\\n        # Clear the amplifier alarm\\n        timeoutCounter = 0\\n        while True:\\n            # GetStatus -> First return value : Error code, Second return value: CoreMotionStatus\\n            ret, CmStatus = Wmx3Lib_cm.GetStatus()\\n            if not CmStatus.GetAxesStatus(axis).ampAlarm:\\n                break\\n            ret = Wmx3Lib_cm.axisControl.ClearAmpAlarm(axis)\\n            sleep(0.5)\\n            timeoutCounter += 1\\n            if timeoutCounter > 5:\\n                break\\n        if timeoutCounter > 5:\\n            print(f\\'Clear axis {axis} alarm fails!\\')\\n            return\\n\\n        # Set servo on for Axis\\n        ret = Wmx3Lib_cm.axisControl.SetServoOn(axis, 1)\\n        timeoutCounter = 0\\n        while True:\\n            # GetStatus -> First return value : Error code, Second return value: CoreMotionStatus\\n            ret, CmStatus = Wmx3Lib_cm.GetStatus()\\n            if (CmStatus.GetAxesStatus(axis).servoOn):\\n                break\\n            sleep(0.4)\\n            timeoutCounter += 1\\n            if (timeoutCounter > 5):\\n                break\\n        if (timeoutCounter > 5):\\n            print(\\'Set servo on for axis {axis} fails!\\')\\n            return\\n\\n        # Sleep is a must between SetServoOn and Homing\\n        sleep(0.1)\\n\\n        # Homing\\n        homeParam = Config_HomeParam()\\n        ret, homeParam = Wmx3Lib_cm.config.GetHomeParam(axis)\\n        homeParam.homeType = Config_HomeType.CurrentPos\\n\\n        # SetHomeParam -> First return value: Error code, Second return value: param error\\n        ret, homeParamError = Wmx3Lib_cm.config.SetHomeParam(axis, homeParam)\\n\\n        ret = Wmx3Lib_cm.home.StartHome(axis)\\n        if ret != 0:\\n            print(f\\'StartHome error code for axis {axis} is \\' + str(ret) + \\': \\' + Wmx3Lib_cm.ErrorToString(ret))\\n            return\\n        Wmx3Lib_cm.motion.Wait(axis)\\n\\n\\n    # {user_logic}\\n\\n\\n    # Set servo off for Axes\\n    for axis in []:\\n        ret = Wmx3Lib_cm.axisControl.SetServoOn(axis, 0)\\n        if ret != 0:\\n            print(f\\'SetServoOn to off error code for axis {axis} is \\' + str(ret) + \\': \\' + Wmx3Lib_cm.ErrorToString(ret))\\n            return\\n\\n    # Stop Communication.\\n    ret = Wmx3Lib.StopCommunication(INFINITE)\\n    if ret!=0:\\n        print(\\'StopCommunication error code is \\' + str(ret) + \\': \\' + Wmx3Lib.ErrorToString(ret))\\n        return\\n\\n    # Close Device.\\n    ret = Wmx3Lib.CloseDevice()\\n    if ret!=0:\\n        print(\\'CloseDevice error code is \\' + str(ret) + \\': \\' + Wmx3Lib.ErrorToString(ret))\\n        return\\n\\n    print(\\'Program End.\\')\\n\\nif __name__ == \\'__main__\\':\\n    main()\\n\\n\\n\\n#', metadata={'source': './docs/WMX3API_MCEval_Samplecodes.txt', 'start_index': 0})"
      ]
     },
     "execution_count": 4,
     "metadata": {},
     "output_type": "execute_result"
    }
   ],
   "source": [
    "splits[0]"
   ]
  },
  {
   "cell_type": "code",
   "execution_count": 5,
   "metadata": {},
   "outputs": [],
   "source": [
    "\n",
    "\n",
    "embedding_model=OpenAIEmbeddings(model=\"text-embedding-3-large\")   #text-embedding-3-large   #text-embedding-ada-002    #text-embedding-3-small\n",
    "\n",
    "# If txt vectorstore exists\n",
    "# if os.path.exists(\"Vectorstore/chromadb\"):\n",
    "        # vectorstore = Chroma(\n",
    "                #     embedding_function=embedding_model,\n",
    "                #     persist_directory=\"Vectorstore/chromadb\",\n",
    "                #     ) \n",
    "# else:\n",
    "        # Load from chunks and save to disk\n",
    "        # vectorstore = Chroma.from_documents(documents=splits, embedding=embedding_model, persist_directory=\"Vectorstore/chromadb\") \n",
    "\n",
    "# If pdf vectorstore exists\n",
    "vectorstore_path = \"Vectorstore/chromadb-MCCoder\"\n",
    " # Load from chunks and save to disk\n",
    "vectorstore = Chroma.from_documents(documents=splits, embedding=embedding_model,  persist_directory=vectorstore_path) \n"
   ]
  },
  {
   "cell_type": "code",
   "execution_count": 6,
   "metadata": {},
   "outputs": [
    {
     "data": {
      "text/plain": [
       "[Document(page_content='Overview \\n\\nPath interpolation with look ahead is a more advanced version of path interpolation with \\nthe following features:', metadata={'source': './docs/WMX3UserManual_a.txt', 'start_index': 862601}),\n",
       " Document(page_content=\"``\\n\\n\\n\\n# Write python code to Execute path interpolation with look ahead of Axis 0 and Axis 1 with velocity 1000, consisting of four linear interpolations: (100,0),(100,100),(0,100),(0,0).\\n    # Axes = [0, 1]\\n\\n    Wmx3Lib_adv = AdvancedMotion(Wmx3Lib)\\n\\n    path = AdvMotion_PathIntplLookaheadCommand()\\n    ret = Wmx3Lib_adv.advMotion.FreePathIntplLookaheadBuffer(0)\\n    # Create the path interpolation with look ahead buffer\\n    ret = Wmx3Lib_adv.advMotion.CreatePathIntplLookaheadBuffer(0, 1000)\\n    if ret != 0:\\n        print('CreatePathIntplLookaheadBuffer error code is ' + str(ret) + ': ' + Wmx3Lib_adv.ErrorToString(ret))\\n        return\\n\\n    # Configure the path interpolation with look ahead channel\\n    conf = AdvMotion_PathIntplLookaheadConfiguration()\\n\\n    conf.axisCount = 2\\n    conf.SetAxis(0, 0)\\n    conf.SetAxis(1, 1)\\n    conf.compositeVel = 1000\\n    conf.compositeAcc = 2000\\n    #  The commanded axes will automatically change to Idle operation state after all interpolation commands in the path have been executed.\\n    conf.stopOnEmptyBuffer = True\\n\\n    ret = Wmx3Lib_adv.advMotion.SetPathIntplLookaheadConfiguration(0, conf)\\n    if ret != 0:\\n        print('SetPathIntplLookaheadConfiguration error code is ' + str(ret) + ': ' + Wmx3Lib_adv.ErrorToString(ret))\\n        return\\n\\n    # Add the path interpolation with look ahead commands\\n    path.numPoints = 4\\n\\n    point = AdvMotion_PathIntplLookaheadCommandPoint()\\n    point.type = AdvMotion_PathIntplLookaheadSegmentType.Linear\\n    point.linear.axisCount = 2\\n    point.linear.SetAxis(0, 0)\\n    point.linear.SetAxis(1, 1)\\n    point.linear.SetTarget(0, 100)\\n    point.linear.SetTarget(1, 0)\\n    path.SetPoint(0, point)\\n\\n    point = AdvMotion_PathIntplLookaheadCommandPoint()\\n    point.type = AdvMotion_PathIntplLookaheadSegmentType.Linear\\n    point.linear.axisCount = 2\\n    point.linear.SetAxis(0, 0)\\n    point.linear.SetAxis(1, 1)\\n    point.linear.SetTarget(0, 100)\\n    point.linear.SetTarget(1, 100)\\n    path.SetPoint(1, point)\\n\\n    point = AdvMotion_PathIntplLookaheadCommandPoint()\\n    point.type = AdvMotion_PathIntplLookaheadSegmentType.Linear\\n    point.linear.axisCount = 2\\n    point.linear.SetAxis(0, 0)\\n    point.linear.SetAxis(1, 1)\\n    point.linear.SetTarget(0, 0)\\n    point.linear.SetTarget(1, 100)\\n    path.SetPoint(2, point)\\n\\n    point = AdvMotion_PathIntplLookaheadCommandPoint()\\n    point.type = AdvMotion_PathIntplLookaheadSegmentType.Linear\\n    point.linear.axisCount = 2\\n    point.linear.SetAxis(0, 0)\\n    point.linear.SetAxis(1, 1)\\n    point.linear.SetTarget(0, 0)\\n    point.linear.SetTarget(1, 0)\\n    path.SetPoint(3, point)\\n\\n    ret = Wmx3Lib_adv.advMotion.AddPathIntplLookaheadCommand(0, path)\\n    if ret != 0:\\n        print('AddPathIntplLookaheadCommand error code is ' + str(ret) + ': ' + Wmx3Lib_adv.ErrorToString(ret))\\n        return\\n\\n    # Execute path interpolation with look ahead\\n    ret = Wmx3Lib_adv.advMotion.StartPathIntplLookahead(0)\\n    if ret != 0:\\n        print('StartPathIntplLookahead error code is ' + str(ret) + ': ' + Wmx3Lib_adv.ErrorToString(ret))\\n        return\\n\\n    # Wait for the path interpolation with look ahead to complete\\n    Wmx3Lib_cm.motion.Wait(0)\\n    timeoutCounter = 0\\n    # Wait until the path interpolation with look ahead is in Stopped state\\n    ret, pathStatus = Wmx3Lib_adv.advMotion.GetPathIntplLookaheadStatus(0)\\n    while True:\\n        if (pathStatus.state != AdvMotion_PathIntplLookaheadState.Stopped):\\n            break\\n        sleep(0.1)\\n        timeoutCounter = timeoutCounter + 1\\n        if (timeoutCounter > 500):\\n            break\\n        ret, pathStatus = Wmx3Lib_adv.advMotion.GetPathIntplLookaheadStatus(0)\\n    if (timeoutCounter > 500):\\n        print('PathIntplLookahead Runuing timeout.!')\\n        return\\n    # Free the path interpolation with look ahead buffer (normally, the buffer should only be freed at the end of the application)\\n    ret = Wmx3Lib_adv.advMotion.FreePathIntplLookaheadBuffer(0)\\n    if ret != 0:\\n        print('FreePathIntplLookaheadBuffer error code is ' + str(ret) + ': ' + Wmx3Lib_adv.ErrorToString(ret))\\n        return\\n\\n\\n\\n#\", metadata={'source': './docs/WMX3API_MCEval_Samplecodes.txt', 'start_index': 139226}),\n",
       " Document(page_content=\"``\\n\\n\\n\\n# Write python code to Execute path interpolation with look ahead of Axis 0 and Axis 1 with velocity 1000, consisting of four linear interpolations: (100,0),(100,100),(0,100),(0,0).\\n    # Axes = [0, 1]\\n\\n    Wmx3Lib_adv = AdvancedMotion(Wmx3Lib)\\n\\n    path = AdvMotion_PathIntplLookaheadCommand()\\n    ret = Wmx3Lib_adv.advMotion.FreePathIntplLookaheadBuffer(0)\\n    # Create the path interpolation with look ahead buffer\\n    ret = Wmx3Lib_adv.advMotion.CreatePathIntplLookaheadBuffer(0, 1000)\\n    if ret != 0:\\n        print('CreatePathIntplLookaheadBuffer error code is ' + str(ret) + ': ' + Wmx3Lib_adv.ErrorToString(ret))\\n        return\\n\\n    # Configure the path interpolation with look ahead channel\\n    conf = AdvMotion_PathIntplLookaheadConfiguration()\\n\\n    conf.axisCount = 2\\n    conf.SetAxis(0, 0)\\n    conf.SetAxis(1, 1)\\n    conf.compositeVel = 1000\\n    conf.compositeAcc = 2000\\n    #  The commanded axes will automatically change to Idle operation state after all interpolation commands in the path have been executed.\\n    conf.stopOnEmptyBuffer = True\\n    # Sample the profile at every specified distance along the path, improving the granularity of the generated profile.\\n    conf.sampleDistance = 100\\n\\n    ret = Wmx3Lib_adv.advMotion.SetPathIntplLookaheadConfiguration(0, conf)\\n    if ret != 0:\\n        print('SetPathIntplLookaheadConfiguration error code is ' + str(ret) + ': ' + Wmx3Lib_adv.ErrorToString(ret))\\n        return\\n\\n    # Add the path interpolation with look ahead commands\\n    path.numPoints = 4\\n\\n    point = AdvMotion_PathIntplLookaheadCommandPoint()\\n    point.type = AdvMotion_PathIntplLookaheadSegmentType.Linear\\n    point.linear.axisCount = 2\\n    point.linear.SetAxis(0, 0)\\n    point.linear.SetAxis(1, 1)\\n    point.linear.SetTarget(0, 100)\\n    point.linear.SetTarget(1, 0)\\n    path.SetPoint(0, point)\\n\\n    point = AdvMotion_PathIntplLookaheadCommandPoint()\\n    point.type = AdvMotion_PathIntplLookaheadSegmentType.Linear\\n    point.linear.axisCount = 2\\n    point.linear.SetAxis(0, 0)\\n    point.linear.SetAxis(1, 1)\\n    point.linear.SetTarget(0, 100)\\n    point.linear.SetTarget(1, 100)\\n    path.SetPoint(1, point)\\n\\n    point = AdvMotion_PathIntplLookaheadCommandPoint()\\n    point.type = AdvMotion_PathIntplLookaheadSegmentType.Linear\\n    point.linear.axisCount = 2\\n    point.linear.SetAxis(0, 0)\\n    point.linear.SetAxis(1, 1)\\n    point.linear.SetTarget(0, 0)\\n    point.linear.SetTarget(1, 100)\\n    path.SetPoint(2, point)\\n\\n    point = AdvMotion_PathIntplLookaheadCommandPoint()\\n    point.type = AdvMotion_PathIntplLookaheadSegmentType.Linear\\n    point.linear.axisCount = 2\\n    point.linear.SetAxis(0, 0)\\n    point.linear.SetAxis(1, 1)\\n    point.linear.SetTarget(0, 0)\\n    point.linear.SetTarget(1, 0)\\n    path.SetPoint(3, point)\\n\\n    ret = Wmx3Lib_adv.advMotion.AddPathIntplLookaheadCommand(0, path)\\n    if ret != 0:\\n        print('AddPathIntplLookaheadCommand error code is ' + str(ret) + ': ' + Wmx3Lib_adv.ErrorToString(ret))\\n        return\\n\\n    # Execute path interpolation with look ahead\\n    ret = Wmx3Lib_adv.advMotion.StartPathIntplLookahead(0)\\n    if ret != 0:\\n        print('StartPathIntplLookahead error code is ' + str(ret) + ': ' + Wmx3Lib_adv.ErrorToString(ret))\\n        return\\n\\n    # Wait for the path interpolation with look ahead to complete\\n    Wmx3Lib_cm.motion.Wait(0)\\n    timeoutCounter = 0\\n    # Wait until the path interpolation with look ahead is in Stopped state\\n    ret, pathStatus = Wmx3Lib_adv.advMotion.GetPathIntplLookaheadStatus(0)\\n    while True:\\n        if (pathStatus.state != AdvMotion_PathIntplLookaheadState.Stopped):\\n            break\\n        sleep(0.1)\\n        timeoutCounter = timeoutCounter + 1\\n        if (timeoutCounter > 500):\\n            break\\n        ret, pathStatus = Wmx3Lib_adv.advMotion.GetPathIntplLookaheadStatus(0)\\n    if (timeoutCounter > 500):\\n        print('PathIntplLookahead Runuing timeout.!')\\n        return\\n    # Free the path interpolation with look ahead buffer (normally, the buffer should only be freed at the end of the application)\\n    ret = Wmx3Lib_adv.advMotion.FreePathIntplLookaheadBuffer(0)\\n    if ret != 0:\\n        print('FreePathIntplLookaheadBuffer error code is ' + str(ret) + ': ' + Wmx3Lib_adv.ErrorToString(ret))\\n        return\\n\\n\\n\\n\\n#\", metadata={'source': './docs/WMX3API_MCEval_Samplecodes.txt', 'start_index': 148039}),\n",
       " Document(page_content=\"``\\n\\n\\n\\n# Write python code to Execute path interpolation with look ahead of Axis 0, 1 and 2 with velocity 1000, and Axis 3 as the auxiliary axis, consisting of two circular interpolations defined as (throughPos0,throughPos1,throughPos2,endPos0,endPos1,endPos2,auxiliaryTarget): (70.71,29.29,0,100,100,0,50),(29.29,70.71,0,0,0,0,100).\\n    # Axes = [0, 1, 2 ,3]\\n\\n    Wmx3Lib_adv = AdvancedMotion(Wmx3Lib)\\n\\n    path = AdvMotion_PathIntplLookaheadCommand()\\n    ret = Wmx3Lib_adv.advMotion.FreePathIntplLookaheadBuffer(0)\\n    # Create the path interpolation with look ahead buffer\\n    ret = Wmx3Lib_adv.advMotion.CreatePathIntplLookaheadBuffer(0, 1000)\\n    if ret != 0:\\n        print('CreatePathIntplLookaheadBuffer error code is ' + str(ret) + ': ' + Wmx3Lib_adv.ErrorToString(ret))\\n        return\\n\\n    # Configure the path interpolation with look ahead channel\\n    conf = AdvMotion_PathIntplLookaheadConfiguration()\\n\\n    conf.axisCount = 4\\n    conf.SetAxis(0, 0)\\n    conf.SetAxis(1, 1)\\n    conf.SetAxis(2, 2)\\n    conf.SetAxis(3, 3)\\n    conf.compositeVel = 1000\\n    conf.compositeAcc = 4000\\n    conf.stopOnEmptyBuffer = True\\n\\n    ret = Wmx3Lib_adv.advMotion.SetPathIntplLookaheadConfiguration(0, conf)\\n    if ret != 0:\\n        print('SetPathIntplLookaheadConfiguration error code is ' + str(ret) + ': ' + Wmx3Lib_adv.ErrorToString(ret))\\n        return\\n\\n    # Add the path interpolation with look ahead commands\\n    point = AdvMotion_PathIntplLookaheadCommand()\\n    path.numPoints = 2\\n\\n    point = AdvMotion_PathIntplLookaheadCommandPoint()\\n    point.type = AdvMotion_PathIntplLookaheadSegmentType.ThroughAndEnd3DCircular\\n    point.throughAndEnd3DCircular.axisCount = 3\\n    point.throughAndEnd3DCircular.SetAxis(0, 0)\\n    point.throughAndEnd3DCircular.SetAxis(1, 1)\\n    point.throughAndEnd3DCircular.SetAxis(2, 2)\\n    point.throughAndEnd3DCircular.SetThroughPos(0, 70.71)\\n    point.throughAndEnd3DCircular.SetThroughPos(1, 29.29)\\n    point.throughAndEnd3DCircular.SetThroughPos(2, 0)\\n    point.throughAndEnd3DCircular.SetEndPos(0, 100)\\n    point.throughAndEnd3DCircular.SetEndPos(1, 100)\\n    point.throughAndEnd3DCircular.SetEndPos(2, 0)\\n    point.throughAndEnd3DCircular.auxiliaryAxisCount = 1\\n    point.throughAndEnd3DCircular.SetAuxiliaryAxis(0, 3)\\n    point.throughAndEnd3DCircular.SetAuxiliaryTarget(0, 50)\\n    path.SetPoint(0, point)\\n\\n    point = AdvMotion_PathIntplLookaheadCommandPoint()\\n    point.type = AdvMotion_PathIntplLookaheadSegmentType.ThroughAndEnd3DCircular\\n    point.throughAndEnd3DCircular.axisCount = 3\\n    point.throughAndEnd3DCircular.SetAxis(0, 0)\\n    point.throughAndEnd3DCircular.SetAxis(1, 1)\\n    point.throughAndEnd3DCircular.SetAxis(2, 2)\\n    point.throughAndEnd3DCircular.SetThroughPos(0, 29.29)\\n    point.throughAndEnd3DCircular.SetThroughPos(1, 70.71)\\n    point.throughAndEnd3DCircular.SetThroughPos(2, 0)\\n    point.throughAndEnd3DCircular.SetEndPos(0, 0)\\n    point.throughAndEnd3DCircular.SetEndPos(1, 0)\\n    point.throughAndEnd3DCircular.SetEndPos(2, 0)\\n    point.throughAndEnd3DCircular.auxiliaryAxisCount = 1\\n    point.throughAndEnd3DCircular.SetAuxiliaryAxis(0, 3)\\n    point.throughAndEnd3DCircular.SetAuxiliaryTarget(0, 100)\\n    path.SetPoint(1, point)\\n\\n    ret = Wmx3Lib_adv.advMotion.AddPathIntplLookaheadCommand(0, path)\\n    if ret != 0:\\n        print('AddPathIntplLookaheadCommand error code is ' + str(ret) + ': ' + Wmx3Lib_adv.ErrorToString(ret))\\n        return\\n\\n    # Start path interpolation with look ahead\\n    ret = Wmx3Lib_adv.advMotion.StartPathIntplLookahead(0)\\n    if ret != 0:\\n        print('StartPathIntplLookahead error code is ' + str(ret) + ': ' + Wmx3Lib_adv.ErrorToString(ret))\\n        return\\n\\n    # Wait for the path interpolation with look ahead to complete\\n    Wmx3Lib_cm.motion.Wait(0)\\n    timeoutCounter = 0\\n    # Wait until the path interpolation with look ahead is in Stopped state\\n    ret, pathStatus = Wmx3Lib_adv.advMotion.GetPathIntplLookaheadStatus(0)\\n    while True:\\n        if (pathStatus.state != AdvMotion_PathIntplLookaheadState.Stopped):\\n            break\\n        sleep(0.1)\\n        timeoutCounter = timeoutCounter + 1\\n        if (timeoutCounter > 500):\\n            break\\n        ret, pathStatus = Wmx3Lib_adv.advMotion.GetPathIntplLookaheadStatus(0)\\n    if (timeoutCounter > 500):\\n        print('PathIntplLookahead Runuing timeout.!')\\n        return\\n    # Free the path interpolation with look ahead buffer (normally, the buffer should only be freed at the end of the application)\\n    ret = Wmx3Lib_adv.advMotion.FreePathIntplLookaheadBuffer(0)\\n    if ret != 0:\\n        print('FreePathIntplLookaheadBuffer error code is ' + str(ret) + ': ' + Wmx3Lib_adv.ErrorToString(ret))\\n        return\\n    \\n\\n\\n#\", metadata={'source': './docs/WMX3API_MCEval_Samplecodes.txt', 'start_index': 217863})]"
      ]
     },
     "execution_count": 6,
     "metadata": {},
     "output_type": "execute_result"
    }
   ],
   "source": [
    "\n",
    "retriever = vectorstore.as_retriever(search_type=\"similarity\", search_kwargs={\"k\": 4})\n",
    "\n",
    "retrieved_docs = retriever.invoke(\"Execute path interpolation with look ahead of Axis 0, 1 and 2 \")\n",
    "retrieved_docs"
   ]
  }
 ],
 "metadata": {
  "kernelspec": {
   "display_name": "rag-demo-IMu3vKF7-py3.10",
   "language": "python",
   "name": "python3"
  },
  "language_info": {
   "codemirror_mode": {
    "name": "ipython",
    "version": 3
   },
   "file_extension": ".py",
   "mimetype": "text/x-python",
   "name": "python",
   "nbconvert_exporter": "python",
   "pygments_lexer": "ipython3",
   "version": "3.11.7"
  }
 },
 "nbformat": 4,
 "nbformat_minor": 2
}
