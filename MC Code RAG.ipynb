{
 "cells": [
  {
   "cell_type": "markdown",
   "metadata": {},
   "source": [
    "# MC Code RAG\n"
   ]
  },
  {
   "cell_type": "markdown",
   "metadata": {},
   "source": [
    "## Setup\n"
   ]
  },
  {
   "cell_type": "markdown",
   "metadata": {},
   "source": [
    "### Hyper parameters\n"
   ]
  },
  {
   "cell_type": "code",
   "execution_count": null,
   "metadata": {},
   "outputs": [],
   "source": [
    "# p1=0  #Parameter 1 \n"
   ]
  },
  {
   "cell_type": "markdown",
   "metadata": {},
   "source": [
    "### Dependencies\n"
   ]
  },
  {
   "cell_type": "code",
   "execution_count": null,
   "metadata": {},
   "outputs": [],
   "source": [
    "# %pip install --upgrade --quiet  langchain langchain-community langchainhub langchain-openai chromadb bs4 python-dotenv"
   ]
  },
  {
   "cell_type": "markdown",
   "metadata": {},
   "source": [
    "### Key from .env\n"
   ]
  },
  {
   "cell_type": "code",
   "execution_count": 31,
   "metadata": {},
   "outputs": [
    {
     "data": {
      "text/plain": [
       "True"
      ]
     },
     "execution_count": 31,
     "metadata": {},
     "output_type": "execute_result"
    }
   ],
   "source": [
    "import os\n",
    "from dotenv import load_dotenv,find_dotenv\n",
    "\n",
    "# Use this line of code if you have a local .env file\n",
    "load_dotenv(find_dotenv()) \n",
    "\n",
    "# Or set it like this\n",
    "# os.environ[\"OPENAI_API_KEY\"] = \"sk-...\"\n",
    "\n",
    "# Print this line to double check your API key\n",
    "# print(os.environ[\"OPENAI_API_KEY\"])"
   ]
  },
  {
   "cell_type": "markdown",
   "metadata": {},
   "source": [
    "### LangSmith(enabled by default)\n"
   ]
  },
  {
   "cell_type": "code",
   "execution_count": 32,
   "metadata": {},
   "outputs": [
    {
     "name": "stdout",
     "output_type": "stream",
     "text": [
      "\n"
     ]
    }
   ],
   "source": [
    "# Store all the keys in .env\n",
    "import getpass\n",
    "os.environ[\"LANGCHAIN_TRACING_V2\"] = \"true\"\n",
    "os.environ[\"LANGCHAIN_API_KEY\"] = os.environ[\"LANGCHAIN_API_KEY\"] #getpass.getpass()\n",
    "print(os.environ[\"LANGCHAIN_API_KEY\"])"
   ]
  },
  {
   "cell_type": "markdown",
   "metadata": {},
   "source": [
    "### Import from\n"
   ]
  },
  {
   "cell_type": "code",
   "execution_count": 33,
   "metadata": {},
   "outputs": [],
   "source": [
    "import bs4\n",
    "from langchain import hub\n",
    "from langchain_community.document_loaders import WebBaseLoader, TextLoader, PyPDFLoader, PyPDFium2Loader\n",
    "from langchain_community.vectorstores import Chroma\n",
    "from langchain_core.output_parsers import StrOutputParser\n",
    "from langchain_core.runnables import RunnablePassthrough\n",
    "from langchain_openai import ChatOpenAI, OpenAIEmbeddings\n",
    "from langchain_text_splitters import RecursiveCharacterTextSplitter\n",
    "from langchain_core.prompts import PromptTemplate\n",
    "from langchain_core.documents import Document"
   ]
  },
  {
   "cell_type": "markdown",
   "metadata": {},
   "source": [
    "### Load File\n"
   ]
  },
  {
   "cell_type": "code",
   "execution_count": null,
   "metadata": {},
   "outputs": [],
   "source": [
    "# Web loader\n",
    "# loader = WebBaseLoader(\n",
    "#     web_paths=(\"https://lilianweng.github.io/posts/2023-06-23-agent/\",),\n",
    "#     bs_kwargs=dict(\n",
    "#         parse_only=bs4.SoupStrainer(\n",
    "#             class_=(\"post-content\", \"post-title\", \"post-header\")\n",
    "#         )\n",
    "#     ),\n",
    "# )\n",
    "# docs = loader.load()"
   ]
  },
  {
   "cell_type": "code",
   "execution_count": 34,
   "metadata": {},
   "outputs": [
    {
     "name": "stdout",
     "output_type": "stream",
     "text": [
      "page_content='No Function C++ Function Python Return\\r\\nType\\r\\nReturn Value Class \\r\\n1 static WMX3APIFUNC ErrorToString(int errCode, wchar_t *pString, unsigned int size); ApiBuffer Class \\r\\n2 static WMX3APIFUNC ApiLogToString(unsigned char *pLogData, unsigned int logDataSize, char *pString, unsigned int size); def ApiLogToString(pLogData, logDataSize) string API log string ApiBuffer Class \\r\\n3 static WMX3APIFUNC ApiLogToString(unsigned char *pLogData, unsigned int logDataSize, wchar_t *pString, unsigned int size); ApiBuffer Class \\r\\n4 static WMX3APIFUNC GetLibVersion(int *pMajorVersion, int *pMinorVersion, int *pRevisionVersion, int *pFixVersion); def GetLibVersion() tuple 0 : int - error code ApiBuffer Class \\r\\n5 bool IsDeviceValid(); def IsDeviceValid() bool Whether the device is\\r\\nalive \\r\\nApiBuffer Class \\r\\n6 WMX3APIFUNC GetVersion(int *pMajorVersion, int *pMinorVersion, int *pRevisionVersion, int *pFixVersion); def GetVersion() tuple 0 : int - error code ApiBuffer Class \\r\\n7 WMX3APIFUNC CreateApiBuffer(unsigned int channel, unsigned int size); def CreateApiBuffer(channel, size) int error code ApiBuffer Class \\r\\n8 WMX3APIFUNC CreateApiBuffer(unsigned int channel); def CreateApiBuffer(channel) int error code ApiBuffer Class \\r\\n9 WMX3APIFUNC CreateApiBuffer(unsigned int channel, unsigned int size, SizeUnit::T sizeUnit); def CreateApiBuffer(channel, size, sizeUnit) int error code ApiBuffer Class \\r\\n10 WMX3APIFUNC FreeApiBuffer(unsigned int channel); def FreeApiBuffer(channel) int error code ApiBuffer Class \\r\\n11 WMX3APIFUNC StartRecordBufferChannel(unsigned int channel); def StartRecordBufferChannel(channel) int error code ApiBuffer Class \\r\\n12 WMX3APIFUNC EndRecordBufferChannel(); def EndRecordBufferChannel() int error code ApiBuffer Class \\r\\n13 WMX3APIFUNC GetRecordingBufferChannel(int* channel, unsigned char* enable); def GetRecordingBufferChannel() tuple 0 : int - error code ApiBuffer Class \\r\\n14 WMX3APIFUNC Execute(unsigned int channel); def Execute(channel) int error code ApiBuffer Class \\r\\n15 WMX3APIFUNC Halt(unsigned int channel); def Halt(channel) int error code ApiBuffer Class \\r\\n16 WMX3APIFUNC Clear(unsigned int channel); def Clear(channel) int error code ApiBuffer Class \\r\\n17 WMX3APIFUNC Rewind(unsigned int channel); def Rewind(channel) int error code ApiBuffer Class \\r\\n18 WMX3APIFUNC GetStatus(unsigned int channel, ApiBufferStatus* pStatus); def GetStatus(channel) tuple 0 : int - error code ApiBuffer Class \\r\\n19 WMX3APIFUNC SetOptions(unsigned int channel, ApiBufferOptions *pOptions); def SetOptions(channel, pOptions) int error code ApiBuffer Class \\r\\n20 WMX3APIFUNC GetOptions(unsigned int channel, ApiBufferOptions *pOptions); def GetOptions(channel) tuple 0 : int - error code ApiBuffer Class \\r\\n21 WMX3APIFUNC SetWatch(unsigned int channel, ApiBufferWatch *pWatch); def SetWatch(channel, pWatch) int error code ApiBuffer Class \\r\\n22 WMX3APIFUNC GetWatch(unsigned int channel, ApiBufferWatch *pWatch); def GetWatch(channel) tuple 0 : int - error code ApiBuffer Class \\r\\n23 WMX3APIFUNC Sleep(unsigned int milliseconds); def Sleep(milliseconds) int error code ApiBuffer Class \\r\\n24 WMX3APIFUNC Wait(int axis); def Wait(int axis) int error code ApiBuffer Class \\r\\n25 WMX3APIFUNC Wait(AxisSelection *pAxisSelection); def Wait_AxisSel(pAxisSelection) int error code ApiBuffer Class \\r\\n26 WMX3APIFUNC Wait(ApiBufferCondition* condition); def Wait_ApiBufferCondition(condition) int error code ApiBuffer Class \\r\\n27 WMX3APIFUNC FlowIf(ApiBufferCondition* condition, ApiBufferCondition* wait = NULL); def FlowIf(condition) int error code ApiBuffer Class \\r\\n28 WMX3APIFUNC FlowElseIf(ApiBufferCondition* condition); def FlowElseIf(condition) int error code ApiBuffer Class \\r\\n29 WMX3APIFUNC FlowElse(); def FlowElse() int error code ApiBuffer Class \\r\\n30 WMX3APIFUNC FlowEndIf(); def FlowEndIf() int error code ApiBuffer Class \\r\\n31 int GetOutputModuleId(); def GetOutputModuleId() int ID of the module ApiBuffer Class \\r\\n32 WMX3APIFUNC GetOutputData(unsigned char* buff, int buffSize, int* dataSize); def GetOutputData(buff, buffSize, dataSize) int error code ApiBuffer Class \\r\\n33 WMX3APIFUNC SetOutputData(int moduleId, unsigned char* data, int dataSize); def SetOutputData(moduleId, data, dataSize) int error code ApiBuffer Class \\r\\n34 static WMX3APIFUNC ErrorToString(int errCode, char *pString, unsigned int size); def ErrorToString(errCode) string error string Compensation Class \\r\\n35 static WMX3APIFUNC ErrorToString(int errCode, wchar_t *pString, unsigned int size); Compensation Class \\r\\n36 static WMX3APIFUNC ApiLogToString(unsigned char *pLogData, unsigned int logDataSize, char *pString, unsigned int size); def ApiLogToString(pLogData, logDataSize) string API log string Compensation Class \\r\\n37 static WMX3APIFUNC ApiLogToString(unsigned char *pLogData, unsigned int logDataSize, wchar_t *pString, unsigned int size); Compensation Class \\n' metadata={'source': './data/WMX3API c++ to python list -all.pdf', 'page': 0}\n"
     ]
    },
    {
     "name": "stderr",
     "output_type": "stream",
     "text": [
      "/opt/anaconda3/lib/python3.11/site-packages/pypdfium2/_helpers/textpage.py:81: UserWarning: get_text_range() call with default params will be implicitly redirected to get_text_bounded()\n",
      "  warnings.warn(\"get_text_range() call with default params will be implicitly redirected to get_text_bounded()\")\n"
     ]
    }
   ],
   "source": [
    "# Pdf loader\n",
    "file_path = './data/WMX3API c++ to python list -all.pdf'\n",
    "# file_path = 'nais2023.pdf'\n",
    "# loader = PyPDFLoader(file_path)\n",
    "# loader = PyPDFLoader(file_path, extract_images=True)   #extract images as text as well\n",
    "\n",
    "loader = PyPDFium2Loader(file_path,  extract_images=False) \n",
    "# docs = loader.load_and_split()\n",
    "docs = loader.load()\n",
    "print(docs[0])\n"
   ]
  },
  {
   "cell_type": "code",
   "execution_count": 36,
   "metadata": {},
   "outputs": [
    {
     "data": {
      "text/plain": [
       "30"
      ]
     },
     "execution_count": 36,
     "metadata": {},
     "output_type": "execute_result"
    }
   ],
   "source": [
    "len(docs)\n"
   ]
  },
  {
   "cell_type": "code",
   "execution_count": null,
   "metadata": {},
   "outputs": [],
   "source": [
    "# Txt loader\n",
    "# loader = TextLoader(\"WMX3UserManual c.txt\")\n",
    "# docs = loader.load()\n",
    "# docs[0].page_content[:100000]\n",
    "# docs"
   ]
  },
  {
   "cell_type": "markdown",
   "metadata": {},
   "source": [
    "### Chunk\n"
   ]
  },
  {
   "cell_type": "code",
   "execution_count": 37,
   "metadata": {},
   "outputs": [],
   "source": [
    "text_splitter = RecursiveCharacterTextSplitter(chunk_size=1000, chunk_overlap=200, add_start_index=True)\n",
    "splits = text_splitter.split_documents(docs)"
   ]
  },
  {
   "cell_type": "markdown",
   "metadata": {},
   "source": [
    "### Vectorstore - chroma\n"
   ]
  },
  {
   "cell_type": "code",
   "execution_count": 38,
   "metadata": {},
   "outputs": [],
   "source": [
    "embedding_model=OpenAIEmbeddings(model=\"text-embedding-3-large\")   #text-embedding-3-large   #text-embedding-ada-002    #text-embedding-3-small\n",
    "\n",
    "# If txt vectorstore exists\n",
    "# if os.path.exists(\"Vectorstore/chromadb\"):\n",
    "        # vectorstore = Chroma(\n",
    "                #     embedding_function=embedding_model,\n",
    "                #     persist_directory=\"Vectorstore/chromadb\",\n",
    "                #     ) \n",
    "# else:\n",
    "        # Load from chunks and save to disk\n",
    "        # vectorstore = Chroma.from_documents(documents=splits, embedding=embedding_model, persist_directory=\"Vectorstore/chromadb\") \n",
    "\n",
    "# If pdf vectorstore exists\n",
    "# vectorstore_path = \"Vectorstore/chromadb-pdf\"\n",
    "vectorstore_path = \"Vectorstore/chromadb-pdf-chunk1000\"\n",
    " # Load from chunks and save to disk\n",
    "vectorstore = Chroma.from_documents(documents=splits, embedding=embedding_model, persist_directory=vectorstore_path) \n",
    "# if os.path.exists(vectorstore_path):\n",
    "#         vectorstore = Chroma(\n",
    "#                     embedding_function=embedding_model,\n",
    "#                     persist_directory=vectorstore_path,\n",
    "#                     ) \n",
    "# else:\n",
    "#         # Load from chunks and save to disk\n",
    "#         vectorstore = Chroma.from_documents(documents=splits, embedding=embedding_model, persist_directory=vectorstore_path) \n"
   ]
  },
  {
   "cell_type": "code",
   "execution_count": 39,
   "metadata": {},
   "outputs": [],
   "source": [
    "retriever = vectorstore.as_retriever(search_type=\"similarity\", search_kwargs={\"k\": 5})\n"
   ]
  },
  {
   "cell_type": "code",
   "execution_count": 40,
   "metadata": {},
   "outputs": [
    {
     "name": "stderr",
     "output_type": "stream",
     "text": [
      "--- Logging error ---\n",
      "Traceback (most recent call last):\n",
      "  File \"/opt/anaconda3/lib/python3.11/site-packages/langchain_core/callbacks/manager.py\", line 2004, in _configure\n",
      "    handler = LangChainTracer(project_name=tracer_project)\n",
      "              ^^^^^^^^^^^^^^^^^^^^^^^^^^^^^^^^^^^^^^^^^^^^\n",
      "  File \"/opt/anaconda3/lib/python3.11/site-packages/langchain_core/tracers/langchain.py\", line 91, in __init__\n",
      "    self.client = client or get_client()\n",
      "                            ^^^^^^^^^^^^\n",
      "  File \"/opt/anaconda3/lib/python3.11/site-packages/langchain_core/tracers/langchain.py\", line 54, in get_client\n",
      "    _CLIENT = Client()\n",
      "              ^^^^^^^^\n",
      "  File \"/opt/anaconda3/lib/python3.11/site-packages/langsmith/client.py\", line 485, in __init__\n",
      "    _validate_api_key_if_hosted(self.api_url, self.api_key)\n",
      "  File \"/opt/anaconda3/lib/python3.11/site-packages/langsmith/client.py\", line 274, in _validate_api_key_if_hosted\n",
      "    raise ls_utils.LangSmithUserError(\n",
      "langsmith.utils.LangSmithUserError: API key must be provided when using hosted LangSmith API\n",
      "\n",
      "During handling of the above exception, another exception occurred:\n",
      "\n",
      "Traceback (most recent call last):\n",
      "  File \"/opt/anaconda3/lib/python3.11/logging/__init__.py\", line 1110, in emit\n",
      "    msg = self.format(record)\n",
      "          ^^^^^^^^^^^^^^^^^^^\n",
      "  File \"/opt/anaconda3/lib/python3.11/logging/__init__.py\", line 953, in format\n",
      "    return fmt.format(record)\n",
      "           ^^^^^^^^^^^^^^^^^^\n",
      "  File \"/opt/anaconda3/lib/python3.11/logging/__init__.py\", line 687, in format\n",
      "    record.message = record.getMessage()\n",
      "                     ^^^^^^^^^^^^^^^^^^^\n",
      "  File \"/opt/anaconda3/lib/python3.11/logging/__init__.py\", line 377, in getMessage\n",
      "    msg = msg % self.args\n",
      "          ~~~~^~~~~~~~~~~\n",
      "TypeError: not all arguments converted during string formatting\n",
      "Call stack:\n",
      "  File \"<frozen runpy>\", line 198, in _run_module_as_main\n",
      "  File \"<frozen runpy>\", line 88, in _run_code\n",
      "  File \"/opt/anaconda3/lib/python3.11/site-packages/ipykernel_launcher.py\", line 17, in <module>\n",
      "    app.launch_new_instance()\n",
      "  File \"/opt/anaconda3/lib/python3.11/site-packages/traitlets/config/application.py\", line 992, in launch_instance\n",
      "    app.start()\n",
      "  File \"/opt/anaconda3/lib/python3.11/site-packages/ipykernel/kernelapp.py\", line 701, in start\n",
      "    self.io_loop.start()\n",
      "  File \"/opt/anaconda3/lib/python3.11/site-packages/tornado/platform/asyncio.py\", line 195, in start\n",
      "    self.asyncio_loop.run_forever()\n",
      "  File \"/opt/anaconda3/lib/python3.11/asyncio/base_events.py\", line 607, in run_forever\n",
      "    self._run_once()\n",
      "  File \"/opt/anaconda3/lib/python3.11/asyncio/base_events.py\", line 1922, in _run_once\n",
      "    handle._run()\n",
      "  File \"/opt/anaconda3/lib/python3.11/asyncio/events.py\", line 80, in _run\n",
      "    self._context.run(self._callback, *self._args)\n",
      "  File \"/opt/anaconda3/lib/python3.11/site-packages/ipykernel/kernelbase.py\", line 534, in dispatch_queue\n",
      "    await self.process_one()\n",
      "  File \"/opt/anaconda3/lib/python3.11/site-packages/ipykernel/kernelbase.py\", line 523, in process_one\n",
      "    await dispatch(*args)\n",
      "  File \"/opt/anaconda3/lib/python3.11/site-packages/ipykernel/kernelbase.py\", line 429, in dispatch_shell\n",
      "    await result\n",
      "  File \"/opt/anaconda3/lib/python3.11/site-packages/ipykernel/kernelbase.py\", line 767, in execute_request\n",
      "    reply_content = await reply_content\n",
      "  File \"/opt/anaconda3/lib/python3.11/site-packages/ipykernel/ipkernel.py\", line 429, in do_execute\n",
      "    res = shell.run_cell(\n",
      "  File \"/opt/anaconda3/lib/python3.11/site-packages/ipykernel/zmqshell.py\", line 549, in run_cell\n",
      "    return super().run_cell(*args, **kwargs)\n",
      "  File \"/opt/anaconda3/lib/python3.11/site-packages/IPython/core/interactiveshell.py\", line 3051, in run_cell\n",
      "    result = self._run_cell(\n",
      "  File \"/opt/anaconda3/lib/python3.11/site-packages/IPython/core/interactiveshell.py\", line 3106, in _run_cell\n",
      "    result = runner(coro)\n",
      "  File \"/opt/anaconda3/lib/python3.11/site-packages/IPython/core/async_helpers.py\", line 129, in _pseudo_sync_runner\n",
      "    coro.send(None)\n",
      "  File \"/opt/anaconda3/lib/python3.11/site-packages/IPython/core/interactiveshell.py\", line 3311, in run_cell_async\n",
      "    has_raised = await self.run_ast_nodes(code_ast.body, cell_name,\n",
      "  File \"/opt/anaconda3/lib/python3.11/site-packages/IPython/core/interactiveshell.py\", line 3493, in run_ast_nodes\n",
      "    if await self.run_code(code, result, async_=asy):\n",
      "  File \"/opt/anaconda3/lib/python3.11/site-packages/IPython/core/interactiveshell.py\", line 3553, in run_code\n",
      "    exec(code_obj, self.user_global_ns, self.user_ns)\n",
      "  File \"/var/folders/03/4yvvy5rx6c97ntf957y4f7fw0000gn/T/ipykernel_16404/2047804908.py\", line 1, in <module>\n",
      "    retrieved_docs = retriever.invoke(\"write a code to Move Axis 1 to 20008\")\n",
      "  File \"/opt/anaconda3/lib/python3.11/site-packages/langchain_core/retrievers.py\", line 141, in invoke\n",
      "    return self.get_relevant_documents(\n",
      "  File \"/opt/anaconda3/lib/python3.11/site-packages/langchain_core/retrievers.py\", line 220, in get_relevant_documents\n",
      "    callback_manager = CallbackManager.configure(\n",
      "  File \"/opt/anaconda3/lib/python3.11/site-packages/langchain_core/callbacks/manager.py\", line 1450, in configure\n",
      "    return _configure(\n",
      "  File \"/opt/anaconda3/lib/python3.11/site-packages/langchain_core/callbacks/manager.py\", line 2007, in _configure\n",
      "    logger.warning(\n",
      "Message: 'Unable to load requested LangChainTracer. To disable this warning, unset the LANGCHAIN_TRACING_V2 environment variables.'\n",
      "Arguments: (LangSmithUserError('API key must be provided when using hosted LangSmith API'),)\n"
     ]
    },
    {
     "data": {
      "text/plain": [
       "[Document(page_content='After the above code is executed, the axis will move to position 10000, and then to\\r\\nposition 20000.\\r\\nThe position and velocity plots of the axis during this motion are shown below.\\r\\nGenerated by 1.8.14\\r\\n}\\r\\n//Block execution until motion is finished\\r\\nerr = wmxlib_cm.motion->Wait(0);', metadata={'page': 201, 'source': './data/WMX3UserManual.pdf', 'start_index': 0}),\n",
       " Document(page_content='pos.target = -10000;\\r\\nwmxlib_CoreMotion->motion->StartMov(&pos);\\r\\n//Wait until motion is finished\\r\\nwmxlib_CoreMotion->motion->Wait(0);\\r\\n//Execute motion to move axis forward 10000\\r\\npos.target = 10000;\\r\\nwmxlib_CoreMotion->motion->StartMov(&pos);\\r\\nThe following plots show the position, velocity, and acceleration when the above code is\\r\\nexecuted.', metadata={'page': 1080, 'source': './data/WMX3UserManual.pdf', 'start_index': 0}),\n",
       " Document(page_content='The position and velocity plots of the axis during this motion are shown below.\\r\\nerr = wmxlib_cm.motion->Wait(0);\\r\\n//Execute motion to position 20000\\r\\npos.target = 20000;\\r\\nerr = wmxlib_cm.motion->StartPos(&pos);\\r\\nif (err != ErrorCode::None) {\\r\\n wmxlib_cm.ErrorToString(err, errString, sizeof(errString));\\r\\n printf(\"Failed to execute motion. Error=%d (%s)\\\\n\", err, errString);\\r\\n goto exit;\\r\\n}\\r\\n//Block execution until motion is finished\\r\\nerr = wmxlib_cm.motion->Wait(0);\\r\\n//Execute motion to position 10000\\r\\npos.target = 10000;\\r\\nerr = wmxlib_cm.motion->StartPos(&pos);\\r\\nif (err != ErrorCode::None) {\\r\\n wmxlib_cm.ErrorToString(err, errString, sizeof(errString));\\r\\n printf(\"Failed to execute motion. Error=%d (%s)\\\\n\", err, errString);\\r\\n goto exit;\\r\\n}\\r\\n//Block execution until motion is finished\\r\\nerr = wmxlib_cm.motion->Wait(0);', metadata={'page': 206, 'source': './data/WMX3UserManual.pdf', 'start_index': 0}),\n",
       " Document(page_content='The position and velocity plots of the axis during this motion are shown below.\\r\\nerr = wmxlib_cm.motion->StartMov(&pos);\\r\\nif (err != ErrorCode::None) {\\r\\n wmxlib_cm.ErrorToString(err, errString, sizeof(errString));\\r\\n printf(\"Failed to execute motion. Error=%d (%s)\\\\n\", err, errString);\\r\\n goto exit;\\r\\n}\\r\\n//Block execution until motion is finished\\r\\nerr = wmxlib_cm.motion->Wait(0);\\r\\n//Move the axis to position 4000\\r\\npos.axis = 0;\\r\\npos.profile.type = ProfileType::Trapezoidal;\\r\\npos.profile.velocity = 10000;\\r\\npos.profile.acc = 10000;\\r\\npos.profile.dec = 10000;\\r\\npos.target = 4000;\\r\\nerr = wmxlib_cm.motion->StartPos(&pos);\\r\\nif (err != ErrorCode::None) {\\r\\n wmxlib_cm.ErrorToString(err, errString, sizeof(errString));\\r\\n printf(\"Failed to execute motion. Error=%d (%s)\\\\n\", err, errString);\\r\\n goto exit;\\r\\n}\\r\\n//Block execution until motion is finished\\r\\nerr = wmxlib_cm.motion->Wait(0);', metadata={'page': 228, 'source': './data/WMX3UserManual.pdf', 'start_index': 0}),\n",
       " Document(page_content='wait.axisCount = 1;\\r\\nwait.axis[0] = 0;\\r\\n//Execute motion to move axis forward\\r\\npos.profile.velocity = 10000;\\r\\nwmxlib_CoreMotion->motion->StartPos(&pos);\\r\\n//Execute trigger motion to change axis velocity after the previous command has executed \\r\\ntpos.profile.velocity = 20000;\\r\\nwmxlib_CoreMotion->motion->StartPos(&tpos);\\r\\n//Wait until trigger motion executes\\r\\nwmxlib_CoreMotion->motion->Wait(&wait);\\r\\n//Execute trigger motion to change axis velocity after the previous command has executed \\r\\ntpos.profile.velocity = 30000;\\r\\nwmxlib_CoreMotion->motion->StartPos(&tpos);\\r\\n//Wait until trigger motion executes\\r\\nwmxlib_CoreMotion->motion->Wait(&wait);\\r\\n//Execute trigger motion to change axis velocity after the previous command has executed \\r\\ntpos.profile.velocity = 20000;\\r\\nwmxlib_CoreMotion->motion->StartPos(&tpos);\\r\\n//Wait until trigger motion executes\\r\\nwmxlib_CoreMotion->motion->Wait(&wait);\\r\\n//Execute trigger motion to change axis velocity after the previous command has executed', metadata={'page': 1088, 'source': './data/WMX3UserManual.pdf', 'start_index': 829})]"
      ]
     },
     "execution_count": 40,
     "metadata": {},
     "output_type": "execute_result"
    }
   ],
   "source": [
    "retrieved_docs = retriever.invoke(\"write a code to Move Axis 1 to 20008\")\n",
    "#print(retrieved_docs[0].page_content)\n",
    "retrieved_docs "
   ]
  },
  {
   "cell_type": "markdown",
   "metadata": {},
   "source": [
    "### Vectorstore - pinecone\n"
   ]
  },
  {
   "cell_type": "code",
   "execution_count": null,
   "metadata": {},
   "outputs": [],
   "source": [
    "from langchain_pinecone import PineconeVectorStore\n",
    "index_name = os.environ[\"PINECONE_INDEX_NAME\"]\n"
   ]
  },
  {
   "cell_type": "code",
   "execution_count": null,
   "metadata": {},
   "outputs": [],
   "source": [
    "# PineconeVectorStore.delete(delete_all=True)"
   ]
  },
  {
   "cell_type": "code",
   "execution_count": null,
   "metadata": {},
   "outputs": [],
   "source": [
    "\n",
    "docsearch = PineconeVectorStore.from_documents(splits, embedding_model, index_name=index_name)\n"
   ]
  },
  {
   "cell_type": "code",
   "execution_count": null,
   "metadata": {},
   "outputs": [],
   "source": [
    "docsearch = PineconeVectorStore.from_existing_index(index_name, embedding_model)\n"
   ]
  },
  {
   "cell_type": "code",
   "execution_count": null,
   "metadata": {},
   "outputs": [],
   "source": [
    "query = \"what is the Architecture of wmx3?\"\n",
    "retrieved_docs = docsearch.similarity_search(query,k=8)\n",
    "retrieved_docs"
   ]
  },
  {
   "cell_type": "markdown",
   "metadata": {},
   "source": [
    "### Vectorstore - FAISS"
   ]
  },
  {
   "cell_type": "code",
   "execution_count": null,
   "metadata": {},
   "outputs": [],
   "source": [
    "embedding_model=OpenAIEmbeddings(model=\"text-embedding-3-large\")   \n",
    "\n",
    "from langchain_community.vectorstores import FAISS\n",
    "vectorstore_path = \"Vectorstore/FAISS-pdf-images\"\n",
    "db = FAISS.from_documents(splits, embedding_model) "
   ]
  },
  {
   "cell_type": "code",
   "execution_count": null,
   "metadata": {},
   "outputs": [],
   "source": [
    "db.save_local(folder_path=\"Vectorstore/FAISS-pdf-images\", index_name=\"myFaissIndex\")"
   ]
  },
  {
   "cell_type": "code",
   "execution_count": null,
   "metadata": {},
   "outputs": [],
   "source": [
    "db = FAISS.load_local(folder_path=\"Vectorstore/FAISS-pdf-images\",embeddings=embedding_model,index_name=\"myFaissIndex\")"
   ]
  },
  {
   "cell_type": "code",
   "execution_count": null,
   "metadata": {},
   "outputs": [],
   "source": [
    "query = \"What did the president say about Ketanji Brown Jackson\"\n",
    "docs = db.similarity_search(query)\n",
    "docs"
   ]
  },
  {
   "cell_type": "markdown",
   "metadata": {},
   "source": [
    "### Vectorstore - pathway"
   ]
  },
  {
   "cell_type": "markdown",
   "metadata": {},
   "source": [
    "### serve Maximum marginal relevance search (MMR) Similarity search by vector ..."
   ]
  },
  {
   "cell_type": "code",
   "execution_count": null,
   "metadata": {},
   "outputs": [],
   "source": [
    "from langchain_community.vectorstores import Qdrant\n",
    "qdrant = Qdrant.from_documents(\n",
    "    splits,\n",
    "    embedding_model,\n",
    "    path=\"Vectorstore/Qdrant-pdf-images\",  # Local mode with in-memory storage only\n",
    "    collection_name=\"my_documents\",\n",
    ")"
   ]
  },
  {
   "cell_type": "markdown",
   "metadata": {},
   "source": []
  },
  {
   "cell_type": "markdown",
   "metadata": {},
   "source": [
    "### Prompt template\n"
   ]
  },
  {
   "cell_type": "code",
   "execution_count": null,
   "metadata": {},
   "outputs": [],
   "source": [
    "template = \"\"\"Use the following pieces of context to answer the question at the end.\n",
    "If you don't know the answer, just say that you don't know, don't try to make up an answer.\n",
    "\n",
    "{context}\n",
    "\n",
    "Question: {question}\n",
    "\n",
    "Helpful Answer:\"\"\"\n",
    "\n",
    "\n",
    "custom_rag_prompt = PromptTemplate.from_template(template)\n"
   ]
  },
  {
   "cell_type": "code",
   "execution_count": null,
   "metadata": {},
   "outputs": [],
   "source": [
    "custom_rag_prompt = hub.pull(\"rlm/rag-prompt\")"
   ]
  },
  {
   "cell_type": "markdown",
   "metadata": {},
   "source": [
    "### Rag chain\n"
   ]
  },
  {
   "cell_type": "code",
   "execution_count": null,
   "metadata": {},
   "outputs": [],
   "source": [
    "llm = ChatOpenAI(model_name=\"gpt-3.5-turbo\", temperature=0.1)   #gpt-4  #gpt-3.5-turbo\n",
    "\n",
    "def format_docs(docs):\n",
    "    return \"\\n\\n\".join(doc.page_content for doc in docs)\n",
    "    \n",
    "\n",
    "rag_chain = (\n",
    "    {\"context\": retriever | format_docs, \"question\": RunnablePassthrough()}\n",
    "    | custom_rag_prompt\n",
    "    | llm\n",
    "    | StrOutputParser()\n",
    ")\n"
   ]
  },
  {
   "cell_type": "code",
   "execution_count": null,
   "metadata": {},
   "outputs": [],
   "source": [
    "format_docs\n"
   ]
  },
  {
   "cell_type": "code",
   "execution_count": null,
   "metadata": {},
   "outputs": [],
   "source": [
    "\n",
    "rag_chain.invoke(\"write an example code to close wmx3?\")"
   ]
  },
  {
   "cell_type": "code",
   "execution_count": null,
   "metadata": {},
   "outputs": [],
   "source": [
    "for chunk in rag_chain.stream(\"write a sample code to initialize wmx3?\"): \n",
    "    print(chunk, end=\"\", flush=True)"
   ]
  },
  {
   "cell_type": "markdown",
   "metadata": {},
   "source": []
  }
 ],
 "metadata": {
  "kernelspec": {
   "display_name": "rag-demo-IMu3vKF7-py3.10",
   "language": "python",
   "name": "python3"
  },
  "language_info": {
   "codemirror_mode": {
    "name": "ipython",
    "version": 3
   },
   "file_extension": ".py",
   "mimetype": "text/x-python",
   "name": "python",
   "nbconvert_exporter": "python",
   "pygments_lexer": "ipython3",
   "version": "3.11.7"
  }
 },
 "nbformat": 4,
 "nbformat_minor": 2
}
