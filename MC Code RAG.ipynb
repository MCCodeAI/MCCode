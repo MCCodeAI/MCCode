{
 "cells": [
  {
   "cell_type": "markdown",
   "metadata": {},
   "source": [
    "# MC Code RAG Workshop\n"
   ]
  },
  {
   "cell_type": "markdown",
   "metadata": {},
   "source": [
    "Generate vector base and test RAG."
   ]
  },
  {
   "cell_type": "markdown",
   "metadata": {},
   "source": [
    "## Setup\n"
   ]
  },
  {
   "cell_type": "markdown",
   "metadata": {},
   "source": [
    "### Hyper parameters\n"
   ]
  },
  {
   "cell_type": "code",
   "execution_count": null,
   "metadata": {},
   "outputs": [],
   "source": [
    "# p1=0  #Parameter 1 \n"
   ]
  },
  {
   "cell_type": "markdown",
   "metadata": {},
   "source": [
    "### Dependencies\n"
   ]
  },
  {
   "cell_type": "code",
   "execution_count": null,
   "metadata": {},
   "outputs": [],
   "source": [
    "# %pip install --upgrade --quiet  langchain langchain-community langchainhub langchain-openai chromadb bs4 python-dotenv"
   ]
  },
  {
   "cell_type": "markdown",
   "metadata": {},
   "source": [
    "### Key from .env\n"
   ]
  },
  {
   "cell_type": "code",
   "execution_count": 1,
   "metadata": {},
   "outputs": [
    {
     "data": {
      "text/plain": [
       "True"
      ]
     },
     "execution_count": 1,
     "metadata": {},
     "output_type": "execute_result"
    }
   ],
   "source": [
    "import os\n",
    "from dotenv import load_dotenv,find_dotenv\n",
    "\n",
    "# Use this line of code if you have a local .env file\n",
    "load_dotenv(find_dotenv()) \n",
    "\n",
    "# Or set it like this\n",
    "# os.environ[\"OPENAI_API_KEY\"] = \"sk-...\"\n",
    "\n",
    "# Print this line to double check your API key\n",
    "# print(os.environ[\"OPENAI_API_KEY\"])"
   ]
  },
  {
   "cell_type": "markdown",
   "metadata": {},
   "source": [
    "### LangSmith(enabled by default)\n"
   ]
  },
  {
   "cell_type": "code",
   "execution_count": 2,
   "metadata": {},
   "outputs": [
    {
     "name": "stdout",
     "output_type": "stream",
     "text": [
      "ls__7cb2a18f629e4c10b5a34d49223fba88\n"
     ]
    }
   ],
   "source": [
    "# Store all the keys in .env\n",
    "import getpass\n",
    "os.environ[\"LANGCHAIN_TRACING_V2\"] = \"true\"\n",
    "os.environ[\"LANGCHAIN_API_KEY\"] = os.environ[\"LANGCHAIN_API_KEY\"] #getpass.getpass()\n",
    "print(os.environ[\"LANGCHAIN_API_KEY\"])"
   ]
  },
  {
   "cell_type": "markdown",
   "metadata": {},
   "source": [
    "### Import from\n"
   ]
  },
  {
   "cell_type": "code",
   "execution_count": 3,
   "metadata": {},
   "outputs": [],
   "source": [
    "import bs4\n",
    "from langchain import hub\n",
    "from langchain_community.document_loaders import WebBaseLoader, TextLoader, PyPDFLoader, PyPDFium2Loader\n",
    "from langchain_community.vectorstores import Chroma\n",
    "from langchain_core.output_parsers import StrOutputParser\n",
    "from langchain_core.runnables import RunnablePassthrough\n",
    "from langchain_openai import ChatOpenAI, OpenAIEmbeddings\n",
    "from langchain_text_splitters import RecursiveCharacterTextSplitter\n",
    "from langchain_core.prompts import PromptTemplate\n",
    "from langchain_core.documents import Document"
   ]
  },
  {
   "cell_type": "markdown",
   "metadata": {},
   "source": [
    "### Load File\n"
   ]
  },
  {
   "cell_type": "code",
   "execution_count": null,
   "metadata": {},
   "outputs": [],
   "source": [
    "# Web loader\n",
    "# loader = WebBaseLoader(\n",
    "#     web_paths=(\"https://lilianweng.github.io/posts/2023-06-23-agent/\",),\n",
    "#     bs_kwargs=dict(\n",
    "#         parse_only=bs4.SoupStrainer(\n",
    "#             class_=(\"post-content\", \"post-title\", \"post-header\")\n",
    "#         )\n",
    "#     ),\n",
    "# )\n",
    "# docs = loader.load()"
   ]
  },
  {
   "cell_type": "code",
   "execution_count": null,
   "metadata": {},
   "outputs": [],
   "source": [
    "# Pdf loader\n",
    "file_path = './docs/WMX3SampleCodes.pdf'\n",
    "# file_path = 'nais2023.pdf'\n",
    "# loader = PyPDFLoader(file_path)\n",
    "# loader = PyPDFLoader(file_path, extract_images=True)   #extract images as text as well\n",
    "\n",
    "loader = PyPDFium2Loader(file_path,  extract_images=False) \n",
    "# docs = loader.load_and_split()\n",
    "docs = loader.load()\n",
    "print(docs[0])\n"
   ]
  },
  {
   "cell_type": "code",
   "execution_count": null,
   "metadata": {},
   "outputs": [],
   "source": []
  },
  {
   "cell_type": "code",
   "execution_count": null,
   "metadata": {},
   "outputs": [],
   "source": [
    "len(docs)\n"
   ]
  },
  {
   "cell_type": "code",
   "execution_count": 4,
   "metadata": {},
   "outputs": [
    {
     "data": {
      "text/plain": [
       "[Document(page_content=' \\n\"\"\"#####PYTHON SAMPLE CODE#####\\nThis is a typical python code of WMX3 from initialization, through motion execution, to termination/closing/shutting down. The Python script initializes and operates a motion control system using the WMX3 software library, sequentially executing steps for robust control in an industrial setting. It starts by creating and naming a device with \\'CreateDevice(\\'C:\\\\\\\\Program Files\\\\\\\\SoftServo\\\\\\\\WMX3\\\\\\\\\\', DeviceType.DeviceTypeNormal, INFINITE)\\' and \\'SetDeviceName(\\'WMX3initTest\\')\\', then begins communication with \\'StartCommunication(INFINITE)\\'. The script clears any amplifier alarms with \\'ClearAmpAlarm(axis)\\' and activates the servo with \\'SetServoOn(axis, 1)\\'. It executes a motion command using \\'StartMov(posCommand)\\' and concludes by shutting down the servo and stopping communication with \\'SetServoOn(axis, 0)\\' and \\'StopCommunication(INFINITE)\\'. This structured approach ensures each component is correctly set up and terminated, ensuring safe and effective system operations.\\n\"\"\"\\n#WMX3 python library\\nfrom WMX3ApiPython import *\\nfrom time import *\\n\\nINFINITE = int(0xFFFFFFFF)\\n\\ndef main():\\n    Wmx3Lib = WMX3Api()\\n    CmStatus = CoreMotionStatus()\\n    Wmx3Lib_cm = CoreMotion(Wmx3Lib)\\n    ret = 0\\n    print(\\'Program begin.\\')\\n    sleep(1)\\n\\n    # Create devices.\\n    Wmx3Lib.CreateDevice(\\'C:\\\\\\\\Program Files\\\\\\\\SoftServo\\\\\\\\WMX3\\', DeviceType.DeviceTypeNormal, INFINITE)\\n\\n    # Set Device Name.\\n    Wmx3Lib.SetDeviceName(\\'WMX3initTest\\')\\n\\n    # Start Communication.\\n    ret = Wmx3Lib.StartCommunication(INFINITE)\\n    if ret!=0:\\n        print(\\'start communicaiton fail!\\')\\n        return 0\\n\\n    #Clear every servo/motor/amplifier\\'s alarm\\n    timeoutCounter=0\\n    while True:\\n        # GetStatus -> First return value : Error code, Second return value: CoreMotionStatus\\n        ret, CmStatus = Wmx3Lib_cm.GetStatus()\\n        if (not CmStatus.GetAxesStatus(0).ampAlarm):\\n            break\\n        Wmx3Lib_cm.axisControl.ClearAmpAlarm(0)\\n        sleep(0.5)\\n        timeoutCounter=timeoutCounter+1\\n        if(timeoutCounter > 5):\\n            break\\n    if(timeoutCounter > 5):\\n        print(\\'clear axis alarm fails!\\')\\n        return 0\\n\\n    # Set servo on.\\n    Wmx3Lib_cm.axisControl.SetServoOn(0, 1)\\n    while True:\\n        # GetStatus -> First return value : Error code, Second return value: CoreMotionStatus\\n        ret, CmStatus = Wmx3Lib_cm.GetStatus()\\n        if (CmStatus.GetAxesStatus(0).servoOn):\\n            break\\n        sleep(0.1)\\n\\n    #Sleep is a must between SetServoOn and Homing\\n    sleep(0.1) \\n    # Homing\\n    homeParam = Config_HomeParam()\\n    ret, homeParam = Wmx3Lib_cm.config.GetHomeParam(0)\\n    homeParam.homeType = Config_HomeType.CurrentPos\\n\\n    # SetHomeParam -> First return value: Error code, Second return value: param error\\n    ret, homeParamError = Wmx3Lib_cm.config.SetHomeParam(0, homeParam)\\n\\n    Wmx3Lib_cm.home.StartHome(0)\\n    Wmx3Lib_cm.motion.Wait(0)\\n\\n    \\n    # Create a command value.\\n    \\n    posCommand = Motion_PosCommand()\\n    posCommand.profile.type = ProfileType.Trapezoidal\\n    posCommand.axis = 0\\n    posCommand.target = 1000\\n    posCommand.profile.velocity = 1000\\n    posCommand.profile.acc = 1000000\\n    posCommand.profile.dec = 1000000\\n\\n    \\n    # Execute command to move from current position to specified absolute position.\\n    \\n    Wmx3Lib_cm.motion.StartPos(posCommand)\\n\\n    \\n    # Wait until the axis moves to the target position and stops.\\n    \\n    Wmx3Lib_cm.motion.Wait(0)\\n\\n    # Set servo off.\\n    Wmx3Lib_cm.axisControl.SetServoOn(0, 0)\\n    while True:\\n        ret, CmStatus = Wmx3Lib_cm.GetStatus()\\n        if (not CmStatus.GetAxesStatus(0).servoOn):\\n            break\\n        sleep(0.1)\\n\\n    # ----------------------\\n    # Stop Communication.\\n    # ----------------------\\n    Wmx3Lib.StopCommunication(INFINITE)\\n\\n    # Close Device.\\n    Wmx3Lib.CloseDevice()\\n\\n    print(\\'Program End.\\')\\n    sleep(1)\\n    return 0\\n\\nif __name__ == \\'__main__\\':\\n    main()\\n#End``\\n\\n\"\"\"#####PYTHON SAMPLE CODE#####\\nThis is a typical python code of WMX3 for a axis/servo/motor to move or do positioning. \\n\"\"\"\\nWmx3Lib = WMX3Api()\\nCmStatus = CoreMotionStatus()\\nWmx3Lib_cm = CoreMotion(Wmx3Lib)\\n\\n# Create a command value.\\nposCommand = Motion_PosCommand()\\nposCommand.profile.type = ProfileType.Trapezoidal\\nposCommand.axis = 0\\nposCommand.target = 1000\\nposCommand.profile.velocity = 1000\\nposCommand.profile.acc = 1000000\\nposCommand.profile.dec = 1000000\\n\\n# Execute command to move to a specified absolute position. e.g. \\'Move to Position 100..\\'\\nWmx3Lib_cm.motion.StartPos(posCommand)\\n\\n# Execute command to move from current position to a specified distance relatively. e.g. \\'Move 100..\\'\\nWmx3Lib_cm.motion.StartMov(posCommand)\\n\\n# Wait until the axis moves to the target position and stops.\\nWmx3Lib_cm.motion.Wait(0)\\n#End``\\n\\n\"\"\"#####PYTHON SAMPLE CODE#####\\nThis is a typical python code of WMX3 for a jog motion of a servo/motor/axis. \\n\"\"\"\\nWmx3Lib = WMX3Api()\\nCmStatus = CoreMotionStatus()\\nWmx3Lib_cm = CoreMotion(Wmx3Lib)\\n\\njogCommand = Motion_JogCommand()\\njogCommand.profile.type = ProfileType.Trapezoidal\\njogCommand.axis = 0\\njogCommand.profile.velocity = 1000\\njogCommand.profile.acc = 100000\\njogCommand.profile.dec = 100000\\n\\n# Rotate the motor at the specified speed.\\nret =Wmx3Lib_cm.motion.StartJog(jogCommand)\\nprint(ret)\\n\\n#Jogging for 3 seconds\\nsleep(3)\\n \\nWmx3Lib_cm.motion.Stop(0)\\n#End``\\n\\n\"\"\"#####PYTHON SAMPLE CODE#####\\nThis is a typical python code of WMX3 to start an absolute position path interpolation motion command. This motion combines line interpolation and circular interpolation in one path, usually for continuous trajectory.\\n\"\"\"\\nWmx3Lib = WMX3Api()\\nCmStatus = CoreMotionStatus()\\nWmx3Lib_cm = CoreMotion(Wmx3Lib)\\nadv = AdvancedMotion(Wmx3Lib)\\npath = AdvMotion_PathIntplCommand()\\n\\npath.SetAxis(0, 0)\\npath.SetAxis(1, 1)\\n\\npath.enableConstProfile = 1\\n\\npath.profile = Profile()\\npath.profile.type = ProfileType.Trapezoidal\\npath.profile.velocity = 1000\\npath.profile.acc = 100000\\npath.profile.dec = 100000\\n\\npath.numPoints = 8\\n\\npath.SetType(0, AdvMotion_PathIntplSegmentType.Linear)\\n\\npath.SetTarget(0, 0, -200)\\npath.SetTarget(1, 0, -200)\\n\\npath.SetType(1, AdvMotion_PathIntplSegmentType.Circular)\\npath.SetTarget(0, 1, -150)\\npath.SetTarget(1, 1, -200)\\npath.SetCenterPos(0, 1, 0)\\npath.SetCenterPos(1, 1, 0)\\npath.SetDirection(1, 1)\\n\\npath.SetType(2, AdvMotion_PathIntplSegmentType.Linear)\\npath.SetTarget(0, 2, -180)\\npath.SetTarget(1, 2, -10)\\n\\npath.SetType(3, AdvMotion_PathIntplSegmentType.Circular)\\npath.SetTarget(0, 3, -10)\\npath.SetTarget(1, 3, -150)\\npath.SetCenterPos(0, 3, 0)\\npath.SetCenterPos(1, 3, 0)\\npath.SetDirection(3, 1)\\n\\npath.SetType(4, AdvMotion_PathIntplSegmentType.Linear)\\npath.SetTarget(0, 4, 0)\\npath.SetTarget(1, 4, -100)\\n\\npath.SetType(5, AdvMotion_PathIntplSegmentType.Circular)\\npath.SetTarget(0, 5, -50)\\npath.SetTarget(1, 5, -100)\\npath.SetCenterPos(0, 5, 0)\\npath.SetCenterPos(1, 5, 0)\\npath.SetDirection(5, 1)\\n\\npath.SetType(6, AdvMotion_PathIntplSegmentType.Linear)\\npath.SetTarget(0, 6, -50)\\npath.SetTarget(1, 6, 50)\\n\\npath.SetType(7, AdvMotion_PathIntplSegmentType.Circular)\\npath.SetTarget(0, 7, 0)\\npath.SetTarget(1, 7, 0)\\npath.SetCenterPos(0, 7, 0)\\npath.SetCenterPos(1, 7, 0)\\npath.SetDirection(7, 1)\\n\\nret = adv.advMotion.StartPathIntplPos(path)\\nprint(ret)\\nWmx3Lib_cm.motion.Wait(0)\\n#End``\\n \\n\"\"\"#####PYTHON SAMPLE CODE#####\\nThis is a typical python code of WMX3 IO to set an output bit to be 1, sleep for 1.8 seconds, and then set it to be 0.\\n\"\"\"\\nWmx3Lib = WMX3Api()\\nCmStatus = CoreMotionStatus()\\nWmx3Lib_cm = CoreMotion(Wmx3Lib)\\nWmx3Lib_Io = Io(Wmx3Lib)\\nWmx3Lib_Io.SetOutBit(0x0, 0x00, 0x01)\\nsleep(1.8)\\nWmx3Lib_Io.SetOutBit(0x0, 0x00, 0x00)\\n#End``\\n\\n\"\"\"#####PYTHON SAMPLE CODE#####\\nThis is a typical python code of WMX3 to start Start a absolute or relative position linear interpolation motion command.\\n\"\"\"\\nWmx3Lib = WMX3Api()\\nCmStatus = CoreMotionStatus()\\nWmx3Lib_cm = CoreMotion(Wmx3Lib)\\n\\nlin = Motion_LinearIntplCommand()\\nlin.axisCount = 2 \\nlin.SetAxis(0,0)\\nlin.SetAxis(1,1) \\n\\nlin.profile.type = ProfileType.Trapezoidal\\nlin.profile.velocity = 1000\\nlin.profile.acc = 10000\\nlin.profile.dec = 10000\\n\\nlin.SetTarget(0,30000)\\nlin.target(1,10000)\\n\\n# Start an absolute position linear interpolation motion command.\\nret =Wmx3Lib_cm.motion.StartLinearIntplPos(lin)\\nWmx3Lib_cm.motion.Wait(0) #need to wait the Axis 0 to be idle\\n \\n# Start an relative position linear interpolation motion command.\\nret =Wmx3Lib_cm.motion.StartLinearIntplMov(lin)\\nWmx3Lib_cm.motion.Wait(0) #need to wait the Axis 0 to be idle\\n#End``', metadata={'source': './docs/WMX3SampleCodes.py'})]"
      ]
     },
     "execution_count": 4,
     "metadata": {},
     "output_type": "execute_result"
    }
   ],
   "source": [
    "# Txt loader\n",
    "loader = TextLoader(\"./docs/WMX3SampleCodes.py\")\n",
    "docs = loader.load()\n",
    "# docs[0].page_content[:100000]\n",
    "docs"
   ]
  },
  {
   "cell_type": "markdown",
   "metadata": {},
   "source": [
    "### Chunk\n"
   ]
  },
  {
   "cell_type": "code",
   "execution_count": 5,
   "metadata": {},
   "outputs": [],
   "source": [
    "separators = ['``']  # Adjust based on actual document structure\n",
    "text_splitter = RecursiveCharacterTextSplitter(separators=separators, keep_separator=True, chunk_size=1000, chunk_overlap=200, add_start_index=True)\n",
    "splits = text_splitter.split_documents(docs)"
   ]
  },
  {
   "cell_type": "code",
   "execution_count": 6,
   "metadata": {},
   "outputs": [
    {
     "data": {
      "text/plain": [
       "Document(page_content='``\\n\\n\"\"\"#####PYTHON SAMPLE CODE#####\\nThis is a typical python code of WMX3 for a axis/servo/motor to move or do positioning. \\n\"\"\"\\nWmx3Lib = WMX3Api()\\nCmStatus = CoreMotionStatus()\\nWmx3Lib_cm = CoreMotion(Wmx3Lib)\\n\\n# Create a command value.\\nposCommand = Motion_PosCommand()\\nposCommand.profile.type = ProfileType.Trapezoidal\\nposCommand.axis = 0\\nposCommand.target = 1000\\nposCommand.profile.velocity = 1000\\nposCommand.profile.acc = 1000000\\nposCommand.profile.dec = 1000000\\n\\n# Execute command to move to a specified absolute position. e.g. \\'Move to Position 100..\\'\\nWmx3Lib_cm.motion.StartPos(posCommand)\\n\\n# Execute command to move from current position to a specified distance relatively. e.g. \\'Move 100..\\'\\nWmx3Lib_cm.motion.StartMov(posCommand)\\n\\n# Wait until the axis moves to the target position and stops.\\nWmx3Lib_cm.motion.Wait(0)\\n#End', metadata={'source': './docs/WMX3SampleCodes.py', 'start_index': 3933})"
      ]
     },
     "execution_count": 6,
     "metadata": {},
     "output_type": "execute_result"
    }
   ],
   "source": [
    "splits[1]"
   ]
  },
  {
   "cell_type": "code",
   "execution_count": null,
   "metadata": {},
   "outputs": [],
   "source": [
    "help(RecursiveCharacterTextSplitter)"
   ]
  },
  {
   "cell_type": "markdown",
   "metadata": {},
   "source": [
    "### Vectorstore - chroma\n"
   ]
  },
  {
   "cell_type": "code",
   "execution_count": 7,
   "metadata": {},
   "outputs": [],
   "source": [
    "embedding_model=OpenAIEmbeddings(model=\"text-embedding-3-large\")   #text-embedding-3-large   #text-embedding-ada-002    #text-embedding-3-small\n",
    "\n",
    "# If txt vectorstore exists\n",
    "# if os.path.exists(\"Vectorstore/chromadb\"):\n",
    "        # vectorstore = Chroma(\n",
    "                #     embedding_function=embedding_model,\n",
    "                #     persist_directory=\"Vectorstore/chromadb\",\n",
    "                #     ) \n",
    "# else:\n",
    "        # Load from chunks and save to disk\n",
    "        # vectorstore = Chroma.from_documents(documents=splits, embedding=embedding_model, persist_directory=\"Vectorstore/chromadb\") \n",
    "\n",
    "# If pdf vectorstore exists\n",
    "# vectorstore_path = \"Vectorstore/chromadb-pdf\"\n",
    "vectorstore_path = \"Vectorstore/chromadb-pdf-chunk1000\"\n",
    " # Load from chunks and save to disk\n",
    "vectorstore = Chroma.from_documents(documents=splits, embedding=embedding_model,  persist_directory=vectorstore_path) \n",
    "# if os.path.exists(vectorstore_path):\n",
    "#         vectorstore = Chroma(\n",
    "#                     embedding_function=embedding_model,\n",
    "#                     persist_directory=vectorstore_path,\n",
    "#                     ) \n",
    "# else:\n",
    "#         # Load from chunks and save to disk\n",
    "#         vectorstore = Chroma.from_documents(documents=splits, embedding=embedding_model, persist_directory=vectorstore_path) \n"
   ]
  },
  {
   "cell_type": "code",
   "execution_count": 8,
   "metadata": {},
   "outputs": [],
   "source": [
    "retriever = vectorstore.as_retriever(search_type=\"similarity\", search_kwargs={\"k\": 4})\n",
    "# retriever = vectorstore.similarity_search_with_score('a typical python code of WMX3 for a axis/servo/motor to move or do positioning.')"
   ]
  },
  {
   "cell_type": "code",
   "execution_count": null,
   "metadata": {},
   "outputs": [],
   "source": [
    "retriever"
   ]
  },
  {
   "cell_type": "code",
   "execution_count": 9,
   "metadata": {},
   "outputs": [
    {
     "data": {
      "text/plain": [
       "[Document(page_content='``\\n\\n\"\"\"#####PYTHON SAMPLE CODE#####\\nThis is a typical python code of WMX3 for a axis/servo/motor to move or do positioning. \\n\"\"\"\\nWmx3Lib = WMX3Api()\\nCmStatus = CoreMotionStatus()\\nWmx3Lib_cm = CoreMotion(Wmx3Lib)\\n\\n# Create a command value.\\nposCommand = Motion_PosCommand()\\nposCommand.profile.type = ProfileType.Trapezoidal\\nposCommand.axis = 0\\nposCommand.target = 1000\\nposCommand.profile.velocity = 1000\\nposCommand.profile.acc = 1000000\\nposCommand.profile.dec = 1000000\\n\\n# Execute command to move to a specified absolute position. e.g. \\'Move to Position 100..\\'\\nWmx3Lib_cm.motion.StartPos(posCommand)\\n\\n# Execute command to move from current position to a specified distance relatively. e.g. \\'Move 100..\\'\\nWmx3Lib_cm.motion.StartMov(posCommand)\\n\\n# Wait until the axis moves to the target position and stops.\\nWmx3Lib_cm.motion.Wait(0)\\n#End', metadata={'source': './docs/WMX3SampleCodes.py', 'start_index': 3933}),\n",
       " Document(page_content='``\\n\\n\"\"\"#####PYTHON SAMPLE CODE#####\\nThis is a typical python code of WMX3 for a jog motion of a servo/motor/axis. \\n\"\"\"\\nWmx3Lib = WMX3Api()\\nCmStatus = CoreMotionStatus()\\nWmx3Lib_cm = CoreMotion(Wmx3Lib)\\n\\njogCommand = Motion_JogCommand()\\njogCommand.profile.type = ProfileType.Trapezoidal\\njogCommand.axis = 0\\njogCommand.profile.velocity = 1000\\njogCommand.profile.acc = 100000\\njogCommand.profile.dec = 100000\\n\\n# Rotate the motor at the specified speed.\\nret =Wmx3Lib_cm.motion.StartJog(jogCommand)\\nprint(ret)\\n\\n#Jogging for 3 seconds\\nsleep(3)\\n \\nWmx3Lib_cm.motion.Stop(0)\\n#End', metadata={'source': './docs/WMX3SampleCodes.py', 'start_index': 4766}),\n",
       " Document(page_content=' \\n\"\"\"#####PYTHON SAMPLE CODE#####\\nThis is a typical python code of WMX3 from initialization, through motion execution, to termination/closing/shutting down. The Python script initializes and operates a motion control system using the WMX3 software library, sequentially executing steps for robust control in an industrial setting. It starts by creating and naming a device with \\'CreateDevice(\\'C:\\\\\\\\Program Files\\\\\\\\SoftServo\\\\\\\\WMX3\\\\\\\\\\', DeviceType.DeviceTypeNormal, INFINITE)\\' and \\'SetDeviceName(\\'WMX3initTest\\')\\', then begins communication with \\'StartCommunication(INFINITE)\\'. The script clears any amplifier alarms with \\'ClearAmpAlarm(axis)\\' and activates the servo with \\'SetServoOn(axis, 1)\\'. It executes a motion command using \\'StartMov(posCommand)\\' and concludes by shutting down the servo and stopping communication with \\'SetServoOn(axis, 0)\\' and \\'StopCommunication(INFINITE)\\'. This structured approach ensures each component is correctly set up and terminated, ensuring safe and effective system operations.\\n\"\"\"\\n#WMX3 python library\\nfrom WMX3ApiPython import *\\nfrom time import *\\n\\nINFINITE = int(0xFFFFFFFF)\\n\\ndef main():\\n    Wmx3Lib = WMX3Api()\\n    CmStatus = CoreMotionStatus()\\n    Wmx3Lib_cm = CoreMotion(Wmx3Lib)\\n    ret = 0\\n    print(\\'Program begin.\\')\\n    sleep(1)\\n\\n    # Create devices.\\n    Wmx3Lib.CreateDevice(\\'C:\\\\\\\\Program Files\\\\\\\\SoftServo\\\\\\\\WMX3\\', DeviceType.DeviceTypeNormal, INFINITE)\\n\\n    # Set Device Name.\\n    Wmx3Lib.SetDeviceName(\\'WMX3initTest\\')\\n\\n    # Start Communication.\\n    ret = Wmx3Lib.StartCommunication(INFINITE)\\n    if ret!=0:\\n        print(\\'start communicaiton fail!\\')\\n        return 0\\n\\n    #Clear every servo/motor/amplifier\\'s alarm\\n    timeoutCounter=0\\n    while True:\\n        # GetStatus -> First return value : Error code, Second return value: CoreMotionStatus\\n        ret, CmStatus = Wmx3Lib_cm.GetStatus()\\n        if (not CmStatus.GetAxesStatus(0).ampAlarm):\\n            break\\n        Wmx3Lib_cm.axisControl.ClearAmpAlarm(0)\\n        sleep(0.5)\\n        timeoutCounter=timeoutCounter+1\\n        if(timeoutCounter > 5):\\n            break\\n    if(timeoutCounter > 5):\\n        print(\\'clear axis alarm fails!\\')\\n        return 0\\n\\n    # Set servo on.\\n    Wmx3Lib_cm.axisControl.SetServoOn(0, 1)\\n    while True:\\n        # GetStatus -> First return value : Error code, Second return value: CoreMotionStatus\\n        ret, CmStatus = Wmx3Lib_cm.GetStatus()\\n        if (CmStatus.GetAxesStatus(0).servoOn):\\n            break\\n        sleep(0.1)\\n\\n    #Sleep is a must between SetServoOn and Homing\\n    sleep(0.1) \\n    # Homing\\n    homeParam = Config_HomeParam()\\n    ret, homeParam = Wmx3Lib_cm.config.GetHomeParam(0)\\n    homeParam.homeType = Config_HomeType.CurrentPos\\n\\n    # SetHomeParam -> First return value: Error code, Second return value: param error\\n    ret, homeParamError = Wmx3Lib_cm.config.SetHomeParam(0, homeParam)\\n\\n    Wmx3Lib_cm.home.StartHome(0)\\n    Wmx3Lib_cm.motion.Wait(0)\\n\\n    \\n    # Create a command value.\\n    \\n    posCommand = Motion_PosCommand()\\n    posCommand.profile.type = ProfileType.Trapezoidal\\n    posCommand.axis = 0\\n    posCommand.target = 1000\\n    posCommand.profile.velocity = 1000\\n    posCommand.profile.acc = 1000000\\n    posCommand.profile.dec = 1000000\\n\\n    \\n    # Execute command to move from current position to specified absolute position.\\n    \\n    Wmx3Lib_cm.motion.StartPos(posCommand)\\n\\n    \\n    # Wait until the axis moves to the target position and stops.\\n    \\n    Wmx3Lib_cm.motion.Wait(0)\\n\\n    # Set servo off.\\n    Wmx3Lib_cm.axisControl.SetServoOn(0, 0)\\n    while True:\\n        ret, CmStatus = Wmx3Lib_cm.GetStatus()\\n        if (not CmStatus.GetAxesStatus(0).servoOn):\\n            break\\n        sleep(0.1)\\n\\n    # ----------------------\\n    # Stop Communication.\\n    # ----------------------\\n    Wmx3Lib.StopCommunication(INFINITE)\\n\\n    # Close Device.\\n    Wmx3Lib.CloseDevice()\\n\\n    print(\\'Program End.\\')\\n    sleep(1)\\n    return 0\\n\\nif __name__ == \\'__main__\\':\\n    main()\\n#End', metadata={'source': './docs/WMX3SampleCodes.py', 'start_index': 0}),\n",
       " Document(page_content=\"that the WMX3Api object was passed to will no longer be able to execute functions.\\r\\nMany motion functions are organized into the CoreMotion module. Functions from this\\r\\nmodule can be called from the CoreMotion class.\\r\\nThe servo of an axis must be turned on before it can execute any motion commands.\\r\\nThe SetServoOn function in the CoreMotion module can be called to turn an axis servo\\r\\non or off. The servo must be turned off before communication can be stopped.\\r\\nThe following adds an instance of the CoreMotion class to the example code, and calls\\r\\nthe SetServoOn function.\\r\\nfrom WMX3ApiPython import *\\r\\nfrom time import *\\r\\ndef main():\\r\\n print('starting application...')\\r\\n wmxlib = WMX3Api()\\r\\n wmxlib_cm = CoreMotion(wmxlib)\\r\\n err = 0\\r\\n err = wmxlib.CreateDevice('C:\\\\\\\\Program Files\\\\\\\\SoftServo\\\\\\\\WMX3\\\\\\\\', De\\r\\n if err != ErrorCode.PyNone:\\r\\n print('Failed CreateDevice %08x %s' % (err, WMX3Api.ErrorToStrin\\r\\n return 1\", metadata={'page': 237, 'source': './data/WMX3UserManual.pdf', 'start_index': 792})]"
      ]
     },
     "execution_count": 9,
     "metadata": {},
     "output_type": "execute_result"
    }
   ],
   "source": [
    "retrieved_docs = retriever.invoke(\"a typical python code of WMX3 for a axis/servo/motor to move or do positioning. \")\n",
    "#print(retrieved_docs[0].page_content)\n",
    "retrieved_docs "
   ]
  },
  {
   "cell_type": "markdown",
   "metadata": {},
   "source": [
    "### Vectorstore - pinecone\n"
   ]
  },
  {
   "cell_type": "code",
   "execution_count": null,
   "metadata": {},
   "outputs": [],
   "source": [
    "from langchain_pinecone import PineconeVectorStore\n",
    "index_name = os.environ[\"PINECONE_INDEX_NAME\"]\n"
   ]
  },
  {
   "cell_type": "code",
   "execution_count": null,
   "metadata": {},
   "outputs": [],
   "source": [
    "# PineconeVectorStore.delete(delete_all=True)"
   ]
  },
  {
   "cell_type": "code",
   "execution_count": null,
   "metadata": {},
   "outputs": [],
   "source": [
    "\n",
    "docsearch = PineconeVectorStore.from_documents(splits, embedding_model, index_name=index_name)\n"
   ]
  },
  {
   "cell_type": "code",
   "execution_count": null,
   "metadata": {},
   "outputs": [],
   "source": [
    "docsearch = PineconeVectorStore.from_existing_index(index_name, embedding_model)\n"
   ]
  },
  {
   "cell_type": "code",
   "execution_count": null,
   "metadata": {},
   "outputs": [],
   "source": [
    "query = \"what is the Architecture of wmx3?\"\n",
    "retrieved_docs = docsearch.similarity_search(query,k=8)\n",
    "retrieved_docs"
   ]
  },
  {
   "cell_type": "markdown",
   "metadata": {},
   "source": [
    "### Vectorstore - FAISS"
   ]
  },
  {
   "cell_type": "code",
   "execution_count": null,
   "metadata": {},
   "outputs": [],
   "source": [
    "embedding_model=OpenAIEmbeddings(model=\"text-embedding-3-large\")   \n",
    "\n",
    "from langchain_community.vectorstores import FAISS\n",
    "vectorstore_path = \"Vectorstore/FAISS-pdf-images\"\n",
    "db = FAISS.from_documents(splits, embedding_model) "
   ]
  },
  {
   "cell_type": "code",
   "execution_count": null,
   "metadata": {},
   "outputs": [],
   "source": [
    "db.save_local(folder_path=\"Vectorstore/FAISS-pdf-images\", index_name=\"myFaissIndex\")"
   ]
  },
  {
   "cell_type": "code",
   "execution_count": null,
   "metadata": {},
   "outputs": [],
   "source": [
    "db = FAISS.load_local(folder_path=\"Vectorstore/FAISS-pdf-images\",embeddings=embedding_model,index_name=\"myFaissIndex\")"
   ]
  },
  {
   "cell_type": "code",
   "execution_count": null,
   "metadata": {},
   "outputs": [],
   "source": [
    "query = \"What did the president say about Ketanji Brown Jackson\"\n",
    "docs = db.similarity_search(query)\n",
    "docs"
   ]
  },
  {
   "cell_type": "markdown",
   "metadata": {},
   "source": [
    "### Vectorstore - pathway"
   ]
  },
  {
   "cell_type": "markdown",
   "metadata": {},
   "source": [
    "### serve Maximum marginal relevance search (MMR) Similarity search by vector ..."
   ]
  },
  {
   "cell_type": "code",
   "execution_count": null,
   "metadata": {},
   "outputs": [],
   "source": [
    "from langchain_community.vectorstores import Qdrant\n",
    "qdrant = Qdrant.from_documents(\n",
    "    splits,\n",
    "    embedding_model,\n",
    "    path=\"Vectorstore/Qdrant-pdf-images\",  # Local mode with in-memory storage only\n",
    "    collection_name=\"my_documents\",\n",
    ")"
   ]
  },
  {
   "cell_type": "markdown",
   "metadata": {},
   "source": []
  },
  {
   "cell_type": "markdown",
   "metadata": {},
   "source": [
    "### Prompt template\n"
   ]
  },
  {
   "cell_type": "code",
   "execution_count": null,
   "metadata": {},
   "outputs": [],
   "source": [
    "template = \"\"\"Use the following pieces of context to answer the question at the end.\n",
    "If you don't know the answer, just say that you don't know, don't try to make up an answer.\n",
    "\n",
    "{context}\n",
    "\n",
    "Question: {question}\n",
    "\n",
    "Helpful Answer:\"\"\"\n",
    "\n",
    "\n",
    "custom_rag_prompt = PromptTemplate.from_template(template)\n"
   ]
  },
  {
   "cell_type": "code",
   "execution_count": null,
   "metadata": {},
   "outputs": [],
   "source": [
    "custom_rag_prompt = hub.pull(\"rlm/rag-prompt\")"
   ]
  },
  {
   "cell_type": "markdown",
   "metadata": {},
   "source": [
    "### Rag chain\n"
   ]
  },
  {
   "cell_type": "code",
   "execution_count": null,
   "metadata": {},
   "outputs": [],
   "source": [
    "llm = ChatOpenAI(model_name=\"gpt-3.5-turbo\", temperature=0.1)   #gpt-4  #gpt-3.5-turbo\n",
    "\n",
    "def format_docs(docs):\n",
    "    return \"\\n\\n\".join(doc.page_content for doc in docs)\n",
    "    \n",
    "\n",
    "rag_chain = (\n",
    "    {\"context\": retriever | format_docs, \"question\": RunnablePassthrough()}\n",
    "    | custom_rag_prompt\n",
    "    | llm\n",
    "    | StrOutputParser()\n",
    ")\n"
   ]
  },
  {
   "cell_type": "code",
   "execution_count": null,
   "metadata": {},
   "outputs": [],
   "source": [
    "format_docs\n"
   ]
  },
  {
   "cell_type": "code",
   "execution_count": null,
   "metadata": {},
   "outputs": [],
   "source": [
    "\n",
    "rag_chain.invoke(\"write an example code to close wmx3?\")"
   ]
  },
  {
   "cell_type": "code",
   "execution_count": null,
   "metadata": {},
   "outputs": [],
   "source": [
    "for chunk in rag_chain.stream(\"write a sample code to initialize wmx3?\"): \n",
    "    print(chunk, end=\"\", flush=True)"
   ]
  },
  {
   "cell_type": "markdown",
   "metadata": {},
   "source": []
  }
 ],
 "metadata": {
  "kernelspec": {
   "display_name": "rag-demo-IMu3vKF7-py3.10",
   "language": "python",
   "name": "python3"
  },
  "language_info": {
   "codemirror_mode": {
    "name": "ipython",
    "version": 3
   },
   "file_extension": ".py",
   "mimetype": "text/x-python",
   "name": "python",
   "nbconvert_exporter": "python",
   "pygments_lexer": "ipython3",
   "version": "3.11.7"
  }
 },
 "nbformat": 4,
 "nbformat_minor": 2
}
