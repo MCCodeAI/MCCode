{
 "cells": [
  {
   "cell_type": "markdown",
   "metadata": {},
   "source": [
    "# MC Code Dataset Clean\n"
   ]
  },
  {
   "cell_type": "code",
   "execution_count": 6,
   "metadata": {},
   "outputs": [
    {
     "name": "stdout",
     "output_type": "stream",
     "text": [
      "File has been updated and saved successfully.\n"
     ]
    }
   ],
   "source": [
    "import pandas as pd\n",
    "\n",
    "# Load the Excel file\n",
    "file_path = 'docs/WMX3API c++ to python list -all2.xlsx'\n",
    "df = pd.read_excel(file_path)\n",
    "\n",
    "# Function to remove trailing semicolon or semicolon followed by a space\n",
    "def remove_trailing_semicolon(s):\n",
    "    if isinstance(s, str):\n",
    "        if s.endswith(';'):\n",
    "            return s[:-1]\n",
    "        elif s.endswith('; '):\n",
    "            return s[:-2]\n",
    "        elif s.endswith('; '):\n",
    "            return s[:-2]\n",
    "    return s\n",
    "\n",
    "# Apply the function to the 'FunctionC++' column\n",
    "df['FunctionC++'] = df['FunctionC++'].apply(remove_trailing_semicolon)\n",
    "\n",
    "# Save the updated DataFrame back to an Excel file\n",
    "df.to_excel(file_path, index=False)\n",
    "\n",
    "print(\"File has been updated and saved successfully.\")\n"
   ]
  },
  {
   "cell_type": "code",
   "execution_count": 1,
   "metadata": {},
   "outputs": [
    {
     "name": "stdout",
     "output_type": "stream",
     "text": [
      "File has been updated and saved successfully.\n"
     ]
    }
   ],
   "source": [
    "import pandas as pd\n",
    "\n",
    "# Load the Excel file\n",
    "file_path = 'docs/table-data(Api)2.xlsx'\n",
    "df = pd.read_excel(file_path)\n",
    "\n",
    "# Function to remove blank spaces in front of \"(\"\n",
    "def remove_blank_space(s):\n",
    "    if isinstance(s, str):\n",
    "        return s.replace(\" (\", \"(\")\n",
    "    return s\n",
    "\n",
    "# Apply the function to the 'APINAME' column\n",
    "df['APINAME'] = df['APINAME'].apply(remove_blank_space)\n",
    "\n",
    "# Save the updated DataFrame back to an Excel file\n",
    "df.to_excel(file_path, index=False)\n",
    "\n",
    "print(\"File has been updated and saved successfully.\")"
   ]
  },
  {
   "cell_type": "code",
   "execution_count": 4,
   "metadata": {},
   "outputs": [
    {
     "name": "stdout",
     "output_type": "stream",
     "text": [
      "File has been updated and saved successfully.\n"
     ]
    }
   ],
   "source": [
    "import pandas as pd\n",
    "\n",
    "# Load the Excel file\n",
    "file_path = 'docs/WMX3API c++ to python list -all2.xlsx'\n",
    "df = pd.read_excel(file_path)\n",
    "\n",
    "# Function to adjust spaces around '*'\n",
    "def adjust_asterisk_spacing(s):\n",
    "    if isinstance(s, str):\n",
    "        # Replace * without leading space and with trailing space\n",
    "        s = s.replace('* ', ' *')\n",
    "        # Replace * without leading space and with trailing space (fix any extra spaces)\n",
    "        s = s.replace('  *', ' *')\n",
    "         #' = '\n",
    "        s = s.replace(' = ', '=')\n",
    "       \n",
    "    return s\n",
    "\n",
    "# Apply the function to the 'FunctionC++' column\n",
    "df['FunctionC++'] = df['FunctionC++'].apply(adjust_asterisk_spacing)\n",
    "\n",
    "# Save the updated DataFrame back to an Excel file\n",
    "df.to_excel(file_path, index=False)\n",
    "\n",
    "print(\"File has been updated and saved successfully.\")"
   ]
  }
 ],
 "metadata": {
  "kernelspec": {
   "display_name": "rag-demo-IMu3vKF7-py3.10",
   "language": "python",
   "name": "python3"
  },
  "language_info": {
   "codemirror_mode": {
    "name": "ipython",
    "version": 3
   },
   "file_extension": ".py",
   "mimetype": "text/x-python",
   "name": "python",
   "nbconvert_exporter": "python",
   "pygments_lexer": "ipython3",
   "version": "3.11.7"
  }
 },
 "nbformat": 4,
 "nbformat_minor": 2
}
